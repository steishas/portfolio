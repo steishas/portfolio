{
  "cells": [
    {
      "cell_type": "markdown",
      "metadata": {
        "id": "ZL0Y934M-fvs"
      },
      "source": [
        "<font size=\"5\"><b>Изучение развития игровой идустрии в первой половине XXI века</b></font>\n",
        "\n",
        "- Автор: Смирнова Анастасия\n",
        "- Дата: 11.01.2025"
      ]
    },
    {
      "cell_type": "markdown",
      "metadata": {
        "id": "gNPvLS01Aqpk"
      },
      "source": [
        "### Цели и задачи проекта\n",
        "\n",
        "<font color='#777778'>**Цель проекта** - собрать данные для написания статьи-исследования по особенностям развития игровой индустрии для популяризации игры \"Секреты Темнолесья\".\n",
        "\n",
        "<font color='#777778'>**Задачи проекта:**\n",
        "- Загрузить данные и ознакомиться с ними;\n",
        "- Проверить ошибки и провести предобработку данных;\n",
        "- Провести фильтрацию данных, отобрав для анализа информацию об играх с 2000 по 2013 год ключительно;\n",
        "- Категоризовать данные по оценкам пользователей и оценкам критиков.\n",
        "</font>"
      ]
    },
    {
      "cell_type": "markdown",
      "metadata": {
        "id": "5UfYOe_vDrPx"
      },
      "source": [
        "### Описание данных\n",
        "\n",
        "<font color='#777778'>Данные `datasets/new_games.csv` содержат информацию о продажах игр разных жанров и платформ, а также пользовательские и экспертные оценки игр:\n",
        "- `Name` — название игры.\n",
        "- `Platform` — название платформы.\n",
        "- `Year of Release` — год выпуска игры.\n",
        "- `Genre` — жанр игры.\n",
        "- `NA sales` — продажи в Северной Америке (в миллионах проданных копий).\n",
        "- `EU sales` — продажи в Европе (в миллионах проданных копий).\n",
        "- `JP sales` — продажи в Японии (в миллионах проданных копий).\n",
        "- `Other sales` — продажи в других странах (в миллионах проданных копий).\n",
        "- `Critic Score` — оценка критиков (от 0 до 100).\n",
        "- `User Score` — оценка пользователей (от 0 до 10).\n",
        "- `Rating` — рейтинг организации ESRB (англ. Entertainment Software Rating Board). Эта ассоциация определяет рейтинг компьютерных игр и присваивает им подходящую возрастную категорию.</font>"
      ]
    },
    {
      "cell_type": "markdown",
      "metadata": {
        "id": "KDjgcwqkFGm0"
      },
      "source": [
        "### Содержимое проекта\n",
        "<font color='#777778'>\n",
        "1. Загрузка и знакомство с данными.\n",
        "2. Проверка ошибок в данных и их предобработка.\n",
        "<font color='#777778'>\n",
        "- Названия, или метки, столбцов датафрейма;\n",
        "- Наличие пропусков в данных;\n",
        "- Типы данных;\n",
        "- Явные и неявные дубликаты в данных.\n",
        "</font>\n",
        "3. Фильтрация данных.\n",
        "4. Категоризация данных.\n",
        "5. Итоговый вывод\n",
        "\n"
      ]
    },
    {
      "cell_type": "markdown",
      "metadata": {
        "id": "m9qBwQY8XxdO"
      },
      "source": [
        "## 1. Загрузка и знакомство с данными."
      ]
    },
    {
      "cell_type": "code",
      "execution_count": 1,
      "metadata": {
        "id": "LsH2u3Sd-cyj"
      },
      "outputs": [],
      "source": [
        "# импортируем библиотекку pandas\n",
        "import pandas as pd\n",
        "pd.options.mode.chained_assignment = None\n",
        "\n",
        "#импортируем библиотеку numpy\n",
        "import numpy as numpy"
      ]
    },
    {
      "cell_type": "code",
      "execution_count": 2,
      "metadata": {
        "id": "s6vszcVuKbkl"
      },
      "outputs": [],
      "source": [
        "#загружаем данные датасета\n",
        "games = pd.read_csv('https://code.s3.yandex.net/datasets/new_games.csv')"
      ]
    },
    {
      "cell_type": "code",
      "execution_count": 3,
      "metadata": {
        "id": "kaRUNhQKA76r"
      },
      "outputs": [],
      "source": [
        "#сохраняем длину исходного датафрейма как \"games_initial\" для сравнения с итоговым после преобразований\n",
        "games_initial = len(games)"
      ]
    },
    {
      "cell_type": "code",
      "execution_count": 4,
      "metadata": {
        "colab": {
          "base_uri": "https://localhost:8080/"
        },
        "id": "vW0b18PjKyJa",
        "outputId": "e58ab4ff-fced-49b4-dd8a-251ab78432ae"
      },
      "outputs": [
        {
          "output_type": "stream",
          "name": "stdout",
          "text": [
            "<class 'pandas.core.frame.DataFrame'>\n",
            "RangeIndex: 16956 entries, 0 to 16955\n",
            "Data columns (total 11 columns):\n",
            " #   Column           Non-Null Count  Dtype  \n",
            "---  ------           --------------  -----  \n",
            " 0   Name             16954 non-null  object \n",
            " 1   Platform         16956 non-null  object \n",
            " 2   Year of Release  16681 non-null  float64\n",
            " 3   Genre            16954 non-null  object \n",
            " 4   NA sales         16956 non-null  float64\n",
            " 5   EU sales         16956 non-null  object \n",
            " 6   JP sales         16956 non-null  object \n",
            " 7   Other sales      16956 non-null  float64\n",
            " 8   Critic Score     8242 non-null   float64\n",
            " 9   User Score       10152 non-null  object \n",
            " 10  Rating           10085 non-null  object \n",
            "dtypes: float64(4), object(7)\n",
            "memory usage: 1.4+ MB\n"
          ]
        }
      ],
      "source": [
        "#выводи информацию о датафрейме\n",
        "games.info()"
      ]
    },
    {
      "cell_type": "code",
      "execution_count": 5,
      "metadata": {
        "colab": {
          "base_uri": "https://localhost:8080/",
          "height": 206
        },
        "id": "msVSZH5cRfhp",
        "outputId": "35fead14-aaea-4298-e391-a6df4052dd02"
      },
      "outputs": [
        {
          "output_type": "execute_result",
          "data": {
            "text/plain": [
              "                       Name Platform  Year of Release         Genre  NA sales  \\\n",
              "0                Wii Sports      Wii           2006.0        Sports     41.36   \n",
              "1         Super Mario Bros.      NES           1985.0      Platform     29.08   \n",
              "2            Mario Kart Wii      Wii           2008.0        Racing     15.68   \n",
              "3         Wii Sports Resort      Wii           2009.0        Sports     15.61   \n",
              "4  Pokemon Red/Pokemon Blue       GB           1996.0  Role-Playing     11.27   \n",
              "\n",
              "  EU sales JP sales  Other sales  Critic Score User Score Rating  \n",
              "0    28.96     3.77         8.45          76.0          8      E  \n",
              "1     3.58     6.81         0.77           NaN        NaN    NaN  \n",
              "2    12.76     3.79         3.29          82.0        8.3      E  \n",
              "3    10.93     3.28         2.95          80.0          8      E  \n",
              "4     8.89    10.22         1.00           NaN        NaN    NaN  "
            ],
            "text/html": [
              "\n",
              "  <div id=\"df-d8ecf7e8-2baf-4dd1-834e-f710d88b0c91\" class=\"colab-df-container\">\n",
              "    <div>\n",
              "<style scoped>\n",
              "    .dataframe tbody tr th:only-of-type {\n",
              "        vertical-align: middle;\n",
              "    }\n",
              "\n",
              "    .dataframe tbody tr th {\n",
              "        vertical-align: top;\n",
              "    }\n",
              "\n",
              "    .dataframe thead th {\n",
              "        text-align: right;\n",
              "    }\n",
              "</style>\n",
              "<table border=\"1\" class=\"dataframe\">\n",
              "  <thead>\n",
              "    <tr style=\"text-align: right;\">\n",
              "      <th></th>\n",
              "      <th>Name</th>\n",
              "      <th>Platform</th>\n",
              "      <th>Year of Release</th>\n",
              "      <th>Genre</th>\n",
              "      <th>NA sales</th>\n",
              "      <th>EU sales</th>\n",
              "      <th>JP sales</th>\n",
              "      <th>Other sales</th>\n",
              "      <th>Critic Score</th>\n",
              "      <th>User Score</th>\n",
              "      <th>Rating</th>\n",
              "    </tr>\n",
              "  </thead>\n",
              "  <tbody>\n",
              "    <tr>\n",
              "      <th>0</th>\n",
              "      <td>Wii Sports</td>\n",
              "      <td>Wii</td>\n",
              "      <td>2006.0</td>\n",
              "      <td>Sports</td>\n",
              "      <td>41.36</td>\n",
              "      <td>28.96</td>\n",
              "      <td>3.77</td>\n",
              "      <td>8.45</td>\n",
              "      <td>76.0</td>\n",
              "      <td>8</td>\n",
              "      <td>E</td>\n",
              "    </tr>\n",
              "    <tr>\n",
              "      <th>1</th>\n",
              "      <td>Super Mario Bros.</td>\n",
              "      <td>NES</td>\n",
              "      <td>1985.0</td>\n",
              "      <td>Platform</td>\n",
              "      <td>29.08</td>\n",
              "      <td>3.58</td>\n",
              "      <td>6.81</td>\n",
              "      <td>0.77</td>\n",
              "      <td>NaN</td>\n",
              "      <td>NaN</td>\n",
              "      <td>NaN</td>\n",
              "    </tr>\n",
              "    <tr>\n",
              "      <th>2</th>\n",
              "      <td>Mario Kart Wii</td>\n",
              "      <td>Wii</td>\n",
              "      <td>2008.0</td>\n",
              "      <td>Racing</td>\n",
              "      <td>15.68</td>\n",
              "      <td>12.76</td>\n",
              "      <td>3.79</td>\n",
              "      <td>3.29</td>\n",
              "      <td>82.0</td>\n",
              "      <td>8.3</td>\n",
              "      <td>E</td>\n",
              "    </tr>\n",
              "    <tr>\n",
              "      <th>3</th>\n",
              "      <td>Wii Sports Resort</td>\n",
              "      <td>Wii</td>\n",
              "      <td>2009.0</td>\n",
              "      <td>Sports</td>\n",
              "      <td>15.61</td>\n",
              "      <td>10.93</td>\n",
              "      <td>3.28</td>\n",
              "      <td>2.95</td>\n",
              "      <td>80.0</td>\n",
              "      <td>8</td>\n",
              "      <td>E</td>\n",
              "    </tr>\n",
              "    <tr>\n",
              "      <th>4</th>\n",
              "      <td>Pokemon Red/Pokemon Blue</td>\n",
              "      <td>GB</td>\n",
              "      <td>1996.0</td>\n",
              "      <td>Role-Playing</td>\n",
              "      <td>11.27</td>\n",
              "      <td>8.89</td>\n",
              "      <td>10.22</td>\n",
              "      <td>1.00</td>\n",
              "      <td>NaN</td>\n",
              "      <td>NaN</td>\n",
              "      <td>NaN</td>\n",
              "    </tr>\n",
              "  </tbody>\n",
              "</table>\n",
              "</div>\n",
              "    <div class=\"colab-df-buttons\">\n",
              "\n",
              "  <div class=\"colab-df-container\">\n",
              "    <button class=\"colab-df-convert\" onclick=\"convertToInteractive('df-d8ecf7e8-2baf-4dd1-834e-f710d88b0c91')\"\n",
              "            title=\"Convert this dataframe to an interactive table.\"\n",
              "            style=\"display:none;\">\n",
              "\n",
              "  <svg xmlns=\"http://www.w3.org/2000/svg\" height=\"24px\" viewBox=\"0 -960 960 960\">\n",
              "    <path d=\"M120-120v-720h720v720H120Zm60-500h600v-160H180v160Zm220 220h160v-160H400v160Zm0 220h160v-160H400v160ZM180-400h160v-160H180v160Zm440 0h160v-160H620v160ZM180-180h160v-160H180v160Zm440 0h160v-160H620v160Z\"/>\n",
              "  </svg>\n",
              "    </button>\n",
              "\n",
              "  <style>\n",
              "    .colab-df-container {\n",
              "      display:flex;\n",
              "      gap: 12px;\n",
              "    }\n",
              "\n",
              "    .colab-df-convert {\n",
              "      background-color: #E8F0FE;\n",
              "      border: none;\n",
              "      border-radius: 50%;\n",
              "      cursor: pointer;\n",
              "      display: none;\n",
              "      fill: #1967D2;\n",
              "      height: 32px;\n",
              "      padding: 0 0 0 0;\n",
              "      width: 32px;\n",
              "    }\n",
              "\n",
              "    .colab-df-convert:hover {\n",
              "      background-color: #E2EBFA;\n",
              "      box-shadow: 0px 1px 2px rgba(60, 64, 67, 0.3), 0px 1px 3px 1px rgba(60, 64, 67, 0.15);\n",
              "      fill: #174EA6;\n",
              "    }\n",
              "\n",
              "    .colab-df-buttons div {\n",
              "      margin-bottom: 4px;\n",
              "    }\n",
              "\n",
              "    [theme=dark] .colab-df-convert {\n",
              "      background-color: #3B4455;\n",
              "      fill: #D2E3FC;\n",
              "    }\n",
              "\n",
              "    [theme=dark] .colab-df-convert:hover {\n",
              "      background-color: #434B5C;\n",
              "      box-shadow: 0px 1px 3px 1px rgba(0, 0, 0, 0.15);\n",
              "      filter: drop-shadow(0px 1px 2px rgba(0, 0, 0, 0.3));\n",
              "      fill: #FFFFFF;\n",
              "    }\n",
              "  </style>\n",
              "\n",
              "    <script>\n",
              "      const buttonEl =\n",
              "        document.querySelector('#df-d8ecf7e8-2baf-4dd1-834e-f710d88b0c91 button.colab-df-convert');\n",
              "      buttonEl.style.display =\n",
              "        google.colab.kernel.accessAllowed ? 'block' : 'none';\n",
              "\n",
              "      async function convertToInteractive(key) {\n",
              "        const element = document.querySelector('#df-d8ecf7e8-2baf-4dd1-834e-f710d88b0c91');\n",
              "        const dataTable =\n",
              "          await google.colab.kernel.invokeFunction('convertToInteractive',\n",
              "                                                    [key], {});\n",
              "        if (!dataTable) return;\n",
              "\n",
              "        const docLinkHtml = 'Like what you see? Visit the ' +\n",
              "          '<a target=\"_blank\" href=https://colab.research.google.com/notebooks/data_table.ipynb>data table notebook</a>'\n",
              "          + ' to learn more about interactive tables.';\n",
              "        element.innerHTML = '';\n",
              "        dataTable['output_type'] = 'display_data';\n",
              "        await google.colab.output.renderOutput(dataTable, element);\n",
              "        const docLink = document.createElement('div');\n",
              "        docLink.innerHTML = docLinkHtml;\n",
              "        element.appendChild(docLink);\n",
              "      }\n",
              "    </script>\n",
              "  </div>\n",
              "\n",
              "\n",
              "<div id=\"df-a895802d-c901-4b25-bd10-9d7bea4ecfd0\">\n",
              "  <button class=\"colab-df-quickchart\" onclick=\"quickchart('df-a895802d-c901-4b25-bd10-9d7bea4ecfd0')\"\n",
              "            title=\"Suggest charts\"\n",
              "            style=\"display:none;\">\n",
              "\n",
              "<svg xmlns=\"http://www.w3.org/2000/svg\" height=\"24px\"viewBox=\"0 0 24 24\"\n",
              "     width=\"24px\">\n",
              "    <g>\n",
              "        <path d=\"M19 3H5c-1.1 0-2 .9-2 2v14c0 1.1.9 2 2 2h14c1.1 0 2-.9 2-2V5c0-1.1-.9-2-2-2zM9 17H7v-7h2v7zm4 0h-2V7h2v10zm4 0h-2v-4h2v4z\"/>\n",
              "    </g>\n",
              "</svg>\n",
              "  </button>\n",
              "\n",
              "<style>\n",
              "  .colab-df-quickchart {\n",
              "      --bg-color: #E8F0FE;\n",
              "      --fill-color: #1967D2;\n",
              "      --hover-bg-color: #E2EBFA;\n",
              "      --hover-fill-color: #174EA6;\n",
              "      --disabled-fill-color: #AAA;\n",
              "      --disabled-bg-color: #DDD;\n",
              "  }\n",
              "\n",
              "  [theme=dark] .colab-df-quickchart {\n",
              "      --bg-color: #3B4455;\n",
              "      --fill-color: #D2E3FC;\n",
              "      --hover-bg-color: #434B5C;\n",
              "      --hover-fill-color: #FFFFFF;\n",
              "      --disabled-bg-color: #3B4455;\n",
              "      --disabled-fill-color: #666;\n",
              "  }\n",
              "\n",
              "  .colab-df-quickchart {\n",
              "    background-color: var(--bg-color);\n",
              "    border: none;\n",
              "    border-radius: 50%;\n",
              "    cursor: pointer;\n",
              "    display: none;\n",
              "    fill: var(--fill-color);\n",
              "    height: 32px;\n",
              "    padding: 0;\n",
              "    width: 32px;\n",
              "  }\n",
              "\n",
              "  .colab-df-quickchart:hover {\n",
              "    background-color: var(--hover-bg-color);\n",
              "    box-shadow: 0 1px 2px rgba(60, 64, 67, 0.3), 0 1px 3px 1px rgba(60, 64, 67, 0.15);\n",
              "    fill: var(--button-hover-fill-color);\n",
              "  }\n",
              "\n",
              "  .colab-df-quickchart-complete:disabled,\n",
              "  .colab-df-quickchart-complete:disabled:hover {\n",
              "    background-color: var(--disabled-bg-color);\n",
              "    fill: var(--disabled-fill-color);\n",
              "    box-shadow: none;\n",
              "  }\n",
              "\n",
              "  .colab-df-spinner {\n",
              "    border: 2px solid var(--fill-color);\n",
              "    border-color: transparent;\n",
              "    border-bottom-color: var(--fill-color);\n",
              "    animation:\n",
              "      spin 1s steps(1) infinite;\n",
              "  }\n",
              "\n",
              "  @keyframes spin {\n",
              "    0% {\n",
              "      border-color: transparent;\n",
              "      border-bottom-color: var(--fill-color);\n",
              "      border-left-color: var(--fill-color);\n",
              "    }\n",
              "    20% {\n",
              "      border-color: transparent;\n",
              "      border-left-color: var(--fill-color);\n",
              "      border-top-color: var(--fill-color);\n",
              "    }\n",
              "    30% {\n",
              "      border-color: transparent;\n",
              "      border-left-color: var(--fill-color);\n",
              "      border-top-color: var(--fill-color);\n",
              "      border-right-color: var(--fill-color);\n",
              "    }\n",
              "    40% {\n",
              "      border-color: transparent;\n",
              "      border-right-color: var(--fill-color);\n",
              "      border-top-color: var(--fill-color);\n",
              "    }\n",
              "    60% {\n",
              "      border-color: transparent;\n",
              "      border-right-color: var(--fill-color);\n",
              "    }\n",
              "    80% {\n",
              "      border-color: transparent;\n",
              "      border-right-color: var(--fill-color);\n",
              "      border-bottom-color: var(--fill-color);\n",
              "    }\n",
              "    90% {\n",
              "      border-color: transparent;\n",
              "      border-bottom-color: var(--fill-color);\n",
              "    }\n",
              "  }\n",
              "</style>\n",
              "\n",
              "  <script>\n",
              "    async function quickchart(key) {\n",
              "      const quickchartButtonEl =\n",
              "        document.querySelector('#' + key + ' button');\n",
              "      quickchartButtonEl.disabled = true;  // To prevent multiple clicks.\n",
              "      quickchartButtonEl.classList.add('colab-df-spinner');\n",
              "      try {\n",
              "        const charts = await google.colab.kernel.invokeFunction(\n",
              "            'suggestCharts', [key], {});\n",
              "      } catch (error) {\n",
              "        console.error('Error during call to suggestCharts:', error);\n",
              "      }\n",
              "      quickchartButtonEl.classList.remove('colab-df-spinner');\n",
              "      quickchartButtonEl.classList.add('colab-df-quickchart-complete');\n",
              "    }\n",
              "    (() => {\n",
              "      let quickchartButtonEl =\n",
              "        document.querySelector('#df-a895802d-c901-4b25-bd10-9d7bea4ecfd0 button');\n",
              "      quickchartButtonEl.style.display =\n",
              "        google.colab.kernel.accessAllowed ? 'block' : 'none';\n",
              "    })();\n",
              "  </script>\n",
              "</div>\n",
              "    </div>\n",
              "  </div>\n"
            ],
            "application/vnd.google.colaboratory.intrinsic+json": {
              "type": "dataframe",
              "variable_name": "games",
              "summary": "{\n  \"name\": \"games\",\n  \"rows\": 16956,\n  \"fields\": [\n    {\n      \"column\": \"Name\",\n      \"properties\": {\n        \"dtype\": \"string\",\n        \"num_unique_values\": 11559,\n        \"samples\": [\n          \"Trinity Universe\",\n          \"Picross 2\",\n          \"Darkened Skye\"\n        ],\n        \"semantic_type\": \"\",\n        \"description\": \"\"\n      }\n    },\n    {\n      \"column\": \"Platform\",\n      \"properties\": {\n        \"dtype\": \"category\",\n        \"num_unique_values\": 31,\n        \"samples\": [\n          \"TG16\",\n          \"2600\",\n          \"SAT\"\n        ],\n        \"semantic_type\": \"\",\n        \"description\": \"\"\n      }\n    },\n    {\n      \"column\": \"Year of Release\",\n      \"properties\": {\n        \"dtype\": \"number\",\n        \"std\": 5.873102294006546,\n        \"min\": 1980.0,\n        \"max\": 2016.0,\n        \"num_unique_values\": 37,\n        \"samples\": [\n          2011.0,\n          1990.0,\n          1996.0\n        ],\n        \"semantic_type\": \"\",\n        \"description\": \"\"\n      }\n    },\n    {\n      \"column\": \"Genre\",\n      \"properties\": {\n        \"dtype\": \"category\",\n        \"num_unique_values\": 24,\n        \"samples\": [\n          \"Action\",\n          \"SHOOTER\",\n          \"Sports\"\n        ],\n        \"semantic_type\": \"\",\n        \"description\": \"\"\n      }\n    },\n    {\n      \"column\": \"NA sales\",\n      \"properties\": {\n        \"dtype\": \"number\",\n        \"std\": 0.8086536321886907,\n        \"min\": 0.0,\n        \"max\": 41.36,\n        \"num_unique_values\": 402,\n        \"samples\": [\n          1.45,\n          0.59,\n          5.28\n        ],\n        \"semantic_type\": \"\",\n        \"description\": \"\"\n      }\n    },\n    {\n      \"column\": \"EU sales\",\n      \"properties\": {\n        \"dtype\": \"category\",\n        \"num_unique_values\": 308,\n        \"samples\": [\n          \"0.02\",\n          \"0.63\",\n          \"3.11\"\n        ],\n        \"semantic_type\": \"\",\n        \"description\": \"\"\n      }\n    },\n    {\n      \"column\": \"JP sales\",\n      \"properties\": {\n        \"dtype\": \"category\",\n        \"num_unique_values\": 245,\n        \"samples\": [\n          \"0.47\",\n          \"6.5\",\n          \"2.46\"\n        ],\n        \"semantic_type\": \"\",\n        \"description\": \"\"\n      }\n    },\n    {\n      \"column\": \"Other sales\",\n      \"properties\": {\n        \"dtype\": \"number\",\n        \"std\": 0.18557680810256946,\n        \"min\": 0.0,\n        \"max\": 10.57,\n        \"num_unique_values\": 155,\n        \"samples\": [\n          0.48,\n          0.27,\n          2.38\n        ],\n        \"semantic_type\": \"\",\n        \"description\": \"\"\n      }\n    },\n    {\n      \"column\": \"Critic Score\",\n      \"properties\": {\n        \"dtype\": \"number\",\n        \"std\": 13.944564684210762,\n        \"min\": 13.0,\n        \"max\": 98.0,\n        \"num_unique_values\": 82,\n        \"samples\": [\n          67.0,\n          76.0,\n          74.0\n        ],\n        \"semantic_type\": \"\",\n        \"description\": \"\"\n      }\n    },\n    {\n      \"column\": \"User Score\",\n      \"properties\": {\n        \"dtype\": \"category\",\n        \"num_unique_values\": 96,\n        \"samples\": [\n          \"2.4\",\n          \"0\",\n          \"3.6\"\n        ],\n        \"semantic_type\": \"\",\n        \"description\": \"\"\n      }\n    },\n    {\n      \"column\": \"Rating\",\n      \"properties\": {\n        \"dtype\": \"category\",\n        \"num_unique_values\": 8,\n        \"samples\": [\n          \"M\",\n          \"AO\",\n          \"E\"\n        ],\n        \"semantic_type\": \"\",\n        \"description\": \"\"\n      }\n    }\n  ]\n}"
            }
          },
          "metadata": {},
          "execution_count": 5
        }
      ],
      "source": [
        "#выводим первые строки датафрейма на экран\n",
        "games.head()"
      ]
    },
    {
      "cell_type": "markdown",
      "metadata": {
        "id": "1_jlHpAqLVFR"
      },
      "source": [
        "\n",
        "<font color='#777778'>В полученном датафрейме - 11 столбцов и 16 956 строк. По количеству непустых строк видно, что в некоторых столбцах есть пропуски: **`Name`, `Year of Release`, `Genre`, `Critic Score`, `User Score`, `Rating`.** Далее необходимо проанализировать пропуски детально и принять решение о том, как с ними поступить при анализе данных.\n",
        "\n",
        "<font color='#777778'>Наименования и количество столбцов соответствуют заявленным в описании данных.\n",
        "Для удобства работы со столбцами датафрейма необходимо привести написание наименований столбцов в соответствии с snake case.\n",
        "\n",
        "<font color='#777778'>В датафрейме данные представлены двумя типами - **float64** и **object**.\n",
        "Поскольку в столбце **`Year`** представлены данные о годе выпуска игр, необходимо представить данные целочисленным типом **int64**, а не дробным **float64**.\n",
        "\n",
        "<font color='#777778'>Для данных в столбцах **`EU Sales`** и **`JP sales`** более корректным будет использование типа **float64** по аналогии со столбцами **`NA sales`** и **`Other Sales`**, поскольку значения в данных столбцах измеряются в числовом формате.\n",
        "\n",
        "Аналогично преобразования из **object** требует столбец **`User Score`**, поскольку данные в нем представлены числом от 0 до 10. По аналогии со столцом **`Critic Score`** преобразуем данные в столбце к типу **float64**.</font>\n",
        "\n"
      ]
    },
    {
      "cell_type": "markdown",
      "metadata": {
        "id": "m65_Yl4pX8pE"
      },
      "source": [
        "## 2. Проверка ошибок в данных и их предобработка."
      ]
    },
    {
      "cell_type": "markdown",
      "metadata": {
        "id": "n5klTgfMYCZl"
      },
      "source": [
        "### *Названия, или метки, столбцов датафрейма*"
      ]
    },
    {
      "cell_type": "code",
      "execution_count": 6,
      "metadata": {
        "colab": {
          "base_uri": "https://localhost:8080/"
        },
        "id": "xHD7s2Aw08UV",
        "outputId": "2f662009-357f-4bb3-ff9d-52517cb21b21"
      },
      "outputs": [
        {
          "output_type": "execute_result",
          "data": {
            "text/plain": [
              "Index(['Name', 'Platform', 'Year of Release', 'Genre', 'NA sales', 'EU sales',\n",
              "       'JP sales', 'Other sales', 'Critic Score', 'User Score', 'Rating'],\n",
              "      dtype='object')"
            ]
          },
          "metadata": {},
          "execution_count": 6
        }
      ],
      "source": [
        "#выводи исходные названия столбцов на экран\n",
        "games.columns"
      ]
    },
    {
      "cell_type": "code",
      "execution_count": 7,
      "metadata": {
        "id": "sNfS7ez_ZfBM"
      },
      "outputs": [],
      "source": [
        "#приводим названия столбцов к нижнему регистру\n",
        "games.columns = games.columns.str.lower()\n",
        "\n",
        "#заменяем пробелы на _\n",
        "games.columns = games.columns.str.replace(' ','_')"
      ]
    },
    {
      "cell_type": "code",
      "execution_count": 8,
      "metadata": {
        "colab": {
          "base_uri": "https://localhost:8080/"
        },
        "id": "p_ArjORja4jM",
        "outputId": "6c5ef23d-2a38-496f-aed0-1ec0c1c2e37b"
      },
      "outputs": [
        {
          "output_type": "execute_result",
          "data": {
            "text/plain": [
              "Index(['name', 'platform', 'year_of_release', 'genre', 'na_sales', 'eu_sales',\n",
              "       'jp_sales', 'other_sales', 'critic_score', 'user_score', 'rating'],\n",
              "      dtype='object')"
            ]
          },
          "metadata": {},
          "execution_count": 8
        }
      ],
      "source": [
        "#выводим наименование столбов после преобразования для проверки\n",
        "games.columns"
      ]
    },
    {
      "cell_type": "markdown",
      "metadata": {
        "id": "c6LzefFRamRn"
      },
      "source": [
        "<font color='#777778'>Выполнили преобразование наименований столбцов датафрейма в соответствии со стилем snake case."
      ]
    },
    {
      "cell_type": "markdown",
      "metadata": {
        "id": "TcdmbClWxhWq"
      },
      "source": [
        "### *Типы данных*"
      ]
    },
    {
      "cell_type": "markdown",
      "metadata": {
        "id": "tdbM1UjXxnIb"
      },
      "source": [
        "<font color='#777778'>Нам необходимо преобразовать тип данных в следующих столбцах:\n",
        "- **`year_of_release`** из float64 в int64;\n",
        "- **`eu_sales`** и **`jp_sales`** из object в float64;\n",
        "- **`user_score `** из object в float64 </font>\n",
        "\n",
        "<font color='#777778'> Для того, чтобы выяснить, почему столбцы **`eu_sales`** и **`jp_sales`** и **`user_score`**  имеют нечисловой тип данных выведем уникальные значения этих столбцов на экран."
      ]
    },
    {
      "cell_type": "code",
      "execution_count": 9,
      "metadata": {
        "colab": {
          "base_uri": "https://localhost:8080/"
        },
        "id": "C6pQq2HxDC4f",
        "outputId": "df8f8038-98d0-4fdd-d242-0b435f03dad7"
      },
      "outputs": [
        {
          "output_type": "execute_result",
          "data": {
            "text/plain": [
              "array(['28.96', '3.58', '12.76', '10.93', '8.89', '2.26', '9.14', '9.18',\n",
              "       '6.94', '0.63', '10.95', '7.47', '6.18', '8.03', '4.89', '8.49',\n",
              "       '9.09', '0.4', '3.75', '9.2', '4.46', '2.71', '3.44', '5.14',\n",
              "       '5.49', '3.9', '5.35', '3.17', '5.09', '4.24', '5.04', '5.86',\n",
              "       '3.68', '4.19', '5.73', '3.59', '4.51', '2.55', '4.02', '4.37',\n",
              "       '6.31', '3.45', '2.81', '2.85', '3.49', '0.01', '3.35', '2.04',\n",
              "       '3.07', '3.87', '3.0', '4.82', '3.64', '2.15', '3.69', '2.65',\n",
              "       '2.56', '3.11', '3.14', '1.94', '1.95', '2.47', '2.28', '3.42',\n",
              "       '3.63', '2.36', '1.71', '1.85', '2.79', '1.24', '6.12', '1.53',\n",
              "       '3.47', '2.24', '5.01', '2.01', '1.72', '2.07', '6.42', '3.86',\n",
              "       '0.45', '3.48', '1.89', '5.75', '2.17', '1.37', '2.35', '1.18',\n",
              "       '2.11', '1.88', '2.83', '2.99', '2.89', '3.27', '2.22', '2.14',\n",
              "       '1.45', '1.75', '1.04', '1.77', '3.02', '2.75', '2.16', '1.9',\n",
              "       '2.59', '2.2', '4.3', '0.93', '2.53', '2.52', '1.79', '1.3', '2.6',\n",
              "       '1.58', '1.2', '1.56', '1.34', '1.26', '0.83', '6.21', '2.8',\n",
              "       '1.59', '1.73', '4.33', '1.83', '0.0', '2.18', '1.98', '1.47',\n",
              "       '0.67', '1.55', '1.91', '0.69', '0.6', '1.93', '1.64', '0.55',\n",
              "       '2.19', '1.11', '2.29', '2.5', '0.96', '1.21', '1.12', '0.77',\n",
              "       '1.69', '1.08', '0.79', '2.37', '2.46', '0.26', '0.75', '1.25',\n",
              "       '2.43', '0.98', '0.74', '2.23', '0.61', '2.45', '1.41', '1.8',\n",
              "       '3.28', '1.16', '1.99', '1.38', '1.36', '1.17', '1.19', '0.99',\n",
              "       '1.68', '2.0', '1.33', '1.57', '1.48', '2.1', '1.27', '1.97',\n",
              "       '0.91', '1.39', '1.96', '0.24', '1.51', '0.14', '1.29', '2.39',\n",
              "       '1.03', '0.5', '0.58', '1.31', '2.02', '1.32', '1.01', '2.27',\n",
              "       '2.3', '1.82', '2.78', '0.44', '0.48', '0.27', '0.21', '2.48',\n",
              "       '0.51', '1.52', '0.04', '0.28', '1.35', '0.87', '2.13', '1.13',\n",
              "       '1.76', '0.76', '2.12', '0.66', '1.6', '1.44', '1.43', '1.7',\n",
              "       '0.47', '1.87', '0.86', '0.73', '1.28', '0.81', '1.09', '0.68',\n",
              "       '1.22', '1.4', '1.02', '1.49', '1.14', '0.49', '0.9', '0.38',\n",
              "       '1.42', '0.95', '1.62', '0.71', '1.05', '0.92', '0.33', '0.3',\n",
              "       '1.67', '1.0', '0.89', '0.1', '0.72', '0.59', '0.56', '0.16',\n",
              "       '0.97', '0.62', 'unknown', '0.85', '0.94', '0.88', '0.84', '1.06',\n",
              "       '0.2', '1.15', '0.8', '1.1', '0.7', '1.92', '0.32', '0.15', '0.53',\n",
              "       '0.09', '1.46', '0.29', '0.22', '1.23', '0.07', '0.17', '0.54',\n",
              "       '0.36', '0.31', '1.84', '0.52', '0.11', '0.64', '0.12', '2.05',\n",
              "       '1.63', '0.82', '0.08', '0.57', '1.65', '0.19', '0.02', '0.43',\n",
              "       '0.25', '1.5', '0.18', '0.39', '0.13', '1.07', '0.46', '0.41',\n",
              "       '0.06', '0.03', '0.37', '0.05', '0.23', '0.65', '0.42', '0.34',\n",
              "       '0.35', '0.78'], dtype=object)"
            ]
          },
          "metadata": {},
          "execution_count": 9
        }
      ],
      "source": [
        "#выводим уникальные значения столбца eu_sales\n",
        "games['eu_sales'].unique()"
      ]
    },
    {
      "cell_type": "code",
      "execution_count": 10,
      "metadata": {
        "colab": {
          "base_uri": "https://localhost:8080/"
        },
        "id": "AKTEtK5OEU_H",
        "outputId": "d130742a-bf58-4f68-df1c-5ab9207969af"
      },
      "outputs": [
        {
          "output_type": "execute_result",
          "data": {
            "text/plain": [
              "array(['3.77', '6.81', '3.79', '3.28', '10.22', '4.22', '6.5', '2.93',\n",
              "       '4.7', '0.28', '1.93', '4.13', '7.2', '3.6', '0.24', '2.53',\n",
              "       '0.98', '0.41', '3.54', '4.16', '6.04', '4.18', '3.84', '0.06',\n",
              "       '0.47', '5.38', '5.32', '5.65', '1.87', '0.13', '3.12', '0.36',\n",
              "       '0.11', '4.35', '0.65', '0.07', '0.08', '0.49', '0.3', '2.66',\n",
              "       '2.69', '0.48', '0.38', '5.33', '1.91', '3.96', '3.1', '1.1',\n",
              "       '1.2', '0.14', '2.54', '2.14', '0.81', '2.12', '0.44', '3.15',\n",
              "       '1.25', '0.04', '0.0', '2.47', '2.23', '1.69', '0.01', '3.0',\n",
              "       '0.02', '4.39', '1.98', '0.1', '3.81', '0.05', '2.49', '1.58',\n",
              "       '3.14', '2.73', '0.66', '0.22', '3.63', '1.45', '1.31', '2.43',\n",
              "       '0.7', '0.35', '1.4', '0.6', '2.26', '1.42', '1.28', '1.39',\n",
              "       '0.87', '0.17', '0.94', '0.19', '0.21', '1.6', '0.16', '1.03',\n",
              "       '0.25', '2.06', '1.49', '1.29', '0.09', '2.87', '0.03', '0.78',\n",
              "       '0.83', '2.33', '2.02', '1.36', '1.81', '1.97', '0.91', '0.99',\n",
              "       '0.95', '2.0', '1.01', '2.78', '2.11', '1.09', '0.2', '1.9',\n",
              "       '1.27', '3.61', '1.57', '2.2', '1.7', '1.08', '0.15', '1.11',\n",
              "       '0.29', '1.54', '0.12', '0.89', '4.87', '1.52', '1.32', '1.15',\n",
              "       '4.1', '1.46', '0.46', '1.05', '1.61', '0.26', '1.38', '0.62',\n",
              "       '0.73', '0.57', '0.31', '0.58', '1.76', '2.1', '0.9', '0.51',\n",
              "       '0.64', '2.46', '0.23', '0.37', '0.92', '1.07', '2.62', '1.12',\n",
              "       '0.54', '0.27', '0.59', '3.67', '0.55', '1.75', '3.44', '0.33',\n",
              "       '2.55', '2.32', '2.79', '0.74', '3.18', '0.82', '0.77', '0.4',\n",
              "       '2.35', '3.19', '0.8', '0.76', '3.03', '0.88', 'unknown', '0.45',\n",
              "       '1.16', '0.34', '1.19', '1.13', '2.13', '1.96', '0.71', '1.04',\n",
              "       '2.68', '0.68', '2.65', '0.96', '2.41', '0.52', '0.18', '1.34',\n",
              "       '1.48', '2.34', '1.06', '1.21', '2.29', '1.63', '2.05', '2.17',\n",
              "       '1.56', '1.35', '1.33', '0.63', '0.79', '0.75', '0.53', '1.53',\n",
              "       '1.3', '0.39', '0.69', '0.42', '0.93', '0.56', '0.84', '0.72',\n",
              "       '0.32', '1.71', '1.65', '0.61', '1.51', '1.5', '1.44', '1.24',\n",
              "       '1.18', '1.37', '1.0', '1.26', '0.85', '0.43', '0.67', '1.14',\n",
              "       '0.86', '1.17', '0.5', '1.02', '0.97'], dtype=object)"
            ]
          },
          "metadata": {},
          "execution_count": 10
        }
      ],
      "source": [
        "#выводим уникальные значения столбца jp_sales\n",
        "games['jp_sales'].unique()"
      ]
    },
    {
      "cell_type": "markdown",
      "metadata": {
        "id": "FKNQeppSFIsf"
      },
      "source": [
        "<font color='#777778'> Среди столбцов **`eu_sales`** и **`jp_sales`** встречаются значения `unknown` свидетельствующие о том, что для некоторых игр отсутсвует информация о продажах в указанных странах. Это говорит о том, что скорее всего некоторые игры выпускались только под рынок конкретной страны и не продавались по всему миру."
      ]
    },
    {
      "cell_type": "code",
      "execution_count": 11,
      "metadata": {
        "colab": {
          "base_uri": "https://localhost:8080/"
        },
        "id": "Qgvtv1i6E7D1",
        "outputId": "6df7d1ed-eba5-4f03-ebb9-0c17f299432f"
      },
      "outputs": [
        {
          "output_type": "execute_result",
          "data": {
            "text/plain": [
              "array(['8', nan, '8.3', '8.5', '6.6', '8.4', '8.6', '7.7', '6.3', '7.4',\n",
              "       '8.2', '9', '7.9', '8.1', '8.7', '7.1', '3.4', '5.3', '4.8', '3.2',\n",
              "       '8.9', '6.4', '7.8', '7.5', '2.6', '7.2', '9.2', '7', '7.3', '4.3',\n",
              "       '7.6', '5.7', '5', '9.1', '6.5', 'tbd', '8.8', '6.9', '9.4', '6.8',\n",
              "       '6.1', '6.7', '5.4', '4', '4.9', '4.5', '9.3', '6.2', '4.2', '6',\n",
              "       '3.7', '4.1', '5.8', '5.6', '5.5', '4.4', '4.6', '5.9', '3.9',\n",
              "       '3.1', '2.9', '5.2', '3.3', '4.7', '5.1', '3.5', '2.5', '1.9', '3',\n",
              "       '2.7', '2.2', '2', '9.5', '2.1', '3.6', '2.8', '1.8', '3.8', '0',\n",
              "       '1.6', '9.6', '2.4', '1.7', '1.1', '0.3', '1.5', '0.7', '1.2',\n",
              "       '2.3', '0.5', '1.3', '0.2', '0.6', '1.4', '0.9', '1', '9.7'],\n",
              "      dtype=object)"
            ]
          },
          "metadata": {},
          "execution_count": 11
        }
      ],
      "source": [
        "#выводим уникальные значения user_score\n",
        "games['user_score'].unique()"
      ]
    },
    {
      "cell_type": "markdown",
      "metadata": {
        "id": "uQYIABCXGXfd"
      },
      "source": [
        "<font color='#777778'> В столбце **`user_score `**  встречаются пропуски, а также значения `'tbd' (to be determined)`, означающие, что пользовательская оценка для игры еще не определена.\n",
        "\n",
        "<font color='#777778'> Мы можем заменить значения `unknown` и `tbd` на пропуски и далее оценить масштаб проблемы для выбора способа их обработки."
      ]
    },
    {
      "cell_type": "code",
      "execution_count": 12,
      "metadata": {
        "colab": {
          "base_uri": "https://localhost:8080/"
        },
        "id": "bqlbVBmxzMiW",
        "outputId": "e545d1b7-2acf-45b6-e5b6-53b19b17824f"
      },
      "outputs": [
        {
          "output_type": "stream",
          "name": "stdout",
          "text": [
            "<class 'pandas.core.frame.DataFrame'>\n",
            "RangeIndex: 16956 entries, 0 to 16955\n",
            "Data columns (total 11 columns):\n",
            " #   Column           Non-Null Count  Dtype  \n",
            "---  ------           --------------  -----  \n",
            " 0   name             16954 non-null  object \n",
            " 1   platform         16956 non-null  object \n",
            " 2   year_of_release  16681 non-null  Int64  \n",
            " 3   genre            16954 non-null  object \n",
            " 4   na_sales         16956 non-null  float64\n",
            " 5   eu_sales         16950 non-null  float64\n",
            " 6   jp_sales         16952 non-null  float64\n",
            " 7   other_sales      16956 non-null  float64\n",
            " 8   critic_score     8242 non-null   float64\n",
            " 9   user_score       7688 non-null   float64\n",
            " 10  rating           10085 non-null  object \n",
            "dtypes: Int64(1), float64(6), object(4)\n",
            "memory usage: 1.4+ MB\n"
          ]
        }
      ],
      "source": [
        "#выполняем преобразования и выводим данные о датафрейме на экран\n",
        "\n",
        "games['year_of_release'] = games['year_of_release'].astype('Int64')\n",
        "\n",
        "for column in ['eu_sales','jp_sales','user_score']:\n",
        "  games[column] = pd.to_numeric(games[column], errors = 'coerce')\n",
        "\n",
        "games.info()"
      ]
    },
    {
      "cell_type": "markdown",
      "metadata": {
        "id": "Xn7Gax5y2VkW"
      },
      "source": [
        "<font color='#777778'>Теперь все столбцы имеют правильный тип данных."
      ]
    },
    {
      "cell_type": "markdown",
      "metadata": {
        "id": "URaFU2xPbT5U"
      },
      "source": [
        "### *Наличие пропусков в данных*"
      ]
    },
    {
      "cell_type": "code",
      "execution_count": 13,
      "metadata": {
        "id": "bAvBvW5jbZf7"
      },
      "outputs": [],
      "source": [
        "#выводим количество пропусков в данных\n",
        "empty_share = pd.DataFrame(games.isna().sum())"
      ]
    },
    {
      "cell_type": "code",
      "execution_count": 14,
      "metadata": {
        "colab": {
          "base_uri": "https://localhost:8080/",
          "height": 300
        },
        "id": "rwWPQcr6cYwI",
        "outputId": "6d4cadc3-93c3-4ffe-d350-784c7ce1179b"
      },
      "outputs": [
        {
          "output_type": "execute_result",
          "data": {
            "text/plain": [
              "<pandas.io.formats.style.Styler at 0x7c7b002d1150>"
            ],
            "text/html": [
              "<style type=\"text/css\">\n",
              "#T_51e95_row0_col1 {\n",
              "  background-color: #800026;\n",
              "  color: #f1f1f1;\n",
              "}\n",
              "#T_51e95_row1_col1 {\n",
              "  background-color: #9d0026;\n",
              "  color: #f1f1f1;\n",
              "}\n",
              "#T_51e95_row2_col1 {\n",
              "  background-color: #e51e1d;\n",
              "  color: #f1f1f1;\n",
              "}\n",
              "#T_51e95_row3_col1 {\n",
              "  background-color: #fffbc2;\n",
              "  color: #000000;\n",
              "}\n",
              "#T_51e95_row4_col1, #T_51e95_row5_col1, #T_51e95_row6_col1, #T_51e95_row7_col1 {\n",
              "  background-color: #ffffcc;\n",
              "  color: #000000;\n",
              "}\n",
              "</style>\n",
              "<table id=\"T_51e95\" class=\"dataframe\">\n",
              "  <thead>\n",
              "    <tr>\n",
              "      <th class=\"blank level0\" >&nbsp;</th>\n",
              "      <th id=\"T_51e95_level0_col0\" class=\"col_heading level0 col0\" >0</th>\n",
              "      <th id=\"T_51e95_level0_col1\" class=\"col_heading level0 col1\" >share</th>\n",
              "    </tr>\n",
              "  </thead>\n",
              "  <tbody>\n",
              "    <tr>\n",
              "      <th id=\"T_51e95_level0_row0\" class=\"row_heading level0 row0\" >user_score</th>\n",
              "      <td id=\"T_51e95_row0_col0\" class=\"data row0 col0\" >9268</td>\n",
              "      <td id=\"T_51e95_row0_col1\" class=\"data row0 col1\" >54.659118</td>\n",
              "    </tr>\n",
              "    <tr>\n",
              "      <th id=\"T_51e95_level0_row1\" class=\"row_heading level0 row1\" >critic_score</th>\n",
              "      <td id=\"T_51e95_row1_col0\" class=\"data row1 col0\" >8714</td>\n",
              "      <td id=\"T_51e95_row1_col1\" class=\"data row1 col1\" >51.391838</td>\n",
              "    </tr>\n",
              "    <tr>\n",
              "      <th id=\"T_51e95_level0_row2\" class=\"row_heading level0 row2\" >rating</th>\n",
              "      <td id=\"T_51e95_row2_col0\" class=\"data row2 col0\" >6871</td>\n",
              "      <td id=\"T_51e95_row2_col1\" class=\"data row2 col1\" >40.522529</td>\n",
              "    </tr>\n",
              "    <tr>\n",
              "      <th id=\"T_51e95_level0_row3\" class=\"row_heading level0 row3\" >year_of_release</th>\n",
              "      <td id=\"T_51e95_row3_col0\" class=\"data row3 col0\" >275</td>\n",
              "      <td id=\"T_51e95_row3_col1\" class=\"data row3 col1\" >1.621845</td>\n",
              "    </tr>\n",
              "    <tr>\n",
              "      <th id=\"T_51e95_level0_row4\" class=\"row_heading level0 row4\" >eu_sales</th>\n",
              "      <td id=\"T_51e95_row4_col0\" class=\"data row4 col0\" >6</td>\n",
              "      <td id=\"T_51e95_row4_col1\" class=\"data row4 col1\" >0.035386</td>\n",
              "    </tr>\n",
              "    <tr>\n",
              "      <th id=\"T_51e95_level0_row5\" class=\"row_heading level0 row5\" >jp_sales</th>\n",
              "      <td id=\"T_51e95_row5_col0\" class=\"data row5 col0\" >4</td>\n",
              "      <td id=\"T_51e95_row5_col1\" class=\"data row5 col1\" >0.023590</td>\n",
              "    </tr>\n",
              "    <tr>\n",
              "      <th id=\"T_51e95_level0_row6\" class=\"row_heading level0 row6\" >name</th>\n",
              "      <td id=\"T_51e95_row6_col0\" class=\"data row6 col0\" >2</td>\n",
              "      <td id=\"T_51e95_row6_col1\" class=\"data row6 col1\" >0.011795</td>\n",
              "    </tr>\n",
              "    <tr>\n",
              "      <th id=\"T_51e95_level0_row7\" class=\"row_heading level0 row7\" >genre</th>\n",
              "      <td id=\"T_51e95_row7_col0\" class=\"data row7 col0\" >2</td>\n",
              "      <td id=\"T_51e95_row7_col1\" class=\"data row7 col1\" >0.011795</td>\n",
              "    </tr>\n",
              "  </tbody>\n",
              "</table>\n"
            ]
          },
          "metadata": {},
          "execution_count": 14
        }
      ],
      "source": [
        "#находим долю пропущенных значений\n",
        "empty_share['share'] = games.isna().sum() / len(games) * 100\n",
        "empty_share = empty_share[(empty_share['share'] > 0)]\n",
        "empty_share.sort_values(by = 'share',ascending = False).style.background_gradient(cmap='YlOrRd', axis=0, subset = 'share')"
      ]
    },
    {
      "cell_type": "markdown",
      "metadata": {
        "id": "hw3gRK67bp60"
      },
      "source": [
        "<font color='#777778'>Пропуски встречаются в 6 столбцах:\n",
        "\n",
        "- **`user_score`** - количество пропусков также существенно (более 50% или \t9268 значений) и для принятия решения потребуется изучить причины пропусков более детально;\n",
        "- **`critic_score`** - количество пропусков (8 714) значительно и составляет более половины всех значений. Поскольку данный столбец необходим для дальнейшей категоризации данных, необходимо более детальное изучение возможных причин пропусков;\n",
        "-**`rating`** - в данном столбце также пропущенно более 40% значений(6 871 пропуск). Поскольку рассчитать рейтинг ERSB самостоятельно невозможно, наиболее оптимальной стратегией будет заполнение пропусков значением-индикатором **not stated**, которое будет обозначать, что для данных игр информация о рейтинге ESRB отсутсвует. Для понимания причин отсутствия рейтинга ESRB также можно провести более детальный анализ данных;\n",
        "-**`year_of_release`**- 275 пропущенных значения (около 1,62%). Можно предположить, что отсутствие данных о годе выпуска связано с технической ошибкой при заполнении даннных. Так как пропуски составляют менее 2%, данные их также можно исключить, поскольку они в любом случае будут отсеяны при отборе данных за период с 2000 по 2013 год в связи с отусутствием информации и годе выпуска;\n",
        "- **`eu_sales`** - 6 пропущенных значений(0.03%). Появление данных пропусков связано с преобразование столбца к типу **`float64`** и заменой значений `unknown` на пропуски. По всей видимости некоторые игры не продавались в Европе, поэтому данные о продажах в этом регионе отсутствуют. Количество пропусков крайне мало, поэтому эти строки можно удалить из датафрейма без искажения результата анализа;\n",
        "- **`jp_sales`** - 4 пропущенных значения (0.02%). Появление пропусков связано с обработкой аналогичной **`eu_sales`**. Для данных игр отсутствуют данные по продажам в Японии, скорее всего они там не продавались. Количество пропусков крайне мало, поэтому эти строки можно удалить из датафрейма без искажения результата анализа;\n",
        "- **`name`** - 2 пропущенных значения (менее 0.02%).Скорее всего появление пропусков связано с ошибкой в заполнении данных. Данные пропуски на точность расчетов не повлияют, их можно удалить из данных;\n",
        "-**`genre`** - 2 пропущенных значения (менее 0.02%). Скорее всего появление пропусков связано с ошибкой в заполнении данных. Так как количество пропусков несущественно, можем также исключить их из данных.\n",
        " </font>"
      ]
    },
    {
      "cell_type": "code",
      "execution_count": 15,
      "metadata": {
        "id": "PGUhn8kRra_A"
      },
      "outputs": [],
      "source": [
        "#удаляем строки с пропусками с столбцах name, year_of_release, genre, eu_sales, jp_sales\n",
        "games = games.dropna(subset = [\n",
        "    'name',\n",
        "    'year_of_release',\n",
        "    'genre',\n",
        "])"
      ]
    },
    {
      "cell_type": "code",
      "execution_count": 16,
      "metadata": {
        "id": "lnmcLg7rd73_"
      },
      "outputs": [],
      "source": [
        "#заменяем пропуски в eu_sales и jp_sales при помощи transform\n",
        "games[['jp_sales','eu_sales']] = games[['jp_sales','eu_sales']].fillna(games.groupby(['platform', 'year_of_release'])[['jp_sales','eu_sales']].transform('mean'))"
      ]
    },
    {
      "cell_type": "markdown",
      "metadata": {
        "id": "0VwxVeTlOlTr"
      },
      "source": [
        "<font color='#777778'>Изучим пропуски в `user_score` и `critic_score` детально. Для этого создадим срез данных по играм, где значения в этих столбцах отсутствуют."
      ]
    },
    {
      "cell_type": "code",
      "execution_count": 17,
      "metadata": {
        "id": "54shEo13OgzJ"
      },
      "outputs": [],
      "source": [
        "#создадим срез строк, где есть пропуски в user_score или в critic_score.\n",
        "empty_scores_df = games[(games['user_score'].isna() == True) | (games['critic_score']).isna() == True].copy()"
      ]
    },
    {
      "cell_type": "code",
      "execution_count": 18,
      "metadata": {
        "id": "JbloA0GSS5nT"
      },
      "outputs": [],
      "source": [
        "#найдем суммарное количество продаж по каждой игре\n",
        "empty_scores_df['total_sales'] = empty_scores_df[['na_sales','eu_sales','jp_sales','other_sales']].sum(axis = 1)"
      ]
    },
    {
      "cell_type": "code",
      "execution_count": 19,
      "metadata": {
        "colab": {
          "base_uri": "https://localhost:8080/",
          "height": 424
        },
        "id": "zKZ4aHRZsPc7",
        "outputId": "b25dd889-9b74-4cf7-da64-cf16de1d2a07"
      },
      "outputs": [
        {
          "output_type": "execute_result",
          "data": {
            "text/plain": [
              "                                                   name platform  \\\n",
              "1                                     Super Mario Bros.      NES   \n",
              "4                              Pokemon Red/Pokemon Blue       GB   \n",
              "5                                                Tetris       GB   \n",
              "9                                             Duck Hunt      NES   \n",
              "10                                           Nintendogs       DS   \n",
              "...                                                 ...      ...   \n",
              "16452                            DoDonPachi Saidaioujou     X360   \n",
              "16453                           Last Escort: Club Katze      PS2   \n",
              "16955                               Winning Post 8 2016      PSV   \n",
              "16950  SCORE International Baja 1000: The Official Game      PS2   \n",
              "16916                                  G1 Jockey 4 2008      PS3   \n",
              "\n",
              "       year_of_release         genre  na_sales  eu_sales  jp_sales  \\\n",
              "1                 1985      Platform     29.08      3.58      6.81   \n",
              "4                 1996  Role-Playing     11.27      8.89     10.22   \n",
              "5                 1989        Puzzle     23.20      2.26      4.22   \n",
              "9                 1984       Shooter     26.93      0.63      0.28   \n",
              "10                2005    Simulation      9.05     10.95      1.93   \n",
              "...                ...           ...       ...       ...       ...   \n",
              "16452             2013       Shooter      0.00      0.00      0.01   \n",
              "16453             2010     Adventure      0.00      0.00      0.01   \n",
              "16955             2016    Simulation      0.00      0.00      0.01   \n",
              "16950             2008        Racing      0.00      0.00      0.00   \n",
              "16916             2008        Sports      0.00      0.00      0.00   \n",
              "\n",
              "       other_sales  critic_score  user_score rating  total_sales  \n",
              "1             0.77           NaN         NaN    NaN        40.24  \n",
              "4             1.00           NaN         NaN    NaN        31.38  \n",
              "5             0.58           NaN         NaN    NaN        30.26  \n",
              "9             0.47           NaN         NaN    NaN        28.31  \n",
              "10            2.74           NaN         NaN    NaN        24.67  \n",
              "...            ...           ...         ...    ...          ...  \n",
              "16452         0.00           NaN         NaN    NaN         0.01  \n",
              "16453         0.00           NaN         NaN    NaN         0.01  \n",
              "16955         0.00           NaN         NaN    NaN         0.01  \n",
              "16950         0.00           NaN         NaN    NaN         0.00  \n",
              "16916         0.00           NaN         NaN    NaN         0.00  \n",
              "\n",
              "[9700 rows x 12 columns]"
            ],
            "text/html": [
              "\n",
              "  <div id=\"df-277b47f9-14a5-4469-be85-52f9891d0ca8\" class=\"colab-df-container\">\n",
              "    <div>\n",
              "<style scoped>\n",
              "    .dataframe tbody tr th:only-of-type {\n",
              "        vertical-align: middle;\n",
              "    }\n",
              "\n",
              "    .dataframe tbody tr th {\n",
              "        vertical-align: top;\n",
              "    }\n",
              "\n",
              "    .dataframe thead th {\n",
              "        text-align: right;\n",
              "    }\n",
              "</style>\n",
              "<table border=\"1\" class=\"dataframe\">\n",
              "  <thead>\n",
              "    <tr style=\"text-align: right;\">\n",
              "      <th></th>\n",
              "      <th>name</th>\n",
              "      <th>platform</th>\n",
              "      <th>year_of_release</th>\n",
              "      <th>genre</th>\n",
              "      <th>na_sales</th>\n",
              "      <th>eu_sales</th>\n",
              "      <th>jp_sales</th>\n",
              "      <th>other_sales</th>\n",
              "      <th>critic_score</th>\n",
              "      <th>user_score</th>\n",
              "      <th>rating</th>\n",
              "      <th>total_sales</th>\n",
              "    </tr>\n",
              "  </thead>\n",
              "  <tbody>\n",
              "    <tr>\n",
              "      <th>1</th>\n",
              "      <td>Super Mario Bros.</td>\n",
              "      <td>NES</td>\n",
              "      <td>1985</td>\n",
              "      <td>Platform</td>\n",
              "      <td>29.08</td>\n",
              "      <td>3.58</td>\n",
              "      <td>6.81</td>\n",
              "      <td>0.77</td>\n",
              "      <td>NaN</td>\n",
              "      <td>NaN</td>\n",
              "      <td>NaN</td>\n",
              "      <td>40.24</td>\n",
              "    </tr>\n",
              "    <tr>\n",
              "      <th>4</th>\n",
              "      <td>Pokemon Red/Pokemon Blue</td>\n",
              "      <td>GB</td>\n",
              "      <td>1996</td>\n",
              "      <td>Role-Playing</td>\n",
              "      <td>11.27</td>\n",
              "      <td>8.89</td>\n",
              "      <td>10.22</td>\n",
              "      <td>1.00</td>\n",
              "      <td>NaN</td>\n",
              "      <td>NaN</td>\n",
              "      <td>NaN</td>\n",
              "      <td>31.38</td>\n",
              "    </tr>\n",
              "    <tr>\n",
              "      <th>5</th>\n",
              "      <td>Tetris</td>\n",
              "      <td>GB</td>\n",
              "      <td>1989</td>\n",
              "      <td>Puzzle</td>\n",
              "      <td>23.20</td>\n",
              "      <td>2.26</td>\n",
              "      <td>4.22</td>\n",
              "      <td>0.58</td>\n",
              "      <td>NaN</td>\n",
              "      <td>NaN</td>\n",
              "      <td>NaN</td>\n",
              "      <td>30.26</td>\n",
              "    </tr>\n",
              "    <tr>\n",
              "      <th>9</th>\n",
              "      <td>Duck Hunt</td>\n",
              "      <td>NES</td>\n",
              "      <td>1984</td>\n",
              "      <td>Shooter</td>\n",
              "      <td>26.93</td>\n",
              "      <td>0.63</td>\n",
              "      <td>0.28</td>\n",
              "      <td>0.47</td>\n",
              "      <td>NaN</td>\n",
              "      <td>NaN</td>\n",
              "      <td>NaN</td>\n",
              "      <td>28.31</td>\n",
              "    </tr>\n",
              "    <tr>\n",
              "      <th>10</th>\n",
              "      <td>Nintendogs</td>\n",
              "      <td>DS</td>\n",
              "      <td>2005</td>\n",
              "      <td>Simulation</td>\n",
              "      <td>9.05</td>\n",
              "      <td>10.95</td>\n",
              "      <td>1.93</td>\n",
              "      <td>2.74</td>\n",
              "      <td>NaN</td>\n",
              "      <td>NaN</td>\n",
              "      <td>NaN</td>\n",
              "      <td>24.67</td>\n",
              "    </tr>\n",
              "    <tr>\n",
              "      <th>...</th>\n",
              "      <td>...</td>\n",
              "      <td>...</td>\n",
              "      <td>...</td>\n",
              "      <td>...</td>\n",
              "      <td>...</td>\n",
              "      <td>...</td>\n",
              "      <td>...</td>\n",
              "      <td>...</td>\n",
              "      <td>...</td>\n",
              "      <td>...</td>\n",
              "      <td>...</td>\n",
              "      <td>...</td>\n",
              "    </tr>\n",
              "    <tr>\n",
              "      <th>16452</th>\n",
              "      <td>DoDonPachi Saidaioujou</td>\n",
              "      <td>X360</td>\n",
              "      <td>2013</td>\n",
              "      <td>Shooter</td>\n",
              "      <td>0.00</td>\n",
              "      <td>0.00</td>\n",
              "      <td>0.01</td>\n",
              "      <td>0.00</td>\n",
              "      <td>NaN</td>\n",
              "      <td>NaN</td>\n",
              "      <td>NaN</td>\n",
              "      <td>0.01</td>\n",
              "    </tr>\n",
              "    <tr>\n",
              "      <th>16453</th>\n",
              "      <td>Last Escort: Club Katze</td>\n",
              "      <td>PS2</td>\n",
              "      <td>2010</td>\n",
              "      <td>Adventure</td>\n",
              "      <td>0.00</td>\n",
              "      <td>0.00</td>\n",
              "      <td>0.01</td>\n",
              "      <td>0.00</td>\n",
              "      <td>NaN</td>\n",
              "      <td>NaN</td>\n",
              "      <td>NaN</td>\n",
              "      <td>0.01</td>\n",
              "    </tr>\n",
              "    <tr>\n",
              "      <th>16955</th>\n",
              "      <td>Winning Post 8 2016</td>\n",
              "      <td>PSV</td>\n",
              "      <td>2016</td>\n",
              "      <td>Simulation</td>\n",
              "      <td>0.00</td>\n",
              "      <td>0.00</td>\n",
              "      <td>0.01</td>\n",
              "      <td>0.00</td>\n",
              "      <td>NaN</td>\n",
              "      <td>NaN</td>\n",
              "      <td>NaN</td>\n",
              "      <td>0.01</td>\n",
              "    </tr>\n",
              "    <tr>\n",
              "      <th>16950</th>\n",
              "      <td>SCORE International Baja 1000: The Official Game</td>\n",
              "      <td>PS2</td>\n",
              "      <td>2008</td>\n",
              "      <td>Racing</td>\n",
              "      <td>0.00</td>\n",
              "      <td>0.00</td>\n",
              "      <td>0.00</td>\n",
              "      <td>0.00</td>\n",
              "      <td>NaN</td>\n",
              "      <td>NaN</td>\n",
              "      <td>NaN</td>\n",
              "      <td>0.00</td>\n",
              "    </tr>\n",
              "    <tr>\n",
              "      <th>16916</th>\n",
              "      <td>G1 Jockey 4 2008</td>\n",
              "      <td>PS3</td>\n",
              "      <td>2008</td>\n",
              "      <td>Sports</td>\n",
              "      <td>0.00</td>\n",
              "      <td>0.00</td>\n",
              "      <td>0.00</td>\n",
              "      <td>0.00</td>\n",
              "      <td>NaN</td>\n",
              "      <td>NaN</td>\n",
              "      <td>NaN</td>\n",
              "      <td>0.00</td>\n",
              "    </tr>\n",
              "  </tbody>\n",
              "</table>\n",
              "<p>9700 rows × 12 columns</p>\n",
              "</div>\n",
              "    <div class=\"colab-df-buttons\">\n",
              "\n",
              "  <div class=\"colab-df-container\">\n",
              "    <button class=\"colab-df-convert\" onclick=\"convertToInteractive('df-277b47f9-14a5-4469-be85-52f9891d0ca8')\"\n",
              "            title=\"Convert this dataframe to an interactive table.\"\n",
              "            style=\"display:none;\">\n",
              "\n",
              "  <svg xmlns=\"http://www.w3.org/2000/svg\" height=\"24px\" viewBox=\"0 -960 960 960\">\n",
              "    <path d=\"M120-120v-720h720v720H120Zm60-500h600v-160H180v160Zm220 220h160v-160H400v160Zm0 220h160v-160H400v160ZM180-400h160v-160H180v160Zm440 0h160v-160H620v160ZM180-180h160v-160H180v160Zm440 0h160v-160H620v160Z\"/>\n",
              "  </svg>\n",
              "    </button>\n",
              "\n",
              "  <style>\n",
              "    .colab-df-container {\n",
              "      display:flex;\n",
              "      gap: 12px;\n",
              "    }\n",
              "\n",
              "    .colab-df-convert {\n",
              "      background-color: #E8F0FE;\n",
              "      border: none;\n",
              "      border-radius: 50%;\n",
              "      cursor: pointer;\n",
              "      display: none;\n",
              "      fill: #1967D2;\n",
              "      height: 32px;\n",
              "      padding: 0 0 0 0;\n",
              "      width: 32px;\n",
              "    }\n",
              "\n",
              "    .colab-df-convert:hover {\n",
              "      background-color: #E2EBFA;\n",
              "      box-shadow: 0px 1px 2px rgba(60, 64, 67, 0.3), 0px 1px 3px 1px rgba(60, 64, 67, 0.15);\n",
              "      fill: #174EA6;\n",
              "    }\n",
              "\n",
              "    .colab-df-buttons div {\n",
              "      margin-bottom: 4px;\n",
              "    }\n",
              "\n",
              "    [theme=dark] .colab-df-convert {\n",
              "      background-color: #3B4455;\n",
              "      fill: #D2E3FC;\n",
              "    }\n",
              "\n",
              "    [theme=dark] .colab-df-convert:hover {\n",
              "      background-color: #434B5C;\n",
              "      box-shadow: 0px 1px 3px 1px rgba(0, 0, 0, 0.15);\n",
              "      filter: drop-shadow(0px 1px 2px rgba(0, 0, 0, 0.3));\n",
              "      fill: #FFFFFF;\n",
              "    }\n",
              "  </style>\n",
              "\n",
              "    <script>\n",
              "      const buttonEl =\n",
              "        document.querySelector('#df-277b47f9-14a5-4469-be85-52f9891d0ca8 button.colab-df-convert');\n",
              "      buttonEl.style.display =\n",
              "        google.colab.kernel.accessAllowed ? 'block' : 'none';\n",
              "\n",
              "      async function convertToInteractive(key) {\n",
              "        const element = document.querySelector('#df-277b47f9-14a5-4469-be85-52f9891d0ca8');\n",
              "        const dataTable =\n",
              "          await google.colab.kernel.invokeFunction('convertToInteractive',\n",
              "                                                    [key], {});\n",
              "        if (!dataTable) return;\n",
              "\n",
              "        const docLinkHtml = 'Like what you see? Visit the ' +\n",
              "          '<a target=\"_blank\" href=https://colab.research.google.com/notebooks/data_table.ipynb>data table notebook</a>'\n",
              "          + ' to learn more about interactive tables.';\n",
              "        element.innerHTML = '';\n",
              "        dataTable['output_type'] = 'display_data';\n",
              "        await google.colab.output.renderOutput(dataTable, element);\n",
              "        const docLink = document.createElement('div');\n",
              "        docLink.innerHTML = docLinkHtml;\n",
              "        element.appendChild(docLink);\n",
              "      }\n",
              "    </script>\n",
              "  </div>\n",
              "\n",
              "\n",
              "<div id=\"df-bf825783-5502-4958-962c-ae35b60ec90f\">\n",
              "  <button class=\"colab-df-quickchart\" onclick=\"quickchart('df-bf825783-5502-4958-962c-ae35b60ec90f')\"\n",
              "            title=\"Suggest charts\"\n",
              "            style=\"display:none;\">\n",
              "\n",
              "<svg xmlns=\"http://www.w3.org/2000/svg\" height=\"24px\"viewBox=\"0 0 24 24\"\n",
              "     width=\"24px\">\n",
              "    <g>\n",
              "        <path d=\"M19 3H5c-1.1 0-2 .9-2 2v14c0 1.1.9 2 2 2h14c1.1 0 2-.9 2-2V5c0-1.1-.9-2-2-2zM9 17H7v-7h2v7zm4 0h-2V7h2v10zm4 0h-2v-4h2v4z\"/>\n",
              "    </g>\n",
              "</svg>\n",
              "  </button>\n",
              "\n",
              "<style>\n",
              "  .colab-df-quickchart {\n",
              "      --bg-color: #E8F0FE;\n",
              "      --fill-color: #1967D2;\n",
              "      --hover-bg-color: #E2EBFA;\n",
              "      --hover-fill-color: #174EA6;\n",
              "      --disabled-fill-color: #AAA;\n",
              "      --disabled-bg-color: #DDD;\n",
              "  }\n",
              "\n",
              "  [theme=dark] .colab-df-quickchart {\n",
              "      --bg-color: #3B4455;\n",
              "      --fill-color: #D2E3FC;\n",
              "      --hover-bg-color: #434B5C;\n",
              "      --hover-fill-color: #FFFFFF;\n",
              "      --disabled-bg-color: #3B4455;\n",
              "      --disabled-fill-color: #666;\n",
              "  }\n",
              "\n",
              "  .colab-df-quickchart {\n",
              "    background-color: var(--bg-color);\n",
              "    border: none;\n",
              "    border-radius: 50%;\n",
              "    cursor: pointer;\n",
              "    display: none;\n",
              "    fill: var(--fill-color);\n",
              "    height: 32px;\n",
              "    padding: 0;\n",
              "    width: 32px;\n",
              "  }\n",
              "\n",
              "  .colab-df-quickchart:hover {\n",
              "    background-color: var(--hover-bg-color);\n",
              "    box-shadow: 0 1px 2px rgba(60, 64, 67, 0.3), 0 1px 3px 1px rgba(60, 64, 67, 0.15);\n",
              "    fill: var(--button-hover-fill-color);\n",
              "  }\n",
              "\n",
              "  .colab-df-quickchart-complete:disabled,\n",
              "  .colab-df-quickchart-complete:disabled:hover {\n",
              "    background-color: var(--disabled-bg-color);\n",
              "    fill: var(--disabled-fill-color);\n",
              "    box-shadow: none;\n",
              "  }\n",
              "\n",
              "  .colab-df-spinner {\n",
              "    border: 2px solid var(--fill-color);\n",
              "    border-color: transparent;\n",
              "    border-bottom-color: var(--fill-color);\n",
              "    animation:\n",
              "      spin 1s steps(1) infinite;\n",
              "  }\n",
              "\n",
              "  @keyframes spin {\n",
              "    0% {\n",
              "      border-color: transparent;\n",
              "      border-bottom-color: var(--fill-color);\n",
              "      border-left-color: var(--fill-color);\n",
              "    }\n",
              "    20% {\n",
              "      border-color: transparent;\n",
              "      border-left-color: var(--fill-color);\n",
              "      border-top-color: var(--fill-color);\n",
              "    }\n",
              "    30% {\n",
              "      border-color: transparent;\n",
              "      border-left-color: var(--fill-color);\n",
              "      border-top-color: var(--fill-color);\n",
              "      border-right-color: var(--fill-color);\n",
              "    }\n",
              "    40% {\n",
              "      border-color: transparent;\n",
              "      border-right-color: var(--fill-color);\n",
              "      border-top-color: var(--fill-color);\n",
              "    }\n",
              "    60% {\n",
              "      border-color: transparent;\n",
              "      border-right-color: var(--fill-color);\n",
              "    }\n",
              "    80% {\n",
              "      border-color: transparent;\n",
              "      border-right-color: var(--fill-color);\n",
              "      border-bottom-color: var(--fill-color);\n",
              "    }\n",
              "    90% {\n",
              "      border-color: transparent;\n",
              "      border-bottom-color: var(--fill-color);\n",
              "    }\n",
              "  }\n",
              "</style>\n",
              "\n",
              "  <script>\n",
              "    async function quickchart(key) {\n",
              "      const quickchartButtonEl =\n",
              "        document.querySelector('#' + key + ' button');\n",
              "      quickchartButtonEl.disabled = true;  // To prevent multiple clicks.\n",
              "      quickchartButtonEl.classList.add('colab-df-spinner');\n",
              "      try {\n",
              "        const charts = await google.colab.kernel.invokeFunction(\n",
              "            'suggestCharts', [key], {});\n",
              "      } catch (error) {\n",
              "        console.error('Error during call to suggestCharts:', error);\n",
              "      }\n",
              "      quickchartButtonEl.classList.remove('colab-df-spinner');\n",
              "      quickchartButtonEl.classList.add('colab-df-quickchart-complete');\n",
              "    }\n",
              "    (() => {\n",
              "      let quickchartButtonEl =\n",
              "        document.querySelector('#df-bf825783-5502-4958-962c-ae35b60ec90f button');\n",
              "      quickchartButtonEl.style.display =\n",
              "        google.colab.kernel.accessAllowed ? 'block' : 'none';\n",
              "    })();\n",
              "  </script>\n",
              "</div>\n",
              "    </div>\n",
              "  </div>\n"
            ],
            "application/vnd.google.colaboratory.intrinsic+json": {
              "type": "dataframe",
              "summary": "{\n  \"name\": \"empty_scores_df\",\n  \"rows\": 9700,\n  \"fields\": [\n    {\n      \"column\": \"name\",\n      \"properties\": {\n        \"dtype\": \"string\",\n        \"num_unique_values\": 7819,\n        \"samples\": [\n          \"Fatal Fury Special\",\n          \"I Love Puppies\",\n          \"Donkey Kong GB: Dinky Kong & Dixie Kong\"\n        ],\n        \"semantic_type\": \"\",\n        \"description\": \"\"\n      }\n    },\n    {\n      \"column\": \"platform\",\n      \"properties\": {\n        \"dtype\": \"category\",\n        \"num_unique_values\": 31,\n        \"samples\": [\n          \"TG16\",\n          \"GEN\",\n          \"SAT\"\n        ],\n        \"semantic_type\": \"\",\n        \"description\": \"\"\n      }\n    },\n    {\n      \"column\": \"year_of_release\",\n      \"properties\": {\n        \"dtype\": \"Int64\",\n        \"num_unique_values\": 37,\n        \"samples\": [\n          1993,\n          2013,\n          2005\n        ],\n        \"semantic_type\": \"\",\n        \"description\": \"\"\n      }\n    },\n    {\n      \"column\": \"genre\",\n      \"properties\": {\n        \"dtype\": \"category\",\n        \"num_unique_values\": 23,\n        \"samples\": [\n          \"RACING\",\n          \"Sports\",\n          \"Platform\"\n        ],\n        \"semantic_type\": \"\",\n        \"description\": \"\"\n      }\n    },\n    {\n      \"column\": \"na_sales\",\n      \"properties\": {\n        \"dtype\": \"number\",\n        \"std\": 0.6762057497918117,\n        \"min\": 0.0,\n        \"max\": 29.08,\n        \"num_unique_values\": 270,\n        \"samples\": [\n          4.1,\n          0.27,\n          0.58\n        ],\n        \"semantic_type\": \"\",\n        \"description\": \"\"\n      }\n    },\n    {\n      \"column\": \"eu_sales\",\n      \"properties\": {\n        \"dtype\": \"number\",\n        \"std\": 0.3053530713824628,\n        \"min\": 0.0,\n        \"max\": 10.95,\n        \"num_unique_values\": 195,\n        \"samples\": [\n          1.22,\n          3.49,\n          0.03\n        ],\n        \"semantic_type\": \"\",\n        \"description\": \"\"\n      }\n    },\n    {\n      \"column\": \"jp_sales\",\n      \"properties\": {\n        \"dtype\": \"number\",\n        \"std\": 0.3254473946202056,\n        \"min\": 0.0,\n        \"max\": 10.22,\n        \"num_unique_values\": 206,\n        \"samples\": [\n          1.91,\n          3.84,\n          0.67\n        ],\n        \"semantic_type\": \"\",\n        \"description\": \"\"\n      }\n    },\n    {\n      \"column\": \"other_sales\",\n      \"properties\": {\n        \"dtype\": \"number\",\n        \"std\": 0.08493446639282265,\n        \"min\": 0.0,\n        \"max\": 2.74,\n        \"num_unique_values\": 91,\n        \"samples\": [\n          0.11,\n          0.81,\n          0.38\n        ],\n        \"semantic_type\": \"\",\n        \"description\": \"\"\n      }\n    },\n    {\n      \"column\": \"critic_score\",\n      \"properties\": {\n        \"dtype\": \"number\",\n        \"std\": 11.423730820093336,\n        \"min\": 23.0,\n        \"max\": 90.0,\n        \"num_unique_values\": 65,\n        \"samples\": [\n          40.0,\n          28.0,\n          85.0\n        ],\n        \"semantic_type\": \"\",\n        \"description\": \"\"\n      }\n    },\n    {\n      \"column\": \"user_score\",\n      \"properties\": {\n        \"dtype\": \"number\",\n        \"std\": 1.9514358574658477,\n        \"min\": 0.0,\n        \"max\": 9.7,\n        \"num_unique_values\": 84,\n        \"samples\": [\n          2.0,\n          4.8,\n          5.7\n        ],\n        \"semantic_type\": \"\",\n        \"description\": \"\"\n      }\n    },\n    {\n      \"column\": \"rating\",\n      \"properties\": {\n        \"dtype\": \"category\",\n        \"num_unique_values\": 6,\n        \"samples\": [\n          \"E\",\n          \"T\",\n          \"EC\"\n        ],\n        \"semantic_type\": \"\",\n        \"description\": \"\"\n      }\n    },\n    {\n      \"column\": \"total_sales\",\n      \"properties\": {\n        \"dtype\": \"number\",\n        \"std\": 1.156528549964152,\n        \"min\": 0.0,\n        \"max\": 40.24,\n        \"num_unique_values\": 600,\n        \"samples\": [\n          3.5400000000000005,\n          0.8400000000000001,\n          0.18999999999999997\n        ],\n        \"semantic_type\": \"\",\n        \"description\": \"\"\n      }\n    }\n  ]\n}"
            }
          },
          "metadata": {},
          "execution_count": 19
        }
      ],
      "source": [
        "#отсортируем значения по убыванию total_sales и оценим, какие значения по продажам присутствуют в датафреме.\n",
        "empty_scores_df.sort_values(by = 'total_sales',ascending = False)"
      ]
    },
    {
      "cell_type": "markdown",
      "metadata": {
        "id": "wF56Mt0Esxs4"
      },
      "source": [
        "<font color='#777778'>Видно, что значения **`user_score`** и  **`critic_score`** отсутствуют как для игр, где количество проданных копий равняется нулю, так и для тех, где количество проданных копий исчисляется несколькими десятками миллионов. Примечательно, что довольно часто пропуски встречаются в обоих столбцах одновременно.\n",
        "\n",
        "\n",
        "<font color='#777778'>Найдем минимальное и максимальное значение в датафрейме в срезе `empty_scores_df`. Оценим также медиану и среднее значение."
      ]
    },
    {
      "cell_type": "code",
      "execution_count": 20,
      "metadata": {
        "colab": {
          "base_uri": "https://localhost:8080/"
        },
        "id": "36m6YpQTyZoL",
        "outputId": "c440d0b8-f64b-49d2-81b1-1b414c173624"
      },
      "outputs": [
        {
          "output_type": "execute_result",
          "data": {
            "text/plain": [
              "0.0"
            ]
          },
          "metadata": {},
          "execution_count": 20
        }
      ],
      "source": [
        "#находим минимальное значение\n",
        "empty_scores_df['total_sales'].min()"
      ]
    },
    {
      "cell_type": "code",
      "execution_count": 21,
      "metadata": {
        "colab": {
          "base_uri": "https://localhost:8080/"
        },
        "id": "aqqoRzIByjDk",
        "outputId": "728710a7-4ff2-4a8f-fe25-1efe35ded8c8"
      },
      "outputs": [
        {
          "output_type": "execute_result",
          "data": {
            "text/plain": [
              "40.24"
            ]
          },
          "metadata": {},
          "execution_count": 21
        }
      ],
      "source": [
        "#находим максимальное значение\n",
        "empty_scores_df['total_sales'].max()"
      ]
    },
    {
      "cell_type": "code",
      "execution_count": 22,
      "metadata": {
        "colab": {
          "base_uri": "https://localhost:8080/"
        },
        "id": "sGqR4Y3K6zpb",
        "outputId": "26b5b1b9-27df-40c1-c8b9-681f753ca802"
      },
      "outputs": [
        {
          "output_type": "execute_result",
          "data": {
            "text/plain": [
              "0.11"
            ]
          },
          "metadata": {},
          "execution_count": 22
        }
      ],
      "source": [
        "#находим медианное значние\n",
        "empty_scores_df['total_sales'].median()"
      ]
    },
    {
      "cell_type": "code",
      "execution_count": 23,
      "metadata": {
        "colab": {
          "base_uri": "https://localhost:8080/"
        },
        "id": "oa1bwbQa6623",
        "outputId": "ffe837ec-4432-4ff4-b58d-df1841f32071"
      },
      "outputs": [
        {
          "output_type": "execute_result",
          "data": {
            "text/plain": [
              "0.36456169061341565"
            ]
          },
          "metadata": {},
          "execution_count": 23
        }
      ],
      "source": [
        "#находим среднее значение\n",
        "empty_scores_df['total_sales'].mean()"
      ]
    },
    {
      "cell_type": "markdown",
      "metadata": {
        "id": "A7IzTBtDzCJa"
      },
      "source": [
        "<font color='#777778'>В результате сравнения видим, что минимальное значение total_sales составляет - 0, а максимальное - 40.24 млн. проданных копий.\n",
        "При этом медианное и среднее значение в наборе данных говорят о том, что для большинства игр количество проданных копий составляет менее 1 млн., что свидетельствует о низкой популярности игр этих игр. Найдем количество игр, количество проданных копий для которых составляет менее 1 млн. Вполне возможно, что таки игры не получали ни оценку пользователей ни оценку критиков, так как остались незамеченными относительно более популярных игр. </font>\n",
        "\n",
        "<font color='#777778'> Найдем количество игр, для которых количество продаж составляет до 1 млн. копий в количественном и процентном выражении."
      ]
    },
    {
      "cell_type": "code",
      "execution_count": 24,
      "metadata": {
        "id": "unCHzZ-PDjzI"
      },
      "outputs": [],
      "source": [
        "#присвоим категорию при помощи pd.cut()\n",
        "empty_scores_df['category_by_sales'] = pd.cut(empty_scores_df['total_sales'],\n",
        "                                       bins = [0,1,42],\n",
        "                                       labels = [\"менее 1 млн.\", \"более 1 млн.\"],right = False)"
      ]
    },
    {
      "cell_type": "code",
      "execution_count": 25,
      "metadata": {
        "colab": {
          "base_uri": "https://localhost:8080/",
          "height": 143
        },
        "id": "JD-fvXqlEgDB",
        "outputId": "ad05fd4a-3beb-4704-a7d7-539eec4e50b0"
      },
      "outputs": [
        {
          "output_type": "execute_result",
          "data": {
            "text/plain": [
              "                   name      share\n",
              "category_by_sales                 \n",
              "менее 1 млн.       8953  92.298969\n",
              "более 1 млн.        747   7.701031"
            ],
            "text/html": [
              "\n",
              "  <div id=\"df-7b07e033-0e56-4cc5-9e14-6899a3be4405\" class=\"colab-df-container\">\n",
              "    <div>\n",
              "<style scoped>\n",
              "    .dataframe tbody tr th:only-of-type {\n",
              "        vertical-align: middle;\n",
              "    }\n",
              "\n",
              "    .dataframe tbody tr th {\n",
              "        vertical-align: top;\n",
              "    }\n",
              "\n",
              "    .dataframe thead th {\n",
              "        text-align: right;\n",
              "    }\n",
              "</style>\n",
              "<table border=\"1\" class=\"dataframe\">\n",
              "  <thead>\n",
              "    <tr style=\"text-align: right;\">\n",
              "      <th></th>\n",
              "      <th>name</th>\n",
              "      <th>share</th>\n",
              "    </tr>\n",
              "    <tr>\n",
              "      <th>category_by_sales</th>\n",
              "      <th></th>\n",
              "      <th></th>\n",
              "    </tr>\n",
              "  </thead>\n",
              "  <tbody>\n",
              "    <tr>\n",
              "      <th>менее 1 млн.</th>\n",
              "      <td>8953</td>\n",
              "      <td>92.298969</td>\n",
              "    </tr>\n",
              "    <tr>\n",
              "      <th>более 1 млн.</th>\n",
              "      <td>747</td>\n",
              "      <td>7.701031</td>\n",
              "    </tr>\n",
              "  </tbody>\n",
              "</table>\n",
              "</div>\n",
              "    <div class=\"colab-df-buttons\">\n",
              "\n",
              "  <div class=\"colab-df-container\">\n",
              "    <button class=\"colab-df-convert\" onclick=\"convertToInteractive('df-7b07e033-0e56-4cc5-9e14-6899a3be4405')\"\n",
              "            title=\"Convert this dataframe to an interactive table.\"\n",
              "            style=\"display:none;\">\n",
              "\n",
              "  <svg xmlns=\"http://www.w3.org/2000/svg\" height=\"24px\" viewBox=\"0 -960 960 960\">\n",
              "    <path d=\"M120-120v-720h720v720H120Zm60-500h600v-160H180v160Zm220 220h160v-160H400v160Zm0 220h160v-160H400v160ZM180-400h160v-160H180v160Zm440 0h160v-160H620v160ZM180-180h160v-160H180v160Zm440 0h160v-160H620v160Z\"/>\n",
              "  </svg>\n",
              "    </button>\n",
              "\n",
              "  <style>\n",
              "    .colab-df-container {\n",
              "      display:flex;\n",
              "      gap: 12px;\n",
              "    }\n",
              "\n",
              "    .colab-df-convert {\n",
              "      background-color: #E8F0FE;\n",
              "      border: none;\n",
              "      border-radius: 50%;\n",
              "      cursor: pointer;\n",
              "      display: none;\n",
              "      fill: #1967D2;\n",
              "      height: 32px;\n",
              "      padding: 0 0 0 0;\n",
              "      width: 32px;\n",
              "    }\n",
              "\n",
              "    .colab-df-convert:hover {\n",
              "      background-color: #E2EBFA;\n",
              "      box-shadow: 0px 1px 2px rgba(60, 64, 67, 0.3), 0px 1px 3px 1px rgba(60, 64, 67, 0.15);\n",
              "      fill: #174EA6;\n",
              "    }\n",
              "\n",
              "    .colab-df-buttons div {\n",
              "      margin-bottom: 4px;\n",
              "    }\n",
              "\n",
              "    [theme=dark] .colab-df-convert {\n",
              "      background-color: #3B4455;\n",
              "      fill: #D2E3FC;\n",
              "    }\n",
              "\n",
              "    [theme=dark] .colab-df-convert:hover {\n",
              "      background-color: #434B5C;\n",
              "      box-shadow: 0px 1px 3px 1px rgba(0, 0, 0, 0.15);\n",
              "      filter: drop-shadow(0px 1px 2px rgba(0, 0, 0, 0.3));\n",
              "      fill: #FFFFFF;\n",
              "    }\n",
              "  </style>\n",
              "\n",
              "    <script>\n",
              "      const buttonEl =\n",
              "        document.querySelector('#df-7b07e033-0e56-4cc5-9e14-6899a3be4405 button.colab-df-convert');\n",
              "      buttonEl.style.display =\n",
              "        google.colab.kernel.accessAllowed ? 'block' : 'none';\n",
              "\n",
              "      async function convertToInteractive(key) {\n",
              "        const element = document.querySelector('#df-7b07e033-0e56-4cc5-9e14-6899a3be4405');\n",
              "        const dataTable =\n",
              "          await google.colab.kernel.invokeFunction('convertToInteractive',\n",
              "                                                    [key], {});\n",
              "        if (!dataTable) return;\n",
              "\n",
              "        const docLinkHtml = 'Like what you see? Visit the ' +\n",
              "          '<a target=\"_blank\" href=https://colab.research.google.com/notebooks/data_table.ipynb>data table notebook</a>'\n",
              "          + ' to learn more about interactive tables.';\n",
              "        element.innerHTML = '';\n",
              "        dataTable['output_type'] = 'display_data';\n",
              "        await google.colab.output.renderOutput(dataTable, element);\n",
              "        const docLink = document.createElement('div');\n",
              "        docLink.innerHTML = docLinkHtml;\n",
              "        element.appendChild(docLink);\n",
              "      }\n",
              "    </script>\n",
              "  </div>\n",
              "\n",
              "\n",
              "<div id=\"df-3d2df654-4dc9-4814-8916-21c8241c7efb\">\n",
              "  <button class=\"colab-df-quickchart\" onclick=\"quickchart('df-3d2df654-4dc9-4814-8916-21c8241c7efb')\"\n",
              "            title=\"Suggest charts\"\n",
              "            style=\"display:none;\">\n",
              "\n",
              "<svg xmlns=\"http://www.w3.org/2000/svg\" height=\"24px\"viewBox=\"0 0 24 24\"\n",
              "     width=\"24px\">\n",
              "    <g>\n",
              "        <path d=\"M19 3H5c-1.1 0-2 .9-2 2v14c0 1.1.9 2 2 2h14c1.1 0 2-.9 2-2V5c0-1.1-.9-2-2-2zM9 17H7v-7h2v7zm4 0h-2V7h2v10zm4 0h-2v-4h2v4z\"/>\n",
              "    </g>\n",
              "</svg>\n",
              "  </button>\n",
              "\n",
              "<style>\n",
              "  .colab-df-quickchart {\n",
              "      --bg-color: #E8F0FE;\n",
              "      --fill-color: #1967D2;\n",
              "      --hover-bg-color: #E2EBFA;\n",
              "      --hover-fill-color: #174EA6;\n",
              "      --disabled-fill-color: #AAA;\n",
              "      --disabled-bg-color: #DDD;\n",
              "  }\n",
              "\n",
              "  [theme=dark] .colab-df-quickchart {\n",
              "      --bg-color: #3B4455;\n",
              "      --fill-color: #D2E3FC;\n",
              "      --hover-bg-color: #434B5C;\n",
              "      --hover-fill-color: #FFFFFF;\n",
              "      --disabled-bg-color: #3B4455;\n",
              "      --disabled-fill-color: #666;\n",
              "  }\n",
              "\n",
              "  .colab-df-quickchart {\n",
              "    background-color: var(--bg-color);\n",
              "    border: none;\n",
              "    border-radius: 50%;\n",
              "    cursor: pointer;\n",
              "    display: none;\n",
              "    fill: var(--fill-color);\n",
              "    height: 32px;\n",
              "    padding: 0;\n",
              "    width: 32px;\n",
              "  }\n",
              "\n",
              "  .colab-df-quickchart:hover {\n",
              "    background-color: var(--hover-bg-color);\n",
              "    box-shadow: 0 1px 2px rgba(60, 64, 67, 0.3), 0 1px 3px 1px rgba(60, 64, 67, 0.15);\n",
              "    fill: var(--button-hover-fill-color);\n",
              "  }\n",
              "\n",
              "  .colab-df-quickchart-complete:disabled,\n",
              "  .colab-df-quickchart-complete:disabled:hover {\n",
              "    background-color: var(--disabled-bg-color);\n",
              "    fill: var(--disabled-fill-color);\n",
              "    box-shadow: none;\n",
              "  }\n",
              "\n",
              "  .colab-df-spinner {\n",
              "    border: 2px solid var(--fill-color);\n",
              "    border-color: transparent;\n",
              "    border-bottom-color: var(--fill-color);\n",
              "    animation:\n",
              "      spin 1s steps(1) infinite;\n",
              "  }\n",
              "\n",
              "  @keyframes spin {\n",
              "    0% {\n",
              "      border-color: transparent;\n",
              "      border-bottom-color: var(--fill-color);\n",
              "      border-left-color: var(--fill-color);\n",
              "    }\n",
              "    20% {\n",
              "      border-color: transparent;\n",
              "      border-left-color: var(--fill-color);\n",
              "      border-top-color: var(--fill-color);\n",
              "    }\n",
              "    30% {\n",
              "      border-color: transparent;\n",
              "      border-left-color: var(--fill-color);\n",
              "      border-top-color: var(--fill-color);\n",
              "      border-right-color: var(--fill-color);\n",
              "    }\n",
              "    40% {\n",
              "      border-color: transparent;\n",
              "      border-right-color: var(--fill-color);\n",
              "      border-top-color: var(--fill-color);\n",
              "    }\n",
              "    60% {\n",
              "      border-color: transparent;\n",
              "      border-right-color: var(--fill-color);\n",
              "    }\n",
              "    80% {\n",
              "      border-color: transparent;\n",
              "      border-right-color: var(--fill-color);\n",
              "      border-bottom-color: var(--fill-color);\n",
              "    }\n",
              "    90% {\n",
              "      border-color: transparent;\n",
              "      border-bottom-color: var(--fill-color);\n",
              "    }\n",
              "  }\n",
              "</style>\n",
              "\n",
              "  <script>\n",
              "    async function quickchart(key) {\n",
              "      const quickchartButtonEl =\n",
              "        document.querySelector('#' + key + ' button');\n",
              "      quickchartButtonEl.disabled = true;  // To prevent multiple clicks.\n",
              "      quickchartButtonEl.classList.add('colab-df-spinner');\n",
              "      try {\n",
              "        const charts = await google.colab.kernel.invokeFunction(\n",
              "            'suggestCharts', [key], {});\n",
              "      } catch (error) {\n",
              "        console.error('Error during call to suggestCharts:', error);\n",
              "      }\n",
              "      quickchartButtonEl.classList.remove('colab-df-spinner');\n",
              "      quickchartButtonEl.classList.add('colab-df-quickchart-complete');\n",
              "    }\n",
              "    (() => {\n",
              "      let quickchartButtonEl =\n",
              "        document.querySelector('#df-3d2df654-4dc9-4814-8916-21c8241c7efb button');\n",
              "      quickchartButtonEl.style.display =\n",
              "        google.colab.kernel.accessAllowed ? 'block' : 'none';\n",
              "    })();\n",
              "  </script>\n",
              "</div>\n",
              "    </div>\n",
              "  </div>\n"
            ],
            "application/vnd.google.colaboratory.intrinsic+json": {
              "type": "dataframe",
              "variable_name": "empty_scores_grouped",
              "summary": "{\n  \"name\": \"empty_scores_grouped\",\n  \"rows\": 2,\n  \"fields\": [\n    {\n      \"column\": \"category_by_sales\",\n      \"properties\": {\n        \"dtype\": \"category\",\n        \"num_unique_values\": 2,\n        \"samples\": [\n          \"\\u0431\\u043e\\u043b\\u0435\\u0435 1 \\u043c\\u043b\\u043d.\",\n          \"\\u043c\\u0435\\u043d\\u0435\\u0435 1 \\u043c\\u043b\\u043d.\"\n        ],\n        \"semantic_type\": \"\",\n        \"description\": \"\"\n      }\n    },\n    {\n      \"column\": \"name\",\n      \"properties\": {\n        \"dtype\": \"number\",\n        \"std\": 5802,\n        \"min\": 747,\n        \"max\": 8953,\n        \"num_unique_values\": 2,\n        \"samples\": [\n          747,\n          8953\n        ],\n        \"semantic_type\": \"\",\n        \"description\": \"\"\n      }\n    },\n    {\n      \"column\": \"share\",\n      \"properties\": {\n        \"dtype\": \"number\",\n        \"std\": 59.819775736255764,\n        \"min\": 7.701030927835053,\n        \"max\": 92.29896907216495,\n        \"num_unique_values\": 2,\n        \"samples\": [\n          7.701030927835053,\n          92.29896907216495\n        ],\n        \"semantic_type\": \"\",\n        \"description\": \"\"\n      }\n    }\n  ]\n}"
            }
          },
          "metadata": {},
          "execution_count": 25
        }
      ],
      "source": [
        "#подсчитаем количество игр в каждой категории\n",
        "empty_scores_grouped = pd.DataFrame(empty_scores_df.groupby('category_by_sales', observed = True)['name'].count())\n",
        "empty_scores_grouped['share'] = empty_scores_grouped / empty_scores_df.shape[0] * 100\n",
        "empty_scores_grouped"
      ]
    },
    {
      "cell_type": "markdown",
      "metadata": {
        "id": "SK3HODD3GOCj"
      },
      "source": [
        "<font color='#777778'>Количество игр с пропусками в столбцах **`user_score`** и  **`critic_score`** и количеством продаж до 1 млн. копий составляет более 92%. Скорее всего эти пропуски неслучайны и связаны с низкой известностью как среди пользователей, так и среди критиков. Пропуски для таких игр оставим без изменений. Тогда мы сможем выделить их в отдельную группу при дальнейшей категоризации.\n",
        "\n",
        "Количество игр c пропусками в **`user_score`** и  **`critic_score`**, для которых продажи составили более 1 млн. проданных копий, составляет почти 8%. Пропущенные значения для таких игр можно заполнить средними арифметическим в рамках `genre` и `total_sales`.</font>"
      ]
    },
    {
      "cell_type": "code",
      "execution_count": 26,
      "metadata": {
        "id": "Em5u3pBFIj8b"
      },
      "outputs": [],
      "source": [
        "#находим total_sales для датафрейма games\n",
        "games['total_sales'] = games[['na_sales','eu_sales','jp_sales','other_sales']].sum(axis = 1)"
      ]
    },
    {
      "cell_type": "code",
      "execution_count": 27,
      "metadata": {
        "id": "1mBiZyhDISAF"
      },
      "outputs": [],
      "source": [
        "#создаем функцию для заполнения пропусков user_score\n",
        "def replace_score_user(x):\n",
        "  if pd.isna(x['user_score']):\n",
        "    if x['total_sales'] < 1:\n",
        "       return None\n",
        "    else:\n",
        "      group = games[(games['genre'] == x['genre']) & (games['total_sales'] == games['total_sales'])]\n",
        "      return round(group['user_score'].mean(),2)\n",
        "  else:\n",
        "    return x['user_score']\n",
        "\n",
        "#применяем функцию\n",
        "games['user_score'] = games.apply(replace_score_user,axis = 1)"
      ]
    },
    {
      "cell_type": "code",
      "execution_count": 28,
      "metadata": {
        "id": "Nc4AdRGVMZt0"
      },
      "outputs": [],
      "source": [
        "#создаем функцию для заполнения пропусков critic_score\n",
        "def replace_score_user(x):\n",
        "  if pd.isna(x['critic_score']):\n",
        "    if x['total_sales'] < 1:\n",
        "       return None\n",
        "    else:\n",
        "      group = games[(games['genre'] == x['genre']) & (games['total_sales'] == games['total_sales'])]\n",
        "      return round(group['critic_score'].mean(),2)\n",
        "  else:\n",
        "    return x['critic_score']\n",
        "\n",
        "#применяем функцию\n",
        "games['critic_score'] = games.apply(replace_score_user,axis = 1)"
      ]
    },
    {
      "cell_type": "markdown",
      "metadata": {
        "id": "mWnOmEoROAf2"
      },
      "source": [
        "<font color='#777778'>Попробуем определить природу пропусков в столбце `rating`."
      ]
    },
    {
      "cell_type": "code",
      "execution_count": 29,
      "metadata": {
        "id": "J8bCoxtYN--x"
      },
      "outputs": [],
      "source": [
        "#создадим срез строк с пропусками в столбце rating\n",
        "empty_rating_df = games[(games['rating'].isna() == True)].copy()"
      ]
    },
    {
      "cell_type": "code",
      "execution_count": 30,
      "metadata": {
        "colab": {
          "base_uri": "https://localhost:8080/"
        },
        "id": "DXlmSFLpVNy6",
        "outputId": "80fe7a46-fd21-423a-8a5f-2c2f862e7603"
      },
      "outputs": [
        {
          "output_type": "execute_result",
          "data": {
            "text/plain": [
              "array(['NES', 'GB', 'DS', 'SNES', 'GBA', 'PS4', '3DS', 'N64', 'X360',\n",
              "       'Wii', '2600', 'PS', 'XOne', 'GC', 'PS3', 'GEN', 'PC', 'PSP',\n",
              "       'WiiU', 'PS2', 'XB', 'DC', 'PSV', 'SAT', 'SCD', 'WS', 'NG', 'TG16',\n",
              "       '3DO', 'GG', 'PCFX'], dtype=object)"
            ]
          },
          "metadata": {},
          "execution_count": 30
        }
      ],
      "source": [
        "#изучим, на каких платформах выпускались игры, для которых отсутствует информация о рейтинге ESRB\n",
        "empty_rating_df['platform'].unique()"
      ]
    },
    {
      "cell_type": "markdown",
      "metadata": {
        "id": "vl_UUxDtW-Jm"
      },
      "source": [
        "<font color='#777778'> Можно заметить, что большинство значений в списке представлены японскими игровыми платформами. Можно предположить, что некоторые игры выпускались только для японского рынка и не получили американский рейтинг ESRB."
      ]
    },
    {
      "cell_type": "code",
      "execution_count": 31,
      "metadata": {
        "id": "TX64Uk2otnc1"
      },
      "outputs": [],
      "source": [
        "#создаем функцию для заполнения пропусков в столбце rating\n",
        "games['rating'] = games['rating'].fillna('not stated')"
      ]
    },
    {
      "cell_type": "code",
      "execution_count": 32,
      "metadata": {
        "id": "hEJM4hCRvphy"
      },
      "outputs": [],
      "source": [
        "#проверяем обработку пропусков в датафрейме\n",
        "empty_share_changed = pd.DataFrame(games.isna().sum())"
      ]
    },
    {
      "cell_type": "code",
      "execution_count": 33,
      "metadata": {
        "colab": {
          "base_uri": "https://localhost:8080/",
          "height": 426
        },
        "id": "xk0nXVPp9bt-",
        "outputId": "fc66ad6e-654f-4ab3-dcf1-7d5bcd6700da"
      },
      "outputs": [
        {
          "output_type": "execute_result",
          "data": {
            "text/plain": [
              "<pandas.io.formats.style.Styler at 0x7c7aeaf267d0>"
            ],
            "text/html": [
              "<style type=\"text/css\">\n",
              "#T_68220_row0_col1 {\n",
              "  background-color: #800026;\n",
              "  color: #f1f1f1;\n",
              "}\n",
              "#T_68220_row1_col1 {\n",
              "  background-color: #9f0026;\n",
              "  color: #f1f1f1;\n",
              "}\n",
              "#T_68220_row2_col1, #T_68220_row3_col1, #T_68220_row4_col1, #T_68220_row5_col1, #T_68220_row6_col1, #T_68220_row7_col1, #T_68220_row8_col1, #T_68220_row9_col1, #T_68220_row10_col1, #T_68220_row11_col1 {\n",
              "  background-color: #ffffcc;\n",
              "  color: #000000;\n",
              "}\n",
              "</style>\n",
              "<table id=\"T_68220\" class=\"dataframe\">\n",
              "  <thead>\n",
              "    <tr>\n",
              "      <th class=\"blank level0\" >&nbsp;</th>\n",
              "      <th id=\"T_68220_level0_col0\" class=\"col_heading level0 col0\" >0</th>\n",
              "      <th id=\"T_68220_level0_col1\" class=\"col_heading level0 col1\" >share</th>\n",
              "    </tr>\n",
              "  </thead>\n",
              "  <tbody>\n",
              "    <tr>\n",
              "      <th id=\"T_68220_level0_row0\" class=\"row_heading level0 row0\" >user_score</th>\n",
              "      <td id=\"T_68220_row0_col0\" class=\"data row0 col0\" >8427</td>\n",
              "      <td id=\"T_68220_row0_col1\" class=\"data row0 col1\" >50.524612</td>\n",
              "    </tr>\n",
              "    <tr>\n",
              "      <th id=\"T_68220_level0_row1\" class=\"row_heading level0 row1\" >critic_score</th>\n",
              "      <td id=\"T_68220_row1_col0\" class=\"data row1 col0\" >7873</td>\n",
              "      <td id=\"T_68220_row1_col1\" class=\"data row1 col1\" >47.203070</td>\n",
              "    </tr>\n",
              "    <tr>\n",
              "      <th id=\"T_68220_level0_row2\" class=\"row_heading level0 row2\" >name</th>\n",
              "      <td id=\"T_68220_row2_col0\" class=\"data row2 col0\" >0</td>\n",
              "      <td id=\"T_68220_row2_col1\" class=\"data row2 col1\" >0.000000</td>\n",
              "    </tr>\n",
              "    <tr>\n",
              "      <th id=\"T_68220_level0_row3\" class=\"row_heading level0 row3\" >platform</th>\n",
              "      <td id=\"T_68220_row3_col0\" class=\"data row3 col0\" >0</td>\n",
              "      <td id=\"T_68220_row3_col1\" class=\"data row3 col1\" >0.000000</td>\n",
              "    </tr>\n",
              "    <tr>\n",
              "      <th id=\"T_68220_level0_row4\" class=\"row_heading level0 row4\" >year_of_release</th>\n",
              "      <td id=\"T_68220_row4_col0\" class=\"data row4 col0\" >0</td>\n",
              "      <td id=\"T_68220_row4_col1\" class=\"data row4 col1\" >0.000000</td>\n",
              "    </tr>\n",
              "    <tr>\n",
              "      <th id=\"T_68220_level0_row5\" class=\"row_heading level0 row5\" >genre</th>\n",
              "      <td id=\"T_68220_row5_col0\" class=\"data row5 col0\" >0</td>\n",
              "      <td id=\"T_68220_row5_col1\" class=\"data row5 col1\" >0.000000</td>\n",
              "    </tr>\n",
              "    <tr>\n",
              "      <th id=\"T_68220_level0_row6\" class=\"row_heading level0 row6\" >na_sales</th>\n",
              "      <td id=\"T_68220_row6_col0\" class=\"data row6 col0\" >0</td>\n",
              "      <td id=\"T_68220_row6_col1\" class=\"data row6 col1\" >0.000000</td>\n",
              "    </tr>\n",
              "    <tr>\n",
              "      <th id=\"T_68220_level0_row7\" class=\"row_heading level0 row7\" >eu_sales</th>\n",
              "      <td id=\"T_68220_row7_col0\" class=\"data row7 col0\" >0</td>\n",
              "      <td id=\"T_68220_row7_col1\" class=\"data row7 col1\" >0.000000</td>\n",
              "    </tr>\n",
              "    <tr>\n",
              "      <th id=\"T_68220_level0_row8\" class=\"row_heading level0 row8\" >jp_sales</th>\n",
              "      <td id=\"T_68220_row8_col0\" class=\"data row8 col0\" >0</td>\n",
              "      <td id=\"T_68220_row8_col1\" class=\"data row8 col1\" >0.000000</td>\n",
              "    </tr>\n",
              "    <tr>\n",
              "      <th id=\"T_68220_level0_row9\" class=\"row_heading level0 row9\" >other_sales</th>\n",
              "      <td id=\"T_68220_row9_col0\" class=\"data row9 col0\" >0</td>\n",
              "      <td id=\"T_68220_row9_col1\" class=\"data row9 col1\" >0.000000</td>\n",
              "    </tr>\n",
              "    <tr>\n",
              "      <th id=\"T_68220_level0_row10\" class=\"row_heading level0 row10\" >rating</th>\n",
              "      <td id=\"T_68220_row10_col0\" class=\"data row10 col0\" >0</td>\n",
              "      <td id=\"T_68220_row10_col1\" class=\"data row10 col1\" >0.000000</td>\n",
              "    </tr>\n",
              "    <tr>\n",
              "      <th id=\"T_68220_level0_row11\" class=\"row_heading level0 row11\" >total_sales</th>\n",
              "      <td id=\"T_68220_row11_col0\" class=\"data row11 col0\" >0</td>\n",
              "      <td id=\"T_68220_row11_col1\" class=\"data row11 col1\" >0.000000</td>\n",
              "    </tr>\n",
              "  </tbody>\n",
              "</table>\n"
            ]
          },
          "metadata": {},
          "execution_count": 33
        }
      ],
      "source": [
        "#вычисляем процент пропущенных значений в столбцах user_score и ctitic_score\n",
        "empty_share_changed['share'] = games.isna().sum() / len(games) * 100\n",
        "empty_share_changed.sort_values(by = 'share', ascending = False).style.background_gradient(cmap='YlOrRd', axis=0, subset = 'share')"
      ]
    },
    {
      "cell_type": "markdown",
      "metadata": {
        "id": "sbIWD4doMnoX"
      },
      "source": [
        "<font color='#777778'> Снизили количество пропусков в столбцах **`user_score`** и  **`critic_score`**, заполнив их средними значениями в рамках жанра и суммарного объема проданных копий для тех игр, объем продаж по которым превышает более 1 млн. копий. Для игр, где суммарный объём продаж составляет менее 1 млн. копий, оставили пропуски без изменений.\n",
        "\n",
        "<font color='#777778'> Все пропущенные значения в датафрейме обработаны. Можно приступать к обработке дубликатов."
      ]
    },
    {
      "cell_type": "markdown",
      "metadata": {
        "id": "VMWgTOx8jRjW"
      },
      "source": [
        "### *Явные и неявные дубликаты в данных*"
      ]
    },
    {
      "cell_type": "markdown",
      "metadata": {
        "id": "z-ZftX96jaYJ"
      },
      "source": [
        "<font color='#777778'>Выведем уникальные значения в столбцах **`genre`**, **`platform`** **`rating`**,**`year_of_release`**"
      ]
    },
    {
      "cell_type": "code",
      "execution_count": 34,
      "metadata": {
        "colab": {
          "base_uri": "https://localhost:8080/"
        },
        "id": "lx13Cp4FkMqA",
        "outputId": "21dee684-f123-4f90-bd39-a908709b10d2"
      },
      "outputs": [
        {
          "output_type": "execute_result",
          "data": {
            "text/plain": [
              "array(['ACTION', 'ADVENTURE', 'Action', 'Adventure', 'FIGHTING',\n",
              "       'Fighting', 'MISC', 'Misc', 'PLATFORM', 'PUZZLE', 'Platform',\n",
              "       'Puzzle', 'RACING', 'ROLE-PLAYING', 'Racing', 'Role-Playing',\n",
              "       'SHOOTER', 'SIMULATION', 'SPORTS', 'STRATEGY', 'Shooter',\n",
              "       'Simulation', 'Sports', 'Strategy'], dtype=object)"
            ]
          },
          "metadata": {},
          "execution_count": 34
        }
      ],
      "source": [
        "#выводим уникальные значения genre\n",
        "numpy.sort(games['genre'].unique())"
      ]
    },
    {
      "cell_type": "markdown",
      "metadata": {
        "id": "ymrBZO88o0AC"
      },
      "source": [
        "<font color='#777778'>В столбце **`genre`** есть явные дубликаты, появление которых связано с написанием жанров в различном регистре. Приведем все жанры к нижнему регистру и проведём повторную проверку наличия дубликатов в данном столбце.</font>"
      ]
    },
    {
      "cell_type": "code",
      "execution_count": 35,
      "metadata": {
        "id": "uoxG21BbpWJY"
      },
      "outputs": [],
      "source": [
        "#приводим написание к нижнему регистру\n",
        "games['genre'] = games['genre'].str.lower()"
      ]
    },
    {
      "cell_type": "markdown",
      "metadata": {
        "id": "Dik8NgyWpuOH"
      },
      "source": [
        "<font color='#777778'>Проводим повторную проверку наличия дубликатов"
      ]
    },
    {
      "cell_type": "code",
      "execution_count": 36,
      "metadata": {
        "colab": {
          "base_uri": "https://localhost:8080/"
        },
        "id": "pAU5RMxhp04e",
        "outputId": "403319d9-9657-4b56-d180-5e85340f69cd"
      },
      "outputs": [
        {
          "output_type": "execute_result",
          "data": {
            "text/plain": [
              "array(['action', 'adventure', 'fighting', 'misc', 'platform', 'puzzle',\n",
              "       'racing', 'role-playing', 'shooter', 'simulation', 'sports',\n",
              "       'strategy'], dtype=object)"
            ]
          },
          "metadata": {},
          "execution_count": 36
        }
      ],
      "source": [
        "numpy.sort(games['genre'].unique())"
      ]
    },
    {
      "cell_type": "markdown",
      "metadata": {
        "id": "b-9ilBqpp5_Y"
      },
      "source": [
        "<font color='#777778'>Дубликаты в столбце  **`genre`** устранены"
      ]
    },
    {
      "cell_type": "code",
      "execution_count": 37,
      "metadata": {
        "colab": {
          "base_uri": "https://localhost:8080/"
        },
        "id": "hb-tqjBNkVIC",
        "outputId": "7dca612b-6b8f-4b6c-847e-ee325488bb67"
      },
      "outputs": [
        {
          "output_type": "execute_result",
          "data": {
            "text/plain": [
              "array(['2600', '3DO', '3DS', 'DC', 'DS', 'GB', 'GBA', 'GC', 'GEN', 'GG',\n",
              "       'N64', 'NES', 'NG', 'PC', 'PCFX', 'PS', 'PS2', 'PS3', 'PS4', 'PSP',\n",
              "       'PSV', 'SAT', 'SCD', 'SNES', 'TG16', 'WS', 'Wii', 'WiiU', 'X360',\n",
              "       'XB', 'XOne'], dtype=object)"
            ]
          },
          "metadata": {},
          "execution_count": 37
        }
      ],
      "source": [
        "#выводим уникальные значения platform\n",
        "numpy.sort(games['platform'].unique())\n"
      ]
    },
    {
      "cell_type": "markdown",
      "metadata": {
        "id": "vGrEbNcsrgPj"
      },
      "source": [
        "<font color='#777778'>В столбце **`platform`** дубликаты отсутствуют. Наименования соответствуют существующим игровым платформам."
      ]
    },
    {
      "cell_type": "code",
      "execution_count": 38,
      "metadata": {
        "colab": {
          "base_uri": "https://localhost:8080/"
        },
        "id": "9gXREfRJklWu",
        "outputId": "3c4a87ba-79b4-46ef-9712-b33a07d3e7e8"
      },
      "outputs": [
        {
          "output_type": "execute_result",
          "data": {
            "text/plain": [
              "array(['AO', 'E', 'E10+', 'EC', 'K-A', 'M', 'RP', 'T', 'not stated'],\n",
              "      dtype=object)"
            ]
          },
          "metadata": {},
          "execution_count": 38
        }
      ],
      "source": [
        "#выводим уникальные значения rating\n",
        "numpy.sort(games['rating'].unique())"
      ]
    },
    {
      "cell_type": "markdown",
      "metadata": {
        "id": "hQjuo2RBm3m8"
      },
      "source": [
        "<font color='#777778'>В столбце **`rating`** есть неявные дубликаты в паре **`E`**  - **`K-A`** .\n",
        "\n",
        "После 1998 года рейтинг **`K-A` (kids to adult)** перестал использоваться и был заменен на рейтинг **`E`**.\n",
        "Приведем значения к общепринятому стандарту, заменив значения **`K-A`**  на **`E`**.</font>"
      ]
    },
    {
      "cell_type": "code",
      "execution_count": 39,
      "metadata": {
        "id": "nYNDzwLqr7FE"
      },
      "outputs": [],
      "source": [
        "#заменяем значения \"K-A\" на \"E\"\n",
        "games['rating'] = games['rating'].str.replace('K-A','E')"
      ]
    },
    {
      "cell_type": "code",
      "execution_count": 40,
      "metadata": {
        "colab": {
          "base_uri": "https://localhost:8080/"
        },
        "id": "DNnB7y2_sVuv",
        "outputId": "8f8fb20d-db23-4d5b-bed9-9c79cb5cff2c"
      },
      "outputs": [
        {
          "output_type": "execute_result",
          "data": {
            "text/plain": [
              "array(['AO', 'E', 'E10+', 'EC', 'M', 'RP', 'T', 'not stated'],\n",
              "      dtype=object)"
            ]
          },
          "metadata": {},
          "execution_count": 40
        }
      ],
      "source": [
        "#проверяем успешность замены\n",
        "numpy.sort(games['rating'].unique())"
      ]
    },
    {
      "cell_type": "markdown",
      "metadata": {
        "id": "1etXdd-2sfvZ"
      },
      "source": [
        "<font color='#777778'>Замена неявных дубликатов в столбце  **`rating`** произведена успешно."
      ]
    },
    {
      "cell_type": "code",
      "execution_count": 41,
      "metadata": {
        "colab": {
          "base_uri": "https://localhost:8080/"
        },
        "id": "At4W5wM7kwmY",
        "outputId": "cab78474-d72b-4caa-a986-5358511f4703"
      },
      "outputs": [
        {
          "output_type": "execute_result",
          "data": {
            "text/plain": [
              "array([1980, 1981, 1982, 1983, 1984, 1985, 1986, 1987, 1988, 1989, 1990,\n",
              "       1991, 1992, 1993, 1994, 1995, 1996, 1997, 1998, 1999, 2000, 2001,\n",
              "       2002, 2003, 2004, 2005, 2006, 2007, 2008, 2009, 2010, 2011, 2012,\n",
              "       2013, 2014, 2015, 2016])"
            ]
          },
          "metadata": {},
          "execution_count": 41
        }
      ],
      "source": [
        "#выводим уникальные значения year_of_release\n",
        "numpy.sort(games['year_of_release'].unique())"
      ]
    },
    {
      "cell_type": "markdown",
      "metadata": {
        "id": "BGxhFDWBmeza"
      },
      "source": [
        "<font color='#777778'>В столбце **`year_of_release`** дубликаты отсутствуют"
      ]
    },
    {
      "cell_type": "code",
      "execution_count": 42,
      "metadata": {
        "colab": {
          "base_uri": "https://localhost:8080/"
        },
        "id": "ZAEsRzv9AgVy",
        "outputId": "c0d598f0-c9e1-4c0b-e789-9bf7e9e25e5a"
      },
      "outputs": [
        {
          "output_type": "stream",
          "name": "stdout",
          "text": [
            "<class 'pandas.core.frame.DataFrame'>\n",
            "Index: 16679 entries, 0 to 16955\n",
            "Data columns (total 12 columns):\n",
            " #   Column           Non-Null Count  Dtype  \n",
            "---  ------           --------------  -----  \n",
            " 0   name             16679 non-null  object \n",
            " 1   platform         16679 non-null  object \n",
            " 2   year_of_release  16679 non-null  Int64  \n",
            " 3   genre            16679 non-null  object \n",
            " 4   na_sales         16679 non-null  float64\n",
            " 5   eu_sales         16679 non-null  float64\n",
            " 6   jp_sales         16679 non-null  float64\n",
            " 7   other_sales      16679 non-null  float64\n",
            " 8   critic_score     8806 non-null   float64\n",
            " 9   user_score       8252 non-null   float64\n",
            " 10  rating           16679 non-null  object \n",
            " 11  total_sales      16679 non-null  float64\n",
            "dtypes: Int64(1), float64(7), object(4)\n",
            "memory usage: 1.7+ MB\n"
          ]
        }
      ],
      "source": [
        "#выводим информацию о получившемся датафрейме\n",
        "\n",
        "games.info()"
      ]
    },
    {
      "cell_type": "code",
      "execution_count": 43,
      "metadata": {
        "colab": {
          "base_uri": "https://localhost:8080/"
        },
        "id": "uSGmBuGrAr8g",
        "outputId": "51c2e3a8-d854-4ec8-b69e-aa0e0a7f396a"
      },
      "outputs": [
        {
          "output_type": "execute_result",
          "data": {
            "text/plain": [
              "277"
            ]
          },
          "metadata": {},
          "execution_count": 43
        }
      ],
      "source": [
        "#сравниваем количество строк в исходном и получившемся датафрейме\n",
        "games_initial - games.shape[0]"
      ]
    },
    {
      "cell_type": "code",
      "execution_count": 44,
      "metadata": {
        "colab": {
          "base_uri": "https://localhost:8080/"
        },
        "id": "HNEpHAGAB-hL",
        "outputId": "c9bb999c-c0bf-4433-bc68-6cf6fb003287"
      },
      "outputs": [
        {
          "output_type": "execute_result",
          "data": {
            "text/plain": [
              "1.6336400094361876"
            ]
          },
          "metadata": {},
          "execution_count": 44
        }
      ],
      "source": [
        "#находим, какая часть строк в процентном соотношении была удалена из датафрейма при его обработке\n",
        "(games_initial - games.shape[0]) / games_initial * 100"
      ]
    },
    {
      "cell_type": "markdown",
      "metadata": {
        "id": "QBOSOOUnCaXd"
      },
      "source": [
        "*Вывод по обработке датафрейма*\n",
        "\n",
        "<font color='#777778'>В результате очистки датафрейма от пропусков, обработки дубликтов и изменения типа данных исходный датафрейм стал на 277 строк (1,63%) меньше своего изначального объема. Такая потеря в данных несущественна и не скажется на достоверности результатов анализа.\n",
        "\n",
        "<font color='#777778'>Были измененены типы данных в следующих столбцах:\n",
        "\n",
        "- **`year_of_release`** - тип данных преобразован к `int64` благодаря чему год отображается корректно без лишней точки и нуля;\n",
        "- **`eu_sales`** и **`jp_sales`** - тип данных преобразован к  `float64`, что позволяет производить математические вычисления с данными столбцами, а также при необходимости найти суммарный объем продаж, сложив данные со столбцами **`na_sales`** и **`other_sales`**;\n",
        "- **`user_score`** - тип данных преобразован к `float64`, благодаря чему со столбцом можно производить математические вычисления. </font>\n",
        "\n",
        "<font color='#777778'>Были произведены следующие преобразования с пропусками:\n",
        "- **`name`** - удалены 2 строки с пропусками;\n",
        "- **`year_of_release`** - удалено 275 строк с пропусками;\n",
        "- **`genre`** - удалены 2 строки с пропусками;\n",
        "- **`eu_sales`** - 6 пропущенных значения заменены в рамках платформы и года выпуска;\n",
        "- **`jp_sales`** - 4 пропущенных значения заменены в рамках платформы и года выпуска;\n",
        "- **`critic_score`** и **`user_score`**  - 8 953 пропуска оставлено без изменений, а 747 пропусков замнено на среднюю оценку в рамках жанра игры и суммарного количества проданных копий;\n",
        "- **`rating`** - заменено 6 871 значений на индикатор \"not stated\".</font>\n",
        "\n",
        "<font color='#777778'>Были найдены и обработаны дубликаты в следующих столбцах:\n",
        "\n",
        "- **`genre`** - явные дубликаты, связанные с написанием жанра в различном регистре. Преобразование к нижнему регистру позволило избавиться от дубликатов;\n",
        "- **`rating`**- неявные дубликаты в паре `K-A` - `E`. Устаревшее значение `K-A` было заменено на `E`.</font>\n",
        "\n",
        "Все необходимые преобразования выполнены. Можно приступать к следующему этапу.</font>\n",
        "\n",
        "\n"
      ]
    },
    {
      "cell_type": "markdown",
      "metadata": {
        "id": "0qH5QhoGKBb6"
      },
      "source": [
        "## 3. Фильтрация данных"
      ]
    },
    {
      "cell_type": "markdown",
      "metadata": {
        "id": "fTjxJKyVKNw-"
      },
      "source": [
        "<font color='#777778'>Для дальнейшего анализа и категоризации нам потребуется отобрать данные об играх, выпущенных с 2000 по 2013 год включительно."
      ]
    },
    {
      "cell_type": "code",
      "execution_count": 45,
      "metadata": {
        "id": "x2NSyRfJKfcf"
      },
      "outputs": [],
      "source": [
        "#создаем срез данных\n",
        "games_filtered = games[(games['year_of_release'] >= 2000) & (games['year_of_release'] <= 2013)].copy()"
      ]
    },
    {
      "cell_type": "code",
      "execution_count": 46,
      "metadata": {
        "colab": {
          "base_uri": "https://localhost:8080/"
        },
        "id": "zAz-MHe8LUSf",
        "outputId": "f6533a21-336d-4dc9-e29b-884b338a0283"
      },
      "outputs": [
        {
          "output_type": "execute_result",
          "data": {
            "text/plain": [
              "array([2000, 2001, 2002, 2003, 2004, 2005, 2006, 2007, 2008, 2009, 2010,\n",
              "       2011, 2012, 2013])"
            ]
          },
          "metadata": {},
          "execution_count": 46
        }
      ],
      "source": [
        "#проверяем, что в выборку попали нужные нам годы\n",
        "numpy.sort(games_filtered['year_of_release'].unique())"
      ]
    },
    {
      "cell_type": "code",
      "execution_count": 47,
      "metadata": {
        "colab": {
          "base_uri": "https://localhost:8080/"
        },
        "id": "0HtFC8euQqpp",
        "outputId": "cf35708e-6691-4c67-d1af-9aef4cc3903f"
      },
      "outputs": [
        {
          "output_type": "stream",
          "name": "stdout",
          "text": [
            "<class 'pandas.core.frame.DataFrame'>\n",
            "Index: 12980 entries, 0 to 16954\n",
            "Data columns (total 12 columns):\n",
            " #   Column           Non-Null Count  Dtype  \n",
            "---  ------           --------------  -----  \n",
            " 0   name             12980 non-null  object \n",
            " 1   platform         12980 non-null  object \n",
            " 2   year_of_release  12980 non-null  Int64  \n",
            " 3   genre            12980 non-null  object \n",
            " 4   na_sales         12980 non-null  float64\n",
            " 5   eu_sales         12980 non-null  float64\n",
            " 6   jp_sales         12980 non-null  float64\n",
            " 7   other_sales      12980 non-null  float64\n",
            " 8   critic_score     7543 non-null   float64\n",
            " 9   user_score       6836 non-null   float64\n",
            " 10  rating           12980 non-null  object \n",
            " 11  total_sales      12980 non-null  float64\n",
            "dtypes: Int64(1), float64(7), object(4)\n",
            "memory usage: 1.3+ MB\n"
          ]
        }
      ],
      "source": [
        "#выведем информацию по полученном срезе\n",
        "games_filtered.info()"
      ]
    },
    {
      "cell_type": "markdown",
      "metadata": {
        "id": "5e9zfnhzLkAw"
      },
      "source": [
        "<font color='#777778'>Срез данных создан успешно. В полученном срезе - 12 979 строк."
      ]
    },
    {
      "cell_type": "markdown",
      "metadata": {
        "id": "em7NDHADMSSP"
      },
      "source": [
        "## 4. Категоризация данных"
      ]
    },
    {
      "cell_type": "markdown",
      "metadata": {
        "id": "0-an9sFfMZ4Z"
      },
      "source": [
        "### *Категоризация по оценкам пользователей*\n",
        "\n",
        "<font color='#777778'>Для категоризации по оценкам пользователей применим метод pd.cut(), разделив все игры на категории в соответствии со следующими ограничениями:\n",
        "\n",
        "- `высокая оценка` (от 8 до 10 включительно);\n",
        "- `средняя оценка` (от 3 до 8, не включая правую границу интервала);\n",
        "- `низкая оценка` (от 0 до 3, не включая правую границу интервала);\n",
        "- `без оценки` - если данные об оценке отсутствуют.</font>"
      ]
    },
    {
      "cell_type": "code",
      "execution_count": 48,
      "metadata": {
        "id": "f9o658NzNEEr"
      },
      "outputs": [],
      "source": [
        "#создадим функцию для категоризации игр по оценкам пользователей\n",
        "def user_rating_class(x):\n",
        "    if pd.isna(x['user_score']):\n",
        "      return 'Без оценки'\n",
        "    else:\n",
        "      if x['user_score'] >= 0 and x['user_score'] < 3:\n",
        "        return 'Низкая оценка'\n",
        "      elif x['user_score'] >= 3 and x['user_score'] < 8:\n",
        "        return 'Средняя оценка'\n",
        "      else:\n",
        "        return 'Высокая оценка'"
      ]
    },
    {
      "cell_type": "code",
      "source": [
        "#применим функцию\n",
        "games_filtered['user_rating'] = games_filtered.apply(user_rating_class, axis = 1)"
      ],
      "metadata": {
        "id": "nyPRpUek26Rw"
      },
      "execution_count": 49,
      "outputs": []
    },
    {
      "cell_type": "code",
      "execution_count": 50,
      "metadata": {
        "colab": {
          "base_uri": "https://localhost:8080/",
          "height": 206
        },
        "id": "xhY07VYdPsVK",
        "outputId": "b61efbcc-5665-4e3a-80d5-94b90820f0ff"
      },
      "outputs": [
        {
          "output_type": "execute_result",
          "data": {
            "text/plain": [
              "<pandas.io.formats.style.Styler at 0x7c7aeacc1090>"
            ],
            "text/html": [
              "<style type=\"text/css\">\n",
              "#T_30df2_row0_col1 {\n",
              "  background-color: #800026;\n",
              "  color: #f1f1f1;\n",
              "}\n",
              "#T_30df2_row1_col1 {\n",
              "  background-color: #ea2920;\n",
              "  color: #f1f1f1;\n",
              "}\n",
              "#T_30df2_row2_col1 {\n",
              "  background-color: #feb54f;\n",
              "  color: #000000;\n",
              "}\n",
              "#T_30df2_row3_col1 {\n",
              "  background-color: #ffffcc;\n",
              "  color: #000000;\n",
              "}\n",
              "</style>\n",
              "<table id=\"T_30df2\" class=\"dataframe\">\n",
              "  <thead>\n",
              "    <tr>\n",
              "      <th class=\"blank level0\" >&nbsp;</th>\n",
              "      <th id=\"T_30df2_level0_col0\" class=\"col_heading level0 col0\" >user_rating</th>\n",
              "      <th id=\"T_30df2_level0_col1\" class=\"col_heading level0 col1\" >share</th>\n",
              "    </tr>\n",
              "    <tr>\n",
              "      <th class=\"index_name level0\" >user_rating</th>\n",
              "      <th class=\"blank col0\" >&nbsp;</th>\n",
              "      <th class=\"blank col1\" >&nbsp;</th>\n",
              "    </tr>\n",
              "  </thead>\n",
              "  <tbody>\n",
              "    <tr>\n",
              "      <th id=\"T_30df2_level0_row0\" class=\"row_heading level0 row0\" >Без оценки</th>\n",
              "      <td id=\"T_30df2_row0_col0\" class=\"data row0 col0\" >6144</td>\n",
              "      <td id=\"T_30df2_row0_col1\" class=\"data row0 col1\" >47.334361</td>\n",
              "    </tr>\n",
              "    <tr>\n",
              "      <th id=\"T_30df2_level0_row1\" class=\"row_heading level0 row1\" >Средняя оценка</th>\n",
              "      <td id=\"T_30df2_row1_col0\" class=\"data row1 col0\" >4412</td>\n",
              "      <td id=\"T_30df2_row1_col1\" class=\"data row1 col1\" >33.990755</td>\n",
              "    </tr>\n",
              "    <tr>\n",
              "      <th id=\"T_30df2_level0_row2\" class=\"row_heading level0 row2\" >Высокая оценка</th>\n",
              "      <td id=\"T_30df2_row2_col0\" class=\"data row2 col0\" >2307</td>\n",
              "      <td id=\"T_30df2_row2_col1\" class=\"data row2 col1\" >17.773498</td>\n",
              "    </tr>\n",
              "    <tr>\n",
              "      <th id=\"T_30df2_level0_row3\" class=\"row_heading level0 row3\" >Низкая оценка</th>\n",
              "      <td id=\"T_30df2_row3_col0\" class=\"data row3 col0\" >117</td>\n",
              "      <td id=\"T_30df2_row3_col1\" class=\"data row3 col1\" >0.901387</td>\n",
              "    </tr>\n",
              "  </tbody>\n",
              "</table>\n"
            ]
          },
          "metadata": {},
          "execution_count": 50
        }
      ],
      "source": [
        "#посчитаем, какое количество игр вошло в каждую группу\n",
        "result_user_rating = pd.DataFrame(games_filtered.groupby('user_rating',observed = True)['user_rating'].count())\n",
        "result_user_rating['share'] = result_user_rating['user_rating'] / games_filtered.shape[0] * 100\n",
        "result_user_rating.sort_values(by = 'share',ascending = False).style.background_gradient(cmap='YlOrRd', axis=0, subset = 'share')"
      ]
    },
    {
      "cell_type": "markdown",
      "metadata": {
        "id": "VA8-afA4SIur"
      },
      "source": [
        "<font color='#777778'> Почти половина рассматриваемых игр не получала пользовательскую оценку. Это говорит о том, что идустрия в период с 2000 по 2013 год была очень разнообразна, но очень большое количество игр не набрало широкой мировой известности.\n",
        "<font color='#777778'>\n",
        "Большинство игр, получишвих оценку пользователей, попадает в категорию \"Средняя оценка\". Количество игр, получивших высокую оценку почти вдвое меньше. Современных игроков достаточно непросто впечталить.</font>\n",
        "\n",
        "<font color='#777778'>Изучение разбивки игр по жанрам и платформам в категории \"Высокая оценка\" сможет дать более глубокое представление о том, какие игры пользуются популярностью у пользователей."
      ]
    },
    {
      "cell_type": "markdown",
      "metadata": {
        "id": "SNy_ecIEWQkA"
      },
      "source": [
        "### *Категоризация по оценкам критиков*\n",
        "\n",
        "<font color='#777778'>Для категоризации игр по оценкам критиков также используем метод  pd.cut().\n",
        "Деление произведем по следующим параметрам:\n",
        "\n",
        "- `высокая оценка` (от 80 до 100 включительно);\n",
        "- `средняя оценка` (от 30 до 80, не включая правую границу интервала);\n",
        "- `низкая оценка` (от 0 до 30, не включая правую границу интервала). </font>"
      ]
    },
    {
      "cell_type": "code",
      "execution_count": 51,
      "metadata": {
        "id": "coan057mWVzL"
      },
      "outputs": [],
      "source": [
        "#создадим функцию для категоризации игр по оценкам критиков\n",
        "def critic_rating_class(x):\n",
        "    if pd.isna(x['critic_score']):\n",
        "      return 'Без оценки'\n",
        "    else:\n",
        "      if x['critic_score'] >= 0 and x['critic_score'] < 30:\n",
        "        return 'Низкая оценка'\n",
        "      elif x['critic_score'] >= 30 and x['critic_score'] < 80:\n",
        "        return 'Средняя оценка'\n",
        "      else:\n",
        "        return 'Высокая оценка'"
      ]
    },
    {
      "cell_type": "code",
      "source": [
        "#применим функцию\n",
        "games_filtered['critic_rating'] = games_filtered.apply(critic_rating_class, axis = 1)"
      ],
      "metadata": {
        "id": "yZiZKXK0D2YR"
      },
      "execution_count": 52,
      "outputs": []
    },
    {
      "cell_type": "code",
      "execution_count": 53,
      "metadata": {
        "colab": {
          "base_uri": "https://localhost:8080/",
          "height": 206
        },
        "id": "8qdMxKzkWzbi",
        "outputId": "87390cf3-0ea6-4d1c-f1d5-88865f452a00"
      },
      "outputs": [
        {
          "output_type": "execute_result",
          "data": {
            "text/plain": [
              "<pandas.io.formats.style.Styler at 0x7c7aeaca1cd0>"
            ],
            "text/html": [
              "<style type=\"text/css\">\n",
              "#T_6dc6c_row0_col1 {\n",
              "  background-color: #800026;\n",
              "  color: #f1f1f1;\n",
              "}\n",
              "#T_6dc6c_row1_col1 {\n",
              "  background-color: #9d0026;\n",
              "  color: #f1f1f1;\n",
              "}\n",
              "#T_6dc6c_row2_col1 {\n",
              "  background-color: #fecc68;\n",
              "  color: #000000;\n",
              "}\n",
              "#T_6dc6c_row3_col1 {\n",
              "  background-color: #ffffcc;\n",
              "  color: #000000;\n",
              "}\n",
              "</style>\n",
              "<table id=\"T_6dc6c\" class=\"dataframe\">\n",
              "  <thead>\n",
              "    <tr>\n",
              "      <th class=\"blank level0\" >&nbsp;</th>\n",
              "      <th id=\"T_6dc6c_level0_col0\" class=\"col_heading level0 col0\" >critic_rating</th>\n",
              "      <th id=\"T_6dc6c_level0_col1\" class=\"col_heading level0 col1\" >share</th>\n",
              "    </tr>\n",
              "    <tr>\n",
              "      <th class=\"index_name level0\" >critic_rating</th>\n",
              "      <th class=\"blank col0\" >&nbsp;</th>\n",
              "      <th class=\"blank col1\" >&nbsp;</th>\n",
              "    </tr>\n",
              "  </thead>\n",
              "  <tbody>\n",
              "    <tr>\n",
              "      <th id=\"T_6dc6c_level0_row0\" class=\"row_heading level0 row0\" >Средняя оценка</th>\n",
              "      <td id=\"T_6dc6c_row0_col0\" class=\"data row0 col0\" >5776</td>\n",
              "      <td id=\"T_6dc6c_row0_col1\" class=\"data row0 col1\" >44.499230</td>\n",
              "    </tr>\n",
              "    <tr>\n",
              "      <th id=\"T_6dc6c_level0_row1\" class=\"row_heading level0 row1\" >Без оценки</th>\n",
              "      <td id=\"T_6dc6c_row1_col0\" class=\"data row1 col0\" >5437</td>\n",
              "      <td id=\"T_6dc6c_row1_col1\" class=\"data row1 col1\" >41.887519</td>\n",
              "    </tr>\n",
              "    <tr>\n",
              "      <th id=\"T_6dc6c_level0_row2\" class=\"row_heading level0 row2\" >Высокая оценка</th>\n",
              "      <td id=\"T_6dc6c_row2_col0\" class=\"data row2 col0\" >1712</td>\n",
              "      <td id=\"T_6dc6c_row2_col1\" class=\"data row2 col1\" >13.189522</td>\n",
              "    </tr>\n",
              "    <tr>\n",
              "      <th id=\"T_6dc6c_level0_row3\" class=\"row_heading level0 row3\" >Низкая оценка</th>\n",
              "      <td id=\"T_6dc6c_row3_col0\" class=\"data row3 col0\" >55</td>\n",
              "      <td id=\"T_6dc6c_row3_col1\" class=\"data row3 col1\" >0.423729</td>\n",
              "    </tr>\n",
              "  </tbody>\n",
              "</table>\n"
            ]
          },
          "metadata": {},
          "execution_count": 53
        }
      ],
      "source": [
        "#посчитаем, какое количество игр вошло в каждую группу\n",
        "result_critic_rating = pd.DataFrame(games_filtered.groupby('critic_rating',observed = True)['critic_rating'].count())\n",
        "result_critic_rating['share'] = result_critic_rating / games_filtered.shape[0] * 100\n",
        "result_critic_rating.sort_values(by = 'share',ascending = False).style.background_gradient(cmap='YlOrRd', axis=0, subset = 'share')"
      ]
    },
    {
      "cell_type": "markdown",
      "metadata": {
        "id": "cCLYUtGAYbNK"
      },
      "source": [
        "<font color='#777778'>\n",
        "Почти 42% рассматривамых игр не получали оценку критиков.\n",
        "\n",
        "<font color='#777778'>Большинство игр получили среднюю оценку, в то время как высокую оценку получило всего 13 процентов, рассматриваемых игр.\n",
        "\n",
        "<font color='#777778'>Такое распределение говорит о том, что критики требовательны при проставлении оценок и получить высокую оценку игре непросто.\n",
        "\n",
        "Более детальное изучение игр в разбивке по жанрам и платформам в категории \"Высокая оценка\" и сравнение результатов с аналогичным анализом игр по оценкам пользователей позволит составить более точное представление о том, какие игры считаются успешными в рамках современной индустрии XXI века.</font>"
      ]
    },
    {
      "cell_type": "markdown",
      "metadata": {
        "id": "JRdzysk8ZqMo"
      },
      "source": [
        "### *Топ-7 Платформ по количеству игр*\n",
        "\n",
        "<font color='#777778'>Для того, чтобы выделить топ-7 платформ по количеству игр для начала произведем группировку при помощи метода `groupby()`, отсортируем результат по убыванию и выведем первые семь строк получившегося результата."
      ]
    },
    {
      "cell_type": "code",
      "execution_count": 54,
      "metadata": {
        "id": "oEcESDWdZpe1"
      },
      "outputs": [],
      "source": [
        "#находим количество игр для каждой платформы\n",
        "top_7_platforms_count = games_filtered.groupby('platform',as_index = False)['name'].count()"
      ]
    },
    {
      "cell_type": "code",
      "execution_count": 55,
      "metadata": {
        "colab": {
          "base_uri": "https://localhost:8080/",
          "height": 300
        },
        "id": "zCXy2CQUfwqh",
        "outputId": "ba8d84f4-e723-429b-ffe3-3f8e9fd94318"
      },
      "outputs": [
        {
          "output_type": "execute_result",
          "data": {
            "text/plain": [
              "          name\n",
              "platform      \n",
              "PS2       2154\n",
              "DS        2146\n",
              "Wii       1294\n",
              "PSP       1199\n",
              "X360      1138\n",
              "PS3       1107\n",
              "GBA        826"
            ],
            "text/html": [
              "\n",
              "  <div id=\"df-ad1875f4-040b-4b1f-90de-75dfb9210306\" class=\"colab-df-container\">\n",
              "    <div>\n",
              "<style scoped>\n",
              "    .dataframe tbody tr th:only-of-type {\n",
              "        vertical-align: middle;\n",
              "    }\n",
              "\n",
              "    .dataframe tbody tr th {\n",
              "        vertical-align: top;\n",
              "    }\n",
              "\n",
              "    .dataframe thead th {\n",
              "        text-align: right;\n",
              "    }\n",
              "</style>\n",
              "<table border=\"1\" class=\"dataframe\">\n",
              "  <thead>\n",
              "    <tr style=\"text-align: right;\">\n",
              "      <th></th>\n",
              "      <th>name</th>\n",
              "    </tr>\n",
              "    <tr>\n",
              "      <th>platform</th>\n",
              "      <th></th>\n",
              "    </tr>\n",
              "  </thead>\n",
              "  <tbody>\n",
              "    <tr>\n",
              "      <th>PS2</th>\n",
              "      <td>2154</td>\n",
              "    </tr>\n",
              "    <tr>\n",
              "      <th>DS</th>\n",
              "      <td>2146</td>\n",
              "    </tr>\n",
              "    <tr>\n",
              "      <th>Wii</th>\n",
              "      <td>1294</td>\n",
              "    </tr>\n",
              "    <tr>\n",
              "      <th>PSP</th>\n",
              "      <td>1199</td>\n",
              "    </tr>\n",
              "    <tr>\n",
              "      <th>X360</th>\n",
              "      <td>1138</td>\n",
              "    </tr>\n",
              "    <tr>\n",
              "      <th>PS3</th>\n",
              "      <td>1107</td>\n",
              "    </tr>\n",
              "    <tr>\n",
              "      <th>GBA</th>\n",
              "      <td>826</td>\n",
              "    </tr>\n",
              "  </tbody>\n",
              "</table>\n",
              "</div>\n",
              "    <div class=\"colab-df-buttons\">\n",
              "\n",
              "  <div class=\"colab-df-container\">\n",
              "    <button class=\"colab-df-convert\" onclick=\"convertToInteractive('df-ad1875f4-040b-4b1f-90de-75dfb9210306')\"\n",
              "            title=\"Convert this dataframe to an interactive table.\"\n",
              "            style=\"display:none;\">\n",
              "\n",
              "  <svg xmlns=\"http://www.w3.org/2000/svg\" height=\"24px\" viewBox=\"0 -960 960 960\">\n",
              "    <path d=\"M120-120v-720h720v720H120Zm60-500h600v-160H180v160Zm220 220h160v-160H400v160Zm0 220h160v-160H400v160ZM180-400h160v-160H180v160Zm440 0h160v-160H620v160ZM180-180h160v-160H180v160Zm440 0h160v-160H620v160Z\"/>\n",
              "  </svg>\n",
              "    </button>\n",
              "\n",
              "  <style>\n",
              "    .colab-df-container {\n",
              "      display:flex;\n",
              "      gap: 12px;\n",
              "    }\n",
              "\n",
              "    .colab-df-convert {\n",
              "      background-color: #E8F0FE;\n",
              "      border: none;\n",
              "      border-radius: 50%;\n",
              "      cursor: pointer;\n",
              "      display: none;\n",
              "      fill: #1967D2;\n",
              "      height: 32px;\n",
              "      padding: 0 0 0 0;\n",
              "      width: 32px;\n",
              "    }\n",
              "\n",
              "    .colab-df-convert:hover {\n",
              "      background-color: #E2EBFA;\n",
              "      box-shadow: 0px 1px 2px rgba(60, 64, 67, 0.3), 0px 1px 3px 1px rgba(60, 64, 67, 0.15);\n",
              "      fill: #174EA6;\n",
              "    }\n",
              "\n",
              "    .colab-df-buttons div {\n",
              "      margin-bottom: 4px;\n",
              "    }\n",
              "\n",
              "    [theme=dark] .colab-df-convert {\n",
              "      background-color: #3B4455;\n",
              "      fill: #D2E3FC;\n",
              "    }\n",
              "\n",
              "    [theme=dark] .colab-df-convert:hover {\n",
              "      background-color: #434B5C;\n",
              "      box-shadow: 0px 1px 3px 1px rgba(0, 0, 0, 0.15);\n",
              "      filter: drop-shadow(0px 1px 2px rgba(0, 0, 0, 0.3));\n",
              "      fill: #FFFFFF;\n",
              "    }\n",
              "  </style>\n",
              "\n",
              "    <script>\n",
              "      const buttonEl =\n",
              "        document.querySelector('#df-ad1875f4-040b-4b1f-90de-75dfb9210306 button.colab-df-convert');\n",
              "      buttonEl.style.display =\n",
              "        google.colab.kernel.accessAllowed ? 'block' : 'none';\n",
              "\n",
              "      async function convertToInteractive(key) {\n",
              "        const element = document.querySelector('#df-ad1875f4-040b-4b1f-90de-75dfb9210306');\n",
              "        const dataTable =\n",
              "          await google.colab.kernel.invokeFunction('convertToInteractive',\n",
              "                                                    [key], {});\n",
              "        if (!dataTable) return;\n",
              "\n",
              "        const docLinkHtml = 'Like what you see? Visit the ' +\n",
              "          '<a target=\"_blank\" href=https://colab.research.google.com/notebooks/data_table.ipynb>data table notebook</a>'\n",
              "          + ' to learn more about interactive tables.';\n",
              "        element.innerHTML = '';\n",
              "        dataTable['output_type'] = 'display_data';\n",
              "        await google.colab.output.renderOutput(dataTable, element);\n",
              "        const docLink = document.createElement('div');\n",
              "        docLink.innerHTML = docLinkHtml;\n",
              "        element.appendChild(docLink);\n",
              "      }\n",
              "    </script>\n",
              "  </div>\n",
              "\n",
              "\n",
              "<div id=\"df-0ba7e7fc-c3cb-4062-843e-116572ab7330\">\n",
              "  <button class=\"colab-df-quickchart\" onclick=\"quickchart('df-0ba7e7fc-c3cb-4062-843e-116572ab7330')\"\n",
              "            title=\"Suggest charts\"\n",
              "            style=\"display:none;\">\n",
              "\n",
              "<svg xmlns=\"http://www.w3.org/2000/svg\" height=\"24px\"viewBox=\"0 0 24 24\"\n",
              "     width=\"24px\">\n",
              "    <g>\n",
              "        <path d=\"M19 3H5c-1.1 0-2 .9-2 2v14c0 1.1.9 2 2 2h14c1.1 0 2-.9 2-2V5c0-1.1-.9-2-2-2zM9 17H7v-7h2v7zm4 0h-2V7h2v10zm4 0h-2v-4h2v4z\"/>\n",
              "    </g>\n",
              "</svg>\n",
              "  </button>\n",
              "\n",
              "<style>\n",
              "  .colab-df-quickchart {\n",
              "      --bg-color: #E8F0FE;\n",
              "      --fill-color: #1967D2;\n",
              "      --hover-bg-color: #E2EBFA;\n",
              "      --hover-fill-color: #174EA6;\n",
              "      --disabled-fill-color: #AAA;\n",
              "      --disabled-bg-color: #DDD;\n",
              "  }\n",
              "\n",
              "  [theme=dark] .colab-df-quickchart {\n",
              "      --bg-color: #3B4455;\n",
              "      --fill-color: #D2E3FC;\n",
              "      --hover-bg-color: #434B5C;\n",
              "      --hover-fill-color: #FFFFFF;\n",
              "      --disabled-bg-color: #3B4455;\n",
              "      --disabled-fill-color: #666;\n",
              "  }\n",
              "\n",
              "  .colab-df-quickchart {\n",
              "    background-color: var(--bg-color);\n",
              "    border: none;\n",
              "    border-radius: 50%;\n",
              "    cursor: pointer;\n",
              "    display: none;\n",
              "    fill: var(--fill-color);\n",
              "    height: 32px;\n",
              "    padding: 0;\n",
              "    width: 32px;\n",
              "  }\n",
              "\n",
              "  .colab-df-quickchart:hover {\n",
              "    background-color: var(--hover-bg-color);\n",
              "    box-shadow: 0 1px 2px rgba(60, 64, 67, 0.3), 0 1px 3px 1px rgba(60, 64, 67, 0.15);\n",
              "    fill: var(--button-hover-fill-color);\n",
              "  }\n",
              "\n",
              "  .colab-df-quickchart-complete:disabled,\n",
              "  .colab-df-quickchart-complete:disabled:hover {\n",
              "    background-color: var(--disabled-bg-color);\n",
              "    fill: var(--disabled-fill-color);\n",
              "    box-shadow: none;\n",
              "  }\n",
              "\n",
              "  .colab-df-spinner {\n",
              "    border: 2px solid var(--fill-color);\n",
              "    border-color: transparent;\n",
              "    border-bottom-color: var(--fill-color);\n",
              "    animation:\n",
              "      spin 1s steps(1) infinite;\n",
              "  }\n",
              "\n",
              "  @keyframes spin {\n",
              "    0% {\n",
              "      border-color: transparent;\n",
              "      border-bottom-color: var(--fill-color);\n",
              "      border-left-color: var(--fill-color);\n",
              "    }\n",
              "    20% {\n",
              "      border-color: transparent;\n",
              "      border-left-color: var(--fill-color);\n",
              "      border-top-color: var(--fill-color);\n",
              "    }\n",
              "    30% {\n",
              "      border-color: transparent;\n",
              "      border-left-color: var(--fill-color);\n",
              "      border-top-color: var(--fill-color);\n",
              "      border-right-color: var(--fill-color);\n",
              "    }\n",
              "    40% {\n",
              "      border-color: transparent;\n",
              "      border-right-color: var(--fill-color);\n",
              "      border-top-color: var(--fill-color);\n",
              "    }\n",
              "    60% {\n",
              "      border-color: transparent;\n",
              "      border-right-color: var(--fill-color);\n",
              "    }\n",
              "    80% {\n",
              "      border-color: transparent;\n",
              "      border-right-color: var(--fill-color);\n",
              "      border-bottom-color: var(--fill-color);\n",
              "    }\n",
              "    90% {\n",
              "      border-color: transparent;\n",
              "      border-bottom-color: var(--fill-color);\n",
              "    }\n",
              "  }\n",
              "</style>\n",
              "\n",
              "  <script>\n",
              "    async function quickchart(key) {\n",
              "      const quickchartButtonEl =\n",
              "        document.querySelector('#' + key + ' button');\n",
              "      quickchartButtonEl.disabled = true;  // To prevent multiple clicks.\n",
              "      quickchartButtonEl.classList.add('colab-df-spinner');\n",
              "      try {\n",
              "        const charts = await google.colab.kernel.invokeFunction(\n",
              "            'suggestCharts', [key], {});\n",
              "      } catch (error) {\n",
              "        console.error('Error during call to suggestCharts:', error);\n",
              "      }\n",
              "      quickchartButtonEl.classList.remove('colab-df-spinner');\n",
              "      quickchartButtonEl.classList.add('colab-df-quickchart-complete');\n",
              "    }\n",
              "    (() => {\n",
              "      let quickchartButtonEl =\n",
              "        document.querySelector('#df-0ba7e7fc-c3cb-4062-843e-116572ab7330 button');\n",
              "      quickchartButtonEl.style.display =\n",
              "        google.colab.kernel.accessAllowed ? 'block' : 'none';\n",
              "    })();\n",
              "  </script>\n",
              "</div>\n",
              "    </div>\n",
              "  </div>\n"
            ],
            "application/vnd.google.colaboratory.intrinsic+json": {
              "type": "dataframe",
              "summary": "{\n  \"name\": \"top_7_platforms_pivot\",\n  \"rows\": 7,\n  \"fields\": [\n    {\n      \"column\": \"platform\",\n      \"properties\": {\n        \"dtype\": \"string\",\n        \"num_unique_values\": 7,\n        \"samples\": [\n          \"PS2\",\n          \"DS\",\n          \"PS3\"\n        ],\n        \"semantic_type\": \"\",\n        \"description\": \"\"\n      }\n    },\n    {\n      \"column\": \"name\",\n      \"properties\": {\n        \"dtype\": \"number\",\n        \"std\": 525,\n        \"min\": 826,\n        \"max\": 2154,\n        \"num_unique_values\": 7,\n        \"samples\": [\n          2154,\n          2146,\n          1107\n        ],\n        \"semantic_type\": \"\",\n        \"description\": \"\"\n      }\n    }\n  ]\n}"
            }
          },
          "metadata": {},
          "execution_count": 55
        }
      ],
      "source": [
        "top_7_platforms_pivot = pd.pivot_table(games_filtered, values = 'name', index = 'platform', aggfunc = 'count')\n",
        "top_7_platforms_pivot.sort_values(by = 'name',ascending = False,).head(7)"
      ]
    },
    {
      "cell_type": "code",
      "execution_count": 56,
      "metadata": {
        "id": "TCQHBaRsc0Bd"
      },
      "outputs": [],
      "source": [
        "#сортируем полученный результат по убыванию\n",
        "sorted_result = pd.DataFrame(top_7_platforms_count.sort_values(by = 'name', ascending = False))"
      ]
    },
    {
      "cell_type": "code",
      "execution_count": 57,
      "metadata": {
        "colab": {
          "base_uri": "https://localhost:8080/",
          "height": 269
        },
        "id": "_WGXzdmhdQyD",
        "outputId": "48f2c677-8e90-49ac-85a5-18672bfe69cd"
      },
      "outputs": [
        {
          "output_type": "execute_result",
          "data": {
            "text/plain": [
              "   platform  name\n",
              "9       PS2  2154\n",
              "2        DS  2146\n",
              "15      Wii  1294\n",
              "12      PSP  1199\n",
              "17     X360  1138\n",
              "10      PS3  1107\n",
              "4       GBA   826"
            ],
            "text/html": [
              "\n",
              "  <div id=\"df-86bef6bb-6884-4a98-9e7d-96001318ed43\" class=\"colab-df-container\">\n",
              "    <div>\n",
              "<style scoped>\n",
              "    .dataframe tbody tr th:only-of-type {\n",
              "        vertical-align: middle;\n",
              "    }\n",
              "\n",
              "    .dataframe tbody tr th {\n",
              "        vertical-align: top;\n",
              "    }\n",
              "\n",
              "    .dataframe thead th {\n",
              "        text-align: right;\n",
              "    }\n",
              "</style>\n",
              "<table border=\"1\" class=\"dataframe\">\n",
              "  <thead>\n",
              "    <tr style=\"text-align: right;\">\n",
              "      <th></th>\n",
              "      <th>platform</th>\n",
              "      <th>name</th>\n",
              "    </tr>\n",
              "  </thead>\n",
              "  <tbody>\n",
              "    <tr>\n",
              "      <th>9</th>\n",
              "      <td>PS2</td>\n",
              "      <td>2154</td>\n",
              "    </tr>\n",
              "    <tr>\n",
              "      <th>2</th>\n",
              "      <td>DS</td>\n",
              "      <td>2146</td>\n",
              "    </tr>\n",
              "    <tr>\n",
              "      <th>15</th>\n",
              "      <td>Wii</td>\n",
              "      <td>1294</td>\n",
              "    </tr>\n",
              "    <tr>\n",
              "      <th>12</th>\n",
              "      <td>PSP</td>\n",
              "      <td>1199</td>\n",
              "    </tr>\n",
              "    <tr>\n",
              "      <th>17</th>\n",
              "      <td>X360</td>\n",
              "      <td>1138</td>\n",
              "    </tr>\n",
              "    <tr>\n",
              "      <th>10</th>\n",
              "      <td>PS3</td>\n",
              "      <td>1107</td>\n",
              "    </tr>\n",
              "    <tr>\n",
              "      <th>4</th>\n",
              "      <td>GBA</td>\n",
              "      <td>826</td>\n",
              "    </tr>\n",
              "  </tbody>\n",
              "</table>\n",
              "</div>\n",
              "    <div class=\"colab-df-buttons\">\n",
              "\n",
              "  <div class=\"colab-df-container\">\n",
              "    <button class=\"colab-df-convert\" onclick=\"convertToInteractive('df-86bef6bb-6884-4a98-9e7d-96001318ed43')\"\n",
              "            title=\"Convert this dataframe to an interactive table.\"\n",
              "            style=\"display:none;\">\n",
              "\n",
              "  <svg xmlns=\"http://www.w3.org/2000/svg\" height=\"24px\" viewBox=\"0 -960 960 960\">\n",
              "    <path d=\"M120-120v-720h720v720H120Zm60-500h600v-160H180v160Zm220 220h160v-160H400v160Zm0 220h160v-160H400v160ZM180-400h160v-160H180v160Zm440 0h160v-160H620v160ZM180-180h160v-160H180v160Zm440 0h160v-160H620v160Z\"/>\n",
              "  </svg>\n",
              "    </button>\n",
              "\n",
              "  <style>\n",
              "    .colab-df-container {\n",
              "      display:flex;\n",
              "      gap: 12px;\n",
              "    }\n",
              "\n",
              "    .colab-df-convert {\n",
              "      background-color: #E8F0FE;\n",
              "      border: none;\n",
              "      border-radius: 50%;\n",
              "      cursor: pointer;\n",
              "      display: none;\n",
              "      fill: #1967D2;\n",
              "      height: 32px;\n",
              "      padding: 0 0 0 0;\n",
              "      width: 32px;\n",
              "    }\n",
              "\n",
              "    .colab-df-convert:hover {\n",
              "      background-color: #E2EBFA;\n",
              "      box-shadow: 0px 1px 2px rgba(60, 64, 67, 0.3), 0px 1px 3px 1px rgba(60, 64, 67, 0.15);\n",
              "      fill: #174EA6;\n",
              "    }\n",
              "\n",
              "    .colab-df-buttons div {\n",
              "      margin-bottom: 4px;\n",
              "    }\n",
              "\n",
              "    [theme=dark] .colab-df-convert {\n",
              "      background-color: #3B4455;\n",
              "      fill: #D2E3FC;\n",
              "    }\n",
              "\n",
              "    [theme=dark] .colab-df-convert:hover {\n",
              "      background-color: #434B5C;\n",
              "      box-shadow: 0px 1px 3px 1px rgba(0, 0, 0, 0.15);\n",
              "      filter: drop-shadow(0px 1px 2px rgba(0, 0, 0, 0.3));\n",
              "      fill: #FFFFFF;\n",
              "    }\n",
              "  </style>\n",
              "\n",
              "    <script>\n",
              "      const buttonEl =\n",
              "        document.querySelector('#df-86bef6bb-6884-4a98-9e7d-96001318ed43 button.colab-df-convert');\n",
              "      buttonEl.style.display =\n",
              "        google.colab.kernel.accessAllowed ? 'block' : 'none';\n",
              "\n",
              "      async function convertToInteractive(key) {\n",
              "        const element = document.querySelector('#df-86bef6bb-6884-4a98-9e7d-96001318ed43');\n",
              "        const dataTable =\n",
              "          await google.colab.kernel.invokeFunction('convertToInteractive',\n",
              "                                                    [key], {});\n",
              "        if (!dataTable) return;\n",
              "\n",
              "        const docLinkHtml = 'Like what you see? Visit the ' +\n",
              "          '<a target=\"_blank\" href=https://colab.research.google.com/notebooks/data_table.ipynb>data table notebook</a>'\n",
              "          + ' to learn more about interactive tables.';\n",
              "        element.innerHTML = '';\n",
              "        dataTable['output_type'] = 'display_data';\n",
              "        await google.colab.output.renderOutput(dataTable, element);\n",
              "        const docLink = document.createElement('div');\n",
              "        docLink.innerHTML = docLinkHtml;\n",
              "        element.appendChild(docLink);\n",
              "      }\n",
              "    </script>\n",
              "  </div>\n",
              "\n",
              "\n",
              "<div id=\"df-3e8102f5-09da-4487-afab-03890a398a1e\">\n",
              "  <button class=\"colab-df-quickchart\" onclick=\"quickchart('df-3e8102f5-09da-4487-afab-03890a398a1e')\"\n",
              "            title=\"Suggest charts\"\n",
              "            style=\"display:none;\">\n",
              "\n",
              "<svg xmlns=\"http://www.w3.org/2000/svg\" height=\"24px\"viewBox=\"0 0 24 24\"\n",
              "     width=\"24px\">\n",
              "    <g>\n",
              "        <path d=\"M19 3H5c-1.1 0-2 .9-2 2v14c0 1.1.9 2 2 2h14c1.1 0 2-.9 2-2V5c0-1.1-.9-2-2-2zM9 17H7v-7h2v7zm4 0h-2V7h2v10zm4 0h-2v-4h2v4z\"/>\n",
              "    </g>\n",
              "</svg>\n",
              "  </button>\n",
              "\n",
              "<style>\n",
              "  .colab-df-quickchart {\n",
              "      --bg-color: #E8F0FE;\n",
              "      --fill-color: #1967D2;\n",
              "      --hover-bg-color: #E2EBFA;\n",
              "      --hover-fill-color: #174EA6;\n",
              "      --disabled-fill-color: #AAA;\n",
              "      --disabled-bg-color: #DDD;\n",
              "  }\n",
              "\n",
              "  [theme=dark] .colab-df-quickchart {\n",
              "      --bg-color: #3B4455;\n",
              "      --fill-color: #D2E3FC;\n",
              "      --hover-bg-color: #434B5C;\n",
              "      --hover-fill-color: #FFFFFF;\n",
              "      --disabled-bg-color: #3B4455;\n",
              "      --disabled-fill-color: #666;\n",
              "  }\n",
              "\n",
              "  .colab-df-quickchart {\n",
              "    background-color: var(--bg-color);\n",
              "    border: none;\n",
              "    border-radius: 50%;\n",
              "    cursor: pointer;\n",
              "    display: none;\n",
              "    fill: var(--fill-color);\n",
              "    height: 32px;\n",
              "    padding: 0;\n",
              "    width: 32px;\n",
              "  }\n",
              "\n",
              "  .colab-df-quickchart:hover {\n",
              "    background-color: var(--hover-bg-color);\n",
              "    box-shadow: 0 1px 2px rgba(60, 64, 67, 0.3), 0 1px 3px 1px rgba(60, 64, 67, 0.15);\n",
              "    fill: var(--button-hover-fill-color);\n",
              "  }\n",
              "\n",
              "  .colab-df-quickchart-complete:disabled,\n",
              "  .colab-df-quickchart-complete:disabled:hover {\n",
              "    background-color: var(--disabled-bg-color);\n",
              "    fill: var(--disabled-fill-color);\n",
              "    box-shadow: none;\n",
              "  }\n",
              "\n",
              "  .colab-df-spinner {\n",
              "    border: 2px solid var(--fill-color);\n",
              "    border-color: transparent;\n",
              "    border-bottom-color: var(--fill-color);\n",
              "    animation:\n",
              "      spin 1s steps(1) infinite;\n",
              "  }\n",
              "\n",
              "  @keyframes spin {\n",
              "    0% {\n",
              "      border-color: transparent;\n",
              "      border-bottom-color: var(--fill-color);\n",
              "      border-left-color: var(--fill-color);\n",
              "    }\n",
              "    20% {\n",
              "      border-color: transparent;\n",
              "      border-left-color: var(--fill-color);\n",
              "      border-top-color: var(--fill-color);\n",
              "    }\n",
              "    30% {\n",
              "      border-color: transparent;\n",
              "      border-left-color: var(--fill-color);\n",
              "      border-top-color: var(--fill-color);\n",
              "      border-right-color: var(--fill-color);\n",
              "    }\n",
              "    40% {\n",
              "      border-color: transparent;\n",
              "      border-right-color: var(--fill-color);\n",
              "      border-top-color: var(--fill-color);\n",
              "    }\n",
              "    60% {\n",
              "      border-color: transparent;\n",
              "      border-right-color: var(--fill-color);\n",
              "    }\n",
              "    80% {\n",
              "      border-color: transparent;\n",
              "      border-right-color: var(--fill-color);\n",
              "      border-bottom-color: var(--fill-color);\n",
              "    }\n",
              "    90% {\n",
              "      border-color: transparent;\n",
              "      border-bottom-color: var(--fill-color);\n",
              "    }\n",
              "  }\n",
              "</style>\n",
              "\n",
              "  <script>\n",
              "    async function quickchart(key) {\n",
              "      const quickchartButtonEl =\n",
              "        document.querySelector('#' + key + ' button');\n",
              "      quickchartButtonEl.disabled = true;  // To prevent multiple clicks.\n",
              "      quickchartButtonEl.classList.add('colab-df-spinner');\n",
              "      try {\n",
              "        const charts = await google.colab.kernel.invokeFunction(\n",
              "            'suggestCharts', [key], {});\n",
              "      } catch (error) {\n",
              "        console.error('Error during call to suggestCharts:', error);\n",
              "      }\n",
              "      quickchartButtonEl.classList.remove('colab-df-spinner');\n",
              "      quickchartButtonEl.classList.add('colab-df-quickchart-complete');\n",
              "    }\n",
              "    (() => {\n",
              "      let quickchartButtonEl =\n",
              "        document.querySelector('#df-3e8102f5-09da-4487-afab-03890a398a1e button');\n",
              "      quickchartButtonEl.style.display =\n",
              "        google.colab.kernel.accessAllowed ? 'block' : 'none';\n",
              "    })();\n",
              "  </script>\n",
              "</div>\n",
              "    </div>\n",
              "  </div>\n"
            ],
            "application/vnd.google.colaboratory.intrinsic+json": {
              "type": "dataframe",
              "variable_name": "sorted_result",
              "summary": "{\n  \"name\": \"sorted_result\",\n  \"rows\": 20,\n  \"fields\": [\n    {\n      \"column\": \"platform\",\n      \"properties\": {\n        \"dtype\": \"string\",\n        \"num_unique_values\": 20,\n        \"samples\": [\n          \"PS2\",\n          \"XOne\",\n          \"DC\"\n        ],\n        \"semantic_type\": \"\",\n        \"description\": \"\"\n      }\n    },\n    {\n      \"column\": \"name\",\n      \"properties\": {\n        \"dtype\": \"number\",\n        \"std\": 685,\n        \"min\": 4,\n        \"max\": 2154,\n        \"num_unique_values\": 20,\n        \"samples\": [\n          2154,\n          20,\n          31\n        ],\n        \"semantic_type\": \"\",\n        \"description\": \"\"\n      }\n    }\n  ]\n}"
            }
          },
          "metadata": {},
          "execution_count": 57
        }
      ],
      "source": [
        "#выводим первые семь строк на экран\n",
        "sorted_result.head(7)"
      ]
    },
    {
      "cell_type": "markdown",
      "metadata": {
        "id": "oJWa9CYAfnYC"
      },
      "source": [
        "<font color='#777778'>Наибольшее количество игр вышло на платформах `PS2`  и `DS`. Разрыв между количеством игр на этих платформах невелик и составляет всего 12 игр.\n",
        "\n",
        "С третьего по шестое место рапсоложились платформы `Wii`, `PSP`, `X360` и `PS3`, количество игр на которыих колеблется в диапазоне от 1106 до 1292.</font>\n",
        "\n",
        "<font color='#777778'>На седьмом месте расположилась платформа `GBA`. Разрыв с шестым местом довольно существенен и составляет 281 игру."
      ]
    },
    {
      "cell_type": "markdown",
      "metadata": {
        "id": "Nibalmxfh5mj"
      },
      "source": [
        "## 5. Итоговый вывод\n",
        "\n",
        "<font color='#777778'>В результате проделанной работы исходный датафрейм в `16 956` строк был преобразован в датафрейм размером `16 679` строк. Были выполнены следующие преобразования:\n",
        "\n",
        "- Обработаны пропуски,\n",
        "- Обработаны дубликаты,\n",
        "- Изменены типы данных столбцов. </font>\n",
        "\n",
        "<font color='#777778'>Далее при помощи фильтрации был получен срез в `12 980` строк. Были отобраны данные об играх, выпущенных с 2000 по 2013 год включительно.\n",
        "\n",
        "<font color='#777778'> Категоризация игр по оценкам пользователей показала, что большинство игр попадает в категорию \"Без оценки\". Это говорит о том, что игровая индустрия в рассматриваемом периоде, предоставляла широкий выбор игр, однако много из них не получило широкого распространения. Это может быть связано с распространием игр только на локальных рынках.\n",
        "\n",
        "Большинство игр получило среднюю оценку. Количество игр с высокой оценкой вдвое меньше. </font>\n",
        "\n",
        "<font color='#777778'>Более детальный анализ игр в категории с высокой оценкой позволит составить полное впечатление о факторах, влияющих на рейтинг пользователей и критиков.\n",
        "\n",
        "<font color='#777778'>Наиболее популярными игровыми платформами оказались PS2 и DS.\n",
        "Можно предположить, что более высокая популярность PS2 по сравнению с PS3 связаны с рассматриваемым временным периодом. PS2 была выпущена в 2000 году, в то время как PS3 была выпущена на 6 лет позже. Примечательно, что несмотря на выход новой консоли компания Sony все же продолжила выпускать игры для PS2 в достаточно большом количестве.\n",
        "\n",
        "Важно также отметить, что среди топ-7 платформ не оказалось `PC`. Это говорит о том, что популярность игровых консолей среди геймеров сравнительно выше чем ПК.</font>"
      ]
    }
  ],
  "metadata": {
    "ExecuteTimeLog": [
      {
        "duration": 413,
        "start_time": "2025-01-11T19:48:11.402Z"
      },
      {
        "duration": 2,
        "start_time": "2025-01-11T19:48:11.817Z"
      },
      {
        "duration": 121,
        "start_time": "2025-01-11T19:48:11.821Z"
      },
      {
        "duration": 2,
        "start_time": "2025-01-11T19:48:11.945Z"
      },
      {
        "duration": 27,
        "start_time": "2025-01-11T19:48:11.948Z"
      },
      {
        "duration": 15,
        "start_time": "2025-01-11T19:48:11.977Z"
      },
      {
        "duration": 41,
        "start_time": "2025-01-11T19:48:11.993Z"
      },
      {
        "duration": 4,
        "start_time": "2025-01-11T19:48:12.036Z"
      },
      {
        "duration": 23,
        "start_time": "2025-01-11T19:48:12.041Z"
      },
      {
        "duration": 3,
        "start_time": "2025-01-11T19:48:12.067Z"
      },
      {
        "duration": 4,
        "start_time": "2025-01-11T19:48:12.072Z"
      },
      {
        "duration": 21,
        "start_time": "2025-01-11T19:48:12.078Z"
      },
      {
        "duration": 12,
        "start_time": "2025-01-11T19:48:12.101Z"
      },
      {
        "duration": 18,
        "start_time": "2025-01-11T19:48:12.114Z"
      },
      {
        "duration": 9,
        "start_time": "2025-01-11T19:48:12.133Z"
      },
      {
        "duration": 136,
        "start_time": "2025-01-11T19:48:12.144Z"
      },
      {
        "duration": 11,
        "start_time": "2025-01-11T19:48:12.282Z"
      },
      {
        "duration": 28,
        "start_time": "2025-01-11T19:48:12.294Z"
      },
      {
        "duration": 22,
        "start_time": "2025-01-11T19:48:12.324Z"
      },
      {
        "duration": 7,
        "start_time": "2025-01-11T19:48:12.347Z"
      },
      {
        "duration": 2,
        "start_time": "2025-01-11T19:48:12.356Z"
      },
      {
        "duration": 16810,
        "start_time": "2025-01-11T19:48:12.360Z"
      },
      {
        "duration": 3,
        "start_time": "2025-01-11T19:48:29.172Z"
      },
      {
        "duration": 15474,
        "start_time": "2025-01-11T19:48:29.176Z"
      },
      {
        "duration": 10,
        "start_time": "2025-01-11T19:48:44.651Z"
      },
      {
        "duration": 14,
        "start_time": "2025-01-11T19:48:44.663Z"
      },
      {
        "duration": 8,
        "start_time": "2025-01-11T19:48:44.679Z"
      },
      {
        "duration": 10,
        "start_time": "2025-01-11T19:48:44.690Z"
      },
      {
        "duration": 5,
        "start_time": "2025-01-11T19:48:44.702Z"
      },
      {
        "duration": 33,
        "start_time": "2025-01-11T19:48:44.709Z"
      },
      {
        "duration": 5,
        "start_time": "2025-01-11T19:48:44.744Z"
      },
      {
        "duration": 12,
        "start_time": "2025-01-11T19:48:44.751Z"
      },
      {
        "duration": 6,
        "start_time": "2025-01-11T19:48:44.765Z"
      },
      {
        "duration": 13,
        "start_time": "2025-01-11T19:48:44.773Z"
      },
      {
        "duration": 5,
        "start_time": "2025-01-11T19:48:44.788Z"
      },
      {
        "duration": 5,
        "start_time": "2025-01-11T19:48:44.794Z"
      },
      {
        "duration": 43,
        "start_time": "2025-01-11T19:48:44.800Z"
      },
      {
        "duration": 4,
        "start_time": "2025-01-11T19:48:44.844Z"
      },
      {
        "duration": 4,
        "start_time": "2025-01-11T19:48:44.850Z"
      },
      {
        "duration": 8,
        "start_time": "2025-01-11T19:48:44.856Z"
      },
      {
        "duration": 7,
        "start_time": "2025-01-11T19:48:44.866Z"
      },
      {
        "duration": 13,
        "start_time": "2025-01-11T19:48:44.874Z"
      },
      {
        "duration": 7,
        "start_time": "2025-01-11T19:48:44.889Z"
      },
      {
        "duration": 43,
        "start_time": "2025-01-11T19:48:44.897Z"
      },
      {
        "duration": 6,
        "start_time": "2025-01-11T19:48:44.942Z"
      },
      {
        "duration": 20,
        "start_time": "2025-01-11T19:48:44.949Z"
      },
      {
        "duration": 21,
        "start_time": "2025-01-11T19:48:44.971Z"
      },
      {
        "duration": 3,
        "start_time": "2025-01-11T19:48:44.994Z"
      },
      {
        "duration": 31,
        "start_time": "2025-01-11T19:48:44.998Z"
      }
    ],
    "colab": {
      "provenance": []
    },
    "kernelspec": {
      "display_name": "Python 3 (ipykernel)",
      "language": "python",
      "name": "python3"
    },
    "language_info": {
      "codemirror_mode": {
        "name": "ipython",
        "version": 3
      },
      "file_extension": ".py",
      "mimetype": "text/x-python",
      "name": "python",
      "nbconvert_exporter": "python",
      "pygments_lexer": "ipython3",
      "version": "3.9.5"
    },
    "toc": {
      "base_numbering": 1,
      "nav_menu": {},
      "number_sections": true,
      "sideBar": true,
      "skip_h1_title": true,
      "title_cell": "Table of Contents",
      "title_sidebar": "Contents",
      "toc_cell": false,
      "toc_position": {},
      "toc_section_display": true,
      "toc_window_display": true
    }
  },
  "nbformat": 4,
  "nbformat_minor": 0
}