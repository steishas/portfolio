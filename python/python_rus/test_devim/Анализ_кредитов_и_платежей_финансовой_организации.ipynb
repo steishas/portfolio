{
  "nbformat": 4,
  "nbformat_minor": 0,
  "metadata": {
    "colab": {
      "provenance": [],
      "toc_visible": true
    },
    "kernelspec": {
      "name": "python3",
      "display_name": "Python 3"
    },
    "language_info": {
      "name": "python"
    }
  },
  "cells": [
    {
      "cell_type": "markdown",
      "source": [
        "# Анализ поведения клиентов финансовой организации\n",
        "\n",
        "- Автор: Смирнова Анастасия\n",
        "- Дата: 12.03.2025"
      ],
      "metadata": {
        "id": "m7o2DBL-OZ0j"
      }
    },
    {
      "cell_type": "markdown",
      "source": [
        "<font color='#777778'>**Цель проекта** - проанализировать характер поведения клиентов с точки зрения просрочки.\n",
        "\n",
        "<font color='#777778'>*Просрочка* — это нарушение должником сроков и/или объёмов исполнения обязательств, предусмотренных договором (графиком платежей).\n",
        "\n",
        "<font color='#777778'>**Задачи проекта:**\n",
        "\n",
        "- Ознакомиться с данными и провести их предварительную предобработку;\n",
        "- Описать тенденции просрочки по платежам;\n",
        "- Описать тенденции по займам закрыты вовремя и с опозданием. </font>"
      ],
      "metadata": {
        "id": "zGIQdChRO19G"
      }
    },
    {
      "cell_type": "markdown",
      "source": [
        "<font color='#777778'> **Описание данных**\n",
        "\n",
        "<font color='#777778'> Датасет `test_devim/plan.csv` содержит информацию о плановых платежах:\n",
        "\n",
        "- `order_id` - номер заявки;\n",
        "- `plan_at` - дата планового платежа;\n",
        "- `plan_sum_total` - сумма планового платежа (накопленным итогом) </font>\n",
        "\n",
        "<font color='#777778'> Датасет `test_devim/orders.csv` содержит информацию о заявках:\n",
        "\n",
        "- `order_id` - номер заявки;\n",
        "- `created_at` - дата создания заявки;\n",
        "- `put_at` - дата выдачи;\n",
        "- `closed_at` - дата закрытия заявки;\n",
        "- `issued_sum` - сумма выдачи. </font>\n",
        "\n",
        "<font color='#777778'> Датасет `test_devim/payments.csv.` содержит информацию о платежах:\n",
        "\n",
        "- `order_id` - номер заявки;\n",
        "- `paid_at` - дата фактического платежа;\n",
        "- `paid_sum` - сумма фактического платежа. </font>\n",
        "\n",
        "\n",
        "<font color='#777778'> NB! Данные актуальны на 08.12.2022"
      ],
      "metadata": {
        "id": "QXvkgjlsQUv_"
      }
    },
    {
      "cell_type": "markdown",
      "source": [
        "## 1. Загрузка данных и знакомство с ними"
      ],
      "metadata": {
        "id": "s4rHG4yxQdN4"
      }
    },
    {
      "cell_type": "markdown",
      "source": [
        "<font color='#777778'>Начнем с загрузки библиотек и данных по выдачам кредитов и платежам, хранящихся в датасетах `test_devim/plan.csv`, `test_devim/orders.csv` и `test_devim/payments.csv`."
      ],
      "metadata": {
        "id": "zR_Thw8NX8um"
      }
    },
    {
      "cell_type": "code",
      "source": [
        "# Импортируем библиотеки\n",
        "import pandas as pd\n",
        "pd.options.mode.chained_assignment = None\n",
        "\n",
        "import numpy as np\n",
        "\n",
        "#Загружаем бибилиотеки для визуализации данных\n",
        "import matplotlib.pyplot as plt\n",
        "import seaborn as sns"
      ],
      "metadata": {
        "id": "vWRpgRb8Oxm7"
      },
      "execution_count": null,
      "outputs": []
    },
    {
      "cell_type": "code",
      "execution_count": null,
      "metadata": {
        "id": "Y8MfTqczOYel"
      },
      "outputs": [],
      "source": [
        "# Выгружаем данные в переменные plan, orders и payments\n",
        "plan = pd.read_csv('https://raw.githubusercontent.com/steishas/portfolio/refs/heads/main/python/python_rus/test_devim/plan.csv')\n",
        "\n",
        "orders = pd.read_csv('https://raw.githubusercontent.com/steishas/portfolio/refs/heads/main/python/python_rus/test_devim/orders.csv')\n",
        "\n",
        "payments = pd.read_csv('https://raw.githubusercontent.com/steishas/portfolio/refs/heads/main/python/python_rus/test_devim/payments.csv')"
      ]
    },
    {
      "cell_type": "markdown",
      "source": [
        "<font color='#777778'>Данные успешно загружены.\n",
        "\n",
        "<font color='#777778'>Ознакомимся с данными при помощи функции `df_info`, которая будет выводить следуюущю информацию:\n",
        "\n",
        "- Количество строк и столбцов;\n",
        "- Тип данных в столбцах;\n",
        "- Первая строка датафрейма;\n",
        "- Количество пропусков;\n",
        "- Количество полных дубликатов. </font>\n",
        "\n",
        "<font color='#777778'> Данная информация поможет оценить, соответствует ли структура описанию данных,  соответствуют ли наименования столбцов стилю snake_case, корректные ли типы данных в столбцах, есть ли пропуски."
      ],
      "metadata": {
        "id": "66J0glnRZI8A"
      }
    },
    {
      "cell_type": "code",
      "source": [
        "#Создаём функцию df_info\n",
        "def df_info(df, df_name = None):\n",
        "    \"\"\"\n",
        "    Выводит информацию о датасете\n",
        "\n",
        "    Parameters:\n",
        "        df (name of pd.DataFrame): Датафрейм для обработки.\n",
        "        df_name (str): Название датафрейма (для отображения).\n",
        "    \"\"\"\n",
        "\n",
        "    print('-'*10,''*5,f'Информация о датафрейме {str(df_name)}: ', ''*5, '-'*10)\n",
        "    print('')\n",
        "\n",
        "    row_count = df.shape[0] #Возвращаем информацию о количестве строк\n",
        "    print(f'1) Количество строк: {row_count}')\n",
        "\n",
        "    column_count = df.shape[1] #Возвращаем информацию о количестве столбцов\n",
        "    print(f'2) Количество столбцов: {column_count}')\n",
        "\n",
        "    columns = df.dtypes #Возвращаем информацию столбцах и типах данных\n",
        "    print('3) Типы данных:')\n",
        "    print('')\n",
        "    print(columns)\n",
        "    print('')\n",
        "\n",
        "    first_row = df.iloc[0, :] #Возвращаем первую строку датафрейма\n",
        "    print(f'4) Первая строка:')\n",
        "    print('')\n",
        "    print(pd.Series(first_row))\n",
        "    print('')\n",
        "\n",
        "    is_null = df.isna().mean() * 100 #Возвращаем количество пропусков\n",
        "    print(f'5) Доля пропусков в каждом из столбцов:')\n",
        "    print('')\n",
        "    print(is_null)\n",
        "    print('')\n",
        "\n",
        "    is_unique = df.duplicated().mean() * 100 #Возвращаем количество уникальных значений\n",
        "    print(f'6) Полных дубликатов:')\n",
        "    print('')\n",
        "    print(is_unique)\n",
        "    print('')\n",
        "    print('-'*62)"
      ],
      "metadata": {
        "id": "KLLICPXTZNio"
      },
      "execution_count": null,
      "outputs": []
    },
    {
      "cell_type": "code",
      "source": [
        "#Выводим информацию о датафрейме plan\n",
        "df_info(plan,'plan')"
      ],
      "metadata": {
        "colab": {
          "base_uri": "https://localhost:8080/"
        },
        "id": "YNsRz1NZZZ_k",
        "outputId": "a138f359-c294-4640-ea7b-79ea5b44152b"
      },
      "execution_count": null,
      "outputs": [
        {
          "output_type": "stream",
          "name": "stdout",
          "text": [
            "----------  Информация о датафрейме plan:   ----------\n",
            "\n",
            "1) Количество строк: 420282\n",
            "2) Количество столбцов: 3\n",
            "3) Типы данных:\n",
            "\n",
            "order_id            int64\n",
            "plan_at            object\n",
            "plan_sum_total    float64\n",
            "dtype: object\n",
            "\n",
            "4) Первая строка:\n",
            "\n",
            "order_id           400001732\n",
            "plan_at           2022-06-02\n",
            "plan_sum_total        5600.0\n",
            "Name: 0, dtype: object\n",
            "\n",
            "5) Доля пропусков в каждом из столбцов:\n",
            "\n",
            "order_id          0.0\n",
            "plan_at           0.0\n",
            "plan_sum_total    0.0\n",
            "dtype: float64\n",
            "\n",
            "6) Полных дубликатов:\n",
            "\n",
            "0.0\n",
            "\n",
            "--------------------------------------------------------------\n"
          ]
        }
      ]
    },
    {
      "cell_type": "markdown",
      "source": [
        "<font color='#777778'> В датафрейме `plan` - 420 282 строк и 3 столбца.\n",
        "Пропущенные значния в столбцах отсутствуют. Полных дубликатов также нет. Наименования соответствуют стилю snake_case.\n",
        "\n",
        "<font color='#777778'>  Рассмотрим каждый столбец детально:\n",
        "\n",
        "- `order_id` - содержит информацию о номере заявки. Тип данных представлен корректно, однако для оптимизации можно выполнить понижение разрядности в данном столбце. Скорее всего данный столбец является первичным ключом. Дополнительно потребуется проверить уникальность значений в данном столбце во избежание искажения информации при объединении с другими датафреймами; </font>\n",
        "- `plan_at` - содержит информацию о дате планового платежа. Для удобства выполнения операций с датами потребуется преобразовать формат к `datetime64`. Так как оценка динамики возможна только по уже прошедшим платежам, необходимо отсеять данные, где дата планового платежа позже текущей - `08.12.2022`;\n",
        "- `plan_sum_total` - содержит информацию о сумме планового платежа с накопительным итогом. Тип данных представлен корректно, однако для оптимизации здесь также можно выполнить понижение разрядности.</font>\n",
        "\n",
        "<font color='#777778'>  Проанализируем датафрейм `orders`."
      ],
      "metadata": {
        "id": "iGCqx6h3ZWJ8"
      }
    },
    {
      "cell_type": "code",
      "source": [
        "#Выводим информацию о датафрейме orders\n",
        "df_info(orders,'orders')"
      ],
      "metadata": {
        "colab": {
          "base_uri": "https://localhost:8080/"
        },
        "id": "Mr5qSQfae-N5",
        "outputId": "c72a5e4e-6b90-492d-a210-c5fa8c60d4fe"
      },
      "execution_count": null,
      "outputs": [
        {
          "output_type": "stream",
          "name": "stdout",
          "text": [
            "----------  Информация о датафрейме orders:   ----------\n",
            "\n",
            "1) Количество строк: 55748\n",
            "2) Количество столбцов: 5\n",
            "3) Типы данных:\n",
            "\n",
            "order_id        int64\n",
            "created_at     object\n",
            "put_at         object\n",
            "closed_at      object\n",
            "issued_sum    float64\n",
            "dtype: object\n",
            "\n",
            "4) Первая строка:\n",
            "\n",
            "order_id                    400001732\n",
            "created_at    2022-06-02 00:00:23.997\n",
            "put_at        2022-06-02 20:18:00.180\n",
            "closed_at     2022-10-17 11:52:22.190\n",
            "issued_sum                    13600.0\n",
            "Name: 0, dtype: object\n",
            "\n",
            "5) Доля пропусков в каждом из столбцов:\n",
            "\n",
            "order_id       0.000000\n",
            "created_at     0.000000\n",
            "put_at         0.000000\n",
            "closed_at     16.639162\n",
            "issued_sum     0.000000\n",
            "dtype: float64\n",
            "\n",
            "6) Полных дубликатов:\n",
            "\n",
            "0.0\n",
            "\n",
            "--------------------------------------------------------------\n"
          ]
        }
      ]
    },
    {
      "cell_type": "markdown",
      "source": [
        "<font color='#777778'>Датафрейм `orders` состоит из 55 748 строк и 5 столбцов. Пропущенные значения есть в одном из столбцов. Полные дубликаты отсутствуют. Наименования столбцов приведены в соответствии с snake_case.\n",
        "\n",
        "<font color='#777778'> Рассмотрим каждый столбец детально:\n",
        "\n",
        "- `order_id` - содержит информацию о номере заявки. Тип данных представлен корректно, однако для оптимизации также попробуем выполнить понижение разрядности в данном столбце. Название столбца совпадает с аналогичным в датафрейме `plan`, что подтверждает гипотезу о том, что именно номер заявки является первичным ключом таблиц. Также проверим значения столбца на уникальность, чтобы удостовериться в том, что мы можем использовать его для объединения датафреймов;\n",
        "- `created_at` - содержит информацию о дате создания заявки. Столбец содержит информацию о дате и данные требуют представления в формате `datetime64`;\n",
        "-`put_at` - содержит информацию о дате выдачи средств по заявке. В данном столбце потребуется преобразование типа данных к `datetime64`;\n",
        "- `closed_at` - содержит информацию о дате закрытия заявки. В данном столбце содержится 16,64% пропущенных значений. Пропуски в данном столбце вряд ли случайны. Скорее всего часть заявок всё еще активна и поэтому информация о дате закрытия отсутствует. Преобразуем тип данных в данном столбце к `datetime64`;</font>\n",
        "- `issued_sum` - содержит информацию о сумме выдачи по заявке. Тип данных представлен корректно, однако для оптимизации выполним понижение разрядности в столбце.</font>\n",
        "\n",
        "<font color='#777778'> Следует также обратить внимание на то, что помимо дат в столбцах также содержится информация о времени. При преобразовании типа данных оставим информацию только о датах.\n",
        "\n",
        "<font color='#777778'> Рассмотрим датафрейм `payments`.\n"
      ],
      "metadata": {
        "id": "xMa8jc7pfPXO"
      }
    },
    {
      "cell_type": "code",
      "source": [
        "#Выводим информацию о датафрейме payments\n",
        "df_info(payments,'payments')"
      ],
      "metadata": {
        "colab": {
          "base_uri": "https://localhost:8080/"
        },
        "id": "PLKhVtcFjNiX",
        "outputId": "a8122067-750e-4505-c558-3d832e858f4d"
      },
      "execution_count": null,
      "outputs": [
        {
          "output_type": "stream",
          "name": "stdout",
          "text": [
            "----------  Информация о датафрейме payments:   ----------\n",
            "\n",
            "1) Количество строк: 143284\n",
            "2) Количество столбцов: 3\n",
            "3) Типы данных:\n",
            "\n",
            "order_id      int64\n",
            "paid_at      object\n",
            "paid_sum    float64\n",
            "dtype: object\n",
            "\n",
            "4) Первая строка:\n",
            "\n",
            "order_id                  400013633\n",
            "paid_at     2022-06-02 00:48:13.800\n",
            "paid_sum                     2500.0\n",
            "Name: 0, dtype: object\n",
            "\n",
            "5) Доля пропусков в каждом из столбцов:\n",
            "\n",
            "order_id    0.0\n",
            "paid_at     0.0\n",
            "paid_sum    0.0\n",
            "dtype: float64\n",
            "\n",
            "6) Полных дубликатов:\n",
            "\n",
            "0.00348957315541163\n",
            "\n",
            "--------------------------------------------------------------\n"
          ]
        }
      ]
    },
    {
      "cell_type": "markdown",
      "source": [
        "<font color='#777778'> Датафрейм `payments` состоит из 143 284 строк и 3 столбцов. Пропущенные значения в столбцах отсутствуют. Датафрейм содержит полные дубликаты. Несмотря на то, что количество таких строк составляет менее 1%, исключим их из датафрейма для достоверного итогового результата анализа. Наименования столбцов приведены в соответствии с snake_case.\n",
        "\n",
        "<font color='#777778'> Рассмотрим кааждый столбец детально:\n",
        "\n",
        "- `order_id` - содержит информацию о номере заявки. Тип данных представлен корректно. Выполним понижение разрядности в данном столбце для оптимизации и проанализируем столбец на наличие повторяющихся значений, чтобы избежать ошибок при объединении датафреймов;\n",
        "- `paid_at` - содержит информацию о дате фактического платежа. Данная информация понадобится для оценки динамики просроченных платежей, поэтому выполним преобразование к типу `datetime64`. В столбце также содержится информация о времени, поэтому при преобразовании оставим иформацию только о дате для единства с другими датафреймами;\n",
        "- `paid_sum` - содержит информацию о сумме фактического платежа.Тип данных представлен корректно дополнительного преобразования не потребуется. Также выполним понижение разрядности для оптимизации.</font>"
      ],
      "metadata": {
        "id": "7cbyqOJljy9f"
      }
    },
    {
      "cell_type": "markdown",
      "source": [
        "### Вывод\n",
        "\n",
        "<font color='#777778'> Предварительное знакомство с данными показало, что исходные датафреймы имеют достаточно высокое качество: в них практически отсутствуют полные дубликаты, написание наименований столбцов соответствует стилю snake_case.\n",
        "\n",
        "<font color='#777778'> В датафрейме `orders` 16,64% пропущенных значений, однако пропуски в данном столбце скорее всего не случайны и сигнализируют о том, что заявка ещё не закрыта.\n",
        "\n",
        "<font color='#777778'> Для удобства работы с датами потребуется выполнить преобразования в столбцах, содержащих даты, а также выполнить понижение разрядности в столбцах `order_id` и столбцах, содержащих информацию о денежных суммах. Примечательно, что даты в датафреймах имеют разное представление: в датафреймах `orders` и `payments` представлена дата со временем. Для единства формата при выполнении преобразований оставим информацию только о датах.\n",
        "\n",
        "<font color='#777778'> Также потребуется дополнительно изучить столбец `order_id` для проверки уникальности значений, так как значения данного столбца потенциально могут быть использованы для объединения датафреймов и отслеживания динамики по просрочкам.\n",
        "\n",
        "<font color='#777778'> Приступим к предобработке данных."
      ],
      "metadata": {
        "id": "r4PS7VVnooS6"
      }
    },
    {
      "cell_type": "markdown",
      "source": [
        "## 2. Предобработка данных"
      ],
      "metadata": {
        "id": "x_18YkB8qn-0"
      }
    },
    {
      "cell_type": "markdown",
      "source": [
        "### Преобразование типов данных и понижение разрядности.\n",
        "\n",
        "<font color='#777778'> Выполним преобразование типов данных, а также понижение разрядности в соответствующих столбцах.\n",
        "\n",
        "<font color='#777778'> Для начала преобразуем тип данных в столбцах, содержащих информацию о датах. Начнём с датафрейма `plan`. В нём содержится столбец `plan_at`, содержащий информацию о дате планового платежа."
      ],
      "metadata": {
        "id": "MreZdqMOrHX1"
      }
    },
    {
      "cell_type": "code",
      "source": [
        "#Ознакомимся с форматом представления даты в столбце plan_at датафрейма plan\n",
        "plan['plan_at'].value_counts()"
      ],
      "metadata": {
        "colab": {
          "base_uri": "https://localhost:8080/",
          "height": 489
        },
        "id": "U0lLm_IarZ5K",
        "outputId": "f65ceec2-da8f-4875-88b0-4c6fb77f6be6"
      },
      "execution_count": null,
      "outputs": [
        {
          "output_type": "execute_result",
          "data": {
            "text/plain": [
              "plan_at\n",
              "2022-08-26    2569\n",
              "2022-08-31    2543\n",
              "2022-08-27    2531\n",
              "2022-08-28    2395\n",
              "2022-09-07    2380\n",
              "              ... \n",
              "2023-05-09       1\n",
              "2023-05-24       1\n",
              "2023-04-24       1\n",
              "2023-04-09       1\n",
              "2023-03-27       1\n",
              "Name: count, Length: 307, dtype: int64"
            ],
            "text/html": [
              "<div>\n",
              "<style scoped>\n",
              "    .dataframe tbody tr th:only-of-type {\n",
              "        vertical-align: middle;\n",
              "    }\n",
              "\n",
              "    .dataframe tbody tr th {\n",
              "        vertical-align: top;\n",
              "    }\n",
              "\n",
              "    .dataframe thead th {\n",
              "        text-align: right;\n",
              "    }\n",
              "</style>\n",
              "<table border=\"1\" class=\"dataframe\">\n",
              "  <thead>\n",
              "    <tr style=\"text-align: right;\">\n",
              "      <th></th>\n",
              "      <th>count</th>\n",
              "    </tr>\n",
              "    <tr>\n",
              "      <th>plan_at</th>\n",
              "      <th></th>\n",
              "    </tr>\n",
              "  </thead>\n",
              "  <tbody>\n",
              "    <tr>\n",
              "      <th>2022-08-26</th>\n",
              "      <td>2569</td>\n",
              "    </tr>\n",
              "    <tr>\n",
              "      <th>2022-08-31</th>\n",
              "      <td>2543</td>\n",
              "    </tr>\n",
              "    <tr>\n",
              "      <th>2022-08-27</th>\n",
              "      <td>2531</td>\n",
              "    </tr>\n",
              "    <tr>\n",
              "      <th>2022-08-28</th>\n",
              "      <td>2395</td>\n",
              "    </tr>\n",
              "    <tr>\n",
              "      <th>2022-09-07</th>\n",
              "      <td>2380</td>\n",
              "    </tr>\n",
              "    <tr>\n",
              "      <th>...</th>\n",
              "      <td>...</td>\n",
              "    </tr>\n",
              "    <tr>\n",
              "      <th>2023-05-09</th>\n",
              "      <td>1</td>\n",
              "    </tr>\n",
              "    <tr>\n",
              "      <th>2023-05-24</th>\n",
              "      <td>1</td>\n",
              "    </tr>\n",
              "    <tr>\n",
              "      <th>2023-04-24</th>\n",
              "      <td>1</td>\n",
              "    </tr>\n",
              "    <tr>\n",
              "      <th>2023-04-09</th>\n",
              "      <td>1</td>\n",
              "    </tr>\n",
              "    <tr>\n",
              "      <th>2023-03-27</th>\n",
              "      <td>1</td>\n",
              "    </tr>\n",
              "  </tbody>\n",
              "</table>\n",
              "<p>307 rows × 1 columns</p>\n",
              "</div><br><label><b>dtype:</b> int64</label>"
            ]
          },
          "metadata": {},
          "execution_count": 665
        }
      ]
    },
    {
      "cell_type": "markdown",
      "source": [
        "<font color='#777778'> Даты представлены в формате `%Y-%m-%d`. Для преобразования типа данных к `datetime64` воспользуемся методом `to_datetime()` с указанием параметра `format` = `%Y-%m-%d`."
      ],
      "metadata": {
        "id": "XvxoQujMvl3Y"
      }
    },
    {
      "cell_type": "code",
      "source": [
        "#Выполянем преобразование\n",
        "plan['plan_at'] = pd.to_datetime(plan['plan_at'], format = '%Y-%m-%d')\n",
        "\n",
        "#Проверяем успешность преобразования\n",
        "pd.DataFrame(plan['plan_at']).info()"
      ],
      "metadata": {
        "colab": {
          "base_uri": "https://localhost:8080/"
        },
        "id": "i0KL6y-dwI06",
        "outputId": "3b2083c1-cd7e-460b-d811-b0e3b95947e4"
      },
      "execution_count": null,
      "outputs": [
        {
          "output_type": "stream",
          "name": "stdout",
          "text": [
            "<class 'pandas.core.frame.DataFrame'>\n",
            "RangeIndex: 420282 entries, 0 to 420281\n",
            "Data columns (total 1 columns):\n",
            " #   Column   Non-Null Count   Dtype         \n",
            "---  ------   --------------   -----         \n",
            " 0   plan_at  420282 non-null  datetime64[ns]\n",
            "dtypes: datetime64[ns](1)\n",
            "memory usage: 3.2 MB\n"
          ]
        }
      ]
    },
    {
      "cell_type": "markdown",
      "source": [
        "<font color='#777778'> Преобразование выполнено успешно.\n",
        "\n",
        "<font color='#777778'> Приступим к преобразованию столбцов с датами в датафрейме `orders` - `created_at`, `put_at` и `closed_at`."
      ],
      "metadata": {
        "id": "fMn_cpZAwT0W"
      }
    },
    {
      "cell_type": "code",
      "source": [
        "#Ознакомимся с форматом представления даты в столбцаах created_at, put_at, closed_at датафрейма orders\n",
        "for column in ['created_at','put_at','closed_at']:\n",
        "    print(f'Формат представления дат в столбце {column}:')\n",
        "    print('')\n",
        "    print(orders[column].value_counts())\n",
        "    print('-'*62)"
      ],
      "metadata": {
        "colab": {
          "base_uri": "https://localhost:8080/"
        },
        "id": "KYt6fi0gxAOK",
        "outputId": "5d17ed78-02a9-4af1-e8f1-03103a95ae09"
      },
      "execution_count": null,
      "outputs": [
        {
          "output_type": "stream",
          "name": "stdout",
          "text": [
            "Формат представления дат в столбце created_at:\n",
            "\n",
            "created_at\n",
            "2022-06-22 13:25:43.000    3\n",
            "2022-07-14 20:02:12.997    3\n",
            "2022-06-15 19:09:40.997    3\n",
            "2022-07-27 19:22:05.000    3\n",
            "2022-06-02 11:44:33.000    3\n",
            "                          ..\n",
            "2022-07-03 04:30:52.000    1\n",
            "2022-07-03 04:43:58.997    1\n",
            "2022-07-03 04:46:27.000    1\n",
            "2022-07-03 05:04:29.000    1\n",
            "2022-08-31 23:49:42.997    1\n",
            "Name: count, Length: 55039, dtype: int64\n",
            "--------------------------------------------------------------\n",
            "Формат представления дат в столбце put_at:\n",
            "\n",
            "put_at\n",
            "2022-08-26 18:32:35.343    2\n",
            "2022-06-23 15:42:41.920    2\n",
            "2022-07-26 00:00:00.000    2\n",
            "2022-07-12 13:14:45.260    2\n",
            "2022-06-02 17:04:46.147    2\n",
            "                          ..\n",
            "2022-07-02 17:02:08.487    1\n",
            "2022-07-07 17:11:49.757    1\n",
            "2022-07-04 14:50:55.747    1\n",
            "2022-07-07 15:12:37.637    1\n",
            "2022-09-01 05:50:06.663    1\n",
            "Name: count, Length: 55732, dtype: int64\n",
            "--------------------------------------------------------------\n",
            "Формат представления дат в столбце closed_at:\n",
            "\n",
            "closed_at\n",
            "2022-08-17 00:00:00.000    3\n",
            "2022-08-23 00:00:00.000    2\n",
            "2022-08-09 00:00:00.000    2\n",
            "2022-08-11 13:46:26.097    2\n",
            "2022-08-15 17:27:06.013    2\n",
            "                          ..\n",
            "2022-07-16 10:58:03.553    1\n",
            "2022-07-11 13:26:16.977    1\n",
            "2022-07-04 06:20:12.877    1\n",
            "2022-07-04 09:03:17.670    1\n",
            "2022-09-12 00:58:57.037    1\n",
            "Name: count, Length: 46453, dtype: int64\n",
            "--------------------------------------------------------------\n"
          ]
        }
      ]
    },
    {
      "cell_type": "markdown",
      "source": [
        "<font color='#777778'> Представление дат в данном датафрейме отличается от датафрейма `plan`, поскольку здесь помимо даты также представлено время. Для единства формата, оставим информацию только о дате и выполним преобразования при помощи метода `to_datetime()`. В качестве параметра `format` также укажем `%Y-%m-%d`."
      ],
      "metadata": {
        "id": "7HMRTqzJxzGO"
      }
    },
    {
      "cell_type": "code",
      "source": [
        "#Оставляем информацию только о датах\n",
        "for column in ['created_at','put_at','closed_at']:\n",
        "    orders[column] = orders[column].str.slice(0,10)\n",
        "\n",
        "#Выводим результат преобразований\n",
        "for column in ['created_at','put_at','closed_at']:\n",
        "    print(f'Формат представления дат в столбце {column}:')\n",
        "    print('')\n",
        "    print(orders[column].value_counts())\n",
        "    print('-'*62)"
      ],
      "metadata": {
        "colab": {
          "base_uri": "https://localhost:8080/"
        },
        "id": "NlKtW-KIzMPu",
        "outputId": "9bf3cf2b-1eb7-4c16-b71d-a7564da38906"
      },
      "execution_count": null,
      "outputs": [
        {
          "output_type": "stream",
          "name": "stdout",
          "text": [
            "Формат представления дат в столбце created_at:\n",
            "\n",
            "created_at\n",
            "2022-07-15    872\n",
            "2022-08-11    829\n",
            "2022-06-16    822\n",
            "2022-07-11    808\n",
            "2022-06-10    806\n",
            "             ... \n",
            "2022-06-12    488\n",
            "2022-08-21    486\n",
            "2022-07-10    481\n",
            "2022-07-03    479\n",
            "2022-06-05    443\n",
            "Name: count, Length: 91, dtype: int64\n",
            "--------------------------------------------------------------\n",
            "Формат представления дат в столбце put_at:\n",
            "\n",
            "put_at\n",
            "2022-08-26    747\n",
            "2022-07-26    709\n",
            "2022-08-12    693\n",
            "2022-08-01    692\n",
            "2022-08-04    690\n",
            "             ... \n",
            "2022-09-24     11\n",
            "2022-09-26      8\n",
            "2022-09-28      5\n",
            "2022-09-27      3\n",
            "2022-09-29      2\n",
            "Name: count, Length: 120, dtype: int64\n",
            "--------------------------------------------------------------\n",
            "Формат представления дат в столбце closed_at:\n",
            "\n",
            "closed_at\n",
            "2022-08-11    831\n",
            "2022-08-16    830\n",
            "2022-08-12    747\n",
            "2022-08-04    688\n",
            "2022-07-15    672\n",
            "             ... \n",
            "2022-11-26     33\n",
            "2022-06-04     31\n",
            "2022-06-03     31\n",
            "2022-06-02     11\n",
            "2022-12-08     11\n",
            "Name: count, Length: 190, dtype: int64\n",
            "--------------------------------------------------------------\n"
          ]
        }
      ]
    },
    {
      "cell_type": "markdown",
      "source": [
        "<font color='#777778'> Теперь даты представлены без времени. Выполним преобразование типа данных."
      ],
      "metadata": {
        "id": "Nr0y64V4z_ey"
      }
    },
    {
      "cell_type": "code",
      "source": [
        "#Выполянем преобразование\n",
        "for column in orders[['created_at','put_at','closed_at']]:\n",
        "  orders[column] = pd.to_datetime(orders[column], format = '%Y-%m-%d')\n",
        "\n",
        "#Проверяем успешность преобразования\n",
        "orders[['created_at','put_at','closed_at']].info()"
      ],
      "metadata": {
        "colab": {
          "base_uri": "https://localhost:8080/"
        },
        "id": "ELktSRv50K4Y",
        "outputId": "8951ac44-b8fc-428a-b99d-403e1631d469"
      },
      "execution_count": null,
      "outputs": [
        {
          "output_type": "stream",
          "name": "stdout",
          "text": [
            "<class 'pandas.core.frame.DataFrame'>\n",
            "RangeIndex: 55748 entries, 0 to 55747\n",
            "Data columns (total 3 columns):\n",
            " #   Column      Non-Null Count  Dtype         \n",
            "---  ------      --------------  -----         \n",
            " 0   created_at  55748 non-null  datetime64[ns]\n",
            " 1   put_at      55748 non-null  datetime64[ns]\n",
            " 2   closed_at   46472 non-null  datetime64[ns]\n",
            "dtypes: datetime64[ns](3)\n",
            "memory usage: 1.3 MB\n"
          ]
        }
      ]
    },
    {
      "cell_type": "markdown",
      "source": [
        "<font color='#777778'> Преобразование выполнено успешно. Приступим к преоьразованию в датафрейме `payments`. В данном датафрейме содержится одним столбец с датами - `paid_at`."
      ],
      "metadata": {
        "id": "pYBOxif61h8i"
      }
    },
    {
      "cell_type": "code",
      "source": [
        "#Ознакомимся с форматом представления даты в столбце paid_at датафрейма payments\n",
        "payments['paid_at'].value_counts()"
      ],
      "metadata": {
        "colab": {
          "base_uri": "https://localhost:8080/",
          "height": 489
        },
        "id": "HKwTRbQy1rKz",
        "outputId": "766af879-aca7-4fd1-b3e0-4103de2fee38"
      },
      "execution_count": null,
      "outputs": [
        {
          "output_type": "execute_result",
          "data": {
            "text/plain": [
              "paid_at\n",
              "2022-08-11 14:23:59.997    3\n",
              "2022-09-15 14:23:59.997    3\n",
              "2022-08-10 14:23:59.997    3\n",
              "2022-09-08 20:11:40.640    2\n",
              "2022-09-16 14:02:32.843    2\n",
              "                          ..\n",
              "2022-07-29 19:58:05.843    1\n",
              "2022-07-29 19:57:22.640    1\n",
              "2022-07-29 19:57:18.710    1\n",
              "2022-07-29 19:54:41.603    1\n",
              "2022-12-08 13:28:23.703    1\n",
              "Name: count, Length: 143172, dtype: int64"
            ],
            "text/html": [
              "<div>\n",
              "<style scoped>\n",
              "    .dataframe tbody tr th:only-of-type {\n",
              "        vertical-align: middle;\n",
              "    }\n",
              "\n",
              "    .dataframe tbody tr th {\n",
              "        vertical-align: top;\n",
              "    }\n",
              "\n",
              "    .dataframe thead th {\n",
              "        text-align: right;\n",
              "    }\n",
              "</style>\n",
              "<table border=\"1\" class=\"dataframe\">\n",
              "  <thead>\n",
              "    <tr style=\"text-align: right;\">\n",
              "      <th></th>\n",
              "      <th>count</th>\n",
              "    </tr>\n",
              "    <tr>\n",
              "      <th>paid_at</th>\n",
              "      <th></th>\n",
              "    </tr>\n",
              "  </thead>\n",
              "  <tbody>\n",
              "    <tr>\n",
              "      <th>2022-08-11 14:23:59.997</th>\n",
              "      <td>3</td>\n",
              "    </tr>\n",
              "    <tr>\n",
              "      <th>2022-09-15 14:23:59.997</th>\n",
              "      <td>3</td>\n",
              "    </tr>\n",
              "    <tr>\n",
              "      <th>2022-08-10 14:23:59.997</th>\n",
              "      <td>3</td>\n",
              "    </tr>\n",
              "    <tr>\n",
              "      <th>2022-09-08 20:11:40.640</th>\n",
              "      <td>2</td>\n",
              "    </tr>\n",
              "    <tr>\n",
              "      <th>2022-09-16 14:02:32.843</th>\n",
              "      <td>2</td>\n",
              "    </tr>\n",
              "    <tr>\n",
              "      <th>...</th>\n",
              "      <td>...</td>\n",
              "    </tr>\n",
              "    <tr>\n",
              "      <th>2022-07-29 19:58:05.843</th>\n",
              "      <td>1</td>\n",
              "    </tr>\n",
              "    <tr>\n",
              "      <th>2022-07-29 19:57:22.640</th>\n",
              "      <td>1</td>\n",
              "    </tr>\n",
              "    <tr>\n",
              "      <th>2022-07-29 19:57:18.710</th>\n",
              "      <td>1</td>\n",
              "    </tr>\n",
              "    <tr>\n",
              "      <th>2022-07-29 19:54:41.603</th>\n",
              "      <td>1</td>\n",
              "    </tr>\n",
              "    <tr>\n",
              "      <th>2022-12-08 13:28:23.703</th>\n",
              "      <td>1</td>\n",
              "    </tr>\n",
              "  </tbody>\n",
              "</table>\n",
              "<p>143172 rows × 1 columns</p>\n",
              "</div><br><label><b>dtype:</b> int64</label>"
            ]
          },
          "metadata": {},
          "execution_count": 670
        }
      ]
    },
    {
      "cell_type": "markdown",
      "source": [
        "<font color='#777778'> В данном столбце также потребуется предварителая очистка от времени. Далее выполним преобразование при помощи `to_datetime()` с указанием `format` = `%Y-%m-%d`."
      ],
      "metadata": {
        "id": "F3dQU-2017HW"
      }
    },
    {
      "cell_type": "code",
      "source": [
        "#Оставляем информацию только о датах\n",
        "payments['paid_at'] = payments['paid_at'].str.slice(0,10)\n",
        "\n",
        "#Проверяем успешность преобразования\n",
        "payments['paid_at'].value_counts()"
      ],
      "metadata": {
        "colab": {
          "base_uri": "https://localhost:8080/",
          "height": 489
        },
        "id": "O6MPpBTV2TxV",
        "outputId": "8c096cc3-de98-420d-9179-d737e0ed735b"
      },
      "execution_count": null,
      "outputs": [
        {
          "output_type": "execute_result",
          "data": {
            "text/plain": [
              "paid_at\n",
              "2022-08-16    1971\n",
              "2022-08-11    1964\n",
              "2022-08-12    1872\n",
              "2022-08-04    1870\n",
              "2022-08-26    1832\n",
              "              ... \n",
              "2022-06-02     189\n",
              "2022-11-25     182\n",
              "2022-11-27     168\n",
              "2022-11-26     166\n",
              "2022-12-08      81\n",
              "Name: count, Length: 190, dtype: int64"
            ],
            "text/html": [
              "<div>\n",
              "<style scoped>\n",
              "    .dataframe tbody tr th:only-of-type {\n",
              "        vertical-align: middle;\n",
              "    }\n",
              "\n",
              "    .dataframe tbody tr th {\n",
              "        vertical-align: top;\n",
              "    }\n",
              "\n",
              "    .dataframe thead th {\n",
              "        text-align: right;\n",
              "    }\n",
              "</style>\n",
              "<table border=\"1\" class=\"dataframe\">\n",
              "  <thead>\n",
              "    <tr style=\"text-align: right;\">\n",
              "      <th></th>\n",
              "      <th>count</th>\n",
              "    </tr>\n",
              "    <tr>\n",
              "      <th>paid_at</th>\n",
              "      <th></th>\n",
              "    </tr>\n",
              "  </thead>\n",
              "  <tbody>\n",
              "    <tr>\n",
              "      <th>2022-08-16</th>\n",
              "      <td>1971</td>\n",
              "    </tr>\n",
              "    <tr>\n",
              "      <th>2022-08-11</th>\n",
              "      <td>1964</td>\n",
              "    </tr>\n",
              "    <tr>\n",
              "      <th>2022-08-12</th>\n",
              "      <td>1872</td>\n",
              "    </tr>\n",
              "    <tr>\n",
              "      <th>2022-08-04</th>\n",
              "      <td>1870</td>\n",
              "    </tr>\n",
              "    <tr>\n",
              "      <th>2022-08-26</th>\n",
              "      <td>1832</td>\n",
              "    </tr>\n",
              "    <tr>\n",
              "      <th>...</th>\n",
              "      <td>...</td>\n",
              "    </tr>\n",
              "    <tr>\n",
              "      <th>2022-06-02</th>\n",
              "      <td>189</td>\n",
              "    </tr>\n",
              "    <tr>\n",
              "      <th>2022-11-25</th>\n",
              "      <td>182</td>\n",
              "    </tr>\n",
              "    <tr>\n",
              "      <th>2022-11-27</th>\n",
              "      <td>168</td>\n",
              "    </tr>\n",
              "    <tr>\n",
              "      <th>2022-11-26</th>\n",
              "      <td>166</td>\n",
              "    </tr>\n",
              "    <tr>\n",
              "      <th>2022-12-08</th>\n",
              "      <td>81</td>\n",
              "    </tr>\n",
              "  </tbody>\n",
              "</table>\n",
              "<p>190 rows × 1 columns</p>\n",
              "</div><br><label><b>dtype:</b> int64</label>"
            ]
          },
          "metadata": {},
          "execution_count": 671
        }
      ]
    },
    {
      "cell_type": "markdown",
      "source": [
        "Очистка от времени выполнена успешно. Выполняем преобразование типа данных."
      ],
      "metadata": {
        "id": "FKSuFOKJ2n9J"
      }
    },
    {
      "cell_type": "code",
      "source": [
        "#Выполянем преобразование\n",
        "payments['paid_at'] = pd.to_datetime(payments['paid_at'], format = '%Y-%m-%d')\n",
        "\n",
        "#Проверяем успешность преобразования\n",
        "pd.DataFrame(payments['paid_at']).info()"
      ],
      "metadata": {
        "colab": {
          "base_uri": "https://localhost:8080/"
        },
        "id": "ZfR_dVMH2wrd",
        "outputId": "72e509ee-da11-4150-f93d-74490cb146ca"
      },
      "execution_count": null,
      "outputs": [
        {
          "output_type": "stream",
          "name": "stdout",
          "text": [
            "<class 'pandas.core.frame.DataFrame'>\n",
            "RangeIndex: 143284 entries, 0 to 143283\n",
            "Data columns (total 1 columns):\n",
            " #   Column   Non-Null Count   Dtype         \n",
            "---  ------   --------------   -----         \n",
            " 0   paid_at  143284 non-null  datetime64[ns]\n",
            "dtypes: datetime64[ns](1)\n",
            "memory usage: 1.1 MB\n"
          ]
        }
      ]
    },
    {
      "cell_type": "markdown",
      "source": [
        "<font color='#777778'> Преобразования типов данных в столбцах, содержащих информацию о датах выполнены успешно.\n",
        "\n",
        "<font color='#777778'>Приступим к понижению разрядности. Понижение разрядности выполним в столбцах `order_id` и столбцах, содержащих информацию о денежных суммах.\n",
        "\n",
        "<font color='#777778'>Для автоматизации рутинных действий напишем функцию `downcast`, которая будет выполнять понижение разрядности в нужных столбцах."
      ],
      "metadata": {
        "id": "XKuDcOrm26ZU"
      }
    },
    {
      "cell_type": "code",
      "source": [
        "#Создаём функцию\n",
        "def downcast(df):\n",
        "    \"\"\"\n",
        "    Выполняет понижение разрядности в столбцах датафрейма с типами данных\n",
        "    int64 и float64\n",
        "\n",
        "    Parameters:\n",
        "        df (name of pd.DataFrame): Датафрейм для обработки.\n",
        "    \"\"\"\n",
        "    for dtype, column in zip(df.dtypes, df.columns):\n",
        "        if dtype == 'int64':\n",
        "            df[column] = pd.to_numeric(df[column], downcast = 'integer')\n",
        "        elif dtype == 'float64':\n",
        "            df[column] = pd.to_numeric(df[column], downcast = 'float')\n",
        "    print('Результат понижения разрядности:')\n",
        "    print('')\n",
        "    return df.info()"
      ],
      "metadata": {
        "id": "YiweGIT23Vze"
      },
      "execution_count": null,
      "outputs": []
    },
    {
      "cell_type": "code",
      "source": [
        "#Применяем функцию к датафрейму orders\n",
        "downcast(orders)"
      ],
      "metadata": {
        "colab": {
          "base_uri": "https://localhost:8080/"
        },
        "id": "Dg6JeyiE46oW",
        "outputId": "07cf0ae3-e33c-413c-9c45-a1f5a9698727"
      },
      "execution_count": null,
      "outputs": [
        {
          "output_type": "stream",
          "name": "stdout",
          "text": [
            "Результат понижения разрядности:\n",
            "\n",
            "<class 'pandas.core.frame.DataFrame'>\n",
            "RangeIndex: 55748 entries, 0 to 55747\n",
            "Data columns (total 5 columns):\n",
            " #   Column      Non-Null Count  Dtype         \n",
            "---  ------      --------------  -----         \n",
            " 0   order_id    55748 non-null  int32         \n",
            " 1   created_at  55748 non-null  datetime64[ns]\n",
            " 2   put_at      55748 non-null  datetime64[ns]\n",
            " 3   closed_at   46472 non-null  datetime64[ns]\n",
            " 4   issued_sum  55748 non-null  float32       \n",
            "dtypes: datetime64[ns](3), float32(1), int32(1)\n",
            "memory usage: 1.7 MB\n"
          ]
        }
      ]
    },
    {
      "cell_type": "code",
      "source": [
        "#Применяем функцию к датафрейму payments\n",
        "downcast(payments)"
      ],
      "metadata": {
        "colab": {
          "base_uri": "https://localhost:8080/"
        },
        "id": "_m4eUG-v7iA_",
        "outputId": "14aa2f5f-9590-4124-dca8-fd56041569de"
      },
      "execution_count": null,
      "outputs": [
        {
          "output_type": "stream",
          "name": "stdout",
          "text": [
            "Результат понижения разрядности:\n",
            "\n",
            "<class 'pandas.core.frame.DataFrame'>\n",
            "RangeIndex: 143284 entries, 0 to 143283\n",
            "Data columns (total 3 columns):\n",
            " #   Column    Non-Null Count   Dtype         \n",
            "---  ------    --------------   -----         \n",
            " 0   order_id  143284 non-null  int32         \n",
            " 1   paid_at   143284 non-null  datetime64[ns]\n",
            " 2   paid_sum  143284 non-null  float64       \n",
            "dtypes: datetime64[ns](1), float64(1), int32(1)\n",
            "memory usage: 2.7 MB\n"
          ]
        }
      ]
    },
    {
      "cell_type": "code",
      "source": [
        "#Применяем функцию к датафрейму plan\n",
        "downcast(plan)"
      ],
      "metadata": {
        "colab": {
          "base_uri": "https://localhost:8080/"
        },
        "id": "3fo3VkSL7ulv",
        "outputId": "17e8983b-0dd7-456c-88c4-d2315c2eb997"
      },
      "execution_count": null,
      "outputs": [
        {
          "output_type": "stream",
          "name": "stdout",
          "text": [
            "Результат понижения разрядности:\n",
            "\n",
            "<class 'pandas.core.frame.DataFrame'>\n",
            "RangeIndex: 420282 entries, 0 to 420281\n",
            "Data columns (total 3 columns):\n",
            " #   Column          Non-Null Count   Dtype         \n",
            "---  ------          --------------   -----         \n",
            " 0   order_id        420282 non-null  int32         \n",
            " 1   plan_at         420282 non-null  datetime64[ns]\n",
            " 2   plan_sum_total  420282 non-null  float64       \n",
            "dtypes: datetime64[ns](1), float64(1), int32(1)\n",
            "memory usage: 8.0 MB\n"
          ]
        }
      ]
    },
    {
      "cell_type": "markdown",
      "source": [
        "<font color='#777778'>  В результате удалось выполнить понижение разрядности для стольцов содержащих id заявки, а также для столбца, содержащего информацию о сумме выдачи по заявке. Разрядность была понижена до 32-х, что позволит сэкономить вычислительные мощности. Это особенно актуально для более крупных датафреймов."
      ],
      "metadata": {
        "id": "cqXxFx-Y75oC"
      }
    },
    {
      "cell_type": "markdown",
      "source": [
        "### Очистка данных от полных дубликатов и проверка на уникальность значений в столбце `order_id`"
      ],
      "metadata": {
        "id": "o4ilNrv3824b"
      }
    },
    {
      "cell_type": "markdown",
      "source": [
        "<font color='#777778'>  В ходе предварительного знакомства с данными было выявлено, что в датафрейме `payments` содержится незначительное количество полных дубликатов. Несмотря на то, что количество таких срок составляет менее 1%, выполним очистку датафрейма. Воспользуемся методом `drop_duplicates()`."
      ],
      "metadata": {
        "id": "B45w1NjV9FQv"
      }
    },
    {
      "cell_type": "code",
      "source": [
        "#Очищаем датафрейм payments от полных дубликатов\n",
        "payments = payments.drop_duplicates()\n",
        "\n",
        "#Выводим информацию об успешности преобразований\n",
        "payments_duplicates = payments.duplicated().mean() * 100\n",
        "\n",
        "print(f'Количество дубликатов в датафрейме `payments`: {payments_duplicates}%')"
      ],
      "metadata": {
        "colab": {
          "base_uri": "https://localhost:8080/"
        },
        "id": "TPdVogqW966c",
        "outputId": "97314c27-e9f3-49d0-fdfb-d9dece7abcb8"
      },
      "execution_count": null,
      "outputs": [
        {
          "output_type": "stream",
          "name": "stdout",
          "text": [
            "Количество дубликатов в датафрейме `payments`: 0.0%\n"
          ]
        }
      ]
    },
    {
      "cell_type": "markdown",
      "source": [
        "<font color='#777778'> Очистка от дубликатов выполнена успешно.\n",
        "Приступим к проверке уникальности значений `order_id` в датафреймах `orders`, `payments` и `plan`."
      ],
      "metadata": {
        "id": "MixW_8vd-uS6"
      }
    },
    {
      "cell_type": "code",
      "source": [
        "for df, df_name in zip([orders,payments,plan],['orders','payments','plan']):\n",
        "    duplicated_id_count = round(df.duplicated(subset = 'order_id').mean() * 100,2)\n",
        "    print(f'Количество дубликатов по полю `order_id` в {df_name}: {duplicated_id_count}%')"
      ],
      "metadata": {
        "colab": {
          "base_uri": "https://localhost:8080/"
        },
        "id": "K1FPwYEs_uoy",
        "outputId": "ff1af4d0-e4f4-4d6a-ce7c-14e36bc3e206"
      },
      "execution_count": null,
      "outputs": [
        {
          "output_type": "stream",
          "name": "stdout",
          "text": [
            "Количество дубликатов по полю `order_id` в orders: 0.0%\n",
            "Количество дубликатов по полю `order_id` в payments: 61.99%\n",
            "Количество дубликатов по полю `order_id` в plan: 86.74%\n"
          ]
        }
      ]
    },
    {
      "cell_type": "markdown",
      "source": [
        "<font color='#777778'> Значения `order_id` в датафрейме `orders` полностью уникальны, однако в датафреймах `payments` и `plan` есть дубликаты по данному полю. Рассмотрим их детально."
      ],
      "metadata": {
        "id": "PrU0rYngBatH"
      }
    },
    {
      "cell_type": "markdown",
      "source": [
        "<font color='#777778'> В датафрейме `payments` содержится 61.99% дубликатов в поле `order_id`. Скорее всего в датафрейме содержится информация о платежах по кредиту в разбивке по дням. Использовать данное поле в таком виде для объединения с другими датафреймами нельзя.\n",
        "\n",
        "<font color='#777778'> Рассмотрим номер заявки в связке с датой платежа."
      ],
      "metadata": {
        "id": "fuhnQ54xD9cE"
      }
    },
    {
      "cell_type": "code",
      "source": [
        "#Вычисляем количество дубликатов в связке order_id и paid_at\n",
        "\n",
        "id_and_date_duplicates = round(payments.duplicated(subset = ['order_id','paid_at']).mean() * 100,2)\n",
        "print(f'Количество дубликатов в связке order_id и paid_at: {id_and_date_duplicates}%')"
      ],
      "metadata": {
        "colab": {
          "base_uri": "https://localhost:8080/"
        },
        "id": "5-Ec3wNwGAJQ",
        "outputId": "0c9912bc-cc48-4efc-9181-eca6079676a7"
      },
      "execution_count": null,
      "outputs": [
        {
          "output_type": "stream",
          "name": "stdout",
          "text": [
            "Количество дубликатов в связке order_id и paid_at: 4.72%\n"
          ]
        }
      ]
    },
    {
      "cell_type": "markdown",
      "source": [
        "<font color='#777778'> Скорее всего по некоторым заявкам в некоторые из дней было сделано несколько платежей. Выполним группировку по id заявки и дате платежа, для того, чтобы избавиться от дубликатов."
      ],
      "metadata": {
        "id": "Bc_RtAaTHx3i"
      }
    },
    {
      "cell_type": "code",
      "source": [
        "#Выполняем группировку\n",
        "payments_grouped = payments.groupby(['order_id','paid_at'])['paid_sum'].sum().reset_index()\n",
        "\n",
        "#Вычисляем количество дубликатов в связке order_id и paid_at\n",
        "id_and_date_duplicates = round(payments_grouped.duplicated(subset = ['order_id','paid_at']).mean() * 100,2)\n",
        "print(f'Количество дубликатов в связке order_id и paid_at: {id_and_date_duplicates}%')"
      ],
      "metadata": {
        "colab": {
          "base_uri": "https://localhost:8080/"
        },
        "id": "zq80AgrZPVZ0",
        "outputId": "0641b642-ff5a-4c6e-ee82-debaef80f599"
      },
      "execution_count": null,
      "outputs": [
        {
          "output_type": "stream",
          "name": "stdout",
          "text": [
            "Количество дубликатов в связке order_id и paid_at: 0.0%\n"
          ]
        }
      ]
    },
    {
      "cell_type": "markdown",
      "source": [
        "<font color='#777778'> Теперь значения в связке `order_id` `paid_at` - уникальны и их можно использовать при сопоставлении данных с плановыми платежами.\n",
        "\n",
        "<font color='#777778'> Аналогично исследуем дубликаты в датафрейме `plan`. Рассмотрим `order_id` в связке с `plan_at`."
      ],
      "metadata": {
        "id": "nDLgWVXDRkuf"
      }
    },
    {
      "cell_type": "code",
      "source": [
        "#Вычисляем количество дубликатов в связке order_id и paid_at\n",
        "\n",
        "id_and_date_duplicates = round(plan.duplicated(subset = ['order_id','plan_at']).mean() * 100,2)\n",
        "print(f'Количество дубликатов в связке order_id и plan_at: {id_and_date_duplicates}%')"
      ],
      "metadata": {
        "colab": {
          "base_uri": "https://localhost:8080/"
        },
        "id": "NwfCHiOwTXxk",
        "outputId": "3f460c25-8ad9-4de4-d44f-24079ada1c9e"
      },
      "execution_count": null,
      "outputs": [
        {
          "output_type": "stream",
          "name": "stdout",
          "text": [
            "Количество дубликатов в связке order_id и plan_at: 0.0%\n"
          ]
        }
      ]
    },
    {
      "cell_type": "markdown",
      "source": [
        "<font color='#777778'> Дубликаты в связке `plan_at` и `order_id` отсутствуют. Можно использовать данную связку при сравнении данных.\n",
        "\n",
        "<font color='#777778'> Несмотря на выполненные преобразования всё ещё присутствует проблема при объединении датафреймов с плановыми и фактическими платежами. В связке `order_id` и дата платежа значения уникальны, однако для объединения их использовать нельзя. Несовпадение даты в плановом и фактическом платеже не всегда свидетельствует о просрочке. Оно может быть обусловлено и досрочным платежом. Выполним нумерацию платежей внутри каждой заявки для того, чтобы присвоить номер каждому платежу и выполним объединение датафреймов на основании номера заявки и присвоенного номера платежа. Далее можно выполнить сравнение дат и сумм плановых и фактических платежей."
      ],
      "metadata": {
        "id": "jCK8TrlHUCWV"
      }
    },
    {
      "cell_type": "markdown",
      "source": [
        "### Подготовка датафрейма `plan_filtered` к анализу."
      ],
      "metadata": {
        "id": "djbmzsJQcV-M"
      }
    },
    {
      "cell_type": "markdown",
      "source": [
        "<font color='#777778'>  Так как мы оцениваем динамику по просрочкам на 08.12.2022, необходимо отсеять плановые платежи с более поздними датами."
      ],
      "metadata": {
        "id": "kYRM25sEJuwB"
      }
    },
    {
      "cell_type": "code",
      "source": [
        "#Фильтруем данные по дате планового платежа\n",
        "plan_filtered = plan[(plan['plan_at']) <= '2022-12-08'].copy()\n",
        "\n",
        "#Выводим информацию о получившемся датафрейме\n",
        "print(f'Количество строк после фильтрации датафрейма `plan_filtered`: {len(plan_filtered)}')"
      ],
      "metadata": {
        "colab": {
          "base_uri": "https://localhost:8080/"
        },
        "id": "guqAa9KZJ8L6",
        "outputId": "17be61c6-10ae-473f-ff24-a0a1b022b9a4"
      },
      "execution_count": null,
      "outputs": [
        {
          "output_type": "stream",
          "name": "stdout",
          "text": [
            "Количество строк после фильтрации датафрейма `plan_filtered`: 333399\n"
          ]
        }
      ]
    },
    {
      "cell_type": "markdown",
      "source": [
        "<font color='#777778'> Так как для определения просрочки необходимо проверить на соответствие не только дату платежа, но и его сумму, необходимо найти сумму каждого платежа в датафрейме `plan` и сопоставить её с суммой фактического платежа. Для этого воспользуемся методм diff(), предварительно отсортировав данные по полю `order_id` и `plan_at`. Сумма самого первого платежа будет соответствовать значению из `plan_sum_total`. Результат вычисления выделим в отдельный столбец `plan_sum`."
      ],
      "metadata": {
        "id": "_vIlod7VcjJP"
      }
    },
    {
      "cell_type": "code",
      "source": [
        "#Находим сумму каждого платежа при помощи метода diff()\n",
        "\n",
        "plan_filtered = plan_filtered.sort_values(by = ['order_id','plan_at'])\n",
        "plan_filtered['plan_sum'] = plan_filtered.groupby(['order_id'])['plan_sum_total'].diff()\n",
        "\n",
        "#Заменяем значение NULL на сумму plan_sum_total\n",
        "plan_filtered['plan_sum'] = plan_filtered['plan_sum'].fillna(plan_filtered['plan_sum_total'])"
      ],
      "metadata": {
        "id": "P8dCRxZEXNDm"
      },
      "execution_count": null,
      "outputs": []
    },
    {
      "cell_type": "markdown",
      "source": [
        "<font color='#777778'> Выполним нумерацию каждого платежа в рамках каждого кредита и добавим общую сумму задолженности по каждому кредиту, а также вычислим суммарное количество запланированных платежей."
      ],
      "metadata": {
        "id": "NHKFCl2bhieA"
      }
    },
    {
      "cell_type": "code",
      "source": [
        "#Находим общую сумму задолженности по каждому кредиту\n",
        "total_debt = plan_filtered.groupby('order_id',as_index = False)['plan_sum_total'].max()\n",
        "total_debt = total_debt.rename(columns = {'plan_sum_total' : 'total_debt'})\n",
        "\n",
        "#Присоединим информацию об общей сумме задолженности при помощи pd.merge()\n",
        "plan_filtered = pd.merge(plan_filtered,total_debt,how = 'left',on = 'order_id')"
      ],
      "metadata": {
        "id": "416w9Juns0Wx"
      },
      "execution_count": null,
      "outputs": []
    },
    {
      "cell_type": "code",
      "source": [
        "#Выполняем нумерацию платежей\n",
        "plan_filtered['payment_num'] = plan_filtered.groupby('order_id')['plan_at'].rank(ascending=True)\n",
        "\n",
        "#Подтягиваем количество платежей по каждому кредиту при помощи pd.merge()\n",
        "payments_total = plan_filtered.groupby('order_id', as_index = False)['payment_num'].max()\n",
        "payments_total = payments_total.rename(columns = {'payment_num' : 'total_payments'})\n",
        "\n",
        "plan_filtered = pd.merge(plan_filtered,payments_total,how = 'left',on = 'order_id')"
      ],
      "metadata": {
        "id": "Dr9mA702pgq9"
      },
      "execution_count": null,
      "outputs": []
    },
    {
      "cell_type": "code",
      "source": [
        "#Проведём проверку корректности расчётов на примере одной из заявок\n",
        "calculation_check = plan_filtered[(plan_filtered['order_id'] == 495177509)].copy()\n",
        "calculation_check"
      ],
      "metadata": {
        "colab": {
          "base_uri": "https://localhost:8080/",
          "height": 300
        },
        "id": "NaXJbFXpdzfT",
        "outputId": "9853c79a-d458-4b42-cd6b-c9d7506618cd"
      },
      "execution_count": null,
      "outputs": [
        {
          "output_type": "execute_result",
          "data": {
            "text/plain": [
              "         order_id    plan_at  plan_sum_total  plan_sum  total_debt  \\\n",
              "333391  495177509 2022-09-01         7130.00   7130.00    31597.37   \n",
              "333392  495177509 2022-09-08        10695.00   3565.00    31597.37   \n",
              "333393  495177509 2022-09-23        16010.00   5315.00    31597.37   \n",
              "333394  495177509 2022-10-08        19956.17   3946.17    31597.37   \n",
              "333395  495177509 2022-10-23        23421.40   3465.23    31597.37   \n",
              "333396  495177509 2022-11-07        26183.72   2762.32    31597.37   \n",
              "333397  495177509 2022-11-22        28909.04   2725.32    31597.37   \n",
              "333398  495177509 2022-12-07        31597.37   2688.33    31597.37   \n",
              "\n",
              "        payment_num  total_payments  \n",
              "333391          1.0             8.0  \n",
              "333392          2.0             8.0  \n",
              "333393          3.0             8.0  \n",
              "333394          4.0             8.0  \n",
              "333395          5.0             8.0  \n",
              "333396          6.0             8.0  \n",
              "333397          7.0             8.0  \n",
              "333398          8.0             8.0  "
            ],
            "text/html": [
              "\n",
              "  <div id=\"df-e6e96db7-e675-41e8-865b-eedc6e5a1b24\" class=\"colab-df-container\">\n",
              "    <div>\n",
              "<style scoped>\n",
              "    .dataframe tbody tr th:only-of-type {\n",
              "        vertical-align: middle;\n",
              "    }\n",
              "\n",
              "    .dataframe tbody tr th {\n",
              "        vertical-align: top;\n",
              "    }\n",
              "\n",
              "    .dataframe thead th {\n",
              "        text-align: right;\n",
              "    }\n",
              "</style>\n",
              "<table border=\"1\" class=\"dataframe\">\n",
              "  <thead>\n",
              "    <tr style=\"text-align: right;\">\n",
              "      <th></th>\n",
              "      <th>order_id</th>\n",
              "      <th>plan_at</th>\n",
              "      <th>plan_sum_total</th>\n",
              "      <th>plan_sum</th>\n",
              "      <th>total_debt</th>\n",
              "      <th>payment_num</th>\n",
              "      <th>total_payments</th>\n",
              "    </tr>\n",
              "  </thead>\n",
              "  <tbody>\n",
              "    <tr>\n",
              "      <th>333391</th>\n",
              "      <td>495177509</td>\n",
              "      <td>2022-09-01</td>\n",
              "      <td>7130.00</td>\n",
              "      <td>7130.00</td>\n",
              "      <td>31597.37</td>\n",
              "      <td>1.0</td>\n",
              "      <td>8.0</td>\n",
              "    </tr>\n",
              "    <tr>\n",
              "      <th>333392</th>\n",
              "      <td>495177509</td>\n",
              "      <td>2022-09-08</td>\n",
              "      <td>10695.00</td>\n",
              "      <td>3565.00</td>\n",
              "      <td>31597.37</td>\n",
              "      <td>2.0</td>\n",
              "      <td>8.0</td>\n",
              "    </tr>\n",
              "    <tr>\n",
              "      <th>333393</th>\n",
              "      <td>495177509</td>\n",
              "      <td>2022-09-23</td>\n",
              "      <td>16010.00</td>\n",
              "      <td>5315.00</td>\n",
              "      <td>31597.37</td>\n",
              "      <td>3.0</td>\n",
              "      <td>8.0</td>\n",
              "    </tr>\n",
              "    <tr>\n",
              "      <th>333394</th>\n",
              "      <td>495177509</td>\n",
              "      <td>2022-10-08</td>\n",
              "      <td>19956.17</td>\n",
              "      <td>3946.17</td>\n",
              "      <td>31597.37</td>\n",
              "      <td>4.0</td>\n",
              "      <td>8.0</td>\n",
              "    </tr>\n",
              "    <tr>\n",
              "      <th>333395</th>\n",
              "      <td>495177509</td>\n",
              "      <td>2022-10-23</td>\n",
              "      <td>23421.40</td>\n",
              "      <td>3465.23</td>\n",
              "      <td>31597.37</td>\n",
              "      <td>5.0</td>\n",
              "      <td>8.0</td>\n",
              "    </tr>\n",
              "    <tr>\n",
              "      <th>333396</th>\n",
              "      <td>495177509</td>\n",
              "      <td>2022-11-07</td>\n",
              "      <td>26183.72</td>\n",
              "      <td>2762.32</td>\n",
              "      <td>31597.37</td>\n",
              "      <td>6.0</td>\n",
              "      <td>8.0</td>\n",
              "    </tr>\n",
              "    <tr>\n",
              "      <th>333397</th>\n",
              "      <td>495177509</td>\n",
              "      <td>2022-11-22</td>\n",
              "      <td>28909.04</td>\n",
              "      <td>2725.32</td>\n",
              "      <td>31597.37</td>\n",
              "      <td>7.0</td>\n",
              "      <td>8.0</td>\n",
              "    </tr>\n",
              "    <tr>\n",
              "      <th>333398</th>\n",
              "      <td>495177509</td>\n",
              "      <td>2022-12-07</td>\n",
              "      <td>31597.37</td>\n",
              "      <td>2688.33</td>\n",
              "      <td>31597.37</td>\n",
              "      <td>8.0</td>\n",
              "      <td>8.0</td>\n",
              "    </tr>\n",
              "  </tbody>\n",
              "</table>\n",
              "</div>\n",
              "    <div class=\"colab-df-buttons\">\n",
              "\n",
              "  <div class=\"colab-df-container\">\n",
              "    <button class=\"colab-df-convert\" onclick=\"convertToInteractive('df-e6e96db7-e675-41e8-865b-eedc6e5a1b24')\"\n",
              "            title=\"Convert this dataframe to an interactive table.\"\n",
              "            style=\"display:none;\">\n",
              "\n",
              "  <svg xmlns=\"http://www.w3.org/2000/svg\" height=\"24px\" viewBox=\"0 -960 960 960\">\n",
              "    <path d=\"M120-120v-720h720v720H120Zm60-500h600v-160H180v160Zm220 220h160v-160H400v160Zm0 220h160v-160H400v160ZM180-400h160v-160H180v160Zm440 0h160v-160H620v160ZM180-180h160v-160H180v160Zm440 0h160v-160H620v160Z\"/>\n",
              "  </svg>\n",
              "    </button>\n",
              "\n",
              "  <style>\n",
              "    .colab-df-container {\n",
              "      display:flex;\n",
              "      gap: 12px;\n",
              "    }\n",
              "\n",
              "    .colab-df-convert {\n",
              "      background-color: #E8F0FE;\n",
              "      border: none;\n",
              "      border-radius: 50%;\n",
              "      cursor: pointer;\n",
              "      display: none;\n",
              "      fill: #1967D2;\n",
              "      height: 32px;\n",
              "      padding: 0 0 0 0;\n",
              "      width: 32px;\n",
              "    }\n",
              "\n",
              "    .colab-df-convert:hover {\n",
              "      background-color: #E2EBFA;\n",
              "      box-shadow: 0px 1px 2px rgba(60, 64, 67, 0.3), 0px 1px 3px 1px rgba(60, 64, 67, 0.15);\n",
              "      fill: #174EA6;\n",
              "    }\n",
              "\n",
              "    .colab-df-buttons div {\n",
              "      margin-bottom: 4px;\n",
              "    }\n",
              "\n",
              "    [theme=dark] .colab-df-convert {\n",
              "      background-color: #3B4455;\n",
              "      fill: #D2E3FC;\n",
              "    }\n",
              "\n",
              "    [theme=dark] .colab-df-convert:hover {\n",
              "      background-color: #434B5C;\n",
              "      box-shadow: 0px 1px 3px 1px rgba(0, 0, 0, 0.15);\n",
              "      filter: drop-shadow(0px 1px 2px rgba(0, 0, 0, 0.3));\n",
              "      fill: #FFFFFF;\n",
              "    }\n",
              "  </style>\n",
              "\n",
              "    <script>\n",
              "      const buttonEl =\n",
              "        document.querySelector('#df-e6e96db7-e675-41e8-865b-eedc6e5a1b24 button.colab-df-convert');\n",
              "      buttonEl.style.display =\n",
              "        google.colab.kernel.accessAllowed ? 'block' : 'none';\n",
              "\n",
              "      async function convertToInteractive(key) {\n",
              "        const element = document.querySelector('#df-e6e96db7-e675-41e8-865b-eedc6e5a1b24');\n",
              "        const dataTable =\n",
              "          await google.colab.kernel.invokeFunction('convertToInteractive',\n",
              "                                                    [key], {});\n",
              "        if (!dataTable) return;\n",
              "\n",
              "        const docLinkHtml = 'Like what you see? Visit the ' +\n",
              "          '<a target=\"_blank\" href=https://colab.research.google.com/notebooks/data_table.ipynb>data table notebook</a>'\n",
              "          + ' to learn more about interactive tables.';\n",
              "        element.innerHTML = '';\n",
              "        dataTable['output_type'] = 'display_data';\n",
              "        await google.colab.output.renderOutput(dataTable, element);\n",
              "        const docLink = document.createElement('div');\n",
              "        docLink.innerHTML = docLinkHtml;\n",
              "        element.appendChild(docLink);\n",
              "      }\n",
              "    </script>\n",
              "  </div>\n",
              "\n",
              "\n",
              "<div id=\"df-562aedad-9cfa-4150-8785-bd3d5ef74142\">\n",
              "  <button class=\"colab-df-quickchart\" onclick=\"quickchart('df-562aedad-9cfa-4150-8785-bd3d5ef74142')\"\n",
              "            title=\"Suggest charts\"\n",
              "            style=\"display:none;\">\n",
              "\n",
              "<svg xmlns=\"http://www.w3.org/2000/svg\" height=\"24px\"viewBox=\"0 0 24 24\"\n",
              "     width=\"24px\">\n",
              "    <g>\n",
              "        <path d=\"M19 3H5c-1.1 0-2 .9-2 2v14c0 1.1.9 2 2 2h14c1.1 0 2-.9 2-2V5c0-1.1-.9-2-2-2zM9 17H7v-7h2v7zm4 0h-2V7h2v10zm4 0h-2v-4h2v4z\"/>\n",
              "    </g>\n",
              "</svg>\n",
              "  </button>\n",
              "\n",
              "<style>\n",
              "  .colab-df-quickchart {\n",
              "      --bg-color: #E8F0FE;\n",
              "      --fill-color: #1967D2;\n",
              "      --hover-bg-color: #E2EBFA;\n",
              "      --hover-fill-color: #174EA6;\n",
              "      --disabled-fill-color: #AAA;\n",
              "      --disabled-bg-color: #DDD;\n",
              "  }\n",
              "\n",
              "  [theme=dark] .colab-df-quickchart {\n",
              "      --bg-color: #3B4455;\n",
              "      --fill-color: #D2E3FC;\n",
              "      --hover-bg-color: #434B5C;\n",
              "      --hover-fill-color: #FFFFFF;\n",
              "      --disabled-bg-color: #3B4455;\n",
              "      --disabled-fill-color: #666;\n",
              "  }\n",
              "\n",
              "  .colab-df-quickchart {\n",
              "    background-color: var(--bg-color);\n",
              "    border: none;\n",
              "    border-radius: 50%;\n",
              "    cursor: pointer;\n",
              "    display: none;\n",
              "    fill: var(--fill-color);\n",
              "    height: 32px;\n",
              "    padding: 0;\n",
              "    width: 32px;\n",
              "  }\n",
              "\n",
              "  .colab-df-quickchart:hover {\n",
              "    background-color: var(--hover-bg-color);\n",
              "    box-shadow: 0 1px 2px rgba(60, 64, 67, 0.3), 0 1px 3px 1px rgba(60, 64, 67, 0.15);\n",
              "    fill: var(--button-hover-fill-color);\n",
              "  }\n",
              "\n",
              "  .colab-df-quickchart-complete:disabled,\n",
              "  .colab-df-quickchart-complete:disabled:hover {\n",
              "    background-color: var(--disabled-bg-color);\n",
              "    fill: var(--disabled-fill-color);\n",
              "    box-shadow: none;\n",
              "  }\n",
              "\n",
              "  .colab-df-spinner {\n",
              "    border: 2px solid var(--fill-color);\n",
              "    border-color: transparent;\n",
              "    border-bottom-color: var(--fill-color);\n",
              "    animation:\n",
              "      spin 1s steps(1) infinite;\n",
              "  }\n",
              "\n",
              "  @keyframes spin {\n",
              "    0% {\n",
              "      border-color: transparent;\n",
              "      border-bottom-color: var(--fill-color);\n",
              "      border-left-color: var(--fill-color);\n",
              "    }\n",
              "    20% {\n",
              "      border-color: transparent;\n",
              "      border-left-color: var(--fill-color);\n",
              "      border-top-color: var(--fill-color);\n",
              "    }\n",
              "    30% {\n",
              "      border-color: transparent;\n",
              "      border-left-color: var(--fill-color);\n",
              "      border-top-color: var(--fill-color);\n",
              "      border-right-color: var(--fill-color);\n",
              "    }\n",
              "    40% {\n",
              "      border-color: transparent;\n",
              "      border-right-color: var(--fill-color);\n",
              "      border-top-color: var(--fill-color);\n",
              "    }\n",
              "    60% {\n",
              "      border-color: transparent;\n",
              "      border-right-color: var(--fill-color);\n",
              "    }\n",
              "    80% {\n",
              "      border-color: transparent;\n",
              "      border-right-color: var(--fill-color);\n",
              "      border-bottom-color: var(--fill-color);\n",
              "    }\n",
              "    90% {\n",
              "      border-color: transparent;\n",
              "      border-bottom-color: var(--fill-color);\n",
              "    }\n",
              "  }\n",
              "</style>\n",
              "\n",
              "  <script>\n",
              "    async function quickchart(key) {\n",
              "      const quickchartButtonEl =\n",
              "        document.querySelector('#' + key + ' button');\n",
              "      quickchartButtonEl.disabled = true;  // To prevent multiple clicks.\n",
              "      quickchartButtonEl.classList.add('colab-df-spinner');\n",
              "      try {\n",
              "        const charts = await google.colab.kernel.invokeFunction(\n",
              "            'suggestCharts', [key], {});\n",
              "      } catch (error) {\n",
              "        console.error('Error during call to suggestCharts:', error);\n",
              "      }\n",
              "      quickchartButtonEl.classList.remove('colab-df-spinner');\n",
              "      quickchartButtonEl.classList.add('colab-df-quickchart-complete');\n",
              "    }\n",
              "    (() => {\n",
              "      let quickchartButtonEl =\n",
              "        document.querySelector('#df-562aedad-9cfa-4150-8785-bd3d5ef74142 button');\n",
              "      quickchartButtonEl.style.display =\n",
              "        google.colab.kernel.accessAllowed ? 'block' : 'none';\n",
              "    })();\n",
              "  </script>\n",
              "</div>\n",
              "    </div>\n",
              "  </div>\n"
            ],
            "application/vnd.google.colaboratory.intrinsic+json": {
              "type": "dataframe",
              "variable_name": "calculation_check",
              "summary": "{\n  \"name\": \"calculation_check\",\n  \"rows\": 8,\n  \"fields\": [\n    {\n      \"column\": \"order_id\",\n      \"properties\": {\n        \"dtype\": \"int32\",\n        \"num_unique_values\": 1,\n        \"samples\": [\n          495177509\n        ],\n        \"semantic_type\": \"\",\n        \"description\": \"\"\n      }\n    },\n    {\n      \"column\": \"plan_at\",\n      \"properties\": {\n        \"dtype\": \"date\",\n        \"min\": \"2022-09-01 00:00:00\",\n        \"max\": \"2022-12-07 00:00:00\",\n        \"num_unique_values\": 8,\n        \"samples\": [\n          \"2022-09-08 00:00:00\"\n        ],\n        \"semantic_type\": \"\",\n        \"description\": \"\"\n      }\n    },\n    {\n      \"column\": \"plan_sum_total\",\n      \"properties\": {\n        \"dtype\": \"number\",\n        \"std\": 8701.825902767681,\n        \"min\": 7130.0,\n        \"max\": 31597.37,\n        \"num_unique_values\": 8,\n        \"samples\": [\n          10695.0\n        ],\n        \"semantic_type\": \"\",\n        \"description\": \"\"\n      }\n    },\n    {\n      \"column\": \"plan_sum\",\n      \"properties\": {\n        \"dtype\": \"number\",\n        \"std\": 1552.0080002963673,\n        \"min\": 2688.329999999998,\n        \"max\": 7130.0,\n        \"num_unique_values\": 8,\n        \"samples\": [\n          3565.0\n        ],\n        \"semantic_type\": \"\",\n        \"description\": \"\"\n      }\n    },\n    {\n      \"column\": \"total_debt\",\n      \"properties\": {\n        \"dtype\": \"number\",\n        \"std\": 0.0,\n        \"min\": 31597.37,\n        \"max\": 31597.37,\n        \"num_unique_values\": 1,\n        \"samples\": [\n          31597.37\n        ],\n        \"semantic_type\": \"\",\n        \"description\": \"\"\n      }\n    },\n    {\n      \"column\": \"payment_num\",\n      \"properties\": {\n        \"dtype\": \"number\",\n        \"std\": 2.449489742783178,\n        \"min\": 1.0,\n        \"max\": 8.0,\n        \"num_unique_values\": 8,\n        \"samples\": [\n          2.0\n        ],\n        \"semantic_type\": \"\",\n        \"description\": \"\"\n      }\n    },\n    {\n      \"column\": \"total_payments\",\n      \"properties\": {\n        \"dtype\": \"number\",\n        \"std\": 0.0,\n        \"min\": 8.0,\n        \"max\": 8.0,\n        \"num_unique_values\": 1,\n        \"samples\": [\n          8.0\n        ],\n        \"semantic_type\": \"\",\n        \"description\": \"\"\n      }\n    }\n  ]\n}"
            }
          },
          "metadata": {},
          "execution_count": 686
        }
      ]
    },
    {
      "cell_type": "markdown",
      "source": [
        "<font color='#777778'> Преобразование выполнено успешно. Из столбца с накопительным итогом была вычислена сумма каждого планового платежа, а каждому платежу присвоен порядковый номер.\n",
        "\n",
        "<font color='#777778'>Приступим к преобразованию датафрейма `payments_grouped`"
      ],
      "metadata": {
        "id": "rwBlxFXxrm9n"
      }
    },
    {
      "cell_type": "markdown",
      "source": [
        "### Подготовка датафрейма payments_grouped к анализу"
      ],
      "metadata": {
        "id": "_LBCcpmAr016"
      }
    },
    {
      "cell_type": "markdown",
      "source": [
        "<font color='#777778'> Отберём данные по транзакциям до 08.12.2022 включительно."
      ],
      "metadata": {
        "id": "ykuxK7OrdKKM"
      }
    },
    {
      "cell_type": "code",
      "source": [
        "#Фильтруем данные по дате фактического платежа\n",
        "payments_grouped = payments_grouped[(payments_grouped['paid_at']) <= '2022-12-08'].copy()\n",
        "\n",
        "#Выводим информацию о получившемся датафрейме\n",
        "print(f'Количество строк после фильтрации датафрейма `payments_grouped`: {len(payments_grouped)}')"
      ],
      "metadata": {
        "colab": {
          "base_uri": "https://localhost:8080/"
        },
        "id": "tjn8zfklcw94",
        "outputId": "a882e9a9-d104-481a-d584-bb68fe6ede70"
      },
      "execution_count": null,
      "outputs": [
        {
          "output_type": "stream",
          "name": "stdout",
          "text": [
            "Количество строк после фильтрации датафрейма `payments_grouped`: 134688\n"
          ]
        }
      ]
    },
    {
      "cell_type": "markdown",
      "source": [
        "<font color='#777778'> Выполним нумерацию платежей внутри каждого кредита аналогично датафрейму `plan_filtered`."
      ],
      "metadata": {
        "id": "2DGsT1acr_pk"
      }
    },
    {
      "cell_type": "code",
      "source": [
        "#Выполняем нумерацию платежей\n",
        "payments_grouped = payments_grouped.sort_values(by = ['order_id','paid_at'])\n",
        "\n",
        "payments_grouped['payment_num'] = payments_grouped.groupby('order_id')['paid_at'].rank(ascending=True)"
      ],
      "metadata": {
        "id": "N7rlhAP2r_Fg"
      },
      "execution_count": null,
      "outputs": []
    },
    {
      "cell_type": "code",
      "source": [
        "#Проведём проверку корректности расчётов на примере одной из заявок\n",
        "calculation_check = payments_grouped[(payments_grouped['order_id'] == 495177509)].copy()\n",
        "calculation_check"
      ],
      "metadata": {
        "colab": {
          "base_uri": "https://localhost:8080/",
          "height": 300
        },
        "id": "krDExJqjsvM8",
        "outputId": "dd9a69f7-0371-4219-d88f-1bc8ca51c683"
      },
      "execution_count": null,
      "outputs": [
        {
          "output_type": "execute_result",
          "data": {
            "text/plain": [
              "         order_id    paid_at  paid_sum  payment_num\n",
              "134680  495177509 2022-09-01   7130.00          1.0\n",
              "134681  495177509 2022-09-06   3565.00          2.0\n",
              "134682  495177509 2022-09-22   5315.00          3.0\n",
              "134683  495177509 2022-10-05   3946.17          4.0\n",
              "134684  495177509 2022-10-19   6227.55          5.0\n",
              "134685  495177509 2022-10-21   5413.65          6.0\n",
              "134686  495177509 2022-10-23   2651.33          7.0\n",
              "134687  495177509 2022-10-24   2614.34          8.0"
            ],
            "text/html": [
              "\n",
              "  <div id=\"df-c07e8a1e-004f-4b5f-860a-c62e3c03c8a5\" class=\"colab-df-container\">\n",
              "    <div>\n",
              "<style scoped>\n",
              "    .dataframe tbody tr th:only-of-type {\n",
              "        vertical-align: middle;\n",
              "    }\n",
              "\n",
              "    .dataframe tbody tr th {\n",
              "        vertical-align: top;\n",
              "    }\n",
              "\n",
              "    .dataframe thead th {\n",
              "        text-align: right;\n",
              "    }\n",
              "</style>\n",
              "<table border=\"1\" class=\"dataframe\">\n",
              "  <thead>\n",
              "    <tr style=\"text-align: right;\">\n",
              "      <th></th>\n",
              "      <th>order_id</th>\n",
              "      <th>paid_at</th>\n",
              "      <th>paid_sum</th>\n",
              "      <th>payment_num</th>\n",
              "    </tr>\n",
              "  </thead>\n",
              "  <tbody>\n",
              "    <tr>\n",
              "      <th>134680</th>\n",
              "      <td>495177509</td>\n",
              "      <td>2022-09-01</td>\n",
              "      <td>7130.00</td>\n",
              "      <td>1.0</td>\n",
              "    </tr>\n",
              "    <tr>\n",
              "      <th>134681</th>\n",
              "      <td>495177509</td>\n",
              "      <td>2022-09-06</td>\n",
              "      <td>3565.00</td>\n",
              "      <td>2.0</td>\n",
              "    </tr>\n",
              "    <tr>\n",
              "      <th>134682</th>\n",
              "      <td>495177509</td>\n",
              "      <td>2022-09-22</td>\n",
              "      <td>5315.00</td>\n",
              "      <td>3.0</td>\n",
              "    </tr>\n",
              "    <tr>\n",
              "      <th>134683</th>\n",
              "      <td>495177509</td>\n",
              "      <td>2022-10-05</td>\n",
              "      <td>3946.17</td>\n",
              "      <td>4.0</td>\n",
              "    </tr>\n",
              "    <tr>\n",
              "      <th>134684</th>\n",
              "      <td>495177509</td>\n",
              "      <td>2022-10-19</td>\n",
              "      <td>6227.55</td>\n",
              "      <td>5.0</td>\n",
              "    </tr>\n",
              "    <tr>\n",
              "      <th>134685</th>\n",
              "      <td>495177509</td>\n",
              "      <td>2022-10-21</td>\n",
              "      <td>5413.65</td>\n",
              "      <td>6.0</td>\n",
              "    </tr>\n",
              "    <tr>\n",
              "      <th>134686</th>\n",
              "      <td>495177509</td>\n",
              "      <td>2022-10-23</td>\n",
              "      <td>2651.33</td>\n",
              "      <td>7.0</td>\n",
              "    </tr>\n",
              "    <tr>\n",
              "      <th>134687</th>\n",
              "      <td>495177509</td>\n",
              "      <td>2022-10-24</td>\n",
              "      <td>2614.34</td>\n",
              "      <td>8.0</td>\n",
              "    </tr>\n",
              "  </tbody>\n",
              "</table>\n",
              "</div>\n",
              "    <div class=\"colab-df-buttons\">\n",
              "\n",
              "  <div class=\"colab-df-container\">\n",
              "    <button class=\"colab-df-convert\" onclick=\"convertToInteractive('df-c07e8a1e-004f-4b5f-860a-c62e3c03c8a5')\"\n",
              "            title=\"Convert this dataframe to an interactive table.\"\n",
              "            style=\"display:none;\">\n",
              "\n",
              "  <svg xmlns=\"http://www.w3.org/2000/svg\" height=\"24px\" viewBox=\"0 -960 960 960\">\n",
              "    <path d=\"M120-120v-720h720v720H120Zm60-500h600v-160H180v160Zm220 220h160v-160H400v160Zm0 220h160v-160H400v160ZM180-400h160v-160H180v160Zm440 0h160v-160H620v160ZM180-180h160v-160H180v160Zm440 0h160v-160H620v160Z\"/>\n",
              "  </svg>\n",
              "    </button>\n",
              "\n",
              "  <style>\n",
              "    .colab-df-container {\n",
              "      display:flex;\n",
              "      gap: 12px;\n",
              "    }\n",
              "\n",
              "    .colab-df-convert {\n",
              "      background-color: #E8F0FE;\n",
              "      border: none;\n",
              "      border-radius: 50%;\n",
              "      cursor: pointer;\n",
              "      display: none;\n",
              "      fill: #1967D2;\n",
              "      height: 32px;\n",
              "      padding: 0 0 0 0;\n",
              "      width: 32px;\n",
              "    }\n",
              "\n",
              "    .colab-df-convert:hover {\n",
              "      background-color: #E2EBFA;\n",
              "      box-shadow: 0px 1px 2px rgba(60, 64, 67, 0.3), 0px 1px 3px 1px rgba(60, 64, 67, 0.15);\n",
              "      fill: #174EA6;\n",
              "    }\n",
              "\n",
              "    .colab-df-buttons div {\n",
              "      margin-bottom: 4px;\n",
              "    }\n",
              "\n",
              "    [theme=dark] .colab-df-convert {\n",
              "      background-color: #3B4455;\n",
              "      fill: #D2E3FC;\n",
              "    }\n",
              "\n",
              "    [theme=dark] .colab-df-convert:hover {\n",
              "      background-color: #434B5C;\n",
              "      box-shadow: 0px 1px 3px 1px rgba(0, 0, 0, 0.15);\n",
              "      filter: drop-shadow(0px 1px 2px rgba(0, 0, 0, 0.3));\n",
              "      fill: #FFFFFF;\n",
              "    }\n",
              "  </style>\n",
              "\n",
              "    <script>\n",
              "      const buttonEl =\n",
              "        document.querySelector('#df-c07e8a1e-004f-4b5f-860a-c62e3c03c8a5 button.colab-df-convert');\n",
              "      buttonEl.style.display =\n",
              "        google.colab.kernel.accessAllowed ? 'block' : 'none';\n",
              "\n",
              "      async function convertToInteractive(key) {\n",
              "        const element = document.querySelector('#df-c07e8a1e-004f-4b5f-860a-c62e3c03c8a5');\n",
              "        const dataTable =\n",
              "          await google.colab.kernel.invokeFunction('convertToInteractive',\n",
              "                                                    [key], {});\n",
              "        if (!dataTable) return;\n",
              "\n",
              "        const docLinkHtml = 'Like what you see? Visit the ' +\n",
              "          '<a target=\"_blank\" href=https://colab.research.google.com/notebooks/data_table.ipynb>data table notebook</a>'\n",
              "          + ' to learn more about interactive tables.';\n",
              "        element.innerHTML = '';\n",
              "        dataTable['output_type'] = 'display_data';\n",
              "        await google.colab.output.renderOutput(dataTable, element);\n",
              "        const docLink = document.createElement('div');\n",
              "        docLink.innerHTML = docLinkHtml;\n",
              "        element.appendChild(docLink);\n",
              "      }\n",
              "    </script>\n",
              "  </div>\n",
              "\n",
              "\n",
              "<div id=\"df-1336c5e0-096d-4424-9052-c665a245aeb2\">\n",
              "  <button class=\"colab-df-quickchart\" onclick=\"quickchart('df-1336c5e0-096d-4424-9052-c665a245aeb2')\"\n",
              "            title=\"Suggest charts\"\n",
              "            style=\"display:none;\">\n",
              "\n",
              "<svg xmlns=\"http://www.w3.org/2000/svg\" height=\"24px\"viewBox=\"0 0 24 24\"\n",
              "     width=\"24px\">\n",
              "    <g>\n",
              "        <path d=\"M19 3H5c-1.1 0-2 .9-2 2v14c0 1.1.9 2 2 2h14c1.1 0 2-.9 2-2V5c0-1.1-.9-2-2-2zM9 17H7v-7h2v7zm4 0h-2V7h2v10zm4 0h-2v-4h2v4z\"/>\n",
              "    </g>\n",
              "</svg>\n",
              "  </button>\n",
              "\n",
              "<style>\n",
              "  .colab-df-quickchart {\n",
              "      --bg-color: #E8F0FE;\n",
              "      --fill-color: #1967D2;\n",
              "      --hover-bg-color: #E2EBFA;\n",
              "      --hover-fill-color: #174EA6;\n",
              "      --disabled-fill-color: #AAA;\n",
              "      --disabled-bg-color: #DDD;\n",
              "  }\n",
              "\n",
              "  [theme=dark] .colab-df-quickchart {\n",
              "      --bg-color: #3B4455;\n",
              "      --fill-color: #D2E3FC;\n",
              "      --hover-bg-color: #434B5C;\n",
              "      --hover-fill-color: #FFFFFF;\n",
              "      --disabled-bg-color: #3B4455;\n",
              "      --disabled-fill-color: #666;\n",
              "  }\n",
              "\n",
              "  .colab-df-quickchart {\n",
              "    background-color: var(--bg-color);\n",
              "    border: none;\n",
              "    border-radius: 50%;\n",
              "    cursor: pointer;\n",
              "    display: none;\n",
              "    fill: var(--fill-color);\n",
              "    height: 32px;\n",
              "    padding: 0;\n",
              "    width: 32px;\n",
              "  }\n",
              "\n",
              "  .colab-df-quickchart:hover {\n",
              "    background-color: var(--hover-bg-color);\n",
              "    box-shadow: 0 1px 2px rgba(60, 64, 67, 0.3), 0 1px 3px 1px rgba(60, 64, 67, 0.15);\n",
              "    fill: var(--button-hover-fill-color);\n",
              "  }\n",
              "\n",
              "  .colab-df-quickchart-complete:disabled,\n",
              "  .colab-df-quickchart-complete:disabled:hover {\n",
              "    background-color: var(--disabled-bg-color);\n",
              "    fill: var(--disabled-fill-color);\n",
              "    box-shadow: none;\n",
              "  }\n",
              "\n",
              "  .colab-df-spinner {\n",
              "    border: 2px solid var(--fill-color);\n",
              "    border-color: transparent;\n",
              "    border-bottom-color: var(--fill-color);\n",
              "    animation:\n",
              "      spin 1s steps(1) infinite;\n",
              "  }\n",
              "\n",
              "  @keyframes spin {\n",
              "    0% {\n",
              "      border-color: transparent;\n",
              "      border-bottom-color: var(--fill-color);\n",
              "      border-left-color: var(--fill-color);\n",
              "    }\n",
              "    20% {\n",
              "      border-color: transparent;\n",
              "      border-left-color: var(--fill-color);\n",
              "      border-top-color: var(--fill-color);\n",
              "    }\n",
              "    30% {\n",
              "      border-color: transparent;\n",
              "      border-left-color: var(--fill-color);\n",
              "      border-top-color: var(--fill-color);\n",
              "      border-right-color: var(--fill-color);\n",
              "    }\n",
              "    40% {\n",
              "      border-color: transparent;\n",
              "      border-right-color: var(--fill-color);\n",
              "      border-top-color: var(--fill-color);\n",
              "    }\n",
              "    60% {\n",
              "      border-color: transparent;\n",
              "      border-right-color: var(--fill-color);\n",
              "    }\n",
              "    80% {\n",
              "      border-color: transparent;\n",
              "      border-right-color: var(--fill-color);\n",
              "      border-bottom-color: var(--fill-color);\n",
              "    }\n",
              "    90% {\n",
              "      border-color: transparent;\n",
              "      border-bottom-color: var(--fill-color);\n",
              "    }\n",
              "  }\n",
              "</style>\n",
              "\n",
              "  <script>\n",
              "    async function quickchart(key) {\n",
              "      const quickchartButtonEl =\n",
              "        document.querySelector('#' + key + ' button');\n",
              "      quickchartButtonEl.disabled = true;  // To prevent multiple clicks.\n",
              "      quickchartButtonEl.classList.add('colab-df-spinner');\n",
              "      try {\n",
              "        const charts = await google.colab.kernel.invokeFunction(\n",
              "            'suggestCharts', [key], {});\n",
              "      } catch (error) {\n",
              "        console.error('Error during call to suggestCharts:', error);\n",
              "      }\n",
              "      quickchartButtonEl.classList.remove('colab-df-spinner');\n",
              "      quickchartButtonEl.classList.add('colab-df-quickchart-complete');\n",
              "    }\n",
              "    (() => {\n",
              "      let quickchartButtonEl =\n",
              "        document.querySelector('#df-1336c5e0-096d-4424-9052-c665a245aeb2 button');\n",
              "      quickchartButtonEl.style.display =\n",
              "        google.colab.kernel.accessAllowed ? 'block' : 'none';\n",
              "    })();\n",
              "  </script>\n",
              "</div>\n",
              "    </div>\n",
              "  </div>\n"
            ],
            "application/vnd.google.colaboratory.intrinsic+json": {
              "type": "dataframe",
              "variable_name": "calculation_check",
              "summary": "{\n  \"name\": \"calculation_check\",\n  \"rows\": 8,\n  \"fields\": [\n    {\n      \"column\": \"order_id\",\n      \"properties\": {\n        \"dtype\": \"int32\",\n        \"num_unique_values\": 1,\n        \"samples\": [\n          495177509\n        ],\n        \"semantic_type\": \"\",\n        \"description\": \"\"\n      }\n    },\n    {\n      \"column\": \"paid_at\",\n      \"properties\": {\n        \"dtype\": \"date\",\n        \"min\": \"2022-09-01 00:00:00\",\n        \"max\": \"2022-10-24 00:00:00\",\n        \"num_unique_values\": 8,\n        \"samples\": [\n          \"2022-09-06 00:00:00\"\n        ],\n        \"semantic_type\": \"\",\n        \"description\": \"\"\n      }\n    },\n    {\n      \"column\": \"paid_sum\",\n      \"properties\": {\n        \"dtype\": \"number\",\n        \"std\": 1667.3954301416154,\n        \"min\": 2614.34,\n        \"max\": 7130.0,\n        \"num_unique_values\": 8,\n        \"samples\": [\n          3565.0\n        ],\n        \"semantic_type\": \"\",\n        \"description\": \"\"\n      }\n    },\n    {\n      \"column\": \"payment_num\",\n      \"properties\": {\n        \"dtype\": \"number\",\n        \"std\": 2.449489742783178,\n        \"min\": 1.0,\n        \"max\": 8.0,\n        \"num_unique_values\": 8,\n        \"samples\": [\n          2.0\n        ],\n        \"semantic_type\": \"\",\n        \"description\": \"\"\n      }\n    }\n  ]\n}"
            }
          },
          "metadata": {},
          "execution_count": 689
        }
      ]
    },
    {
      "cell_type": "markdown",
      "source": [
        "<font color='#777778'> Нумерация выполнена успешно. Можно приступать к объединению датафреймов."
      ],
      "metadata": {
        "id": "NLUCL3aWuThK"
      }
    },
    {
      "cell_type": "markdown",
      "source": [
        "### Подготовка датафрейма для аналитики по просроченным платежам"
      ],
      "metadata": {
        "id": "FXi9leHcVtxR"
      }
    },
    {
      "cell_type": "markdown",
      "source": [
        "<font color='#777778'> Теперь, когда предварительная обработка данных выполнена, подготовим датафрейм для оценки динамики просроченных платежей по дням."
      ],
      "metadata": {
        "id": "eBPXm2HAfVRk"
      }
    },
    {
      "cell_type": "markdown",
      "source": [
        "<font color='#777778'> Выполним слияние датафреймов `plan_filtered` и `paid_grouped` при помощи метода `pd.merge()` по полям `order_id` и `payment_num`. Значение параметра `how` укажем `left`, для того, чтобы оставить информацию в том числе по тем платежам, для которых оплата была произведена несвоевременно."
      ],
      "metadata": {
        "id": "sTuz6QeMV8Sb"
      }
    },
    {
      "cell_type": "code",
      "source": [
        "#Выполняем объединение датафреймов plan_filtered и payments_grouped\n",
        "merged_df = pd.merge(plan_filtered,payments_grouped, how = 'left', on = ['order_id','payment_num'])\n",
        "\n",
        "#Выводим информацию о получившемся датафрейме\n",
        "merged_df.info()"
      ],
      "metadata": {
        "colab": {
          "base_uri": "https://localhost:8080/"
        },
        "id": "OO_j1oLvh_KT",
        "outputId": "5283ac56-8f58-4849-84ce-7a69794be12a"
      },
      "execution_count": null,
      "outputs": [
        {
          "output_type": "stream",
          "name": "stdout",
          "text": [
            "<class 'pandas.core.frame.DataFrame'>\n",
            "RangeIndex: 333399 entries, 0 to 333398\n",
            "Data columns (total 9 columns):\n",
            " #   Column          Non-Null Count   Dtype         \n",
            "---  ------          --------------   -----         \n",
            " 0   order_id        333399 non-null  int32         \n",
            " 1   plan_at         333399 non-null  datetime64[ns]\n",
            " 2   plan_sum_total  333399 non-null  float64       \n",
            " 3   plan_sum        333399 non-null  float64       \n",
            " 4   total_debt      333399 non-null  float64       \n",
            " 5   payment_num     333399 non-null  float64       \n",
            " 6   total_payments  333399 non-null  float64       \n",
            " 7   paid_at         134229 non-null  datetime64[ns]\n",
            " 8   paid_sum        134229 non-null  float64       \n",
            "dtypes: datetime64[ns](2), float64(6), int32(1)\n",
            "memory usage: 21.6 MB\n"
          ]
        }
      ]
    },
    {
      "cell_type": "markdown",
      "source": [
        "<font color='#777778'> В результате присоединения датафреймов видно, что количество данных о фактических платежах существенно меньше, нежели количество плановых платежей. Это может говорить о большом количестве просрочек, либо о том, что некоторые кредиты гасились досрочно.\n",
        "\n",
        "<font color='#777778'> Для проверки данной гипотезы введем булевый признак `delay`, который будет сигнализировать о просрочке платежа.\n",
        "\n",
        "\n",
        "<font color='#777778'>Критерий просрочки:\n",
        "\n",
        "\n",
        "<font color='#777778'>Дата фактического платежа позже запланированной или сумма фактического платежа меньше суммы запланированного и при этом общая внесенная сумма меньше чем общая плановая сумма."
      ],
      "metadata": {
        "id": "6VZe4YGwkYfe"
      }
    },
    {
      "cell_type": "code",
      "source": [
        "#Находим накопительную сумму paid_sum\n",
        "merged_df['paid_sum'] = merged_df['paid_sum'].fillna(0)\n",
        "\n",
        "merged_df['paid_sum_total'] = merged_df.groupby('order_id')['paid_sum'].cumsum()"
      ],
      "metadata": {
        "id": "t4qWp_SPUmsh"
      },
      "execution_count": null,
      "outputs": []
    },
    {
      "cell_type": "code",
      "source": [
        "#Заменяем пустые значения в столбце paid at на значения индикатор\n",
        "merged_df['paid_at'] = merged_df['paid_at'].fillna('1900-01-01')"
      ],
      "metadata": {
        "id": "48waGkbC5bWc"
      },
      "execution_count": null,
      "outputs": []
    },
    {
      "cell_type": "code",
      "source": [
        "#Создадим функцию для добавления нового столбца delay\n",
        "def delay(df):\n",
        "    \"\"\"\n",
        "    Создает столбец с признаком delay\n",
        "\n",
        "    Parameters:\n",
        "        df (name of pd.DataFrame): Датафрейм для обработки.\n",
        "    \"\"\"\n",
        "    if df['paid_at'] > df['plan_at'] or (df['paid_sum'] < df['plan_sum'] and df['paid_sum_total']  < df['plan_sum_total']):\n",
        "        return 1\n",
        "    else:\n",
        "        return 0"
      ],
      "metadata": {
        "id": "1OrH3Ct5xoWM"
      },
      "execution_count": null,
      "outputs": []
    },
    {
      "cell_type": "code",
      "source": [
        "#Применим функцию для создания нового столбца\n",
        "merged_df['delay'] = merged_df.apply(delay, axis = 1)"
      ],
      "metadata": {
        "id": "8l0FPK6iyGCe"
      },
      "execution_count": null,
      "outputs": []
    },
    {
      "cell_type": "markdown",
      "source": [
        "### Подготовка датафрейма для аналитики по досрочно закрытым и закрытым с опозданием займов"
      ],
      "metadata": {
        "id": "GXZruwEZfCOd"
      }
    },
    {
      "cell_type": "markdown",
      "source": [
        "<font color='#777778'> Подготовим ещё один датафрейм для проведения более укрупнённой оценки: по общему количеству займов, которые были закрыты досрочно и вовремя или с опозданием.\n",
        "\n",
        "<font color='#777778'> Для этого вычислим дату последнего планового платежа по займам в датафрейме `plan` и оставим только те займы, где дата крайнего планового платежа не позже 08.12.2022.\n",
        "\n",
        "<font color='#777778'> В датафрейме `orders` также отберём кредиты с датой закрытия не позднее 08.12.2022. Дале присоединим информацию из датафрейма `plan `к датафрейму `orders` и сопоставим дату закрытия `closed_at` с датой самого позднего планового платежа. В случае, если дата закрытия раньше - кредит был погашен досрочно. В случае если дата закрытия позже - кредит был закрыт с опозданием.\n",
        "\n",
        "<font color='#777778'> Начнём с датафрейма `plan`."
      ],
      "metadata": {
        "id": "H-3_cj9Rfo5x"
      }
    },
    {
      "cell_type": "code",
      "source": [
        "#Находим даты последнего планового платежа по каждому займу\n",
        "plan_last_date = plan.groupby('order_id')['plan_at'].max().reset_index()"
      ],
      "metadata": {
        "id": "pJwmHYKAowwI"
      },
      "execution_count": null,
      "outputs": []
    },
    {
      "cell_type": "markdown",
      "source": [
        "<font color='#777778'>Теперь выполним отбор по датам заакрытия в датафрейме `orders` и объединим датафреймы при помощи `pd.merge()` с указанием параметра `how = 'left'`."
      ],
      "metadata": {
        "id": "mcO2PCSkppM7"
      }
    },
    {
      "cell_type": "code",
      "source": [
        "#Отбираем займы с датой последнего планового платежа не позднее 08.12.2022\n",
        "orders_filtered = orders[(orders['closed_at'] <= '2022-12-08') & (orders['closed_at'].isna() == False)].copy()\n",
        "\n",
        "#Объединяем датафреймы plan_last_date и orders_filtered\n",
        "merged_df_2 = pd.merge(orders_filtered, plan_last_date, how = 'left', on = 'order_id')"
      ],
      "metadata": {
        "id": "ysQTf124pmrZ"
      },
      "execution_count": null,
      "outputs": []
    },
    {
      "cell_type": "markdown",
      "source": [
        "<font color='#777778'>Добавим булевый признак `closed_late`, который будет свидетельствовать о позднем закрытии займа.\n",
        "\n",
        "<font color='#777778'>Критерий для присвоения признака:\n",
        "\n",
        "<font color='#777778'>Дата закрытия `closed_at` больше даты финального планового платежа `plan_at`."
      ],
      "metadata": {
        "id": "iy0JdlQDrNsV"
      }
    },
    {
      "cell_type": "code",
      "source": [
        "#Создадим функцию для добавления нового столбца closed_late\n",
        "def closed_late(df):\n",
        "    \"\"\"\n",
        "    Создает столбец с признаком closed_late\n",
        "\n",
        "    Parameters:\n",
        "        df (name of pd.DataFrame): Датафрейм для обработки.\n",
        "    \"\"\"\n",
        "    if df['closed_at'] > df['plan_at']:\n",
        "        return 1\n",
        "    else:\n",
        "        return 0"
      ],
      "metadata": {
        "id": "0OYdyhIvrqJ5"
      },
      "execution_count": null,
      "outputs": []
    },
    {
      "cell_type": "code",
      "source": [
        "#Применим функцию для создания нового столбца\n",
        "merged_df_2['closed_late'] = merged_df_2.apply(closed_late, axis = 1)"
      ],
      "metadata": {
        "id": "UNLKrSsGr8YI"
      },
      "execution_count": null,
      "outputs": []
    },
    {
      "cell_type": "markdown",
      "source": [
        "### Вывод"
      ],
      "metadata": {
        "id": "8-OFpDaFBGRX"
      }
    },
    {
      "cell_type": "markdown",
      "source": [
        "<font color='#777778'> В результате предобработки данных было выполнено следующее:\n",
        "\n",
        "- Преобразованы типы данных в столбцах, содержащих информацию о датах из `object` в `float64`;\n",
        "- Выполнено понижение разрядности в столбцах `order_id` во всех датафреймах и столбцах, содержащих денежные показатели;\n",
        "- Датафрейм `payments` очищен от полных дубликатов;\n",
        "- Подготовлено два датафрейма на решения аналитических задач: `merged_df` с детализацией по платежам и `merged_df_2` с детализацией по займам. </font>"
      ],
      "metadata": {
        "id": "RtIXyjXmBJ95"
      }
    },
    {
      "cell_type": "markdown",
      "source": [
        "## 3. Аналитические задачи"
      ],
      "metadata": {
        "id": "rkulWBRfFlXp"
      }
    },
    {
      "cell_type": "markdown",
      "source": [
        "### Динамика по количеству просроченных платежей по дням"
      ],
      "metadata": {
        "id": "o11RZCd-FpN-"
      }
    },
    {
      "cell_type": "markdown",
      "source": [
        "<font color='#777778'> Для оценки динамики просрочки по дням построим линейный график с двумя категориями. На одной линии покажем динамику по платежам, сделанным вовремя - `on_time`. На второй оси по просроченным - `delayed`."
      ],
      "metadata": {
        "id": "6HiBDGSelznK"
      }
    },
    {
      "cell_type": "code",
      "source": [
        "#Группируем данные для построения диаграммы\n",
        "delay_pivot = merged_df.pivot_table( index='plan_at',\n",
        "                                     columns = 'delay',\n",
        "                                     values = 'order_id',\n",
        "                                     aggfunc= 'count').reset_index().rename_axis(None, axis=1)\n",
        "\n",
        "delay_pivot = delay_pivot.rename(columns = { 0: 'on_time', 1 : 'delay'})"
      ],
      "metadata": {
        "id": "5nRIZclzHM2g"
      },
      "execution_count": null,
      "outputs": []
    },
    {
      "cell_type": "code",
      "source": [
        "#Cтроим диаграмму\n",
        "delay_pivot.plot(kind = 'line',\n",
        "                           x = 'plan_at',\n",
        "                           y = ['on_time','delay'],\n",
        "                           ylabel = 'Количество платежей',\n",
        "                           xlabel = 'Дата планового платежа',\n",
        "                           legend = True,\n",
        "                           grid = True,\n",
        "                           figsize = (30,15),\n",
        "                           marker = 'o',\n",
        "                           color = ['#16a085' ,'#e74c3c']\n",
        "                          )\n",
        "plt.ticklabel_format(style = 'plain', axis = 'y')"
      ],
      "metadata": {
        "colab": {
          "base_uri": "https://localhost:8080/",
          "height": 703
        },
        "id": "oKFCrD5jFoIr",
        "outputId": "90f05bf0-ee58-4182-e3d0-c501572ef770"
      },
      "execution_count": null,
      "outputs": [
        {
          "output_type": "display_data",
          "data": {
            "text/plain": [
              "<Figure size 3000x1500 with 1 Axes>"
            ],
            "image/png": "[encoded data removed]"
          },
          "metadata": {}
        }
      ]
    },
    {
      "cell_type": "markdown",
      "source": [
        "<font color='#777778'>Начиная с июня 2022 года по сентябрь 2022 года наблюдается тенденция к общему увеличению платежей. При этом разрыв между просроченным платежами и платежами сделанными вовремя - незначительный.\n",
        "\n",
        "<font color='#777778'>Стоит отметить, что количество платежей сделанных вовремя превышает количество просроченных платежей на протяжении всего наблюдаемого периода;\n",
        "\n",
        "<font color='#777778'>По мере увеличения общего количества запланированных оплат, растёт также разрыв между количеством сделанных вовремя и просроченных платежей. На основании наблюдаемых данных можно предположить, что большое количество займов гасится досрочно.\n",
        "\n",
        "<font color='#777778'> До сентября 2022 года наблюдается рост количества просроченных платежей, а начиная с сентября и до декабря количество просроченных платежей уменьшается."
      ],
      "metadata": {
        "id": "PBab2zv0mvjR"
      }
    },
    {
      "cell_type": "markdown",
      "source": [
        "### Динамика по количеству закрытых с опозданием займов"
      ],
      "metadata": {
        "id": "C6DDYBmEsfu0"
      }
    },
    {
      "cell_type": "markdown",
      "source": [
        "<font color='#777778'> Для оценки динамики по займам, закрытым вовремя или с опозданием построим столбчатую диаграмму по месяцам. В первом столбце покажем количество закрытых заранее или вовремя займов `on_time`, а во втором столбце просроченных - `delayed`."
      ],
      "metadata": {
        "id": "Gs9F_BM9sxHN"
      }
    },
    {
      "cell_type": "code",
      "source": [
        "#Группируем данные для построения диаграммы\n",
        "merged_df_2['closed_at'] = merged_df_2['closed_at'].dt.month\n",
        "\n",
        "delay_pivot_2 = merged_df_2.pivot_table( index='closed_at',\n",
        "                                         columns = 'closed_late',\n",
        "                                         values = 'order_id',\n",
        "                                         aggfunc= 'count').reset_index().rename_axis(None, axis=1)\n",
        "\n",
        "delay_pivot_2 = delay_pivot_2.rename(columns = { 0: 'on_time', 1 : 'delay'})"
      ],
      "metadata": {
        "id": "_59Sla_JswaA"
      },
      "execution_count": null,
      "outputs": []
    },
    {
      "cell_type": "code",
      "source": [
        "#Cтроим диаграмму\n",
        "delay_pivot_2.plot(kind = 'bar',\n",
        "                           x = 'closed_at',\n",
        "                           y = ['on_time','delay'],\n",
        "                           ylabel = 'Количество займов',\n",
        "                           xlabel = 'Месяц закрытия',\n",
        "                           legend = True,\n",
        "                           grid = True,\n",
        "                           figsize = (30,15),\n",
        "                           color = ['#16a085' ,'#e74c3c']\n",
        "                          )\n",
        "plt.ticklabel_format(style = 'plain', axis = 'y')"
      ],
      "metadata": {
        "colab": {
          "base_uri": "https://localhost:8080/",
          "height": 1000
        },
        "id": "WTlFlHR-uD_m",
        "outputId": "6587df5b-fae8-473a-8ba8-e3ee4eb00787"
      },
      "execution_count": null,
      "outputs": [
        {
          "output_type": "display_data",
          "data": {
            "text/plain": [
              "<Figure size 3000x1500 with 1 Axes>"
            ],
            "image/png": "[encoded data removed]"
          },
          "metadata": {}
        }
      ]
    },
    {
      "cell_type": "markdown",
      "source": [
        "<font color='#777778'>Существует тенденция к увеличению количества займов закрытых с опозданием, начиная июня по август. При этом наблюдается общий рост количества закрытых займов.\n",
        "\n",
        "<font color='#777778'>Несмотря на увеличение количества кредитов, закрытых с опозданием, количество кредитов закрытых вовремя также существенно выросло.\n",
        "\n",
        "<font color='#777778'> Глядя на данные, можно предположить, что на общее количество закрытых займов влияет сезонность. Больше всего займов закрывается в середине года, а ближе к концу года количество закрытых займов снижается."
      ],
      "metadata": {
        "id": "tAV5TjGFyVoA"
      }
    },
    {
      "cell_type": "markdown",
      "source": [
        "### Вывод по аналитическим задачам"
      ],
      "metadata": {
        "id": "0hDwih_n_B5K"
      }
    },
    {
      "cell_type": "markdown",
      "source": [
        "<font color='#777778'>В результате анализа данных по кредитам за период с июня 2022 по декабрь 2022 было выявлено следующее:\n",
        "\n",
        "- Начиная с июня 2022 года по сентябрь 2022 года наблюдается тенденция к общему увеличению количества платежей. При этом разрыв между просроченным платежами и платежами сделанными вовремя - незначительный;\n",
        "- Стоит отметить, что количество платежей сделанных вовремя превышает количество просроченных платежей на протяжении всего наблюдаемого периода;\n",
        "- По мере увеличения общего количества запланированных оплат, растёт также разрыв между количеством сделанных вовремя и просроченных платежей. На основании наблюдаемых данных можно предположить, что большое количество займов гасится досрочно;\n",
        "- До сентября 2022 года наблюдается рост количества просроченных платежей, а начиная с сентября и до декабря количество просроченных платежей уменьшается;\n",
        "- Существует тенденция к увеличению количества займов закрытых с опозданием, начиная июня по август. При этом наблюдается общий рост количества закрытых займов;\n",
        "- Несмотря на увеличение количества кредитов, закрытых с опозданием, количество кредитов закрытых вовремя в наблюдаемый период также существенно выросло;\n",
        "- Глядя на данные, можно предположить, что на общее количество закрытых займов влияет сезонность. Больше всего займов закрывается в середине года, а ближе к концу года количество закрытых займов снижается. </font>"
      ],
      "metadata": {
        "id": "A_2Chr5w_KAy"
      }
    },
    {
      "cell_type": "markdown",
      "source": [
        "## Итоговый вывод"
      ],
      "metadata": {
        "id": "YStcNmLKA3Tl"
      }
    },
    {
      "cell_type": "markdown",
      "source": [
        "<font color='#777778'> Предварительное знакомство с данными показало, что исходные датафреймы имеют достаточно высокое качество: в них практически отсутствуют полные дубликаты, написание наименований столбцов соответствует стилю snake_case.\n",
        "\n",
        "<font color='#777778'> В датафрейме `orders` 16,64% пропущенных значений, однако пропуски в данном столбце скорее всего не случайны и сигнализируют о том, что заявка ещё не закрыта.\n",
        "\n",
        "<font color='#777778'> В результате предобработки данных было выполнено следующее:\n",
        "\n",
        "- Преобразованы типы данных в столбцах, содержащих информацию о датах из `object` в `float64`;\n",
        "- Выполнено понижение разрядности в столбцах `order_id` во всех датафреймах и столбцах, содержащих денежные показатели;\n",
        "- Датафрейм `payments` очищен от полных дубликатов;\n",
        "- Подготовлено два датафрейма на решения аналитических задач: `merged_df` с детализацией по платежам и `merged_df_2` с детализацией по займам. </font>\n",
        "\n",
        "<font color='#777778'>В результате анализа данных по кредитам за период с июня 2022 по декабрь 2022 было выявлено следующее:\n",
        "\n",
        "- Начиная с июня 2022 года по сентябрь 2022 года наблюдается тенденция к общему увеличению количества платежей. При этом разрыв между просроченным платежами и платежами сделанными вовремя - незначительный;\n",
        "- Стоит отметить, что количество платежей сделанных вовремя превышает количество просроченных платежей на протяжении всего наблюдаемого периода;\n",
        "- По мере увеличения общего количества запланированных оплат, растёт также разрыв между количеством сделанных вовремя и просроченных платежей. На основании наблюдаемых данных можно предположить, что большое количество займов гасится досрочно;\n",
        "- До сентября 2022 года наблюдается рост количества просроченных платежей, а начиная с сентября и до декабря количество просроченных платежей уменьшается;\n",
        "- Существует тенденция к увеличению количества займов закрытых с опозданием, начиная июня по август. При этом наблюдается общий рост количества закрытых займов;\n",
        "- Несмотря на увеличение количества кредитов, закрытых с опозданием, количество кредитов закрытых вовремя в наблюдаемый период также существенно выросло;\n",
        "- Глядя на данные, можно предположить, что на общее количество закрытых займов влияет сезонность. Больше всего займов закрывается в середине года, а ближе к концу года количество закрытых займов снижается. </font>"
      ],
      "metadata": {
        "id": "n_PBIg61A7Ou"
      }
    }
  ]
}