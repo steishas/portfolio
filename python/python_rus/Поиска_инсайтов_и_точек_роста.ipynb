{
  "cells": [
    {
      "cell_type": "markdown",
      "id": "c4haRrqhg9oo",
      "metadata": {
        "id": "c4haRrqhg9oo"
      },
      "source": [
        "# Поиска инсайтов и точек роста для сервиса доставки еды \"Всё.из.кафе\"\n",
        "\n",
        "- Автор: Смирнова Анастасия\n",
        "- Дата: 02.07.2025"
      ]
    },
    {
      "cell_type": "markdown",
      "id": "Ze-iHwaVhNNB",
      "metadata": {
        "id": "Ze-iHwaVhNNB"
      },
      "source": [
        "## Цели и задачи проекта\n",
        "\n",
        "**Цель проекта** - исследовать данные сервиса доставки еды «Всё.из.кафе» для поиска инсайтов, которые позволят сервису повысить показатель удержания пользователей и улучшить взаимодействие с партнёрами.\n",
        "\n",
        "В ходе исследования необходимо ответить на следующие вопросы:\n",
        "\n",
        "- Как ведут себя пользователи? Как наиболее эффективно выстроить работу с ними, чтобы они продолжали пользоваться продуктом?\n",
        "- Какой путь проходят пользователи в сервисе? Где «проваливаются»?\n",
        "- Как улучшить взаимодействие с партнёрами-ресторанами?\n",
        "\n",
        "**Задачи**:\n",
        "\n",
        "- Изучить пользовательский путь и проанализируете конверсии через воронки;\n",
        "- Сегментировать пользователей с помощью RFM-модели для оценки лояльности и поведения клиентов;\n",
        "- Выделить кластеры ресторанов при помощи метода K-Means, чтобы выделить группы с разными моделями работы и разработать персонализированные маркетинговые стратегии."
      ]
    },
    {
      "cell_type": "markdown",
      "id": "y9pYp962iTK5",
      "metadata": {
        "id": "y9pYp962iTK5"
      },
      "source": [
        "## План проекта\n",
        "- Загрузка данных и их предобработка.\n",
        "- Анализ пользовательского пути новых пользователей.\n",
        "- RFM сегментация.\n",
        "- K-Means кластеризация.\n",
        "- Итоговый вывод и рекомендации."
      ]
    },
    {
      "cell_type": "markdown",
      "id": "STgtp5kdhWQH",
      "metadata": {
        "id": "STgtp5kdhWQH"
      },
      "source": [
        "## Описание данных\n",
        "\n",
        "Данные включают следующие сведения:\n",
        "      \n",
        "- `visitor_uuid` — идентификатор посетителя. Это идентификатор, который присваивается системой любому новому пользователю вне зависимости от того, зарегистрировался он в продукте или нет.\n",
        "- `user_id` — идентификатор зарегистрированного пользователя. Присваивается посетителю после создания учётной записи: ввода логина, пароля, адреса доставки и контактных данных.\n",
        "- `device_type` — тип платформы, с которой посетитель зашёл в продукт.\n",
        "- `city_id` — город, из которого посетитель зашёл в сервис.\n",
        "- `source` — рекламный источник привлечения посетителя.\n",
        "- `first_date` — дата первого посещения продукта.\n",
        "- `visit_id` — уникальный идентификатор сессии.\n",
        "- `event` — название аналитического события.\n",
        "- `datetime` — дата и время события.\n",
        "- `rest_id` — уникальный идентификатор ресторана (заполняется для заказов, карточек ресторанов и блюд).\n",
        "- `object_id` — уникальный идентификатор блюда (заполняется для заказов и карточек блюд).\n",
        "- `order_id` — уникальный идентификатор заказа.\n",
        "- `revenue` — выручка от заказа (в рублях). Это та сумма, которую пользователь видит при оплате.\n",
        "- `delivery` — стоимость доставки (в рублях).\n",
        "- `commission` — комиссия, которую «Всё.из.кафе» берёт с выручки ресторана, в процентах.\n"
      ]
    },
    {
      "cell_type": "markdown",
      "id": "cd31b396",
      "metadata": {
        "id": "cd31b396"
      },
      "source": [
        "## 1. Загрузка данных и их предобработка\n",
        "\n",
        "Зарузим данные и ознакомимся с ними. Для этого создадим функцию df_info, которая будет выводить следующую информацию:\n",
        "\n",
        "- Количество строк;\n",
        "- Количество столбцов;\n",
        "- Типы данных;\n",
        "- Содержимое первой строки;\n",
        "- Доля пропусков в каждом столбце;\n",
        "- Доля явных дубликатов."
      ]
    },
    {
      "cell_type": "code",
      "execution_count": 1,
      "id": "95c67de5",
      "metadata": {
        "id": "95c67de5"
      },
      "outputs": [],
      "source": [
        "#импортируем нужные библиотеки\n",
        "import pandas as pd\n",
        "import numpy as np\n",
        "\n",
        "import matplotlib.pyplot as plt\n",
        "import seaborn as sns\n",
        "\n",
        "import warnings\n",
        "warnings.filterwarnings(\"ignore\")\n",
        "\n",
        "import math\n",
        "\n",
        "from sklearn.cluster import KMeans"
      ]
    },
    {
      "cell_type": "code",
      "execution_count": 2,
      "id": "c18f9a14",
      "metadata": {
        "id": "c18f9a14"
      },
      "outputs": [],
      "source": [
        "#загружаем данные\n",
        "source = 'https://code.s3.yandex.net/datasets/insides_data.csv'\n",
        "\n",
        "data = pd.read_csv(source, parse_dates = ['first_date','datetime'])"
      ]
    },
    {
      "cell_type": "code",
      "execution_count": 3,
      "id": "35897ad7",
      "metadata": {
        "id": "35897ad7"
      },
      "outputs": [],
      "source": [
        "#создаём функцию df_info\n",
        "def df_info(df, df_name = None):\n",
        "    \"\"\"\n",
        "    Выводит информацию о датасете\n",
        "\n",
        "    Parameters:\n",
        "        df (name of pd.DataFrame): Датафрейм для обработки.\n",
        "        df_name (str): Название датафрейма (для отображения).\n",
        "    \"\"\"\n",
        "\n",
        "    print('-'*10,''*5,f'Информация о датафрейме {str(df_name)}: ', ''*5, '-'*10)\n",
        "    print('')\n",
        "\n",
        "    row_count = df.shape[0] #Возвращаем информацию о количестве строк\n",
        "    print(f'1) Количество строк: {row_count}')\n",
        "\n",
        "    column_count = df.shape[1] #Возвращаем информацию о количестве столбцов\n",
        "    print(f'2) Количество столбцов: {column_count}')\n",
        "\n",
        "    columns = df.dtypes #Возвращаем информацию столбцах и типах данных\n",
        "    print('3) Типы данных:')\n",
        "    print('')\n",
        "    print(columns)\n",
        "    print('')\n",
        "\n",
        "    first_row = df.iloc[0, :] #Возвращаем первую строку датафрейма\n",
        "    print(f'4) Первая строка:')\n",
        "    print('')\n",
        "    print(pd.Series(first_row))\n",
        "    print('')\n",
        "\n",
        "    is_null = df.isna().mean() * 100 #Возвращаем количество пропусков\n",
        "    print(f'5) Доля пропусков в каждом из столбцов:')\n",
        "    print('')\n",
        "    print(is_null)\n",
        "    print('')\n",
        "\n",
        "    is_unique = df.duplicated().mean() * 100 #Возвращаем количество уникальных значений\n",
        "    print(f'6) Полных дубликатов:')\n",
        "    print('')\n",
        "    print(is_unique)\n",
        "    print('')\n",
        "    print('-'*62)"
      ]
    },
    {
      "cell_type": "code",
      "execution_count": 4,
      "id": "XysHVdGpjJqA",
      "metadata": {
        "colab": {
          "base_uri": "https://localhost:8080/"
        },
        "id": "XysHVdGpjJqA",
        "outputId": "c66e0032-e585-4906-a8c6-418af8d7b927"
      },
      "outputs": [
        {
          "output_type": "stream",
          "name": "stdout",
          "text": [
            "----------  Информация о датафрейме data:   ----------\n",
            "\n",
            "1) Количество строк: 205510\n",
            "2) Количество столбцов: 15\n",
            "3) Типы данных:\n",
            "\n",
            "visitor_uuid            object\n",
            "user_id                float64\n",
            "device_type             object\n",
            "city_id                  int64\n",
            "source                  object\n",
            "first_date      datetime64[ns]\n",
            "visit_id                 int64\n",
            "event                   object\n",
            "datetime        datetime64[ns]\n",
            "rest_id                 object\n",
            "object_id              float64\n",
            "order_id               float64\n",
            "revenue                float64\n",
            "delivery               float64\n",
            "commission             float64\n",
            "dtype: object\n",
            "\n",
            "4) Первая строка:\n",
            "\n",
            "visitor_uuid    01b5da38-3022-48ff-87c0-5519247fef1b\n",
            "user_id                                     567317.0\n",
            "device_type                                  Desktop\n",
            "city_id                                            6\n",
            "source                                      Source_B\n",
            "first_date                       2021-05-01 00:00:00\n",
            "visit_id                                   171481813\n",
            "event                                  authorization\n",
            "datetime                         2021-05-01 16:07:53\n",
            "rest_id                                          NaN\n",
            "object_id                                        NaN\n",
            "order_id                                         NaN\n",
            "revenue                                          NaN\n",
            "delivery                                         NaN\n",
            "commission                                       NaN\n",
            "Name: 0, dtype: object\n",
            "\n",
            "5) Доля пропусков в каждом из столбцов:\n",
            "\n",
            "visitor_uuid     0.000000\n",
            "user_id          0.000000\n",
            "device_type      0.000000\n",
            "city_id          0.000000\n",
            "source           0.000000\n",
            "first_date       0.000000\n",
            "visit_id         0.000000\n",
            "event            0.000000\n",
            "datetime         0.000000\n",
            "rest_id         18.780108\n",
            "object_id       89.631648\n",
            "order_id        96.589947\n",
            "revenue         96.589947\n",
            "delivery        96.589947\n",
            "commission      89.631648\n",
            "dtype: float64\n",
            "\n",
            "6) Полных дубликатов:\n",
            "\n",
            "0.0\n",
            "\n",
            "--------------------------------------------------------------\n"
          ]
        }
      ],
      "source": [
        "#применяем функцию к датайрему data\n",
        "df_info(data,'data')"
      ]
    },
    {
      "cell_type": "markdown",
      "id": "0-fC8KZmoRIT",
      "metadata": {
        "id": "0-fC8KZmoRIT"
      },
      "source": [
        "Для оптимизации выполним понижение разрядности в столбцах, содержащих числовые данные при помощи функции `downcast`."
      ]
    },
    {
      "cell_type": "code",
      "execution_count": 5,
      "id": "lNUAugSnhiSj",
      "metadata": {
        "id": "lNUAugSnhiSj"
      },
      "outputs": [],
      "source": [
        "#создаём функцию\n",
        "def downcast(df):\n",
        "    \"\"\"\n",
        "    Выполняет понижение разрядности в столбцах датафрейма с типами данных\n",
        "    int64 и float64\n",
        "\n",
        "    Parameters:\n",
        "        df (name of pd.DataFrame): Датафрейм для обработки.\n",
        "    \"\"\"\n",
        "    for dtype, column in zip(df.dtypes, df.columns):\n",
        "        if dtype == 'int64':\n",
        "            df[column] = pd.to_numeric(df[column], downcast = 'integer')\n",
        "        elif dtype == 'float64':\n",
        "            df[column] = pd.to_numeric(df[column], downcast = 'float')\n",
        "    print('Результат понижения разрядности:')\n",
        "    print('')\n",
        "    return df.info()"
      ]
    },
    {
      "cell_type": "code",
      "execution_count": 6,
      "id": "7pd5VZ75hkkF",
      "metadata": {
        "colab": {
          "base_uri": "https://localhost:8080/"
        },
        "id": "7pd5VZ75hkkF",
        "outputId": "d179ab5b-bd2c-43c3-f902-ee3d46d1ef63"
      },
      "outputs": [
        {
          "output_type": "stream",
          "name": "stdout",
          "text": [
            "Результат понижения разрядности:\n",
            "\n",
            "<class 'pandas.core.frame.DataFrame'>\n",
            "RangeIndex: 205510 entries, 0 to 205509\n",
            "Data columns (total 15 columns):\n",
            " #   Column        Non-Null Count   Dtype         \n",
            "---  ------        --------------   -----         \n",
            " 0   visitor_uuid  205510 non-null  object        \n",
            " 1   user_id       205510 non-null  float32       \n",
            " 2   device_type   205510 non-null  object        \n",
            " 3   city_id       205510 non-null  int8          \n",
            " 4   source        205510 non-null  object        \n",
            " 5   first_date    205510 non-null  datetime64[ns]\n",
            " 6   visit_id      205510 non-null  int32         \n",
            " 7   event         205510 non-null  object        \n",
            " 8   datetime      205510 non-null  datetime64[ns]\n",
            " 9   rest_id       166915 non-null  object        \n",
            " 10  object_id     21308 non-null   float32       \n",
            " 11  order_id      7008 non-null    float32       \n",
            " 12  revenue       7008 non-null    float64       \n",
            " 13  delivery      7008 non-null    float32       \n",
            " 14  commission    21308 non-null   float32       \n",
            "dtypes: datetime64[ns](2), float32(5), float64(1), int32(1), int8(1), object(5)\n",
            "memory usage: 17.4+ MB\n"
          ]
        }
      ],
      "source": [
        "#применяем функцию\n",
        "downcast(data)"
      ]
    },
    {
      "cell_type": "markdown",
      "id": "fjctwwebiGnC",
      "metadata": {
        "id": "fjctwwebiGnC"
      },
      "source": [
        "Улалось понизить разрядность практически во всех столбцах, содеращих числовые данные, что поможет сократить время обработки датафрейма.\n",
        "\n",
        "Рассмотрим пропуски. В некотрых столбцах датафрейма доля пропусков достаточно высокая:\n",
        "\n",
        "- `rest_id` - 18.78%;\n",
        "- `object_id` - 89.63%;\n",
        "- `order_id` - 96.59%;\n",
        "- `revenue` - 96.59%;\n",
        "- `delivery` - 96.59%;\n",
        "- `commission` - 89.63%.\n",
        "\n",
        "Вероятно, пропуски содержатся в тех характеристиках, которые не присваиваются определенному виду пользовательской активности. Например, на этапе `authorization` в поле `rest_id` будет пропуск, поскольку пользователь не взаимодействует с рестораном.\n",
        "\n",
        "Проверим данную гипотезу. Для начала узнаем, данные о каких событиях содержатся в датафрейме."
      ]
    },
    {
      "cell_type": "code",
      "execution_count": 7,
      "id": "YK1KNJtDmjKV",
      "metadata": {
        "colab": {
          "base_uri": "https://localhost:8080/",
          "height": 366
        },
        "id": "YK1KNJtDmjKV",
        "outputId": "ab737d10-6bfd-4dc0-8afb-f11999ea000b"
      },
      "outputs": [
        {
          "output_type": "execute_result",
          "data": {
            "text/plain": [
              "event\n",
              "main_page        145607\n",
              "login             18581\n",
              "object_page       12132\n",
              "authorization      9983\n",
              "reg_page           5684\n",
              "add_to_cart        5627\n",
              "confirm_phone      4347\n",
              "order              3549\n",
              "Name: count, dtype: int64"
            ],
            "text/html": [
              "<div>\n",
              "<style scoped>\n",
              "    .dataframe tbody tr th:only-of-type {\n",
              "        vertical-align: middle;\n",
              "    }\n",
              "\n",
              "    .dataframe tbody tr th {\n",
              "        vertical-align: top;\n",
              "    }\n",
              "\n",
              "    .dataframe thead th {\n",
              "        text-align: right;\n",
              "    }\n",
              "</style>\n",
              "<table border=\"1\" class=\"dataframe\">\n",
              "  <thead>\n",
              "    <tr style=\"text-align: right;\">\n",
              "      <th></th>\n",
              "      <th>count</th>\n",
              "    </tr>\n",
              "    <tr>\n",
              "      <th>event</th>\n",
              "      <th></th>\n",
              "    </tr>\n",
              "  </thead>\n",
              "  <tbody>\n",
              "    <tr>\n",
              "      <th>main_page</th>\n",
              "      <td>145607</td>\n",
              "    </tr>\n",
              "    <tr>\n",
              "      <th>login</th>\n",
              "      <td>18581</td>\n",
              "    </tr>\n",
              "    <tr>\n",
              "      <th>object_page</th>\n",
              "      <td>12132</td>\n",
              "    </tr>\n",
              "    <tr>\n",
              "      <th>authorization</th>\n",
              "      <td>9983</td>\n",
              "    </tr>\n",
              "    <tr>\n",
              "      <th>reg_page</th>\n",
              "      <td>5684</td>\n",
              "    </tr>\n",
              "    <tr>\n",
              "      <th>add_to_cart</th>\n",
              "      <td>5627</td>\n",
              "    </tr>\n",
              "    <tr>\n",
              "      <th>confirm_phone</th>\n",
              "      <td>4347</td>\n",
              "    </tr>\n",
              "    <tr>\n",
              "      <th>order</th>\n",
              "      <td>3549</td>\n",
              "    </tr>\n",
              "  </tbody>\n",
              "</table>\n",
              "</div><br><label><b>dtype:</b> int64</label>"
            ]
          },
          "metadata": {},
          "execution_count": 7
        }
      ],
      "source": [
        "#выводим данные о типах пользовательской активности\n",
        "data['event'].value_counts()"
      ]
    },
    {
      "cell_type": "markdown",
      "id": "aI-y-QQCosPj",
      "metadata": {
        "id": "aI-y-QQCosPj"
      },
      "source": [
        "На основании названий этапов можно разделить их на три группы:\n",
        "\n",
        "- Действия, связанные с регистрацией и авторизацией: `login`, `authorization`, `confirm_phone`;\n",
        "- Действия, связанные с оформлением заказа: `add_to_cart`, `order`;\n",
        "- Действия, связанные с навигацией: `main_page`, `object_page`, `reg_page`.\n",
        "\n",
        "Теперь рассмотрим, для каких этапов характерно наличие пропусков в определенных полях."
      ]
    },
    {
      "cell_type": "code",
      "execution_count": 8,
      "id": "J0Gs-MsikAr2",
      "metadata": {
        "colab": {
          "base_uri": "https://localhost:8080/"
        },
        "id": "J0Gs-MsikAr2",
        "outputId": "3620f851-a469-46ac-b784-9c8b1a3a724e"
      },
      "outputs": [
        {
          "output_type": "stream",
          "name": "stdout",
          "text": [
            "\n",
            "Количество пропусков для rest_id:\n",
            "\n",
            "           event  count\n",
            "0          login  18581\n",
            "1  authorization   9983\n",
            "2       reg_page   5684\n",
            "3  confirm_phone   4347\n",
            "___________________________________\n",
            "\n",
            "Количество пропусков для object_id:\n",
            "\n",
            "           event   count\n",
            "0      main_page  145607\n",
            "1          login   18581\n",
            "2  authorization    9983\n",
            "3       reg_page    5684\n",
            "4  confirm_phone    4347\n",
            "___________________________________\n",
            "\n",
            "Количество пропусков для order_id:\n",
            "\n",
            "           event   count\n",
            "0      main_page  145607\n",
            "1          login   18581\n",
            "2    object_page   12132\n",
            "3  authorization    9983\n",
            "4       reg_page    5684\n",
            "5  confirm_phone    4347\n",
            "6    add_to_cart    2168\n",
            "___________________________________\n",
            "\n",
            "Количество пропусков для revenue:\n",
            "\n",
            "           event   count\n",
            "0      main_page  145607\n",
            "1          login   18581\n",
            "2    object_page   12132\n",
            "3  authorization    9983\n",
            "4       reg_page    5684\n",
            "5  confirm_phone    4347\n",
            "6    add_to_cart    2168\n",
            "___________________________________\n",
            "\n",
            "Количество пропусков для delivery:\n",
            "\n",
            "           event   count\n",
            "0      main_page  145607\n",
            "1          login   18581\n",
            "2    object_page   12132\n",
            "3  authorization    9983\n",
            "4       reg_page    5684\n",
            "5  confirm_phone    4347\n",
            "6    add_to_cart    2168\n",
            "___________________________________\n",
            "\n",
            "Количество пропусков для commission:\n",
            "\n",
            "           event   count\n",
            "0      main_page  145607\n",
            "1          login   18581\n",
            "2  authorization    9983\n",
            "3       reg_page    5684\n",
            "4  confirm_phone    4347\n",
            "___________________________________\n"
          ]
        }
      ],
      "source": [
        "for column in ['rest_id','object_id','order_id','revenue','delivery','commission']:\n",
        "    print('')\n",
        "    print(f'Количество пропусков для {column}:')\n",
        "    print('')\n",
        "    print(data[data[column].isna()].copy()['event'].value_counts().reset_index())\n",
        "    print('_' * 35)"
      ]
    },
    {
      "cell_type": "markdown",
      "id": "7oVvq_cKl5mb",
      "metadata": {
        "id": "7oVvq_cKl5mb"
      },
      "source": [
        "Пропуски содеражтся в тех столбцах, которые характеризуют действия, свзанные с этапом оформления заказов.\n",
        "\n",
        "Количество пропусков для этапов `main_pade`, `login`, `authorization`, `reg_page`, `confirm_phone` для каждого из рассматриваемых столбцов одинаково, что подтверждает гипотезу о том, что для данных этапов данные о совершении заказа не логируются, поскольку данные события связаны с процессами авторизации и регистрации пользователей в системе и не характерны для этапов, связанных с оформлением заказов.\n",
        "\n",
        "Для этапа `add_to_cart` пропуски содержатся в столбцах `order_id`, `revenue` и `delivery`, что также логично, поскольку данные о номере заказа, выручке и стоимости доставки появляются уже после добавления блюда в корзину на этапе оформления заказа.\n",
        "\n",
        "Таким образом, наличие пропусков не является подозрительным и связано со особенностями логирования каждого вида пользовательской активности.\n",
        "\n",
        "Рассмотрим наличие дубликатов.\n",
        "Первичная проверка показала отсутствие полных дубликатов, однако возможно появление дубликатов по конкретным событиям. Проверим наличие дубликатов по полям `user_id`, `device_type`, `datetime`, `event`."
      ]
    },
    {
      "cell_type": "code",
      "execution_count": 9,
      "id": "h-p1ntNKsClD",
      "metadata": {
        "colab": {
          "base_uri": "https://localhost:8080/"
        },
        "id": "h-p1ntNKsClD",
        "outputId": "3003602c-8bdc-410c-c571-97258a64f025"
      },
      "outputs": [
        {
          "output_type": "stream",
          "name": "stdout",
          "text": [
            "Количество дубликатов по действиям пользователей в системе: 7\n"
          ]
        }
      ],
      "source": [
        "#рассчитываем колчество дубликатов\n",
        "duplicates = data.duplicated(subset = ['user_id','device_type','datetime','event']).sum()\n",
        "\n",
        "print(f'Количество дубликатов по действиям пользователей в системе: {duplicates}')"
      ]
    },
    {
      "cell_type": "markdown",
      "id": "NvOVMdmbtC4N",
      "metadata": {
        "id": "NvOVMdmbtC4N"
      },
      "source": [
        "По всей видимости на некоторых этапах логирования произошла ошибка и данные были записаны дважды. Несмотря на то, что количество таких строк невелико, для корректности дальнейших расчетов, удалим такие данные."
      ]
    },
    {
      "cell_type": "code",
      "execution_count": 10,
      "id": "JuCRGKyBtwo0",
      "metadata": {
        "id": "JuCRGKyBtwo0"
      },
      "outputs": [],
      "source": [
        "#удаляем дубликаты\n",
        "data = data.drop_duplicates(subset = ['user_id','device_type','datetime','event'])"
      ]
    },
    {
      "cell_type": "markdown",
      "id": "FF4k3ajot7jh",
      "metadata": {
        "id": "FF4k3ajot7jh"
      },
      "source": [
        "### Вывод\n",
        "\n",
        "Предобработка данных завершена. В результате было выполнено следующее:\n",
        "\n",
        "- Выполнены преобразования типов данных в столбцах `first_date`, `datetime`, содержащих информацию о датах, к `datetime`;\n",
        "- Выполнено понижение разрядности в столбцах, содержаших числовые данные;\n",
        "- Выполнен анализ пропусков. Аномалий не выявлено. Наличие пропусков связано с особенностями логирования пользовательской активности;\n",
        "- Удалено 7 дубликатов, дублирующих определенные этапы пользовательской активности.\n",
        "\n",
        "Предобработка данных завершена. Можно приступать в основным расчетам."
      ]
    },
    {
      "cell_type": "markdown",
      "id": "e7c9d578",
      "metadata": {
        "id": "e7c9d578"
      },
      "source": [
        "---\n",
        "\n",
        "## 2. Анализ пользовательского пути\n",
        "\n",
        "По информации от маркетологов в последнее время было зафиксировано снижение количества заказов. При этом снижение количества скачиваний приложения зафиксировано не было. Было также зафиксировано увеличение доли заказов с десктопной версии приложения по сравнению с мобильной.\n",
        "\n",
        "Возможно потеря пользователей происходит на этапе подтверждения номера телефона в связи с недавним изменением алгоритма подтверждения номера телефона и адреса доставки.\n",
        "\n",
        "Пользовательский путь от авторазации до оформления заказа можно описать через следующие этапы:\n",
        "\n",
        "1. `authorization` — авторизация пользователя — запуск приложения.\n",
        "2. `main_page` — загрузка основной страницы приложения.\n",
        "2. `reg_page` — переход на страницу регистрации.\n",
        "2. `confirm_phone` — подтверждение телефона (окончание процесса регистрации).\n",
        "2. `object_page` — страница блюда.\n",
        "2. `add_to_cart` — переход в корзину.\n",
        "2. `order` — оформление заказа.\n",
        "\n",
        "Построим две воронки конверсии - классическую и step by step для того, чтобы понять, происходит ли заметный отток пользователей на каком-то из этапов взаимодействия с приложением."
      ]
    },
    {
      "cell_type": "markdown",
      "id": "35acd0f6",
      "metadata": {
        "id": "35acd0f6"
      },
      "source": [
        "### **Задача 2.1.** Построение классической и step by step воронки"
      ]
    },
    {
      "cell_type": "code",
      "execution_count": 11,
      "id": "f3d8bcd0",
      "metadata": {
        "id": "f3d8bcd0"
      },
      "outputs": [],
      "source": [
        "#задаем порядок шагов в воронке\n",
        "steps = ['authorization', 'main_page', 'reg_page', 'confirm_phone', 'object_page', 'add_to_cart', 'order']\n",
        "\n",
        "#фильтруем данные по релеватным действиям\n",
        "funnel_data = data[data['event'].isin(steps)].copy()\n",
        "\n",
        "#рассчитываем количество пользователей для каждого этапа\n",
        "funnel = funnel_data.groupby('event')['user_id'].nunique().reindex(steps).reset_index(name = 'user_count')\n",
        "\n",
        "#рассчитываем конверсии\n",
        "funnel['classic'] = (funnel['user_count'] / funnel['user_count'].iloc[0] * 100).round(1)\n",
        "funnel['step_by_step'] = (funnel['user_count'] / funnel['user_count'].shift(1) * 100).round(1)"
      ]
    },
    {
      "cell_type": "code",
      "execution_count": 12,
      "id": "mV3JvjHl0X5y",
      "metadata": {
        "colab": {
          "base_uri": "https://localhost:8080/",
          "height": 610
        },
        "id": "mV3JvjHl0X5y",
        "outputId": "3e86fa21-de24-4e55-f05b-af5b5013e4d7"
      },
      "outputs": [
        {
          "output_type": "display_data",
          "data": {
            "text/plain": [
              "<Figure size 2000x700 with 2 Axes>"
            ],
            "image/png": "[encoded data removed]"
          },
          "metadata": {}
        }
      ],
      "source": [
        "#строим визуализации\n",
        "fig, axes = plt.subplots(1, 2, figsize=(20, 7))\n",
        "\n",
        "#классическая воронка\n",
        "steps_classic = funnel['event']\n",
        "conversions_classic = funnel['classic']\n",
        "\n",
        "axes[0].bar(funnel['event'], funnel['classic'], color = '#005b96')\n",
        "axes[0].set_title('Классическая конверсия, %')\n",
        "axes[0].set_xticklabels(labels = steps_classic, rotation=40)\n",
        "axes[0].set_ylabel('Конверсия, %')\n",
        "\n",
        "#наносим значения конверсии на график\n",
        "for index, value in enumerate(conversions_classic):\n",
        "    axes[0].text(index, value + 1, f'{value:.1f}%', ha='center', fontsize=12, color='black')\n",
        "\n",
        "#step by step воронка\n",
        "steps_stbs = funnel['event'][1:]\n",
        "conversions_stbs = funnel['step_by_step'][1:]\n",
        "\n",
        "axes[1].bar(funnel['event'][1:], funnel['step_by_step'][1:], color = '#005b96')\n",
        "axes[1].set_title('Step by step конверсия, %')\n",
        "axes[1].set_xticklabels(labels = steps_stbs, rotation=40)\n",
        "axes[1].set_ylabel('Конверсия, %')\n",
        "\n",
        "axes[1].set_ylim(0, max(conversions_stbs) * 1.20)\n",
        "\n",
        "for index, value in enumerate(conversions_stbs):\n",
        "    axes[1].text(index, value + (max(conversions_stbs)*0.03), f'{value:.1f}%', ha='center', va='bottom', fontsize=12, color='black')\n",
        "\n",
        "plt.tight_layout()\n",
        "plt.show()"
      ]
    },
    {
      "cell_type": "markdown",
      "id": "ACo6Kwr26CaY",
      "metadata": {
        "id": "ACo6Kwr26CaY"
      },
      "source": [
        "Классическая воронка не показывает значимых аналомалий. На каждом этапе количество пользователей, совершивших действие снижается примерно на 10% по отношению к этапу авторизации.\n",
        "\n",
        "Step by step воронка показывает снижение количества пользователей на этапе `confirm_phone`, что сигнализирует о возможных проблемах, с которыми сталкиваются пользователи при подтверждении номера телефона в мобильном приложении.\n",
        "\n",
        "Построим step by step воронки конверсии для каждой версии приложения, для более детального понимания пользовательского пути."
      ]
    },
    {
      "cell_type": "markdown",
      "id": "2544fa1b",
      "metadata": {
        "id": "2544fa1b"
      },
      "source": [
        "### **Задача 2.2.** Сравнение пользовательского пути в мобильной и  desktop версиях приложения"
      ]
    },
    {
      "cell_type": "code",
      "execution_count": 13,
      "id": "fdd93c9b",
      "metadata": {
        "colab": {
          "base_uri": "https://localhost:8080/",
          "height": 610
        },
        "id": "fdd93c9b",
        "outputId": "0182e16a-fc86-474c-dbdd-dd7febdb2878"
      },
      "outputs": [
        {
          "output_type": "display_data",
          "data": {
            "text/plain": [
              "<Figure size 2000x700 with 2 Axes>"
            ],
            "image/png": "[encoded data removed]"
          },
          "metadata": {}
        }
      ],
      "source": [
        "#рассчитываем step by step конверсию для каждой версии приложения\n",
        "fig, axes = plt.subplots(1, 2, figsize=(20, 7))\n",
        "\n",
        "for device, ax in zip(['Desktop','Mobile'],[0,1]):\n",
        "    #фильруем данные\n",
        "    funnel_data = data[(data['event'].isin(steps)) & (data['device_type'] == device)].copy()\n",
        "\n",
        "    #рассчитываем количество пользователей для каждого этапа\n",
        "    funnel = funnel_data.groupby('event')['user_id'].nunique().reindex(steps).reset_index(name = 'user_count')\n",
        "\n",
        "    #рассчитываем step by step конверсию\n",
        "    funnel['step_by_step'] = (funnel['user_count'] / funnel['user_count'].shift(1) * 100).round(1)\n",
        "\n",
        "    #строим визуализации\n",
        "    bars = axes[ax].bar(funnel['event'][1:], funnel['step_by_step'][1:], color='#005b96')\n",
        "    axes[ax].set_title(f'Step by step конверсия для {device} версии, %')\n",
        "    axes[ax].set_xticklabels(labels = steps[1:], rotation=40)\n",
        "    axes[ax].set_ylabel('Конверсия, %')\n",
        "\n",
        "    #добавляем подписи значений\n",
        "    max_conversion = funnel['step_by_step'][1:].max()\n",
        "    axes[ax].set_ylim(0, max_conversion * 1.20)\n",
        "\n",
        "\n",
        "    for bar in bars:\n",
        "        height = bar.get_height()\n",
        "        axes[ax].text(bar.get_x() + bar.get_width()/2.,\n",
        "                     height + (max_conversion * 0.03),\n",
        "                     f'{height:.1f}%',\n",
        "                     ha='center', va='bottom',\n",
        "                     fontsize=12, color='black')\n",
        "#выводим результат\n",
        "plt.tight_layout()\n",
        "plt.show()"
      ]
    },
    {
      "cell_type": "markdown",
      "id": "7flxx0Ok-sY7",
      "metadata": {
        "id": "7flxx0Ok-sY7"
      },
      "source": [
        "Существуют значимые различия в пользовательском пути для пользователей различных версий приложения.\n",
        "\n",
        "Конверсия для пользователей desktop версии более равномерная. Заметен отток пользователей на этапе перехода на страницу регистрации. Это может быть связано с тем, что процесс перехода на страницу регистрации не совсем понятен для некоторых пользователей. Возможно стоит пересмотреть дизайн десктопной версии для того, чтобы сделать упростить процесс перехода к этапу регистрации.\n",
        "\n",
        "Для пользователей мобильной версии приложения заметен значимый отток на этапе подтверждения номера телефона. Это сигнализиурет о том, что изменения в алгоритме подтверждения мобильного телефона и адреса доставки в мобильной версии приложения могли привести к ошибкам или существенному усложнению процесса завершения регистрации. Необходимо передать данную информацию в команду разработки мобильной версии приложения для проверки корректности работу алгоритма.\n",
        "\n",
        "На этапах добавления блюда в корзину и оформления заказа конверсия для пользователей десктопной версии ниже, чем для пользователей мобильной версии. Возможно причина также кроется в неудобности дизайна десктопной версии приложения. В мобильной версии процесс добавления товара в корзину и оформления заказа более понятен пользователям."
      ]
    },
    {
      "cell_type": "markdown",
      "id": "VyCOeqSYJMhy",
      "metadata": {
        "id": "VyCOeqSYJMhy"
      },
      "source": [
        "## Вывод\n",
        "\n",
        "Анализ классической воронки показал отсутствие значимых аномалий в пользовательском пути. Анализ step by step воронки показал отток пользователей на этапе подтверждения номера телефона, что потенциально могло быть вызвано сложностями, с которыми пользователи мобильной версии приложения сталкаются в мобильной версии при завершении регистрации.\n",
        "\n",
        "Более детальный анализ step by step воронок в разрезе платформы подтвердил, что сильная просадка на этапе `confirm_phone` (до 55% по отношению к предыдущему этапу) наблюдается именно для пользователей мобильной версии приложения.\n",
        "\n",
        "Анализ десктопной версии также показал, что отток пользователей происходит на этапе `reg_page` (конверсия составляет 79% по отношению к предыдущему шагу). Возможно стоит пересмотреть дизайн десктопной версии для того, чтобы сделать упростить процесс перехода к этапу регистрации.\n",
        "\n",
        "Кроме того были замечены различия в конверсии между версиями приложения для этапов `add_to_cart` и `order`: для пользователей десктопной версии конверсия на данных этапах ниже примерно на 3 - 4%, что может быть связано с недостатками интерфейса десктопной версии приложения.\n",
        "\n",
        "Информация будет передана командам разработки мобильной версии и UX-команде для проработки улучшений."
      ]
    },
    {
      "cell_type": "markdown",
      "id": "688346cf",
      "metadata": {
        "id": "688346cf"
      },
      "source": [
        "---\n",
        "\n",
        "## 3. RFM сегментация\n",
        "\n",
        "У сервиса доставки еды не такое высокое удержание пользователей: в первый день возвращается около 14% посетителей, а на седьмой день и того меньше — около 4–5%. Маркетологи хотят запустить несколько рекламных кампаний, направленных на удержание платящих пользователей и их возврат в сервис, если они давно не совершали заказы.\n",
        "\n",
        "Для этого необходимо сегментировать пользователей на различные поведенческие сегменты с помощью RFM-сегментации по трём показателям:\n",
        "- **давность** (Recency),\n",
        "- **частота покупок** (Frequency),\n",
        "- **сумма трат** (Monetary).\n",
        "\n",
        "Дата анализа - **03 июля 2021 года**."
      ]
    },
    {
      "cell_type": "markdown",
      "id": "5f4a65c2",
      "metadata": {
        "id": "5f4a65c2"
      },
      "source": [
        "### **Задача 3.1.** Расчет recency, frequency, monetary_value\n",
        "\n",
        "Рассчитаем для каждого покупателя:\n",
        "\n",
        "- количество дней с последней покупки — давность (R);\n",
        "- частоту покупок (F);\n",
        "- стоимость всех покупок — сумму трат (M)."
      ]
    },
    {
      "cell_type": "code",
      "execution_count": 14,
      "id": "f3604a9f",
      "metadata": {
        "id": "f3604a9f"
      },
      "outputs": [],
      "source": [
        "#устанавливаем дату анализа\n",
        "curr_date = '2021-07-01'\n",
        "\n",
        "#фильтруем данные для анализа\n",
        "orders = data[data['event'] == 'order'].copy()\n",
        "\n",
        "#находим количество дней с покупки до анализа\n",
        "orders['order_recency'] = pd.to_datetime(curr_date) - pd.to_datetime(orders['datetime'].dt.strftime('%Y-%m-%d'))\n",
        "\n",
        "#рассчитываем данные для RFM-анализа\n",
        "rfm_data = orders.groupby('user_id').agg( # Количество дней с последнего заказа:\n",
        "                                          recency = ('order_recency', lambda x: x.min().days),\n",
        "                                          # Количество заказов за период времени:\n",
        "                                          frequency = ('datetime', 'count'),\n",
        "                                          # Сумма стоимости всех заказов:\n",
        "                                          monetary_value = ('revenue', 'sum')).reset_index()"
      ]
    },
    {
      "cell_type": "markdown",
      "id": "7523bb8e",
      "metadata": {
        "id": "7523bb8e"
      },
      "source": [
        "<div style=\"background-color: #d4edda; color: #155724; padding: 15px; border-radius: 4px; border: 1px solid #c3e6cb;\">\n",
        "\n",
        "<b>Комментарий ревьюера v1:</b>\n",
        "\n",
        "Данные отфильтрованы верно."
      ]
    },
    {
      "cell_type": "markdown",
      "id": "KO3bIgwtWX4b",
      "metadata": {
        "id": "KO3bIgwtWX4b"
      },
      "source": [
        "Визуализируем получившийся результат."
      ]
    },
    {
      "cell_type": "code",
      "execution_count": 15,
      "id": "4ea6a71d",
      "metadata": {
        "colab": {
          "base_uri": "https://localhost:8080/",
          "height": 1000
        },
        "id": "4ea6a71d",
        "outputId": "92c82c57-a6e5-440b-fd7c-3c809c7fc0f6"
      },
      "outputs": [
        {
          "output_type": "display_data",
          "data": {
            "text/plain": [
              "<Figure size 2000x1500 with 3 Axes>"
            ],
            "image/png": "[encoded data removed]"
          },
          "metadata": {}
        }
      ],
      "source": [
        "#строим гистограммы\n",
        "fig, axes = plt.subplots(3, 1, figsize=(20, 15))\n",
        "\n",
        "for criteria, ax, characteritic in zip(['recency','frequency','monetary_value'],\n",
        "                                       [0,1,2],\n",
        "                                       ['Дни','Количество заказов','Стоимость заказов']):\n",
        "    axes[ax].hist(rfm_data[criteria], bins=75)\n",
        "    axes[ax].set_title(f'{criteria}')\n",
        "    axes[ax].set_xlabel(f'{characteritic}')\n",
        "    axes[ax].set_ylabel('Количество пользователей')\n",
        "\n",
        "plt.show()"
      ]
    },
    {
      "cell_type": "markdown",
      "id": "lU48pYjqWdQM",
      "metadata": {
        "id": "lU48pYjqWdQM"
      },
      "source": [
        "Распределение пользователей по давности заказов достаточно равномерное. Среди пользователей примерно в равном соотношении встречаются как те, кто совершает заказы регулярно, так и те, кто оформляли заказы более 30 дней назад. Для выделения сегментов по давности лучше всего подойдет деление пользователей на три равных группы.\n",
        "\n",
        "Распредеделение пользователей по количеству заказов неравномерное. Больше всего пользователей в группе с одним заказом. Среди пользователей практически не встречается тех, кто оформил более пяти заказов. Для выделение сегментов по количеству заказов разделим пользователей на 3 группы:\n",
        "\n",
        "- пользователи с 1 заказом (F-сегмент с небольшим количеством заказов);\n",
        "- пользователи с 2 заказами (F-сегмент со средним количеством заказов);\n",
        "- пользователи с 3 и более заказами (F-сегмент с большим количеством заказов).\n",
        "\n",
        "Распределение пользователей по стоимости оформленных заказов также неравномерное. Для большинства пользователей сумма оформленных заказов составляет менее 10 000 руб. Для выделения сегментов применим деление на три группы по 33-ему и 66-ому перцентилям."
      ]
    },
    {
      "cell_type": "markdown",
      "id": "dad0c7d9",
      "metadata": {
        "id": "dad0c7d9"
      },
      "source": [
        "### **Задача 3.2.** Выделение **RFM-сегментов** и изучение распределения пользователей по ним."
      ]
    },
    {
      "cell_type": "code",
      "execution_count": 16,
      "id": "5d65e66c",
      "metadata": {
        "id": "5d65e66c"
      },
      "outputs": [],
      "source": [
        "#делим пользователей на три равных группы по давности покупки\n",
        "rfm_data['r'] = pd.cut(rfm_data['recency'], bins=3, labels=[3,2,1])\n",
        "\n",
        "#определяем группы пользователя по количеству заказов\n",
        "rfm_data['f'] = pd.cut(rfm_data['frequency'], [1, 2, 3, 12], labels=[1,2,3], include_lowest=True)\n",
        "\n",
        "#определяем группы пользователя по стоимости заказов\n",
        "rfm_data['m'] = pd.qcut(rfm_data['monetary_value'], q=3, labels=[1,2,3])\n",
        "\n",
        "#находим RFM-индекс\n",
        "rfm_data[['r','f','m']] = rfm_data[['r','f','m']].astype('str')\n",
        "rfm_data['rfm_group'] = rfm_data['r'] + rfm_data['f'] + rfm_data['m']\n",
        "\n",
        "#рассчитываем количество пользователей в каждом сегменте\n",
        "rfm_data = rfm_data.groupby('rfm_group').agg({'user_id':'nunique'}).reset_index()\n",
        "\n",
        "#находим долю пользователей в каждом сегменте\n",
        "rfm_data['user_share'] = rfm_data['user_id'] / rfm_data['user_id'].sum()\n",
        "\n",
        "#меняем наименования столбцов\n",
        "rfm_data = rfm_data.rename(columns = {'rfm_group' : 'RFM-сегмент',\n",
        "                                      'user_id' : 'Количество пользователей',\n",
        "                                      'user_share' : 'Доля пользователей, %'})"
      ]
    },
    {
      "cell_type": "code",
      "execution_count": 17,
      "id": "vLDf4xzuSFWD",
      "metadata": {
        "colab": {
          "base_uri": "https://localhost:8080/",
          "height": 775
        },
        "id": "vLDf4xzuSFWD",
        "outputId": "3a0a1e3b-9cef-45fa-b34b-1cab4e52d379"
      },
      "outputs": [
        {
          "output_type": "stream",
          "name": "stdout",
          "text": [
            "RFM-сегментация пользователей:\n"
          ]
        },
        {
          "output_type": "execute_result",
          "data": {
            "text/plain": [
              "<pandas.io.formats.style.Styler at 0x7dd7933ab810>"
            ],
            "text/html": [
              "<style type=\"text/css\">\n",
              "#T_80ec7_row0_col2 {\n",
              "  width: 10em;\n",
              "  background: linear-gradient(90deg, #b2d8f7 100.0%, transparent 100.0%);\n",
              "}\n",
              "#T_80ec7_row1_col2 {\n",
              "  width: 10em;\n",
              "  background: linear-gradient(90deg, #b2d8f7 97.6%, transparent 97.6%);\n",
              "}\n",
              "#T_80ec7_row2_col2 {\n",
              "  width: 10em;\n",
              "  background: linear-gradient(90deg, #b2d8f7 88.9%, transparent 88.9%);\n",
              "}\n",
              "#T_80ec7_row3_col2 {\n",
              "  width: 10em;\n",
              "  background: linear-gradient(90deg, #b2d8f7 88.2%, transparent 88.2%);\n",
              "}\n",
              "#T_80ec7_row4_col2 {\n",
              "  width: 10em;\n",
              "  background: linear-gradient(90deg, #b2d8f7 86.1%, transparent 86.1%);\n",
              "}\n",
              "#T_80ec7_row5_col2 {\n",
              "  width: 10em;\n",
              "  background: linear-gradient(90deg, #b2d8f7 80.1%, transparent 80.1%);\n",
              "}\n",
              "#T_80ec7_row6_col2 {\n",
              "  width: 10em;\n",
              "  background: linear-gradient(90deg, #b2d8f7 79.1%, transparent 79.1%);\n",
              "}\n",
              "#T_80ec7_row7_col2 {\n",
              "  width: 10em;\n",
              "  background: linear-gradient(90deg, #b2d8f7 63.2%, transparent 63.2%);\n",
              "}\n",
              "#T_80ec7_row8_col2 {\n",
              "  width: 10em;\n",
              "  background: linear-gradient(90deg, #b2d8f7 54.1%, transparent 54.1%);\n",
              "}\n",
              "#T_80ec7_row9_col2 {\n",
              "  width: 10em;\n",
              "  background: linear-gradient(90deg, #b2d8f7 18.9%, transparent 18.9%);\n",
              "}\n",
              "#T_80ec7_row10_col2 {\n",
              "  width: 10em;\n",
              "  background: linear-gradient(90deg, #b2d8f7 15.5%, transparent 15.5%);\n",
              "}\n",
              "#T_80ec7_row11_col2 {\n",
              "  width: 10em;\n",
              "  background: linear-gradient(90deg, #b2d8f7 11.8%, transparent 11.8%);\n",
              "}\n",
              "#T_80ec7_row12_col2 {\n",
              "  width: 10em;\n",
              "  background: linear-gradient(90deg, #b2d8f7 11.1%, transparent 11.1%);\n",
              "}\n",
              "#T_80ec7_row13_col2 {\n",
              "  width: 10em;\n",
              "  background: linear-gradient(90deg, #b2d8f7 7.8%, transparent 7.8%);\n",
              "}\n",
              "#T_80ec7_row14_col2 {\n",
              "  width: 10em;\n",
              "  background: linear-gradient(90deg, #b2d8f7 6.1%, transparent 6.1%);\n",
              "}\n",
              "#T_80ec7_row15_col2 {\n",
              "  width: 10em;\n",
              "  background: linear-gradient(90deg, #b2d8f7 2.7%, transparent 2.7%);\n",
              "}\n",
              "#T_80ec7_row16_col2 {\n",
              "  width: 10em;\n",
              "  background: linear-gradient(90deg, #b2d8f7 2.4%, transparent 2.4%);\n",
              "}\n",
              "#T_80ec7_row17_col2 {\n",
              "  width: 10em;\n",
              "  background: linear-gradient(90deg, #b2d8f7 1.4%, transparent 1.4%);\n",
              "}\n",
              "#T_80ec7_row18_col2, #T_80ec7_row19_col2, #T_80ec7_row20_col2, #T_80ec7_row21_col2 {\n",
              "  width: 10em;\n",
              "  background: linear-gradient(90deg, #b2d8f7 0.3%, transparent 0.3%);\n",
              "}\n",
              "</style>\n",
              "<table id=\"T_80ec7\" class=\"dataframe\">\n",
              "  <thead>\n",
              "    <tr>\n",
              "      <th class=\"blank level0\" >&nbsp;</th>\n",
              "      <th id=\"T_80ec7_level0_col0\" class=\"col_heading level0 col0\" >RFM-сегмент</th>\n",
              "      <th id=\"T_80ec7_level0_col1\" class=\"col_heading level0 col1\" >Количество пользователей</th>\n",
              "      <th id=\"T_80ec7_level0_col2\" class=\"col_heading level0 col2\" >Доля пользователей, %</th>\n",
              "    </tr>\n",
              "  </thead>\n",
              "  <tbody>\n",
              "    <tr>\n",
              "      <th id=\"T_80ec7_level0_row0\" class=\"row_heading level0 row0\" >8</th>\n",
              "      <td id=\"T_80ec7_row0_col0\" class=\"data row0 col0\" >212</td>\n",
              "      <td id=\"T_80ec7_row0_col1\" class=\"data row0 col1\" >296</td>\n",
              "      <td id=\"T_80ec7_row0_col2\" class=\"data row0 col2\" >12.25%</td>\n",
              "    </tr>\n",
              "    <tr>\n",
              "      <th id=\"T_80ec7_level0_row1\" class=\"row_heading level0 row1\" >7</th>\n",
              "      <td id=\"T_80ec7_row1_col0\" class=\"data row1 col0\" >211</td>\n",
              "      <td id=\"T_80ec7_row1_col1\" class=\"data row1 col1\" >289</td>\n",
              "      <td id=\"T_80ec7_row1_col2\" class=\"data row1 col2\" >11.96%</td>\n",
              "    </tr>\n",
              "    <tr>\n",
              "      <th id=\"T_80ec7_level0_row2\" class=\"row_heading level0 row2\" >0</th>\n",
              "      <td id=\"T_80ec7_row2_col0\" class=\"data row2 col0\" >111</td>\n",
              "      <td id=\"T_80ec7_row2_col1\" class=\"data row2 col1\" >263</td>\n",
              "      <td id=\"T_80ec7_row2_col2\" class=\"data row2 col2\" >10.89%</td>\n",
              "    </tr>\n",
              "    <tr>\n",
              "      <th id=\"T_80ec7_level0_row3\" class=\"row_heading level0 row3\" >1</th>\n",
              "      <td id=\"T_80ec7_row3_col0\" class=\"data row3 col0\" >112</td>\n",
              "      <td id=\"T_80ec7_row3_col1\" class=\"data row3 col1\" >261</td>\n",
              "      <td id=\"T_80ec7_row3_col2\" class=\"data row3 col2\" >10.80%</td>\n",
              "    </tr>\n",
              "    <tr>\n",
              "      <th id=\"T_80ec7_level0_row4\" class=\"row_heading level0 row4\" >15</th>\n",
              "      <td id=\"T_80ec7_row4_col0\" class=\"data row4 col0\" >311</td>\n",
              "      <td id=\"T_80ec7_row4_col1\" class=\"data row4 col1\" >255</td>\n",
              "      <td id=\"T_80ec7_row4_col2\" class=\"data row4 col2\" >10.55%</td>\n",
              "    </tr>\n",
              "    <tr>\n",
              "      <th id=\"T_80ec7_level0_row5\" class=\"row_heading level0 row5\" >9</th>\n",
              "      <td id=\"T_80ec7_row5_col0\" class=\"data row5 col0\" >213</td>\n",
              "      <td id=\"T_80ec7_row5_col1\" class=\"data row5 col1\" >237</td>\n",
              "      <td id=\"T_80ec7_row5_col2\" class=\"data row5 col2\" >9.81%</td>\n",
              "    </tr>\n",
              "    <tr>\n",
              "      <th id=\"T_80ec7_level0_row6\" class=\"row_heading level0 row6\" >16</th>\n",
              "      <td id=\"T_80ec7_row6_col0\" class=\"data row6 col0\" >312</td>\n",
              "      <td id=\"T_80ec7_row6_col1\" class=\"data row6 col1\" >234</td>\n",
              "      <td id=\"T_80ec7_row6_col2\" class=\"data row6 col2\" >9.69%</td>\n",
              "    </tr>\n",
              "    <tr>\n",
              "      <th id=\"T_80ec7_level0_row7\" class=\"row_heading level0 row7\" >17</th>\n",
              "      <td id=\"T_80ec7_row7_col0\" class=\"data row7 col0\" >313</td>\n",
              "      <td id=\"T_80ec7_row7_col1\" class=\"data row7 col1\" >187</td>\n",
              "      <td id=\"T_80ec7_row7_col2\" class=\"data row7 col2\" >7.74%</td>\n",
              "    </tr>\n",
              "    <tr>\n",
              "      <th id=\"T_80ec7_level0_row8\" class=\"row_heading level0 row8\" >2</th>\n",
              "      <td id=\"T_80ec7_row8_col0\" class=\"data row8 col0\" >113</td>\n",
              "      <td id=\"T_80ec7_row8_col1\" class=\"data row8 col1\" >160</td>\n",
              "      <td id=\"T_80ec7_row8_col2\" class=\"data row8 col2\" >6.62%</td>\n",
              "    </tr>\n",
              "    <tr>\n",
              "      <th id=\"T_80ec7_level0_row9\" class=\"row_heading level0 row9\" >12</th>\n",
              "      <td id=\"T_80ec7_row9_col0\" class=\"data row9 col0\" >223</td>\n",
              "      <td id=\"T_80ec7_row9_col1\" class=\"data row9 col1\" >56</td>\n",
              "      <td id=\"T_80ec7_row9_col2\" class=\"data row9 col2\" >2.32%</td>\n",
              "    </tr>\n",
              "    <tr>\n",
              "      <th id=\"T_80ec7_level0_row10\" class=\"row_heading level0 row10\" >14</th>\n",
              "      <td id=\"T_80ec7_row10_col0\" class=\"data row10 col0\" >233</td>\n",
              "      <td id=\"T_80ec7_row10_col1\" class=\"data row10 col1\" >46</td>\n",
              "      <td id=\"T_80ec7_row10_col2\" class=\"data row10 col2\" >1.90%</td>\n",
              "    </tr>\n",
              "    <tr>\n",
              "      <th id=\"T_80ec7_level0_row11\" class=\"row_heading level0 row11\" >19</th>\n",
              "      <td id=\"T_80ec7_row11_col0\" class=\"data row11 col0\" >323</td>\n",
              "      <td id=\"T_80ec7_row11_col1\" class=\"data row11 col1\" >35</td>\n",
              "      <td id=\"T_80ec7_row11_col2\" class=\"data row11 col2\" >1.45%</td>\n",
              "    </tr>\n",
              "    <tr>\n",
              "      <th id=\"T_80ec7_level0_row12\" class=\"row_heading level0 row12\" >21</th>\n",
              "      <td id=\"T_80ec7_row12_col0\" class=\"data row12 col0\" >333</td>\n",
              "      <td id=\"T_80ec7_row12_col1\" class=\"data row12 col1\" >33</td>\n",
              "      <td id=\"T_80ec7_row12_col2\" class=\"data row12 col2\" >1.37%</td>\n",
              "    </tr>\n",
              "    <tr>\n",
              "      <th id=\"T_80ec7_level0_row13\" class=\"row_heading level0 row13\" >4</th>\n",
              "      <td id=\"T_80ec7_row13_col0\" class=\"data row13 col0\" >123</td>\n",
              "      <td id=\"T_80ec7_row13_col1\" class=\"data row13 col1\" >23</td>\n",
              "      <td id=\"T_80ec7_row13_col2\" class=\"data row13 col2\" >0.95%</td>\n",
              "    </tr>\n",
              "    <tr>\n",
              "      <th id=\"T_80ec7_level0_row14\" class=\"row_heading level0 row14\" >6</th>\n",
              "      <td id=\"T_80ec7_row14_col0\" class=\"data row14 col0\" >133</td>\n",
              "      <td id=\"T_80ec7_row14_col1\" class=\"data row14 col1\" >18</td>\n",
              "      <td id=\"T_80ec7_row14_col2\" class=\"data row14 col2\" >0.75%</td>\n",
              "    </tr>\n",
              "    <tr>\n",
              "      <th id=\"T_80ec7_level0_row15\" class=\"row_heading level0 row15\" >11</th>\n",
              "      <td id=\"T_80ec7_row15_col0\" class=\"data row15 col0\" >222</td>\n",
              "      <td id=\"T_80ec7_row15_col1\" class=\"data row15 col1\" >8</td>\n",
              "      <td id=\"T_80ec7_row15_col2\" class=\"data row15 col2\" >0.33%</td>\n",
              "    </tr>\n",
              "    <tr>\n",
              "      <th id=\"T_80ec7_level0_row16\" class=\"row_heading level0 row16\" >3</th>\n",
              "      <td id=\"T_80ec7_row16_col0\" class=\"data row16 col0\" >122</td>\n",
              "      <td id=\"T_80ec7_row16_col1\" class=\"data row16 col1\" >7</td>\n",
              "      <td id=\"T_80ec7_row16_col2\" class=\"data row16 col2\" >0.29%</td>\n",
              "    </tr>\n",
              "    <tr>\n",
              "      <th id=\"T_80ec7_level0_row17\" class=\"row_heading level0 row17\" >18</th>\n",
              "      <td id=\"T_80ec7_row17_col0\" class=\"data row17 col0\" >322</td>\n",
              "      <td id=\"T_80ec7_row17_col1\" class=\"data row17 col1\" >4</td>\n",
              "      <td id=\"T_80ec7_row17_col2\" class=\"data row17 col2\" >0.17%</td>\n",
              "    </tr>\n",
              "    <tr>\n",
              "      <th id=\"T_80ec7_level0_row18\" class=\"row_heading level0 row18\" >5</th>\n",
              "      <td id=\"T_80ec7_row18_col0\" class=\"data row18 col0\" >132</td>\n",
              "      <td id=\"T_80ec7_row18_col1\" class=\"data row18 col1\" >1</td>\n",
              "      <td id=\"T_80ec7_row18_col2\" class=\"data row18 col2\" >0.04%</td>\n",
              "    </tr>\n",
              "    <tr>\n",
              "      <th id=\"T_80ec7_level0_row19\" class=\"row_heading level0 row19\" >10</th>\n",
              "      <td id=\"T_80ec7_row19_col0\" class=\"data row19 col0\" >221</td>\n",
              "      <td id=\"T_80ec7_row19_col1\" class=\"data row19 col1\" >1</td>\n",
              "      <td id=\"T_80ec7_row19_col2\" class=\"data row19 col2\" >0.04%</td>\n",
              "    </tr>\n",
              "    <tr>\n",
              "      <th id=\"T_80ec7_level0_row20\" class=\"row_heading level0 row20\" >13</th>\n",
              "      <td id=\"T_80ec7_row20_col0\" class=\"data row20 col0\" >232</td>\n",
              "      <td id=\"T_80ec7_row20_col1\" class=\"data row20 col1\" >1</td>\n",
              "      <td id=\"T_80ec7_row20_col2\" class=\"data row20 col2\" >0.04%</td>\n",
              "    </tr>\n",
              "    <tr>\n",
              "      <th id=\"T_80ec7_level0_row21\" class=\"row_heading level0 row21\" >20</th>\n",
              "      <td id=\"T_80ec7_row21_col0\" class=\"data row21 col0\" >332</td>\n",
              "      <td id=\"T_80ec7_row21_col1\" class=\"data row21 col1\" >1</td>\n",
              "      <td id=\"T_80ec7_row21_col2\" class=\"data row21 col2\" >0.04%</td>\n",
              "    </tr>\n",
              "  </tbody>\n",
              "</table>\n"
            ]
          },
          "metadata": {},
          "execution_count": 17
        }
      ],
      "source": [
        "#выводим результат\n",
        "print(f'RFM-сегментация пользователей:')\n",
        "\n",
        "f = {'Доля пользователей, %':'{:.2%}'}\n",
        "rfm_data.sort_values(by = 'Количество пользователей',\n",
        "                     ascending = False).style.format(f).bar(color = '#b2d8f7',\n",
        "                                                            axis = 0,\n",
        "                                                            subset = 'Доля пользователей, %')\n"
      ]
    },
    {
      "cell_type": "markdown",
      "id": "LcDe9FTxYDdd",
      "metadata": {
        "id": "LcDe9FTxYDdd"
      },
      "source": [
        "## Вывод\n",
        "\n",
        "Результаты сегментации сигнализируют о том, что большинство пользователей пользователей совершали заказы относительно недавно (об этом свидетельствуют преобладание цифр 2,3 по Recency), но на сравнительно невысокую сумму (преобладание цифр 1,2 по monetary_value). Заметно, что пользователи не возвращаются для оформления повторных заказов (преобладание цифры 1 по Frequency).\n",
        "\n",
        "Отдельно стоит выделить большой сегмент неактивной аудитории \"111\", который составляет почти 11% от пользователей.\n",
        "\n",
        "При этом сегменты самых лояльных пользователей \"333\", \"323, \"223\" составляют около 5%. Данный показатель однозначно нуждается в улучшении.\n",
        "\n",
        "Необходимо понять, почему пользователи не возвращаются к повторному использованию приложения и разработать меры по более эффективному удержанию: например, запустить программу лояльности с системой накопления кешбека. Это стимулирует пользователей оформлять заказы более часто. Для возврата пользователей давно не использовавших приложение, можно предложить им скидку на оформление заказа в приложении или бесплатную доставку, что поможет повысить их заинтересованность в продукте."
      ]
    },
    {
      "cell_type": "markdown",
      "id": "50194012",
      "metadata": {
        "id": "50194012"
      },
      "source": [
        "---\n",
        "\n",
        "## 4. K-Means кластеризация\n",
        "\n",
        "Чтобы лучше понимать поведение ресторанов и предлагать им персонализированные условия сотрудничества, а также создавать персонализированные предложения для пользователей, маркетологи запросили кластеризацию ресторанов по следующим параметрам:\n",
        "- общее количество заказов;\n",
        "- средняя стоимость заказа;\n",
        "- общее число заказанных уникальных блюд (ассортимент ресторана).\n",
        "\n",
        "С помощью метода K-Means разделим рестораны на кластеры, отражающие различные модели работы и целевые сегменты."
      ]
    },
    {
      "cell_type": "markdown",
      "id": "3227a337",
      "metadata": {
        "id": "3227a337"
      },
      "source": [
        "### **Задача 4.1.** Подготовка данных для кластеризации\n",
        "\n",
        "Рассчитаем:\n",
        "\n",
        "- общее количество заказов;\n",
        "- средняя стоимость заказа;\n",
        "- общее число заказанных уникальных блюд (ассортимент ресторана)."
      ]
    },
    {
      "cell_type": "code",
      "execution_count": 18,
      "id": "jZJi5mRKZJ6n",
      "metadata": {
        "id": "jZJi5mRKZJ6n"
      },
      "outputs": [],
      "source": [
        "#агрегируем данные\n",
        "rest_data = data.groupby('rest_id').agg({'order_id' : pd.Series.nunique,\n",
        "                                         'revenue' : 'mean',\n",
        "                                         'object_id' : pd.Series.nunique}).reset_index().rename(columns = {'order_id' : 'order_count',\n",
        "                                                                                                           'revenue' : 'avg_order_price',\n",
        "                                                                                                           'object_id' : 'dish_count'})"
      ]
    },
    {
      "cell_type": "markdown",
      "id": "0b271d55",
      "metadata": {
        "id": "0b271d55",
        "outputId": "811c9e15-7a09-4da3-d2ef-acf26fc62d13"
      },
      "source": [
        "### **Задача 4.2.** Нормализация данных и расчет оптимального количества кластеров\n",
        "\n",
        "Так как размерность признаков, используемых для кластеризации, обладает слишком большим разбросом, проведем нормализацию данных.\n",
        "\n",
        "Для этого применим метод StandardScaler() из библиотеки sklearn.\n",
        "Данный метод позволит привести данные к среднему значению 0 и стандартному отклонению 1."
      ]
    },
    {
      "cell_type": "code",
      "execution_count": 19,
      "id": "YsXEDj1AZv1W",
      "metadata": {
        "colab": {
          "base_uri": "https://localhost:8080/",
          "height": 708
        },
        "id": "YsXEDj1AZv1W",
        "outputId": "518db706-1393-43f5-d045-c4a896a0897b"
      },
      "outputs": [
        {
          "output_type": "execute_result",
          "data": {
            "text/plain": [
              "    order_count  avg_order_price  dish_count\n",
              "0     -0.076858        -0.202596    0.387545\n",
              "1     -0.204212         0.484818    0.185765\n",
              "2     -0.518699        -0.587033   -0.419573\n",
              "3     -0.451123         0.151983   -0.554093\n",
              "4     -0.443326        -0.622322   -0.397153\n",
              "5     -0.406939         0.814218   -0.419573\n",
              "6     -0.157429         0.567485   -0.195374\n",
              "7     -0.529095         0.013507   -0.397153\n",
              "8      2.722332         0.130563    2.920997\n",
              "9     -0.531694         2.671462   -0.486833\n",
              "10    -0.134037        -1.191367   -0.531673\n",
              "11    -0.292580        -0.802412   -0.441993\n",
              "12    -0.391345        -1.110587   -0.374733\n",
              "13    -0.227604        -0.942605    0.163345\n",
              "14     0.042699        -0.600093   -0.105694\n",
              "15    -0.032674         2.219304   -0.441993\n",
              "16     3.322715        -0.295226    3.033097\n",
              "17    -0.225005         0.915497   -0.285053\n",
              "18    -0.477114        -0.441515   -0.509253\n",
              "19    -0.471915        -0.061590   -0.531673\n",
              "20    -0.516099        -1.111491   -0.598933"
            ],
            "text/html": [
              "\n",
              "  <div id=\"df-bfe47014-f364-4079-bbfb-78199b451c28\" class=\"colab-df-container\">\n",
              "    <div>\n",
              "<style scoped>\n",
              "    .dataframe tbody tr th:only-of-type {\n",
              "        vertical-align: middle;\n",
              "    }\n",
              "\n",
              "    .dataframe tbody tr th {\n",
              "        vertical-align: top;\n",
              "    }\n",
              "\n",
              "    .dataframe thead th {\n",
              "        text-align: right;\n",
              "    }\n",
              "</style>\n",
              "<table border=\"1\" class=\"dataframe\">\n",
              "  <thead>\n",
              "    <tr style=\"text-align: right;\">\n",
              "      <th></th>\n",
              "      <th>order_count</th>\n",
              "      <th>avg_order_price</th>\n",
              "      <th>dish_count</th>\n",
              "    </tr>\n",
              "  </thead>\n",
              "  <tbody>\n",
              "    <tr>\n",
              "      <th>0</th>\n",
              "      <td>-0.076858</td>\n",
              "      <td>-0.202596</td>\n",
              "      <td>0.387545</td>\n",
              "    </tr>\n",
              "    <tr>\n",
              "      <th>1</th>\n",
              "      <td>-0.204212</td>\n",
              "      <td>0.484818</td>\n",
              "      <td>0.185765</td>\n",
              "    </tr>\n",
              "    <tr>\n",
              "      <th>2</th>\n",
              "      <td>-0.518699</td>\n",
              "      <td>-0.587033</td>\n",
              "      <td>-0.419573</td>\n",
              "    </tr>\n",
              "    <tr>\n",
              "      <th>3</th>\n",
              "      <td>-0.451123</td>\n",
              "      <td>0.151983</td>\n",
              "      <td>-0.554093</td>\n",
              "    </tr>\n",
              "    <tr>\n",
              "      <th>4</th>\n",
              "      <td>-0.443326</td>\n",
              "      <td>-0.622322</td>\n",
              "      <td>-0.397153</td>\n",
              "    </tr>\n",
              "    <tr>\n",
              "      <th>5</th>\n",
              "      <td>-0.406939</td>\n",
              "      <td>0.814218</td>\n",
              "      <td>-0.419573</td>\n",
              "    </tr>\n",
              "    <tr>\n",
              "      <th>6</th>\n",
              "      <td>-0.157429</td>\n",
              "      <td>0.567485</td>\n",
              "      <td>-0.195374</td>\n",
              "    </tr>\n",
              "    <tr>\n",
              "      <th>7</th>\n",
              "      <td>-0.529095</td>\n",
              "      <td>0.013507</td>\n",
              "      <td>-0.397153</td>\n",
              "    </tr>\n",
              "    <tr>\n",
              "      <th>8</th>\n",
              "      <td>2.722332</td>\n",
              "      <td>0.130563</td>\n",
              "      <td>2.920997</td>\n",
              "    </tr>\n",
              "    <tr>\n",
              "      <th>9</th>\n",
              "      <td>-0.531694</td>\n",
              "      <td>2.671462</td>\n",
              "      <td>-0.486833</td>\n",
              "    </tr>\n",
              "    <tr>\n",
              "      <th>10</th>\n",
              "      <td>-0.134037</td>\n",
              "      <td>-1.191367</td>\n",
              "      <td>-0.531673</td>\n",
              "    </tr>\n",
              "    <tr>\n",
              "      <th>11</th>\n",
              "      <td>-0.292580</td>\n",
              "      <td>-0.802412</td>\n",
              "      <td>-0.441993</td>\n",
              "    </tr>\n",
              "    <tr>\n",
              "      <th>12</th>\n",
              "      <td>-0.391345</td>\n",
              "      <td>-1.110587</td>\n",
              "      <td>-0.374733</td>\n",
              "    </tr>\n",
              "    <tr>\n",
              "      <th>13</th>\n",
              "      <td>-0.227604</td>\n",
              "      <td>-0.942605</td>\n",
              "      <td>0.163345</td>\n",
              "    </tr>\n",
              "    <tr>\n",
              "      <th>14</th>\n",
              "      <td>0.042699</td>\n",
              "      <td>-0.600093</td>\n",
              "      <td>-0.105694</td>\n",
              "    </tr>\n",
              "    <tr>\n",
              "      <th>15</th>\n",
              "      <td>-0.032674</td>\n",
              "      <td>2.219304</td>\n",
              "      <td>-0.441993</td>\n",
              "    </tr>\n",
              "    <tr>\n",
              "      <th>16</th>\n",
              "      <td>3.322715</td>\n",
              "      <td>-0.295226</td>\n",
              "      <td>3.033097</td>\n",
              "    </tr>\n",
              "    <tr>\n",
              "      <th>17</th>\n",
              "      <td>-0.225005</td>\n",
              "      <td>0.915497</td>\n",
              "      <td>-0.285053</td>\n",
              "    </tr>\n",
              "    <tr>\n",
              "      <th>18</th>\n",
              "      <td>-0.477114</td>\n",
              "      <td>-0.441515</td>\n",
              "      <td>-0.509253</td>\n",
              "    </tr>\n",
              "    <tr>\n",
              "      <th>19</th>\n",
              "      <td>-0.471915</td>\n",
              "      <td>-0.061590</td>\n",
              "      <td>-0.531673</td>\n",
              "    </tr>\n",
              "    <tr>\n",
              "      <th>20</th>\n",
              "      <td>-0.516099</td>\n",
              "      <td>-1.111491</td>\n",
              "      <td>-0.598933</td>\n",
              "    </tr>\n",
              "  </tbody>\n",
              "</table>\n",
              "</div>\n",
              "    <div class=\"colab-df-buttons\">\n",
              "\n",
              "  <div class=\"colab-df-container\">\n",
              "    <button class=\"colab-df-convert\" onclick=\"convertToInteractive('df-bfe47014-f364-4079-bbfb-78199b451c28')\"\n",
              "            title=\"Convert this dataframe to an interactive table.\"\n",
              "            style=\"display:none;\">\n",
              "\n",
              "  <svg xmlns=\"http://www.w3.org/2000/svg\" height=\"24px\" viewBox=\"0 -960 960 960\">\n",
              "    <path d=\"M120-120v-720h720v720H120Zm60-500h600v-160H180v160Zm220 220h160v-160H400v160Zm0 220h160v-160H400v160ZM180-400h160v-160H180v160Zm440 0h160v-160H620v160ZM180-180h160v-160H180v160Zm440 0h160v-160H620v160Z\"/>\n",
              "  </svg>\n",
              "    </button>\n",
              "\n",
              "  <style>\n",
              "    .colab-df-container {\n",
              "      display:flex;\n",
              "      gap: 12px;\n",
              "    }\n",
              "\n",
              "    .colab-df-convert {\n",
              "      background-color: #E8F0FE;\n",
              "      border: none;\n",
              "      border-radius: 50%;\n",
              "      cursor: pointer;\n",
              "      display: none;\n",
              "      fill: #1967D2;\n",
              "      height: 32px;\n",
              "      padding: 0 0 0 0;\n",
              "      width: 32px;\n",
              "    }\n",
              "\n",
              "    .colab-df-convert:hover {\n",
              "      background-color: #E2EBFA;\n",
              "      box-shadow: 0px 1px 2px rgba(60, 64, 67, 0.3), 0px 1px 3px 1px rgba(60, 64, 67, 0.15);\n",
              "      fill: #174EA6;\n",
              "    }\n",
              "\n",
              "    .colab-df-buttons div {\n",
              "      margin-bottom: 4px;\n",
              "    }\n",
              "\n",
              "    [theme=dark] .colab-df-convert {\n",
              "      background-color: #3B4455;\n",
              "      fill: #D2E3FC;\n",
              "    }\n",
              "\n",
              "    [theme=dark] .colab-df-convert:hover {\n",
              "      background-color: #434B5C;\n",
              "      box-shadow: 0px 1px 3px 1px rgba(0, 0, 0, 0.15);\n",
              "      filter: drop-shadow(0px 1px 2px rgba(0, 0, 0, 0.3));\n",
              "      fill: #FFFFFF;\n",
              "    }\n",
              "  </style>\n",
              "\n",
              "    <script>\n",
              "      const buttonEl =\n",
              "        document.querySelector('#df-bfe47014-f364-4079-bbfb-78199b451c28 button.colab-df-convert');\n",
              "      buttonEl.style.display =\n",
              "        google.colab.kernel.accessAllowed ? 'block' : 'none';\n",
              "\n",
              "      async function convertToInteractive(key) {\n",
              "        const element = document.querySelector('#df-bfe47014-f364-4079-bbfb-78199b451c28');\n",
              "        const dataTable =\n",
              "          await google.colab.kernel.invokeFunction('convertToInteractive',\n",
              "                                                    [key], {});\n",
              "        if (!dataTable) return;\n",
              "\n",
              "        const docLinkHtml = 'Like what you see? Visit the ' +\n",
              "          '<a target=\"_blank\" href=https://colab.research.google.com/notebooks/data_table.ipynb>data table notebook</a>'\n",
              "          + ' to learn more about interactive tables.';\n",
              "        element.innerHTML = '';\n",
              "        dataTable['output_type'] = 'display_data';\n",
              "        await google.colab.output.renderOutput(dataTable, element);\n",
              "        const docLink = document.createElement('div');\n",
              "        docLink.innerHTML = docLinkHtml;\n",
              "        element.appendChild(docLink);\n",
              "      }\n",
              "    </script>\n",
              "  </div>\n",
              "\n",
              "\n",
              "    <div id=\"df-181d450a-4811-4b4b-b88b-51ffb553395f\">\n",
              "      <button class=\"colab-df-quickchart\" onclick=\"quickchart('df-181d450a-4811-4b4b-b88b-51ffb553395f')\"\n",
              "                title=\"Suggest charts\"\n",
              "                style=\"display:none;\">\n",
              "\n",
              "<svg xmlns=\"http://www.w3.org/2000/svg\" height=\"24px\"viewBox=\"0 0 24 24\"\n",
              "     width=\"24px\">\n",
              "    <g>\n",
              "        <path d=\"M19 3H5c-1.1 0-2 .9-2 2v14c0 1.1.9 2 2 2h14c1.1 0 2-.9 2-2V5c0-1.1-.9-2-2-2zM9 17H7v-7h2v7zm4 0h-2V7h2v10zm4 0h-2v-4h2v4z\"/>\n",
              "    </g>\n",
              "</svg>\n",
              "      </button>\n",
              "\n",
              "<style>\n",
              "  .colab-df-quickchart {\n",
              "      --bg-color: #E8F0FE;\n",
              "      --fill-color: #1967D2;\n",
              "      --hover-bg-color: #E2EBFA;\n",
              "      --hover-fill-color: #174EA6;\n",
              "      --disabled-fill-color: #AAA;\n",
              "      --disabled-bg-color: #DDD;\n",
              "  }\n",
              "\n",
              "  [theme=dark] .colab-df-quickchart {\n",
              "      --bg-color: #3B4455;\n",
              "      --fill-color: #D2E3FC;\n",
              "      --hover-bg-color: #434B5C;\n",
              "      --hover-fill-color: #FFFFFF;\n",
              "      --disabled-bg-color: #3B4455;\n",
              "      --disabled-fill-color: #666;\n",
              "  }\n",
              "\n",
              "  .colab-df-quickchart {\n",
              "    background-color: var(--bg-color);\n",
              "    border: none;\n",
              "    border-radius: 50%;\n",
              "    cursor: pointer;\n",
              "    display: none;\n",
              "    fill: var(--fill-color);\n",
              "    height: 32px;\n",
              "    padding: 0;\n",
              "    width: 32px;\n",
              "  }\n",
              "\n",
              "  .colab-df-quickchart:hover {\n",
              "    background-color: var(--hover-bg-color);\n",
              "    box-shadow: 0 1px 2px rgba(60, 64, 67, 0.3), 0 1px 3px 1px rgba(60, 64, 67, 0.15);\n",
              "    fill: var(--button-hover-fill-color);\n",
              "  }\n",
              "\n",
              "  .colab-df-quickchart-complete:disabled,\n",
              "  .colab-df-quickchart-complete:disabled:hover {\n",
              "    background-color: var(--disabled-bg-color);\n",
              "    fill: var(--disabled-fill-color);\n",
              "    box-shadow: none;\n",
              "  }\n",
              "\n",
              "  .colab-df-spinner {\n",
              "    border: 2px solid var(--fill-color);\n",
              "    border-color: transparent;\n",
              "    border-bottom-color: var(--fill-color);\n",
              "    animation:\n",
              "      spin 1s steps(1) infinite;\n",
              "  }\n",
              "\n",
              "  @keyframes spin {\n",
              "    0% {\n",
              "      border-color: transparent;\n",
              "      border-bottom-color: var(--fill-color);\n",
              "      border-left-color: var(--fill-color);\n",
              "    }\n",
              "    20% {\n",
              "      border-color: transparent;\n",
              "      border-left-color: var(--fill-color);\n",
              "      border-top-color: var(--fill-color);\n",
              "    }\n",
              "    30% {\n",
              "      border-color: transparent;\n",
              "      border-left-color: var(--fill-color);\n",
              "      border-top-color: var(--fill-color);\n",
              "      border-right-color: var(--fill-color);\n",
              "    }\n",
              "    40% {\n",
              "      border-color: transparent;\n",
              "      border-right-color: var(--fill-color);\n",
              "      border-top-color: var(--fill-color);\n",
              "    }\n",
              "    60% {\n",
              "      border-color: transparent;\n",
              "      border-right-color: var(--fill-color);\n",
              "    }\n",
              "    80% {\n",
              "      border-color: transparent;\n",
              "      border-right-color: var(--fill-color);\n",
              "      border-bottom-color: var(--fill-color);\n",
              "    }\n",
              "    90% {\n",
              "      border-color: transparent;\n",
              "      border-bottom-color: var(--fill-color);\n",
              "    }\n",
              "  }\n",
              "</style>\n",
              "\n",
              "      <script>\n",
              "        async function quickchart(key) {\n",
              "          const quickchartButtonEl =\n",
              "            document.querySelector('#' + key + ' button');\n",
              "          quickchartButtonEl.disabled = true;  // To prevent multiple clicks.\n",
              "          quickchartButtonEl.classList.add('colab-df-spinner');\n",
              "          try {\n",
              "            const charts = await google.colab.kernel.invokeFunction(\n",
              "                'suggestCharts', [key], {});\n",
              "          } catch (error) {\n",
              "            console.error('Error during call to suggestCharts:', error);\n",
              "          }\n",
              "          quickchartButtonEl.classList.remove('colab-df-spinner');\n",
              "          quickchartButtonEl.classList.add('colab-df-quickchart-complete');\n",
              "        }\n",
              "        (() => {\n",
              "          let quickchartButtonEl =\n",
              "            document.querySelector('#df-181d450a-4811-4b4b-b88b-51ffb553395f button');\n",
              "          quickchartButtonEl.style.display =\n",
              "            google.colab.kernel.accessAllowed ? 'block' : 'none';\n",
              "        })();\n",
              "      </script>\n",
              "    </div>\n",
              "    </div>\n",
              "  </div>\n"
            ],
            "application/vnd.google.colaboratory.intrinsic+json": {
              "type": "dataframe",
              "variable_name": "rest_df",
              "summary": "{\n  \"name\": \"rest_df\",\n  \"rows\": 21,\n  \"fields\": [\n    {\n      \"column\": \"order_count\",\n      \"properties\": {\n        \"dtype\": \"number\",\n        \"std\": 1.0246950765959597,\n        \"min\": -0.531693861524917,\n        \"max\": 3.3227153399346943,\n        \"num_unique_values\": 21,\n        \"samples\": [\n          -0.07685798137964935,\n          -0.2250045251983937,\n          -0.03267392445125192\n        ],\n        \"semantic_type\": \"\",\n        \"description\": \"\"\n      }\n    },\n    {\n      \"column\": \"avg_order_price\",\n      \"properties\": {\n        \"dtype\": \"number\",\n        \"std\": 1.02469507659596,\n        \"min\": -1.1913671061350888,\n        \"max\": 2.6714620027109164,\n        \"num_unique_values\": 21,\n        \"samples\": [\n          -0.20259634696072934,\n          0.9154970290180933,\n          2.2193044511530413\n        ],\n        \"semantic_type\": \"\",\n        \"description\": \"\"\n      }\n    },\n    {\n      \"column\": \"dish_count\",\n      \"properties\": {\n        \"dtype\": \"number\",\n        \"std\": 1.02469507659596,\n        \"min\": -0.5989325360450379,\n        \"max\": 3.0330968536612346,\n        \"num_unique_values\": 17,\n        \"samples\": [\n          0.3875445821467892,\n          0.18576517160755185,\n          -0.1953737149665632\n        ],\n        \"semantic_type\": \"\",\n        \"description\": \"\"\n      }\n    }\n  ]\n}"
            }
          },
          "metadata": {},
          "execution_count": 19
        }
      ],
      "source": [
        "#нормализуем данные\n",
        "from sklearn import preprocessing\n",
        "\n",
        "rest_data = rest_data[['order_count',\n",
        "                       'avg_order_price',\n",
        "                       'dish_count']]\n",
        "\n",
        "values = rest_data.values\n",
        "min_max_scaler = preprocessing.StandardScaler()\n",
        "values_scaled = min_max_scaler.fit_transform(values)\n",
        "rest_df = pd.DataFrame(values_scaled)\n",
        "rest_df = rest_df.rename(columns = {0 : 'order_count',\n",
        "                                    1 : 'avg_order_price',\n",
        "                                    2 : 'dish_count'})\n",
        "rest_df"
      ]
    },
    {
      "cell_type": "markdown",
      "id": "hITfcibCrJ9J",
      "metadata": {
        "id": "hITfcibCrJ9J"
      },
      "source": [
        "Нормализация проведена успешно. Приступим к нахождению оптимального количества кластеров. Для этого воспользуемся методом `.inertia_`.\n",
        "\n",
        "Визуализируем получившийся результат в виде графика."
      ]
    },
    {
      "cell_type": "code",
      "execution_count": 20,
      "id": "91GvIuWoaJPc",
      "metadata": {
        "colab": {
          "base_uri": "https://localhost:8080/",
          "height": 718
        },
        "id": "91GvIuWoaJPc",
        "outputId": "92231ad4-7c7b-46d7-e17d-5fe22939fdb5"
      },
      "outputs": [
        {
          "output_type": "display_data",
          "data": {
            "text/plain": [
              "<Figure size 1200x800 with 1 Axes>"
            ],
            "image/png": "[encoded data removed]"
          },
          "metadata": {}
        }
      ],
      "source": [
        "i = []\n",
        "\n",
        "#задаем диапазон количества кластеров\n",
        "min_k = 1\n",
        "max_k = 10\n",
        "\n",
        "plt.figure(figsize=(12, 8))\n",
        "\n",
        "#перебираем значения в диапазоне\n",
        "for k in range(min_k, max_k + 1):\n",
        "   km = KMeans(n_clusters=k)  #создаем K-means для текущего количества кластеров\n",
        "   km.fit_transform(rest_df)  #обучаем модель и получаем координаты точек в пространстве кластеров\n",
        "   i.append(km.inertia_)  #сохраняем изначени inertia для текущего количества кластеров\n",
        "\n",
        "#строим график зависимости inertia от количества кластеров\n",
        "plt.plot(range(min_k, max_k + 1), i, marker='o')\n",
        "plt.xlabel('Число кластеров K')  #добавляем подпись оси X\n",
        "plt.ylabel('Суммарное внутрикластерное расстояние (Inertia)')  #добавляем подпись оси Y\n",
        "plt.title('График зависимости инерции от числа кластеров (метод локтя)')  #добалвяем заголовок\n",
        "plt.show()"
      ]
    },
    {
      "cell_type": "markdown",
      "id": "3WDrzdXurhlY",
      "metadata": {
        "id": "3WDrzdXurhlY"
      },
      "source": [
        "График зависимости инерции от числа кластеров (метод «локтя») показывает \"перелом\" в значении 4. На основании этого можно предположить, что оптимальное количество кластеров составляет 4."
      ]
    },
    {
      "cell_type": "markdown",
      "id": "74002482",
      "metadata": {
        "id": "74002482"
      },
      "source": [
        "### **Задача 4.3.** Проведение кластеризации\n",
        "\n",
        "Проведем кластеризацию, и рассчитаем средние значения по каждому кластеру."
      ]
    },
    {
      "cell_type": "code",
      "execution_count": 21,
      "id": "ANCpder_aiZI",
      "metadata": {
        "colab": {
          "base_uri": "https://localhost:8080/",
          "height": 175
        },
        "id": "ANCpder_aiZI",
        "outputId": "dd690924-da7d-4afa-9733-523db12295e0"
      },
      "outputs": [
        {
          "output_type": "execute_result",
          "data": {
            "text/plain": [
              "           Количество заказов  Средняя стоимость заказа  Количество блюд\n",
              "Кластер 1               -0.35                      0.41            -0.31\n",
              "Кластер 2               -0.30                     -0.76            -0.28\n",
              "Кластер 3               -0.28                      2.45            -0.46\n",
              "Кластер 4                3.02                     -0.08             2.98"
            ],
            "text/html": [
              "\n",
              "  <div id=\"df-2452e759-c31d-411c-b055-993b326f9e7d\" class=\"colab-df-container\">\n",
              "    <div>\n",
              "<style scoped>\n",
              "    .dataframe tbody tr th:only-of-type {\n",
              "        vertical-align: middle;\n",
              "    }\n",
              "\n",
              "    .dataframe tbody tr th {\n",
              "        vertical-align: top;\n",
              "    }\n",
              "\n",
              "    .dataframe thead th {\n",
              "        text-align: right;\n",
              "    }\n",
              "</style>\n",
              "<table border=\"1\" class=\"dataframe\">\n",
              "  <thead>\n",
              "    <tr style=\"text-align: right;\">\n",
              "      <th></th>\n",
              "      <th>Количество заказов</th>\n",
              "      <th>Средняя стоимость заказа</th>\n",
              "      <th>Количество блюд</th>\n",
              "    </tr>\n",
              "  </thead>\n",
              "  <tbody>\n",
              "    <tr>\n",
              "      <th>Кластер 1</th>\n",
              "      <td>-0.35</td>\n",
              "      <td>0.41</td>\n",
              "      <td>-0.31</td>\n",
              "    </tr>\n",
              "    <tr>\n",
              "      <th>Кластер 2</th>\n",
              "      <td>-0.30</td>\n",
              "      <td>-0.76</td>\n",
              "      <td>-0.28</td>\n",
              "    </tr>\n",
              "    <tr>\n",
              "      <th>Кластер 3</th>\n",
              "      <td>-0.28</td>\n",
              "      <td>2.45</td>\n",
              "      <td>-0.46</td>\n",
              "    </tr>\n",
              "    <tr>\n",
              "      <th>Кластер 4</th>\n",
              "      <td>3.02</td>\n",
              "      <td>-0.08</td>\n",
              "      <td>2.98</td>\n",
              "    </tr>\n",
              "  </tbody>\n",
              "</table>\n",
              "</div>\n",
              "    <div class=\"colab-df-buttons\">\n",
              "\n",
              "  <div class=\"colab-df-container\">\n",
              "    <button class=\"colab-df-convert\" onclick=\"convertToInteractive('df-2452e759-c31d-411c-b055-993b326f9e7d')\"\n",
              "            title=\"Convert this dataframe to an interactive table.\"\n",
              "            style=\"display:none;\">\n",
              "\n",
              "  <svg xmlns=\"http://www.w3.org/2000/svg\" height=\"24px\" viewBox=\"0 -960 960 960\">\n",
              "    <path d=\"M120-120v-720h720v720H120Zm60-500h600v-160H180v160Zm220 220h160v-160H400v160Zm0 220h160v-160H400v160ZM180-400h160v-160H180v160Zm440 0h160v-160H620v160ZM180-180h160v-160H180v160Zm440 0h160v-160H620v160Z\"/>\n",
              "  </svg>\n",
              "    </button>\n",
              "\n",
              "  <style>\n",
              "    .colab-df-container {\n",
              "      display:flex;\n",
              "      gap: 12px;\n",
              "    }\n",
              "\n",
              "    .colab-df-convert {\n",
              "      background-color: #E8F0FE;\n",
              "      border: none;\n",
              "      border-radius: 50%;\n",
              "      cursor: pointer;\n",
              "      display: none;\n",
              "      fill: #1967D2;\n",
              "      height: 32px;\n",
              "      padding: 0 0 0 0;\n",
              "      width: 32px;\n",
              "    }\n",
              "\n",
              "    .colab-df-convert:hover {\n",
              "      background-color: #E2EBFA;\n",
              "      box-shadow: 0px 1px 2px rgba(60, 64, 67, 0.3), 0px 1px 3px 1px rgba(60, 64, 67, 0.15);\n",
              "      fill: #174EA6;\n",
              "    }\n",
              "\n",
              "    .colab-df-buttons div {\n",
              "      margin-bottom: 4px;\n",
              "    }\n",
              "\n",
              "    [theme=dark] .colab-df-convert {\n",
              "      background-color: #3B4455;\n",
              "      fill: #D2E3FC;\n",
              "    }\n",
              "\n",
              "    [theme=dark] .colab-df-convert:hover {\n",
              "      background-color: #434B5C;\n",
              "      box-shadow: 0px 1px 3px 1px rgba(0, 0, 0, 0.15);\n",
              "      filter: drop-shadow(0px 1px 2px rgba(0, 0, 0, 0.3));\n",
              "      fill: #FFFFFF;\n",
              "    }\n",
              "  </style>\n",
              "\n",
              "    <script>\n",
              "      const buttonEl =\n",
              "        document.querySelector('#df-2452e759-c31d-411c-b055-993b326f9e7d button.colab-df-convert');\n",
              "      buttonEl.style.display =\n",
              "        google.colab.kernel.accessAllowed ? 'block' : 'none';\n",
              "\n",
              "      async function convertToInteractive(key) {\n",
              "        const element = document.querySelector('#df-2452e759-c31d-411c-b055-993b326f9e7d');\n",
              "        const dataTable =\n",
              "          await google.colab.kernel.invokeFunction('convertToInteractive',\n",
              "                                                    [key], {});\n",
              "        if (!dataTable) return;\n",
              "\n",
              "        const docLinkHtml = 'Like what you see? Visit the ' +\n",
              "          '<a target=\"_blank\" href=https://colab.research.google.com/notebooks/data_table.ipynb>data table notebook</a>'\n",
              "          + ' to learn more about interactive tables.';\n",
              "        element.innerHTML = '';\n",
              "        dataTable['output_type'] = 'display_data';\n",
              "        await google.colab.output.renderOutput(dataTable, element);\n",
              "        const docLink = document.createElement('div');\n",
              "        docLink.innerHTML = docLinkHtml;\n",
              "        element.appendChild(docLink);\n",
              "      }\n",
              "    </script>\n",
              "  </div>\n",
              "\n",
              "\n",
              "    <div id=\"df-3ba5ad29-8cea-4293-b509-ba53dea9089f\">\n",
              "      <button class=\"colab-df-quickchart\" onclick=\"quickchart('df-3ba5ad29-8cea-4293-b509-ba53dea9089f')\"\n",
              "                title=\"Suggest charts\"\n",
              "                style=\"display:none;\">\n",
              "\n",
              "<svg xmlns=\"http://www.w3.org/2000/svg\" height=\"24px\"viewBox=\"0 0 24 24\"\n",
              "     width=\"24px\">\n",
              "    <g>\n",
              "        <path d=\"M19 3H5c-1.1 0-2 .9-2 2v14c0 1.1.9 2 2 2h14c1.1 0 2-.9 2-2V5c0-1.1-.9-2-2-2zM9 17H7v-7h2v7zm4 0h-2V7h2v10zm4 0h-2v-4h2v4z\"/>\n",
              "    </g>\n",
              "</svg>\n",
              "      </button>\n",
              "\n",
              "<style>\n",
              "  .colab-df-quickchart {\n",
              "      --bg-color: #E8F0FE;\n",
              "      --fill-color: #1967D2;\n",
              "      --hover-bg-color: #E2EBFA;\n",
              "      --hover-fill-color: #174EA6;\n",
              "      --disabled-fill-color: #AAA;\n",
              "      --disabled-bg-color: #DDD;\n",
              "  }\n",
              "\n",
              "  [theme=dark] .colab-df-quickchart {\n",
              "      --bg-color: #3B4455;\n",
              "      --fill-color: #D2E3FC;\n",
              "      --hover-bg-color: #434B5C;\n",
              "      --hover-fill-color: #FFFFFF;\n",
              "      --disabled-bg-color: #3B4455;\n",
              "      --disabled-fill-color: #666;\n",
              "  }\n",
              "\n",
              "  .colab-df-quickchart {\n",
              "    background-color: var(--bg-color);\n",
              "    border: none;\n",
              "    border-radius: 50%;\n",
              "    cursor: pointer;\n",
              "    display: none;\n",
              "    fill: var(--fill-color);\n",
              "    height: 32px;\n",
              "    padding: 0;\n",
              "    width: 32px;\n",
              "  }\n",
              "\n",
              "  .colab-df-quickchart:hover {\n",
              "    background-color: var(--hover-bg-color);\n",
              "    box-shadow: 0 1px 2px rgba(60, 64, 67, 0.3), 0 1px 3px 1px rgba(60, 64, 67, 0.15);\n",
              "    fill: var(--button-hover-fill-color);\n",
              "  }\n",
              "\n",
              "  .colab-df-quickchart-complete:disabled,\n",
              "  .colab-df-quickchart-complete:disabled:hover {\n",
              "    background-color: var(--disabled-bg-color);\n",
              "    fill: var(--disabled-fill-color);\n",
              "    box-shadow: none;\n",
              "  }\n",
              "\n",
              "  .colab-df-spinner {\n",
              "    border: 2px solid var(--fill-color);\n",
              "    border-color: transparent;\n",
              "    border-bottom-color: var(--fill-color);\n",
              "    animation:\n",
              "      spin 1s steps(1) infinite;\n",
              "  }\n",
              "\n",
              "  @keyframes spin {\n",
              "    0% {\n",
              "      border-color: transparent;\n",
              "      border-bottom-color: var(--fill-color);\n",
              "      border-left-color: var(--fill-color);\n",
              "    }\n",
              "    20% {\n",
              "      border-color: transparent;\n",
              "      border-left-color: var(--fill-color);\n",
              "      border-top-color: var(--fill-color);\n",
              "    }\n",
              "    30% {\n",
              "      border-color: transparent;\n",
              "      border-left-color: var(--fill-color);\n",
              "      border-top-color: var(--fill-color);\n",
              "      border-right-color: var(--fill-color);\n",
              "    }\n",
              "    40% {\n",
              "      border-color: transparent;\n",
              "      border-right-color: var(--fill-color);\n",
              "      border-top-color: var(--fill-color);\n",
              "    }\n",
              "    60% {\n",
              "      border-color: transparent;\n",
              "      border-right-color: var(--fill-color);\n",
              "    }\n",
              "    80% {\n",
              "      border-color: transparent;\n",
              "      border-right-color: var(--fill-color);\n",
              "      border-bottom-color: var(--fill-color);\n",
              "    }\n",
              "    90% {\n",
              "      border-color: transparent;\n",
              "      border-bottom-color: var(--fill-color);\n",
              "    }\n",
              "  }\n",
              "</style>\n",
              "\n",
              "      <script>\n",
              "        async function quickchart(key) {\n",
              "          const quickchartButtonEl =\n",
              "            document.querySelector('#' + key + ' button');\n",
              "          quickchartButtonEl.disabled = true;  // To prevent multiple clicks.\n",
              "          quickchartButtonEl.classList.add('colab-df-spinner');\n",
              "          try {\n",
              "            const charts = await google.colab.kernel.invokeFunction(\n",
              "                'suggestCharts', [key], {});\n",
              "          } catch (error) {\n",
              "            console.error('Error during call to suggestCharts:', error);\n",
              "          }\n",
              "          quickchartButtonEl.classList.remove('colab-df-spinner');\n",
              "          quickchartButtonEl.classList.add('colab-df-quickchart-complete');\n",
              "        }\n",
              "        (() => {\n",
              "          let quickchartButtonEl =\n",
              "            document.querySelector('#df-3ba5ad29-8cea-4293-b509-ba53dea9089f button');\n",
              "          quickchartButtonEl.style.display =\n",
              "            google.colab.kernel.accessAllowed ? 'block' : 'none';\n",
              "        })();\n",
              "      </script>\n",
              "    </div>\n",
              "    </div>\n",
              "  </div>\n"
            ],
            "application/vnd.google.colaboratory.intrinsic+json": {
              "type": "dataframe",
              "variable_name": "centroids_df",
              "summary": "{\n  \"name\": \"centroids_df\",\n  \"rows\": 4,\n  \"fields\": [\n    {\n      \"column\": \"\\u041a\\u043e\\u043b\\u0438\\u0447\\u0435\\u0441\\u0442\\u0432\\u043e \\u0437\\u0430\\u043a\\u0430\\u0437\\u043e\\u0432\",\n      \"properties\": {\n        \"dtype\": \"number\",\n        \"std\": 1.6673423594498016,\n        \"min\": -0.34938821487077304,\n        \"max\": 3.022523659038818,\n        \"num_unique_values\": 4,\n        \"samples\": [\n          -0.30349620280060563,\n          3.022523659038818,\n          -0.34938821487077304\n        ],\n        \"semantic_type\": \"\",\n        \"description\": \"\"\n      }\n    },\n    {\n      \"column\": \"\\u0421\\u0440\\u0435\\u0434\\u043d\\u044f\\u044f \\u0441\\u0442\\u043e\\u0438\\u043c\\u043e\\u0441\\u0442\\u044c \\u0437\\u0430\\u043a\\u0430\\u0437\\u0430\",\n      \"properties\": {\n        \"dtype\": \"number\",\n        \"std\": 1.3810506522566637,\n        \"min\": -0.7612021054588817,\n        \"max\": 2.4453832269319786,\n        \"num_unique_values\": 4,\n        \"samples\": [\n          -0.7612021054588817,\n          -0.0823315836436922,\n          0.41227396685889145\n        ],\n        \"semantic_type\": \"\",\n        \"description\": \"\"\n      }\n    },\n    {\n      \"column\": \"\\u041a\\u043e\\u043b\\u0438\\u0447\\u0435\\u0441\\u0442\\u0432\\u043e \\u0431\\u043b\\u044e\\u0434\",\n      \"properties\": {\n        \"dtype\": \"number\",\n        \"std\": 1.6672613067761048,\n        \"min\": -0.4644129290188797,\n        \"max\": 2.977047017400335,\n        \"num_unique_values\": 4,\n        \"samples\": [\n          -0.28281145953356607,\n          2.977047017400335,\n          -0.31387908306103596\n        ],\n        \"semantic_type\": \"\",\n        \"description\": \"\"\n      }\n    }\n  ]\n}"
            }
          },
          "metadata": {},
          "execution_count": 21
        }
      ],
      "source": [
        "kmeans = KMeans(n_clusters=4)\n",
        "labels = kmeans.fit_predict(rest_df)\n",
        "\n",
        "#сортируем кластеры по возрастанию количества заказов\n",
        "sorted_indices = np.argsort(kmeans.cluster_centers_[:, 0])\n",
        "sorted_centroids = kmeans.cluster_centers_[sorted_indices]\n",
        "\n",
        "#создаем датафрейм из центроидов\n",
        "centroids_df = pd.DataFrame(\n",
        "   sorted_centroids,\n",
        "   columns=['Количество заказов', 'Средняя стоимость заказа', 'Количество блюд'],\n",
        "   index=[f'Кластер {i + 1}' for i in range(kmeans.n_clusters)]\n",
        ")\n",
        "\n",
        "#форматируем значения с точностью до 2-х знаков после точки\n",
        "pd.options.display.float_format = '{:.2f}'.format\n",
        "\n",
        "#выводим результат\n",
        "centroids_df"
      ]
    },
    {
      "cell_type": "markdown",
      "id": "matrYccwr6a7",
      "metadata": {
        "id": "matrYccwr6a7"
      },
      "source": [
        "На основании получившихся результатов можно выделить 3 кластера ресторанов:\n",
        "\n",
        "- Кластер 1: Рестораны с самым низким количеством заказов, отнсительно высоким средним чеков и небольшим ассортиментом блюд;\n",
        "\n",
        "- Кластер 2: Рестораны с низким количеством заказов, самым маленьким средним чеком и небольшим ассортиментом блюд;\n",
        "\n",
        "- Кластер 3: Рестораны с низким количеством заказов, высоким средним чеком и небошльшим ассортиментом блюд;\n",
        "\n",
        "- Кластер 4: Рестораны с высоким количеством заказов, сравнительно невысоким средним чеком и широким ассортиментом блюд.\n",
        "\n",
        "Визуализируем результаты кластеризации, чтобы проследить зависимость признаков друг от друга. Построим следующие визуализации:\n",
        "\n",
        "- средний чек в зависимости от количества заказов;\n",
        "- количество блюд в зависимости от количества заказов."
      ]
    },
    {
      "cell_type": "code",
      "execution_count": 22,
      "id": "iSCKqHKji85T",
      "metadata": {
        "colab": {
          "base_uri": "https://localhost:8080/",
          "height": 499
        },
        "id": "iSCKqHKji85T",
        "outputId": "49cb303b-3206-4f3c-aa91-ad3525e24160"
      },
      "outputs": [
        {
          "output_type": "display_data",
          "data": {
            "text/plain": [
              "<Figure size 1800x500 with 2 Axes>"
            ],
            "image/png": "[encoded data removed]"
          },
          "metadata": {}
        }
      ],
      "source": [
        "#находим координаты центров (центроидов) кластеров\n",
        "centroids = kmeans.cluster_centers_\n",
        "\n",
        "#создаем 2 графика\n",
        "fig, axes = plt.subplots(1, 2, figsize=(18, 5))\n",
        "\n",
        "#обозначаем список признаков\n",
        "axs = ['order_count','avg_order_price','dish_count']\n",
        "\n",
        "#перебираем пары признаков (avg_order_price vs order_count), (dish_count vs order_count)\n",
        "for i, (x_idx, y_idx) in enumerate([[1, 0], [2, 0]]):\n",
        "   x_label, y_label = axs[x_idx], axs[y_idx]  # Названия признаков для осей\n",
        "\n",
        "   #наносим точки на график\n",
        "   axes[i].scatter(\n",
        "       rest_df[x_label],  #значения по оси X\n",
        "       rest_df[y_label],  #значения по оси Y\n",
        "       c=labels,  #присваиваем цвет каждому кластеру\n",
        "       cmap='viridis',  #задаем цветовую карту\n",
        "       s=50  #задаем размер точек\n",
        "   )\n",
        "\n",
        "   #строим центроиды кластеров\n",
        "   axes[i].scatter(\n",
        "       centroids[:, x_idx],  #x-координаты центров\n",
        "       centroids[:, y_idx],  #y-координаты центров\n",
        "       s=200,  #устанавливаем размер крестов\n",
        "       c='red',  #устанавливаем цвет крестов\n",
        "       edgecolors='black',  #устанавливаем обводку\n",
        "       linewidths=2,  #устанавливаем толщину обводки\n",
        "       marker='X'  #устанавливаем форму маркера\n",
        "   )\n",
        "\n",
        "   # Подписи осей и заголовок графика\n",
        "   axes[i].set_xlabel(x_label)\n",
        "   axes[i].set_ylabel(y_label)\n",
        "\n",
        "#устанавливаем заголовки\n",
        "x_title, y_title = ['Средний чек в зависимости от количества заказов',\n",
        "                    'Количество блюд в зависимости от количества заказов']\n",
        "\n",
        "axes[0].set_title(x_title)\n",
        "axes[1].set_title(y_title)\n",
        "\n",
        "#подгоняем макет, оставляя место снизу для подписи с инерцией\n",
        "plt.tight_layout(rect=[0, 0.05, 1, 1])\n",
        "\n",
        "#добавляем текст с inertia\n",
        "fig.text(0.5, 0.01, f'Inertia: {kmeans.inertia_:.2f}', ha='center', fontsize=12)\n",
        "\n",
        "#выводим результат\n",
        "plt.show()"
      ]
    },
    {
      "cell_type": "markdown",
      "id": "VTCH40Lhs7D3",
      "metadata": {
        "id": "VTCH40Lhs7D3"
      },
      "source": [
        "## Вывод\n",
        "\n",
        "График зависимости среднего чека от количества заказов показывает, что среди ресторанов втречаются как рестораны из более бюджетного ценового сегмента, так и более дорогие рестораны, которые пользуются одинаковой популярностью при оформлении заказов.\n",
        "\n",
        "График зависимости количества блюд от количества заказов показывает, что невысокое количество заказов характерно для ресторанов с небольшим ассортиментом блюд.\n",
        "\n",
        "Среди ресторанов можно выделить самый малочисленный кластер, который показывает высокие значения количества заказов при сравнительно небольшом среднем чеке и большом ассортименте блюд.\n",
        "\n",
        "На основании полученных результатов можно предположить, что широкий ассортимент блюд в средней ценовой категории положительно влияет на количество заказов. Вероятно, при оформлении заказа пользователям важно разнообразие позиций и их цена."
      ]
    },
    {
      "cell_type": "markdown",
      "id": "268ed4c1",
      "metadata": {
        "id": "268ed4c1"
      },
      "source": [
        "---\n",
        "\n",
        "## 5. Итоговый вывод и рекомендации\n",
        "\n",
        "В результате проведенного анализа было выявлено следующее:\n",
        "\n",
        "- Существуют значимые различия в пользовательском пути для пользователей различных версий приложения. Отток пользователей десктопной версии происходит на этапе перехода на страницу регистрации (снижение до 79% по отношению к этапу авторизации). Для пользователей мобильной версии приложения заметен значимый отток на этапе подтверждения номера телефона (до 55% по отношению к этапу перехода на страницу регистрации);\n",
        "\n",
        "- Были замечены различия в конверсии между версиями приложения для этапов `add_to_cart` и `order`: для пользователей десктопной версии конверсия на данных этапах ниже примерно на 3 - 4%;\n",
        "\n",
        "- RFM сегментация показала, что большая часть аудитории - совершала заказы недавно, на небольшую сумму, и не возращается к совершению повторных заказов. Доля сегмента неактивных пользователей составляет 11%, в то время как на лояльных пользователей приходится всего 5%;\n",
        "\n",
        "- Кластеризация ресторанов показала, что широкий ассортимент блюд положительно влияет на количество заказов.\n",
        "\n",
        "На основании полученных инсайтов можно дать следующие рекоммендации:\n",
        "\n",
        "- Команде разработки мобильной версии приложения необходимо проверить корректность работы нового алгоритма подтверждения номера мобильного телефона, поскольку возможные технические неполадки могут приводить к оттоку пользователей на данном этапе;\n",
        "\n",
        "- UX-команде необходимо пересмотреть дизайн десктопной версии для упрощения процесса перехода на страницу регистрации и для уменьшее оттока пользователей на данном этапе, а также упростить процесс добавления блюд в корзину и оформления заказов;\n",
        "\n",
        "- Запуск программы лояльности с системой накопления кешбека поможет стимулировать пользователей оформлять заказы более часто. В результате сегмент лольяных клиентов может увеличться с 5% до 25%. Для возврата пользователей давно не использовавших приложение, можно предложить им скидку на оформление заказа в приложении или бесплатную доставку, что поможет повысить их заинтересованность в продукте. Это позволит вывести до 11% аудитории из неактивных в активных пользователей и поработать с их дальнейшим привлечением в сегмент лояльных клиентов;\n",
        "\n",
        "- Для увеличения выручки, ресторанам с высоким средним чеков необходимо разнообразить ассортимент блюд. Более широкий ассортимент положительно скажется на количестве заказов.\n",
        "\n",
        "Можно начать с проверки корректности алгоритма подтверждения номера телефона и адреса телефона в мобильной версии, что потенциально позволит повысить конверсию до уровня десктопной версии приложения (до 90%).\n",
        "\n",
        "Проработка возвращения неактивных клиентов при помощи промокодов на скидку и акций также не требует длительной подготовки, но потенциально позволит вернуть до 11% пользователей в приложение."
      ]
    }
  ],
  "metadata": {
    "ExecuteTimeLog": [
      {
        "duration": 1922,
        "start_time": "2025-07-02T19:09:47.032Z"
      },
      {
        "duration": 1351,
        "start_time": "2025-07-02T19:09:48.956Z"
      },
      {
        "duration": 8,
        "start_time": "2025-07-02T19:09:50.308Z"
      },
      {
        "duration": 288,
        "start_time": "2025-07-02T19:09:50.319Z"
      },
      {
        "duration": 102,
        "start_time": "2025-07-02T19:09:50.610Z"
      },
      {
        "duration": 4,
        "start_time": "2025-07-02T19:09:50.714Z"
      },
      {
        "duration": 147,
        "start_time": "2025-07-02T19:09:50.720Z"
      },
      {
        "duration": 32,
        "start_time": "2025-07-02T19:09:50.869Z"
      },
      {
        "duration": 231,
        "start_time": "2025-07-02T19:09:50.903Z"
      },
      {
        "duration": 51,
        "start_time": "2025-07-02T19:09:51.136Z"
      },
      {
        "duration": 61,
        "start_time": "2025-07-02T19:09:51.199Z"
      },
      {
        "duration": 104,
        "start_time": "2025-07-02T19:09:51.262Z"
      },
      {
        "duration": 262,
        "start_time": "2025-07-02T19:09:51.368Z"
      },
      {
        "duration": 334,
        "start_time": "2025-07-02T19:09:51.632Z"
      },
      {
        "duration": 224,
        "start_time": "2025-07-02T19:09:51.968Z"
      },
      {
        "duration": 722,
        "start_time": "2025-07-02T19:09:52.194Z"
      },
      {
        "duration": 22,
        "start_time": "2025-07-02T19:09:52.918Z"
      },
      {
        "duration": 66,
        "start_time": "2025-07-02T19:09:52.942Z"
      },
      {
        "duration": 37,
        "start_time": "2025-07-02T19:09:53.010Z"
      },
      {
        "duration": 14,
        "start_time": "2025-07-02T19:09:53.048Z"
      },
      {
        "duration": 592,
        "start_time": "2025-07-02T19:09:53.064Z"
      },
      {
        "duration": 30,
        "start_time": "2025-07-02T19:09:53.658Z"
      },
      {
        "duration": 385,
        "start_time": "2025-07-02T19:09:53.699Z"
      },
      {
        "duration": 2146,
        "start_time": "2025-07-02T19:15:27.131Z"
      },
      {
        "duration": 1228,
        "start_time": "2025-07-02T19:15:29.279Z"
      },
      {
        "duration": 7,
        "start_time": "2025-07-02T19:15:30.509Z"
      },
      {
        "duration": 308,
        "start_time": "2025-07-02T19:15:30.519Z"
      },
      {
        "duration": 113,
        "start_time": "2025-07-02T19:15:30.828Z"
      },
      {
        "duration": 4,
        "start_time": "2025-07-02T19:15:30.943Z"
      },
      {
        "duration": 113,
        "start_time": "2025-07-02T19:15:30.948Z"
      },
      {
        "duration": 36,
        "start_time": "2025-07-02T19:15:31.063Z"
      },
      {
        "duration": 268,
        "start_time": "2025-07-02T19:15:31.101Z"
      },
      {
        "duration": 67,
        "start_time": "2025-07-02T19:15:31.371Z"
      },
      {
        "duration": 74,
        "start_time": "2025-07-02T19:15:31.440Z"
      },
      {
        "duration": 49,
        "start_time": "2025-07-02T19:15:31.516Z"
      },
      {
        "duration": 395,
        "start_time": "2025-07-02T19:15:31.566Z"
      },
      {
        "duration": 356,
        "start_time": "2025-07-02T19:15:31.962Z"
      },
      {
        "duration": 237,
        "start_time": "2025-07-02T19:15:32.319Z"
      },
      {
        "duration": 799,
        "start_time": "2025-07-02T19:15:32.558Z"
      },
      {
        "duration": 20,
        "start_time": "2025-07-02T19:15:33.359Z"
      },
      {
        "duration": 69,
        "start_time": "2025-07-02T19:15:33.381Z"
      },
      {
        "duration": 51,
        "start_time": "2025-07-02T19:15:33.452Z"
      },
      {
        "duration": 15,
        "start_time": "2025-07-02T19:15:33.505Z"
      },
      {
        "duration": 753,
        "start_time": "2025-07-02T19:15:33.521Z"
      },
      {
        "duration": 40,
        "start_time": "2025-07-02T19:15:34.276Z"
      },
      {
        "duration": 474,
        "start_time": "2025-07-02T19:15:34.318Z"
      },
      {
        "duration": 123,
        "start_time": "2025-07-02T19:17:28.453Z"
      },
      {
        "duration": 155,
        "start_time": "2025-07-02T19:18:06.714Z"
      },
      {
        "duration": 1741,
        "start_time": "2025-07-03T10:30:42.196Z"
      },
      {
        "duration": 1503,
        "start_time": "2025-07-03T10:30:43.939Z"
      },
      {
        "duration": 9,
        "start_time": "2025-07-03T10:30:45.444Z"
      },
      {
        "duration": 305,
        "start_time": "2025-07-03T10:30:45.454Z"
      },
      {
        "duration": 7,
        "start_time": "2025-07-03T10:30:45.762Z"
      },
      {
        "duration": 110,
        "start_time": "2025-07-03T10:30:45.771Z"
      },
      {
        "duration": 30,
        "start_time": "2025-07-03T10:30:45.883Z"
      },
      {
        "duration": 280,
        "start_time": "2025-07-03T10:30:45.916Z"
      },
      {
        "duration": 66,
        "start_time": "2025-07-03T10:30:46.197Z"
      },
      {
        "duration": 68,
        "start_time": "2025-07-03T10:30:46.265Z"
      },
      {
        "duration": 73,
        "start_time": "2025-07-03T10:30:46.335Z"
      },
      {
        "duration": 514,
        "start_time": "2025-07-03T10:30:46.410Z"
      },
      {
        "duration": 531,
        "start_time": "2025-07-03T10:30:46.926Z"
      },
      {
        "duration": 306,
        "start_time": "2025-07-03T10:30:47.458Z"
      },
      {
        "duration": 753,
        "start_time": "2025-07-03T10:30:47.766Z"
      },
      {
        "duration": 21,
        "start_time": "2025-07-03T10:30:48.521Z"
      },
      {
        "duration": 108,
        "start_time": "2025-07-03T10:30:48.543Z"
      },
      {
        "duration": 45,
        "start_time": "2025-07-03T10:30:48.653Z"
      },
      {
        "duration": 15,
        "start_time": "2025-07-03T10:30:48.700Z"
      },
      {
        "duration": 712,
        "start_time": "2025-07-03T10:30:48.716Z"
      },
      {
        "duration": 43,
        "start_time": "2025-07-03T10:30:49.430Z"
      },
      {
        "duration": 492,
        "start_time": "2025-07-03T10:30:49.475Z"
      },
      {
        "duration": 2245,
        "start_time": "2025-07-03T11:31:27.481Z"
      },
      {
        "duration": 1182,
        "start_time": "2025-07-03T11:31:29.727Z"
      },
      {
        "duration": 7,
        "start_time": "2025-07-03T11:31:30.911Z"
      },
      {
        "duration": 239,
        "start_time": "2025-07-03T11:31:30.920Z"
      },
      {
        "duration": 5,
        "start_time": "2025-07-03T11:31:31.161Z"
      },
      {
        "duration": 101,
        "start_time": "2025-07-03T11:31:31.167Z"
      },
      {
        "duration": 24,
        "start_time": "2025-07-03T11:31:31.270Z"
      },
      {
        "duration": 271,
        "start_time": "2025-07-03T11:31:31.295Z"
      },
      {
        "duration": 51,
        "start_time": "2025-07-03T11:31:31.567Z"
      },
      {
        "duration": 88,
        "start_time": "2025-07-03T11:31:31.620Z"
      },
      {
        "duration": 63,
        "start_time": "2025-07-03T11:31:31.710Z"
      },
      {
        "duration": 474,
        "start_time": "2025-07-03T11:31:31.775Z"
      },
      {
        "duration": 569,
        "start_time": "2025-07-03T11:31:32.251Z"
      },
      {
        "duration": 293,
        "start_time": "2025-07-03T11:31:32.822Z"
      },
      {
        "duration": 671,
        "start_time": "2025-07-03T11:31:33.117Z"
      },
      {
        "duration": 21,
        "start_time": "2025-07-03T11:31:33.790Z"
      },
      {
        "duration": 68,
        "start_time": "2025-07-03T11:31:33.813Z"
      },
      {
        "duration": 37,
        "start_time": "2025-07-03T11:31:33.882Z"
      },
      {
        "duration": 50,
        "start_time": "2025-07-03T11:31:33.921Z"
      },
      {
        "duration": 665,
        "start_time": "2025-07-03T11:31:33.973Z"
      },
      {
        "duration": 33,
        "start_time": "2025-07-03T11:31:34.641Z"
      },
      {
        "duration": 471,
        "start_time": "2025-07-03T11:31:34.675Z"
      }
    ],
    "colab": {
      "provenance": [],
      "toc_visible": true
    },
    "kernelspec": {
      "display_name": "Python 3 (ipykernel)",
      "language": "python",
      "name": "python3"
    },
    "language_info": {
      "codemirror_mode": {
        "name": "ipython",
        "version": 3
      },
      "file_extension": ".py",
      "mimetype": "text/x-python",
      "name": "python",
      "nbconvert_exporter": "python",
      "pygments_lexer": "ipython3",
      "version": "3.9.5"
    },
    "toc": {
      "base_numbering": 1,
      "nav_menu": {},
      "number_sections": true,
      "sideBar": true,
      "skip_h1_title": true,
      "title_cell": "Table of Contents",
      "title_sidebar": "Contents",
      "toc_cell": false,
      "toc_position": {},
      "toc_section_display": true,
      "toc_window_display": false
    }
  },
  "nbformat": 4,
  "nbformat_minor": 5
}